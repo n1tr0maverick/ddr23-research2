{
 "cells": [
  {
   "cell_type": "markdown",
   "metadata": {
    "id": "KV-UrkvK3HBQ"
   },
   "source": [
    "# Data-Driven Research Assignment 2: Topic Modeling\n",
    "This notebook contains the second, collaborative, graded assignment of the 2023 Data-Driven Research course. In this assignment you'll use a topic modeling tool in order to uncover the ''topics'' of a large set of reviews of popular films. \n",
    "\n",
    "To complete the assignment, complete **Part 1, Part 2, Part 3 and Part 4** of the **Your Model** section at the end."
   ]
  },
  {
   "cell_type": "markdown",
   "metadata": {
    "id": "13WY-Pd4m1Nq"
   },
   "source": [
    "This is a collaborative assignment. In the text cell below, please include all the names of your group members.\n",
    "\n",
    "If you used code or a solution from the internet (such as StackOverflow) or another external resource, please make reference to it (in any format). Unattributed copied code will be considered plagiarism and therefore fraud.\n"
   ]
  },
  {
   "cell_type": "markdown",
   "metadata": {
    "id": "FnYtJb9olXd0"
   },
   "source": [
    "**Authors of this answer:**"
   ]
  },
  {
   "cell_type": "markdown",
   "metadata": {
    "id": "gV4eOyrVqRHQ"
   },
   "source": [
    "# 1. Introduction\n",
    "\n",
    "You'll use a Topic Modelling tool from Gensim, a popular library for topic modelling in Python, though these days mainly known for its implementation of Word2Vec to train word embeddings (dense representations). Using this library, you will model topics based on reviews of popular films. The reviews are stored in plain text files, organized by film and rating. The aim of this exercise is to familiarize you with the topic modeling process and its output and to get insight in what kinds of topics are modeled."
   ]
  },
  {
   "cell_type": "markdown",
   "metadata": {
    "id": "uaPXV7qlq9oa"
   },
   "source": [
    "# 2. Preparation\n",
    "\n",
    "This assignment comes with the following files:\n",
    "\n",
    "\n",
    "1.   The reviews of the films. This is the data in which we want to find topics. They are found in the movie2k/txt_sentoken directory. There are then two types: negative reviews (neg directory) and positive reviews (pos directory). The reviews are already tokenized.\n",
    "2.   Stopword list files. They are found in the stopwords directory.\n",
    "\n",
    "Let's start by loading the movie reviews from the files (I'll do it for you):"
   ]
  },
  {
   "cell_type": "code",
   "execution_count": 76,
   "metadata": {
    "id": "jp-zI1sNQfPD"
   },
   "outputs": [
    {
     "name": "stdout",
     "output_type": "stream",
     "text": [
      "Loaded reviews from movie2k/txt_sentoken/pos containing 787051 tokens in total.\n",
      "Loaded reviews from movie2k/txt_sentoken/neg containing 705630 tokens in total.\n"
     ]
    }
   ],
   "source": [
    "import os\n",
    "\n",
    "def load_reviews(folder_path):\n",
    "    reviews = [] #Make a list to put the reviews in\n",
    "    reviewnames = [] # Make a list to put the review filenames in (to be able to look them up later)\n",
    "    tokens = 0 #Make a counter for the number of tokens\n",
    "    \n",
    "    for file in os.listdir(folder_path):\n",
    "        #Loop through all the text files in the folder, each containing one review\n",
    "        \n",
    "        if not file.endswith('.txt'):  #Only read text files\n",
    "            continue\n",
    "\n",
    "        file_path = os.path.join(folder_path, file)\n",
    "\n",
    "        #Open the text file and read its contents\n",
    "        with open(file_path, encoding='utf-8') as infile:\n",
    "            review = infile.read()\n",
    "        reviewnames.append(file)\n",
    "            \n",
    "        # Turn the string with the review into a list of words (this is easy because it is already tokenized)\n",
    "        review = review.split()\n",
    "        # And add it to the list\n",
    "        reviews.append(review)\n",
    "        # To count the number of tokens processed so far\n",
    "        tokens = tokens + len(review)\n",
    "\n",
    "    print(f\"Loaded reviews from {folder_path} containing {tokens} tokens in total.\") \n",
    "    return reviews, reviewnames\n",
    "        \n",
    "folder_path = \"movie2k/txt_sentoken\"\n",
    "    \n",
    "movie_reviews_pos, movie_reviewnames_pos = load_reviews(folder_path + \"/pos\") #Load the positive reviews\n",
    "movie_reviews_neg, movie_reviewnames_neg = load_reviews(folder_path + \"/neg\") #Load the negative reviews\n",
    "\n",
    "movie_reviews = movie_reviews_pos + movie_reviews_neg #Combine the lists of positive and negative reviews into one\n",
    "movie_reviewnames = movie_reviewnames_pos + movie_reviewnames_neg #The same for the list of filenames"
   ]
  },
  {
   "cell_type": "markdown",
   "metadata": {
    "id": "tUb1NfU7Q_do"
   },
   "source": [
    "If you are working on Google Colab, you will probably have to change the path to the files to something that Google Colab has access to. For example, you could put the files on your Google Drive and then load them from there, as we did in Coding the Humanities. For more details about how to work with files in Python and load them from Google Drive, have a look at the Coding the Humanities course notebook on Files: https://github.com/bloemj/2023-coding-the-humanities/blob/main/notebooks/4_ReadingAndWritingFiles.ipynb\n",
    "\n",
    "How to load files off Google Drive is explained at the beginning there."
   ]
  },
  {
   "cell_type": "markdown",
   "metadata": {},
   "source": [
    "## Preprocessing\n",
    "\n",
    "Now that we have loaded the text, you might want to perform some pre-processing steps to be able to create a better bag-of-words model in which all forms of a word are mapped to a single number. For example, you could remove the punctuation characters, or you could perform lemmatization or stemming, which we discussed in the lecture. This would be the place to do it by writing a preprocessing function that accepts a list of movie reviews as its argument and returns a preprocessed list of movie reviews. Feel free to use your knowledge of text normalization from Coding the Humanities or the functions you wrote then. Here is some information on how to perform stemming with NLTK: https://www.nltk.org/howto/stem.html\n",
    "\n",
    "You can also try other forms of preprocessing, if you are able to do it.\n",
    "\n",
    "Make sure to also keep the unmodified reviews, so you can compare the results with preprocessing and without preprocessing.\n",
    "\n",
    "**Part 1: Preprocessing**\n",
    "\n",
    "You can also skip this part for now - it is not required to perform the topic modelling, but you will get better results."
   ]
  },
  {
   "cell_type": "code",
   "execution_count": 77,
   "metadata": {},
   "outputs": [
    {
     "name": "stderr",
     "output_type": "stream",
     "text": [
      "[nltk_data] Downloading package stopwords to\n",
      "[nltk_data]     /home/n1tr0maverick/nltk_data...\n",
      "[nltk_data]   Package stopwords is already up-to-date!\n"
     ]
    }
   ],
   "source": [
    "import nltk\n",
    "from nltk.stem.snowball import SnowballStemmer\n",
    "nltk.download('stopwords')\n",
    "from nltk.stem import *\n",
    "stemmer = PorterStemmer()\n",
    "stemmer2 = SnowballStemmer(\"english\", ignore_stopwords=True)\n",
    "from nltk.corpus import stopwords\n",
    "from nltk.tokenize import word_tokenize \n",
    "import string\n",
    "\n",
    "preprocessed_movie_reviews = []\n",
    "#not stemmed movie reviews\n",
    "nsmr = []\n",
    "\n",
    "#with stemming\n",
    "for review in movie_reviews:\n",
    "  review = [stemmer.stem(token) for token in review if token not in string.punctuation and token != '']\n",
    "  \n",
    "  preprocessed_movie_reviews.append(review)\n",
    "\n",
    "#without stemming\n",
    "for review in movie_reviews:\n",
    "  review = [token for token in review if token not in string.punctuation and token != '']\n",
    "  nsmr.append(review)"
   ]
  },
  {
   "cell_type": "markdown",
   "metadata": {
    "id": "fYf1LwMRlXd3"
   },
   "source": [
    "# 3. Topic Modelling using Gensim\n",
    "\n",
    "Gensim offers an implementation of Latent Dirichlet Allocation (LDA), the most popular topic modelling algorithm, which we discussed in the lecture. If you are working on Google Colab, it is normally already installed there. Otherwise, you can install it with `pip install --upgrade gensim` or if you are using Conda, `conda install -c conda-forge gensim`.\n",
    "\n",
    "Let's load it, and some other things we use:"
   ]
  },
  {
   "cell_type": "code",
   "execution_count": 115,
   "metadata": {
    "id": "w3KtsubolXd3"
   },
   "outputs": [
    {
     "name": "stdout",
     "output_type": "stream",
     "text": [
      "4.3.1\n"
     ]
    }
   ],
   "source": [
    "import gensim\n",
    "import gensim.corpora as corpora\n",
    "import gensim.models as models\n",
    "import itertools\n",
    "from operator import itemgetter\n",
    "print(gensim.__version__)"
   ]
  },
  {
   "cell_type": "markdown",
   "metadata": {
    "id": "pOrYQV90lXd6"
   },
   "source": [
    "## Constructing the bag-of-words model\n",
    "\n",
    "The `gensim.corpora.Dictionary()` class allows you to map words to numbers, which is what we need to make a bag-of-words model. In particular, the doc2bow() function converts a collection of words to a bag-of-words representation:"
   ]
  },
  {
   "cell_type": "code",
   "execution_count": 79,
   "metadata": {
    "id": "OXwSQdqRtUx6"
   },
   "outputs": [],
   "source": [
    "movie_dictionary = corpora.Dictionary(movie_reviews)\n",
    "movie_bow_corpus = [movie_dictionary.doc2bow(d) for d in movie_reviews]"
   ]
  },
  {
   "cell_type": "markdown",
   "metadata": {},
   "source": [
    "Let's see what happened:"
   ]
  },
  {
   "cell_type": "code",
   "execution_count": 80,
   "metadata": {},
   "outputs": [
    {
     "name": "stdout",
     "output_type": "stream",
     "text": [
      "Number of unique tokens in the dataset: 50920\n",
      "\n",
      "The first 11 words in the bag-of-words model:\n",
      "{'\"': 0, \"'80s\": 1, '(': 2, ')': 3, ',': 4, '-': 5, '.': 6, '00': 7, '102': 8, '12-part': 9, '1888': 10, '2': 11}\n",
      "\n",
      "The start of the first review:\n",
      "['films', 'adapted', 'from', 'comic', 'books', 'have', 'had', 'plenty', 'of', 'success', ',', 'whether', \"they're\", 'about', 'superheroes', '(', 'batman', ',', 'superman', ',', 'spawn', ')', ',', 'or', 'geared', 'toward', 'kids', '(', 'casper', ')', 'or', 'the', 'arthouse', 'crowd', '(', 'ghost', 'world', ')', ',', 'but', \"there's\", 'never', 'really', 'been', 'a', 'comic', 'book', 'like', 'from', 'hell', 'before', '.', 'for', 'starters', ',', 'it', 'was', 'created', 'by', 'alan', 'moore', '(', 'and', 'eddie', 'campbell', ')', ',', 'who', 'brought', 'the', 'medium', 'to', 'a', 'whole', 'new', 'level', 'in', 'the', 'mid', \"'80s\", 'with', 'a', '12-part', 'series', 'called', 'the', 'watchmen', '.', 'to', 'say', 'moore', 'and', 'campbell', 'thoroughly', 'researched', 'the', 'subject', 'of', 'jack', 'the']\n",
      "\n",
      "The filename of the first review:\n",
      "cv000_29590.txt\n",
      "\n",
      "Most frequent words in the first review:\n",
      "the --> 46\n",
      ", --> 43\n",
      ". --> 23\n",
      "and --> 20\n",
      "( --> 18\n",
      ") --> 18\n",
      "in --> 18\n",
      "a --> 15\n",
      "to --> 15\n",
      "of --> 14\n",
      "from --> 8\n",
      "but --> 7\n",
      "is --> 7\n",
      "\" --> 6\n",
      "it --> 6\n",
      "comic --> 5\n",
      "don't --> 5\n",
      "film --> 5\n",
      "about --> 4\n",
      "i --> 4\n",
      "...\n"
     ]
    }
   ],
   "source": [
    "print('Number of unique tokens in the dataset:', len(movie_dictionary))\n",
    "\n",
    "#Checking the first 11 words in the bag-of-words model\n",
    "print('\\nThe first 11 words in the bag-of-words model:')\n",
    "print(dict(itertools.islice(movie_dictionary.token2id.items(), 12)))\n",
    "\n",
    "#Checking the first 100 words of the first review\n",
    "print('\\nThe start of the first review:')\n",
    "print(movie_reviews[0][:100])\n",
    "#And the filename of that review is...\n",
    "print('\\nThe filename of the first review:')\n",
    "print(movie_reviewnames[0])\n",
    "\n",
    "#Which words are used in that review?\n",
    "print('\\nMost frequent words in the first review:')\n",
    "for i, freq in sorted(movie_bow_corpus[0], key=itemgetter(1), reverse=True)[:20]:\n",
    "    print(movie_dictionary[i], \"-->\", freq)\n",
    "print(\"...\")"
   ]
  },
  {
   "cell_type": "markdown",
   "metadata": {},
   "source": [
    "## The topic model\n",
    "\n",
    "Now, we can train our LDA model on this bag-of-words data by using `gensim.models.ldamodel.LDAModel()`.\n",
    "\n",
    "This model can take various parameters that specify what kind of model gets made. Some important ones:\n",
    "\n",
    "\n",
    "* num_topics: how many topics do we want? In what follows, we set the number of topics to 5, because we want to have a few topics that we can interpret, but the number of topics is data and application-dependent;\n",
    "* id2word: our bag-of-words dictionary needed to map ids to strings;\n",
    "* passes: how often we iterate over the entire corpus (default = 1). In general, the more passes, the higher the accuracy. This number is also called epochs in Artificial Intelligence and Machine Learning.\n",
    "\n",
    "Let's first make a model that finds 5 topics, and tries 25 times to improve its estimate. This code may take a while to run, as it is the process that creates the topic model. If it takes too long, you can reduce the number of passes, but the topics might be worse."
   ]
  },
  {
   "cell_type": "code",
   "execution_count": 81,
   "metadata": {
    "id": "UkT4re_Muowp"
   },
   "outputs": [],
   "source": [
    "reviews_ldamodel = models.ldamodel.LdaModel(movie_bow_corpus, num_topics=5, id2word = movie_dictionary, passes=25)"
   ]
  },
  {
   "cell_type": "markdown",
   "metadata": {},
   "source": [
    "And let's have a look! An easy way to inspect the created topics is by using the `show_topics()` method, which prints the most representative word for each topic along with their probability."
   ]
  },
  {
   "cell_type": "code",
   "execution_count": 82,
   "metadata": {},
   "outputs": [
    {
     "data": {
      "text/plain": [
       "[(0,\n",
       "  '0.061*\",\" + 0.042*\"the\" + 0.038*\".\" + 0.024*\"a\" + 0.024*\"and\" + 0.019*\"of\" + 0.017*\"to\" + 0.013*\"in\"'),\n",
       " (1,\n",
       "  '0.057*\"the\" + 0.056*\",\" + 0.038*\".\" + 0.027*\"of\" + 0.025*\"and\" + 0.021*\"a\" + 0.019*\"to\" + 0.015*\"in\"'),\n",
       " (2,\n",
       "  '0.022*\"=\" + 0.002*\"pokemon\" + 0.001*\"powder\" + 0.001*\"dalmatians\" + 0.001*\"jesus\" + 0.001*\"impact\" + 0.001*\"christ\" + 0.001*\"stuart\"'),\n",
       " (3,\n",
       "  '0.050*\"the\" + 0.048*\",\" + 0.047*\".\" + 0.026*\"a\" + 0.023*\"and\" + 0.023*\"to\" + 0.022*\"of\" + 0.018*\"is\"'),\n",
       " (4,\n",
       "  '0.001*\"bilko\" + 0.001*\"dinosaurs\" + 0.001*\"twister\" + 0.001*\"spoon\" + 0.001*\"alessa\" + 0.001*\"stretch\" + 0.001*\"rocky\" + 0.001*\"doubtfire\"')]"
      ]
     },
     "execution_count": 82,
     "metadata": {},
     "output_type": "execute_result"
    }
   ],
   "source": [
    "reviews_ldamodel.show_topics(num_words=8) #Show the top 8 words for each topic"
   ]
  },
  {
   "cell_type": "markdown",
   "metadata": {},
   "source": [
    "There we go, we have a topic model. However, you can probably see that it is far from perfect and some uninteresting 'words' appear there. Now, it is your turn to make it better!\n",
    "\n",
    "## Your model\n",
    "\n",
    "**Part 1: Preprocessing**\n",
    "\n",
    "Show the effect of your preprocessing by also making a topic model for your preprocessed_movie_reviews. First, you make a bag-of-words model and then the LdaModel, as above. Feel free to go back to your preprocessing code above and update it based on what you saw from the show_topics function applied to the initial model.\n",
    "\n",
    "Try to make a model with 8 topics, and show the top 8 words for each topic. **Assign the model to a new variable with a sensible name** (avoid overwriting the previous models).\n",
    "\n",
    "Also for the dictionary and corpus, **give the variables different and expressive names to avoid overwriting the other ones**. Otherwise, you will get confused between your different topic models."
   ]
  },
  {
   "cell_type": "code",
   "execution_count": 83,
   "metadata": {},
   "outputs": [
    {
     "data": {
      "text/plain": [
       "[(0,\n",
       "  '0.053*\"the\" + 0.028*\"of\" + 0.027*\"a\" + 0.020*\"to\" + 0.019*\"and\" + 0.015*\"in\" + 0.014*\"is\" + 0.009*\"that\"'),\n",
       " (1,\n",
       "  '0.059*\"the\" + 0.030*\"of\" + 0.029*\"and\" + 0.027*\"a\" + 0.023*\"to\" + 0.019*\"in\" + 0.016*\"is\" + 0.010*\"that\"'),\n",
       " (2,\n",
       "  '0.003*\"hous\" + 0.003*\"de\" + 0.003*\"mandingo\" + 0.003*\"bont\" + 0.003*\"hammond\" + 0.002*\"slave\" + 0.002*\"neeson\" + 0.002*\"_the\"'),\n",
       " (3,\n",
       "  '0.056*\"the\" + 0.028*\"and\" + 0.027*\"a\" + 0.026*\"to\" + 0.026*\"is\" + 0.021*\"of\" + 0.016*\"in\" + 0.010*\"it\"'),\n",
       " (4,\n",
       "  '0.070*\"the\" + 0.032*\"of\" + 0.028*\"a\" + 0.028*\"and\" + 0.022*\"to\" + 0.021*\"is\" + 0.017*\"in\" + 0.010*\"as\"'),\n",
       " (5,\n",
       "  '0.055*\"the\" + 0.029*\"a\" + 0.026*\"and\" + 0.025*\"to\" + 0.024*\"of\" + 0.017*\"is\" + 0.016*\"in\" + 0.014*\"that\"'),\n",
       " (6,\n",
       "  '0.002*\"the\" + 0.002*\"alessa\" + 0.002*\"haunt\" + 0.002*\"heal\" + 0.002*\"spencer\" + 0.002*\"bulli\" + 0.002*\"michel\" + 0.002*\"cyborsuit\"'),\n",
       " (7,\n",
       "  '0.040*\"the\" + 0.034*\"a\" + 0.026*\"to\" + 0.026*\"and\" + 0.021*\"is\" + 0.017*\"of\" + 0.016*\"in\" + 0.012*\"that\"')]"
      ]
     },
     "execution_count": 83,
     "metadata": {},
     "output_type": "execute_result"
    }
   ],
   "source": [
    "# your code here\n",
    "movie_dictionary1 = corpora.Dictionary(preprocessed_movie_reviews)\n",
    "movie_bow_corpus_1 = [movie_dictionary1.doc2bow(d) for d in preprocessed_movie_reviews]\n",
    "\n",
    "reviews_ldamodel_1 = models.ldamodel.LdaModel(movie_bow_corpus_1, num_topics=8, id2word = movie_dictionary1, passes=25)\n",
    "reviews_ldamodel_1.show_topics(num_words=8) "
   ]
  },
  {
   "cell_type": "markdown",
   "metadata": {},
   "source": [
    "**Part 2: Stopwords**\n",
    "\n",
    "The topics you saw so far are probably mostly made up of stopwords such as \"the\". As discussed in the lecture, our results will probably be more interesting if we get rid of them.\n",
    "\n",
    "We have included 3 generic lists of stopwords: the default list of the tool Mallet, a shorter frequent word list used in search applications (Snowball stemmer), and the top 10,000 words based on Google n-grams (in frequency order, select as many lines as you want). Gensim and NLTK also have stopword lists.\n",
    "\n",
    "Make a function that accepts the path to a stopwords file (e.g. `stopwords/standard-mallet-en.txt`), and returns a list of stopwords."
   ]
  },
  {
   "cell_type": "code",
   "execution_count": 84,
   "metadata": {},
   "outputs": [],
   "source": [
    "def load_stopwords(filename):\n",
    "    \n",
    "    #load a file from disk and return a list of stopwords\n",
    "    stopword_list = []\n",
    "    with open(filename, encoding='utf-8') as infile:\n",
    "        for line in infile:\n",
    "            stopword_list.append(line.strip())\n",
    "\n",
    "    return stopword_list\n",
    "stopword_list = load_stopwords(\"stopwords/standard-mallet-en.txt\")"
   ]
  },
  {
   "cell_type": "markdown",
   "metadata": {},
   "source": [
    "Then, make a function that takes a stopword list and a list of reviews (e.g. `preprocessed_movie_reviews`). The function should remove all stopwords from all the reviews, returning a list of the reviews without stopwords. This code may be a bit slow if you have many stopwords, since there is a lot of data to process."
   ]
  },
  {
   "cell_type": "code",
   "execution_count": 85,
   "metadata": {},
   "outputs": [
    {
     "name": "stdout",
     "output_type": "stream",
     "text": [
      "[['film', 'adapt', 'comic', 'book', 'plenti', 'success', \"they'r\", 'superhero', 'batman', 'superman', 'spawn', 'gear', 'kid', 'casper', 'arthous', 'crowd', 'ghost', 'world', \"there'\", 'realli', 'comic', 'book', 'hell', 'befor', 'starter', 'wa', 'creat', 'alan', 'moor', 'eddi', 'campbel', 'brought', 'medium', 'level', 'mid', \"'80\", '12-part', 'seri', 'call', 'watchmen', 'moor', 'campbel', 'thoroughli', 'research', 'subject', 'jack', 'ripper', 'michael', 'jackson', 'start', 'littl', 'odd', 'book', 'graphic', '500', 'page', 'long', 'includ', 'nearli', '30', 'consist', 'noth', 'footnot', 'word', \"don't\", 'dismiss', 'thi', 'film', 'becaus', 'sourc', 'past', 'comic', 'book', 'thing', 'find', 'anoth', 'stumbl', 'block', \"hell'\", 'director', 'albert', 'allen', 'hugh', 'hugh', 'brother', 'direct', 'thi', 'ludicr', 'cast', 'carrot', 'top', 'anyth', 'riddl', 'thi', 'direct', 'film', \"that'\", 'set', 'ghetto', 'featur', 'realli', 'violent', 'street', 'crime', 'mad', 'genius', 'menac', 'ii', 'societi', 'ghetto', 'question', 'cours', 'whitechapel', '1888', \"london'\", 'east', 'end', \"it'\", 'filthi', 'sooti', 'place', 'whore', 'call', 'unfortun', 'start', 'littl', 'nervou', 'thi', 'mysteri', 'psychopath', 'ha', 'carv', 'profess', 'surgic', 'precis', 'stiff', 'turn', 'copper', 'peter', 'godley', 'robbi', 'coltran', 'world', 'call', 'inspector', 'frederick', 'abberlin', 'johnni', 'depp', 'blow', 'crack', 'case', 'abberlin', 'widow', 'ha', 'prophet', 'dream', 'unsuccess', 'tri', 'quell', 'copiou', 'amount', 'absinth', 'opium', 'arriv', 'whitechapel', 'befriend', 'unfortun', 'mari', 'kelli', 'heather', 'graham', \"isn't\", 'proce', 'investig', 'horribl', 'gruesom', 'crime', 'polic', 'surgeon', \"can't\", 'stomach', \"don't\", 'anyon', 'jack', 'ripper', \"won't\", 'moor', 'campbel', 'uniqu', 'interest', 'theori', 'ident', 'killer', 'reason', 'choos', 'slay', 'comic', \"don't\", 'bother', 'cloak', 'ident', 'ripper', 'screenwrit', 'terri', 'hay', 'vertic', 'limit', 'rafael', 'yglesia', 'le', 'mi', 'rabl', 'good', 'job', 'hidden', 'viewer', 'veri', 'end', \"it'\", 'funni', 'watch', 'local', 'blindli', 'point', 'finger', 'blame', 'jew', 'indian', 'becaus', 'englishman', 'capabl', 'commit', 'ghastli', 'act', \"hell'\", 'end', 'whistl', 'stonecutt', 'song', 'simpson', 'day', 'hold', 'back', 'electr', 'car/who', 'made', 'steve', 'guttenberg', 'star', \"don't\", 'worri', \"it'll\", 'make', 'sens', \"hell'\", \"it'\", 'certainli', 'dark', 'bleak', \"it'\", 'surpris', 'tim', 'burton', 'film', 'planet', 'ape', 'time', 'sleepi', 'hollow', '2', 'print', \"wasn't\", 'complet', 'finish', 'color', 'music', 'final', 'comment', 'marilyn', 'manson', 'cinematograph', 'peter', 'deme', \"don't\", 'word', 'abli', 'captur', 'dreari', 'victorian-era', 'london', 'make', 'flashi', 'kill', 'scene', 'remind', 'crazi', 'flashback', 'twin', 'peak', 'violenc', 'film', 'pale', 'comparison', 'black-and-whit', 'comic', 'oscar', 'winner', 'martin', \"childs'\", 'shakespear', 'love', 'product', 'design', 'turn', 'origin', 'pragu', 'surround', 'creepi', 'place', 'act', 'hell', 'solid', 'dreami', 'depp', 'turn', 'typic', 'strong', 'perform', 'deftli', 'handl', 'british', 'accent', 'ian', 'holm', 'joe', \"gould'\", 'secret', 'richardson', '102', 'dalmatian', 'log', 'great', 'support', 'role', 'big', 'surpris', 'graham', 'cring', 'time', 'open', 'mouth', 'imagin', 'attempt', 'irish', 'accent', 'actual', \"wasn't\", 'half', 'bad', 'film', 'howev', 'good', '2', '00', 'strong', 'violence/gor', 'sexual', 'languag', 'drug', 'content'], ['everi', 'movi', 'suspect', 'studio', 'everi', 'indic', 'stinker', \"everybody'\", 'surpris', 'perhap', 'studio', 'film', 'becom', 'critic', 'darl', 'mtv', \"films'\", '_elect', 'high', 'school', 'comedi', 'star', 'matthew', 'broderick', 'rees', 'witherspoon', 'current', 'exampl', 'anybodi', 'thi', 'film', 'exist', 'week', 'befor', 'open', 'plot', 'decept', 'simpl', 'georg', 'washington', 'carver', 'high', 'school', 'student', 'elect', 'traci', 'flick', 'rees', 'witherspoon', 'over-achiev', 'hand', 'rais', 'nearli', 'everi', 'question', 'high', 'mr', 'matthew', 'broderick', 'sick', 'megalomaniac', 'student', 'encourag', 'paul', 'popular-but-slow', 'jock', 'run', \"paul'\", 'nihilist', 'sister', 'jump', 'race', 'person', 'reason', 'dark', 'side', 'sleeper', 'success', 'becaus', 'expect', 'low', 'fact', 'thi', 'wa', 'qualiti', 'stuff', 'made', 'review', 'enthusiast', 'ani', \"can't\", 'baggag', 'glow', 'review', 'contrast', 'neg', 'baggag', 'review', '_elect', 'good', 'film', 'doe', 'live', 'hype', 'make', '_election_', 'disappoint', 'signific', 'plot', 'detail', 'lift', 'directli', '_rushmore_', 'releas', 'month', 'earlier', 'similar', 'stagger', 'traci', 'flick', '_election_', 'presid', 'extraordinari', 'number', 'club', 'involv', 'school', 'play', 'max', 'fischer', '_rushmore_', 'presid', 'extraordinari', 'number', 'club', 'involv', 'school', 'play', 'signific', 'tension', '_election_', 'potenti', 'relationship', 'teacher', 'student', 'signific', 'tension', '_rushmore_', 'potenti', 'relationship', 'teacher', 'student', 'traci', 'flick', 'singl', 'parent', 'home', 'ha', 'contribut', 'drive', 'max', 'fischer', 'singl', 'parent', 'home', 'ha', 'contribut', 'drive', 'male', 'bumbl', 'adult', '_election_', 'matthew', 'broderick', 'pursu', 'extramarit', 'affair', 'caught', 'life', 'ruin', 'bee', 'sting', 'male', 'bumbl', 'adult', '_rushmore_', 'bill', 'murray', 'pursu', 'extramarit', 'affair', 'caught', 'life', 'ruin', 'sever', 'bee', 'sting', 'happen', 'individu', 'screenplay', '_rushmore_', '_election_', 'mani', 'signific', 'plot', 'point', 'film', 'probabl', 'awar', 'made', 'differ', 'studio', 'genr', 'high', 'school', 'geek', 'reveng', 'movi', \"hadn't\", 'fulli', 'form', 'strength', '_election_', 'reli', 'fantast', 'perform', 'broderick', 'witherspoon', 'newcom', 'jessica', 'campbel', \"paul'\", 'anti-soci', 'sister', 'tammi', 'broderick', 'play', 'mr', 'rooney', 'role', '_ferri', 'bueller_', 'fun', \"he'\", 'sinc', 'witherspoon', 'revel', \"it'\", 'earli', 'year', \"it'\", 'comedi', 'teenag', 'littl', 'clout', 'money', 'witherspoon', 'deserv', 'oscar', 'nomin', 'onc', \"campbell'\", 'charact', 'fantast', 'speech', 'gymnasium', \"you'r\", 'won', 'thing', \"that'\", 'bother', 'sinc', \"i'v\", 'extraordinari', 'amount', 'sexual', 'thi', 'film', 'suppos', 'mtv', 'film', 'expect', 'film', 'start', 'light', 'airi', 'sitcom', 'screw', 'tighten', 'tension', 'mount', 'alexand', 'payn', 'decid', 'add', 'element', 'frankli', 'distract', 'stori', 'bad', 'mr', \"doesn't\", \"tracy'\", 'determin', 'win', 'cost', 'throw', 'student/teach', 'relationship', \"there'\", 'logic', 'reason', 'whi', 'mr', 'ha', 'affair', 'doe', \"there'\", 'lot', '_election_', 'plot', 'similar', '_rushmore_', 'tonal', 'nosed', 'explicitli', 'sex-driven', 'mark', 'thi', 'disappoint'], [\"you'v\", 'mail', 'work', 'alot', 'deserv', 'order', 'make', 'film', 'success', 'wa', 'cast', 'extrem', 'popular', 'attract', 'star', 'share', 'screen', 'hour', 'collect', 'profit', 'real', 'act', 'wa', 'involv', 'origin', 'invent', 'bone', \"it'\", 'bodi', \"it'\", 'basic', 'complet', 're-shoot', 'shop', 'corner', 'onli', 'ad', 'modern', 'twist', 'essenti', 'goe', 'defi', 'concept', 'good', 'contemporari', 'filmmak', \"it'\", 'overli', 'sentiment', 'time', 'terribl', 'mushi', 'mention', 'veri', 'manipul', 'enjoy', 'manipul', 'someth', 'cast', 'manipul', 'make', 'movi', 'work', 'doe', 'becaus', 'absolut', 'hate', 'previou', 'ryan/hank', 'team', 'sleepless', 'seattl', \"couldn't\", 'direct', 'becaus', 'film', 'helm', 'woman', \"haven't\", 'quit', 'figur', \"you'v\", 'mail', 'realli', 'import', 'someth', 'whi', 'question', 'storylin', 'clich', 'tom', 'hank', 'play', 'joe', 'fox', 'insan', 'likeabl', 'owner', 'discount', 'book', 'chain', 'meg', 'ryan', 'play', 'kathleen', 'kelley', 'insan', 'likeabl', 'proprietor', 'family-run', \"children'\", 'book', 'shop', 'call', 'nice', 'homag', 'shop', 'corner', 'fox', 'kelley', 'becom', 'bitter', 'rival', 'becaus', 'fox', 'book', 'store', 'open', 'block', 'small', 'busi', 'littl', 'alreadi', 'love', 'internet', 'onli', 'parti', \"person'\", 'true', 'ident', 'rest', 'stori', \"isn't\", 'import', 'becaus', 'doe', 'serv', 'mere', 'backdrop', 'star', 'share', 'screen', 'mildli', 'interest', 'subplot', 'fail', 'comparison', 'utter', 'cute', 'main', 'relationship', 'thi', 'cours', 'lead', 'predict', 'climax', 'forese', 'end', \"it'\", 'damn', 'cute', 'well-don', 'doubt', 'ani', 'movi', 'entir', 'year', 'scene', 'evok', 'pure', 'joy', 'thi', 'part', 'doe', 'ryan', 'discov', 'true', 'ident', 'onlin', 'love', 'wa', 'fill', 'lack', 'word', 'happi', 'time', 'year', 'actual', 'left', 'theater', 'smile'], ['jaw', 'rare', 'film', 'grab', 'attent', 'befor', 'show', 'singl', 'imag', 'screen', 'movi', 'open', 'black', 'onli', 'distant', 'alien-lik', 'underwat', 'sound', 'omin', 'bar', 'compos', 'john', \"williams'\", 'infam', 'score', 'dah-dum', 'director', 'steven', 'spielberg', 'wast', 'time', 'water', 'midnight', 'swim', 'beauti', 'girl', 'turn', 'deadli', 'vulner', 'float', 'ocean', 'onc', 'jaw', 'ha', 'attack', 'relinquish', 'grip', 'perhap', 'outstand', 'jaw', 'spielberg', 'build', 'movi', 'work', 'theatric', 'product', 'act', 'act', 'unlik', 'mani', 'modern', 'filmmak', 'ha', 'great', 'deal', 'restraint', 'refus', 'show', 'shark', 'middl', 'act', 'mere', 'suggest', 'presenc', 'creepi', 'subject', 'underwat', 'shot', \"williams'\", 'music', \"he'\", 'build', 'tension', 'bit', 'bit', 'time', 'climax', \"shark'\", 'arriv', 'truli', 'terrifi', \"doesn't\", 'bore', 'imageri', 'act', 'open', 'polic', 'chief', 'martin', 'brodi', 'roy', 'scheider', 'york', 'cop', 'ha', 'easi', 'peac', 'job', 'run', 'polic', 'station', 'amiti', 'island', 'fictiti', 'england', 'resort', 'town', \"hasn't\", 'murder', 'gun', 'fire', '25', 'year', 'island', 'shaken', 'sever', 'viciou', 'great', 'white', 'shark', 'attack', 'befor', 'fourth', 'juli', 'mayor', 'larri', 'vaughn', 'murray', 'hamilton', \"doesn't\", 'shut', 'beach', 'becaus', 'island', 'reliant', 'summer', 'tourist', 'money', 'brodi', 'join', 'matt', 'hooper', 'richard', 'dreyfuss', 'young', 'ambiti', 'shark', 'expert', 'marin', 'institut', 'hooper', 'fascin', 'shark', 'determin', 'brodi', 'stop', '--', 'knowledg', 'exact', 'work', 'shark', \"it'\", 'perfect', 'engin', 'eat', 'machin', 'make', 'terrifi', 'vaughn', 'final', 'relent', 'hooper', 'brodi', 'join', 'crusti', 'shark', 'killer', 'quint', 'robert', 'shaw', 'decrepit', 'boat', 'orca', 'search', 'shark', 'entir', 'act', 'place', 'orca', 'men', 'hunt', 'shark', 'inevit', 'hunt', 'jaw', 'thriller', 'keen', 'sens', 'humor', 'incred', 'sens', 'pace', 'tension', 'horror', 'ten', 'movi', 'roll', \"it'\", 'america', 'storm', 'summer', '1975', 'money', 'crown', 'box', 'offic', 'champ', 'time', 'wa', 'unceremoni', 'dethron', '1977', 'star', 'war', 'today', 'fascin', 'thi', 'film', 'par', \"hitchcock'\", 'psycho', 'age', 'grand', 'technolog', 'exist', 'make', 'technic', 'sequenc', 'includ', 'sever', 'mechan', 'shark', 'obsolet', 'improv', 'film', 'becaus', 'onli', 'lead', 'overkil', 'technic', 'limit', 'face', 'spielberg', '1975', 'actual', 'produc', 'film', 'becaus', 'forc', 'reli', 'tradit', 'cinemat', 'element', 'pace', 'character', 'sharp', 'edit', 'creativ', 'photographi', 'simpli', 'dous', 'audienc', 'digit', 'shark', 'effect', 'scheider', 'dreyfuss', 'shaw', 'actor', 'time', 'jaw', 'wa', 'made', 'draw', 'robert', 'redford', 'paul', 'newman', 'thi', 'film', 'guarante', 'success', 'career', 'becaus', 'gave', 'outstand', 'perform', 'refus', 'overshadow', 'shark', 'scheider', 'hit', 'note', 'sympathet', 'husband', 'father', 'caught', 'polit', 'quagmir', \"what'\", 'entir', 'town', \"it'\", 'summer', 'mayor', 'vaughn', 'warn', 'dreyfuss', 'previous', 'american', 'graffiti', '1973', 'apprenticeship', 'duddi', 'kravitz', '1974', 'give', 'surprisingli', 'matur', 'complex', 'perform', 'someon', 'liter', 'onli', 'play', 'kid', 'teenag', 'howev', 'outstand', 'gnarl', 'perform', 'robert', 'shaw', \"movie'\", 'captain', 'ahab', 'perform', 'sore', 'overlook', 'academi', 'award', 'border', 'parodi', 'shaw', 'play', 'quint', 'grizzl', 'loner', 'machismo', 'border', 'masoch', \"he'\", 'slightli', 'derang', \"shaw'\", 'perform', 'caricatur', 'howev', 'scene', 'late', 'film', 'brodi', 'hooper', 'deck', 'orca', 'compar', 'scar', 'quint', 'drawn', 'stori', 'experi', 'aboard', 'indianapoli', 'navi', 'ship', 'world', 'war', 'ii', 'wa', 'sunk', 'japanes', 'tale', 'float', 'water', 'week', '1', '000', 'men', 'swarm', 'shark', 'slowli', 'devour', 'actual', 'hair-rais', 'anyth', 'spielberg', 'put', 'screen', 'shaw', 'deliv', 'stori', 'long', 'act', 'film', 'cours', \"can't\", 'leav', 'shark', 'black', 'eye', 'endless', 'row', 'teeth', 'insati', 'urg', 'eat', 'basic', 'epitom', \"mankind'\", 'fear', 'unknown', 'threaten', 'natur', 'shark', 'perfect', 'nemesi', 'real', '--', 'surviv', 'sinch', 'dinosaur', 'great', 'white', 'exist', 'larg', 'shark', 'jaw', 'threat', 'everi', \"spielberg'\", 'subject', 'underwat', 'shot', 'make', 'feel', 'queasi', 'becaus', 'shark', 'bunch', 'writih', 'dangl', 'complet', 'unprotect', 'leg', 'readi', 'chomp', 'shark', 'jaw', 'wa', 'actual', 'combin', 'actual', 'footag', 'differ', 'mechan', 'shark', 'nicknam', 'bruce', 'crew', 'built', 'shot', 'differ', 'angl', 'mani', 'forgotten', 'jaw', 'wa', 'sort', 'precursor', 'waterworld', '1995', \"movie'\", 'soggi', 'product', 'cost', 'overrun', 'univers', 'studio', 'worri', 'bomb', 'spielberg', 'overcam', 'obstacl', 'deliv', 'finest', 'primal', 'scare-thril', 'hollywood'], ['moviemak', 'lot', 'gener', 'manag', 'nfl', 'team', 'post-salari', 'cap', 'era', '--', \"you'v\", 'alloc', 'resourc', 'everi', 'dollar', 'spent', 'free-ag', 'defens', 'tackl', 'dollar', 'spend', 'lineback', 'safeti', 'center', 'nfl', 'thi', 'lead', 'team', 'detroit', 'lion', 'boast', 'superstar', 'run', 'back', 'huge', 'contract', 'onli', 'field', 'guy', 'herb', 'block', 'movi', 'end', 'film', 'spawn', 'huge', 'special-effect', 'budget', 'money', 'hire', 'ani', 'recogniz', 'actor', 'jacki', 'chan', 'barri', 'sander', 'moviemak', 'spin', 'dart', 'screen', 'sander', 'cut', 'back', 'defens', 'line', 'watch', 'jacki', 'oper', 'condor', 'drive', 'motorcycl', 'crowd', 'street', 'madrid', 'flee', 'armada', 'pursuer', 'ident', 'black', 'compact', 'car', 'reminisc', 'sander', 'run', 'daylight', 'chicago', 'bear', 'hot', 'pursuit', 'sander', \"doesn't\", 'worri', 'rescu', 'runaway', 'babi', 'carriag', 'lion', 'star', 'jacki', \"doesn't\", 'anybodi', 'block', 'everi', 'cent', \"that'\", 'invest', 'jacki', 'chan', 'movi', 'goe', 'stunt', 'chan', 'doe', 'stunt', 'rest', 'money', 'goe', 'pay', 'hospit', 'bill', 'thi', 'leav', '75', 'cent', 'pay', 'thing', 'director', 'chan', 'direct', 'script', 'dub', 'support', 'charact', 'mention', 'hideou', 'titl', 'sequenc', 'thi', 'explain', 'whi', 'movi', 'wa', 'shot', 'odd', 'place', 'morocco', 'spain', \"chan'\", 'releas', 'thi', 'countri', 'rumbl', 'bronx', 'wa', 'supposedli', 'set', 'york', 'wa', 'film', 'vancouv', 'chase', 'scene', 'canadian', 'rocki', 'clearli', 'visibl', 'heck', 'jacki', \"doesn't\", 'money', 'haircut', 'person', 'hairstylist', 'condor', 'chan', 'play', 'charact', \"he'\", 'alway', 'play', 'mixtur', 'bruce', 'lee', 'tim', 'allen', 'master', 'kung-fu', 'slapstick-fu', 'jacki', 'retriev', 'cach', 'lost', 'nazi', 'gold', 'north', 'african', 'desert', 'chase', 'hord', 'neo-nazi', 'sympath', 'stereotyp', 'arab', 'thing', 'jacki', 'chan', 'movi', 'polit', 'correct', 'join', 'women', 'littl', 'scream', 'jacki', 'save', 'misus', 'firearm', 'villain', 'nazi', 'leg', 'broken', 'secret', 'base', 'ha', 'carri', 'everywher', \"he'\", 'pathet', 'evil', 'en', 'rout', 'extend', 'motorcycl', 'chase', 'scene', 'hilari', 'fight', 'moroccan', 'version', 'motel', '6', 'neo-nazi', 'confront', 'savag', 'nativ', 'onc', 'secret', 'desert', 'base', 'long', 'chop-socki', 'sequenc', 'follow', \"film'\", 'centerpiec', 'wind-tunnel', 'fight', \"that'\", 'face/off', 'thi', 'money', 'wa', 'spent', 'well-choreograph', 'kung-fu', 'sequenc', 'giant', 'kevlar', 'hamster', 'ball', 'smashed-up', 'crate', 'banana', 'scorpion', 'ignor', 'gape', 'hole', 'plot', 'exactli', \"villain'\", 'leg', 'broken', 'escap', 'secret', 'nazi', 'base', 'whi', \"didn't\", 'key', \"don't\", 'worri', 'product', 'valu', 'exactli', 'japanes', 'girl', 'wa', 'hitchhik', 'sahara', 'movi', 'oper', 'condor', 'ha', 'pretent', 'raider', 'lost', 'ark', 'knockoff', 'jacki', 'raider', 'franchis', 'block', '--', 'lawrenc', 'kazdan', 'screenplay', 'john', 'william', 'score', 'spielberg', 'direct', 'georg', 'luca', 'produc', 'condor', 'a+', 'movi', 'howev', \"you'v\", \"you'v\", \"you'v\", 'jacki', 'chan', 'someth', 'special', '--', 'talent', 'mainstream', 'hollywood', 'util'], ['june', '30', '1960', 'self-taught', 'idealist', 'pragmat', 'young', 'man', 'becam', 'age', '36', 'head', 'govern', 'newli', 'independ', 'african', 'state', 'formerli', 'belgian', 'congo', 'month', 'wa', 'oust', 'power', 'posit', 'hunt', 'govern', 'troop', 'wa', 'captur', 'brutal', 'murder', 'aid', 'thi', 'little-known', 'stori', 'thi', 'meteor', 'rise', 'fall', 'told', 'intern', 'filmmak', 'raoul', 'peck', 'lumumba', 'patric', \"lumumba'\", 'eriq', 'ebouaney', 'stori', 'ha', 'told', 'previous', 'helmer', 'peck', '1991', 'award', 'win', 'documentari', 'lumumba', 'death', 'prophet', 'virtual', 'guarante', 'fiction', 'account', 'patriot', 'remain', 'true', 'subject', 'peck', 'co-writ', 'pascal', 'bonitz', 'begin', 'end', 'stori', 'young', 'polit', 'leader', 'watch', 'white', 'men', 'perform', 'gruesom', 'task', 'dismemb', 'bodi', 'black', 'men', 'imag', 'hatchet', 'fast-empti', 'whiskey', 'bottl', 'accompani', 'grisli', 'imag', 'jump', 'back', 'year', 'meet', 'black', 'leader', 'belgian-own', 'congo', 'class', 'postal', 'worker', 'lumumba', 'speak', 'mind', 'head', 'power', 'tribe', 'proclaim', 'tribal', 'region', 'nation', 'leader', 'small', 'mobil', 'parti', 'congoles', 'nation', 'movement', 'mnc', 'gain', 'promin', 'patric', 'leav', 'cleric', 'job', 'sell', 'beer', 'face', 'bustl', 'capit', 'stanleyvil', 'time', 'coloni', 'empir', 'fall', 'world', 'lumumba', 'place', 'time', 'polit', 'savvi', 'chess-lik', 'manipul', 'achiev', 'posit', 'leadership', 'mnc', 'date', 'independ', 'approach', 'tactic', 'posit', \"nation'\", 'prime', 'minist', 'defens', 'minist', 'support', 'presid', 'joseph', 'kasa', 'vubu', 'maka', 'kotto', 'coalit', 'creat', 'start', 'fall', 'belgian', 'master', 'continu', 'exert', 'influenc', 'struggl', 'nation', 'strive', 'maintain', 'econom', 'hold', \"country'\", 'vast', 'natur', 'resourc', 'copper', 'diamond', 'gold', 'lumumba', \"won't\", 'seek', 'tri', 'creat', 'de', 'facto', 'american', 'control', 'fledgl', 'govern', 'initi', 'investig', 'soviet', 'assist', 'immedi', 'tag', 'patric', 'communist', 'integr', 'overshadow', 'cold', 'war', 'threat', 'russian', 'domin', 'situat', 'goe', 'bad', 'wors', 'armi', 'mutini', 'remain', 'white', 'begin', 'evacu', 'arm', 'themselv', 'belgian', 'troop', 'violent', 'interven', 'lucr', 'katanga', 'provinc', 'succe', 'leadership', 'rival', 'mois', 'tschomb', 'pascal', 'nzonzi', 'lumumba', 'refus', 'access', 'countri', 'return', 'confer', 'abroad', 'thi', 'tumultu', 'littl', 'period', 'modern', 'african', 'histori', 'score', 'nation', 'struggl', 'independ', 'sometimes-odi', 'colonialist', 'rule', 'world', 'european', 'seat', 'power', 'centuri', 'peck', 'focus', 'stori', 'familiar', 'materi', 'strive', 'give', 'honest', 'portray', 'patric', 'lumumba', 'friend', 'foe', 'independ', 'movement', 'grip', 'africa', \"50'\", \"60'\", 'dure', 'time', 'stori', 'place', 'mani', 'nation', 'includ', 'nigeria', 'somalia', 'born', 'vari', 'degre', 'success', 'failur', 'usual', 'depend', 'countri', 'colon', 'coloni', 'master', 'effort', 'involv', 'lumumba', 'quit', 'ambiti', 'peck', 'crew', 'befor', 'camera', 'strive', 'bring', 'life', 'thi', 'slice', 'world', 'histori', 'unexplor', 'decad', 'product', 'valu', 'rate', 'small', 'standard', 'budget', 'period', 'feel', 'realist', 'african', 'set', 'nice', 'maintain', 'product', 'travel', 'zimbabw', 'mozambiqu', 'screenplay', 'cover', 'lot', 'ground', 'doe', \"yeoman'\", 'work', 'provid', 'great', 'deal', 'detail', 'histori', 'tri', 'justic', 'stori', \"lumumba'\", 'life', 'polit', 'side', 'thing', 'evenli', 'told', 'linear', 'straightforward', 'manner', 'teach', 'preach', 'concentr', 'good', 'deed', 'man', 'bit', 'stalwart', 'saint', \"doesn't\", 'embellish', 'larger', 'life', 'persona', 'famili', 'side', \"patrice'\", 'life', 'handl', 'sever', 'perfunctori', 'interlud', 'show', 'talk', 'children', 'embrac', 'wife', 'lament', 'death', 'child', 'intent', 'flesh', 'man', 'short', 'shrift', 'famili', 'man', 'side', 'lumumba', 'stori', 'ha', 'lopsid', 'feel', 'high', 'mark', 'eriq', 'ebouaney', 'titl', 'charact', 'actor', 'give', 'convinc', 'charismat', 'perform', 'multifacet', 'polit', 'deft', 'patric', 'lumumba', 'ha', 'good', 'peopl', 'countri', 'forc', 'drive', 'ambit', 'true', 'docudrama', 'tradit', 'support', 'cast', 'doe', 'outshin', 'star', 'complement', 'good', 'effort', 'lumumba', 'solid', 'interest', 'educ', 'honest', 'docudrama', 'appeal', 'film', 'buff', 'politico', 'ha', 'intellig', 'anyth', \"i'v\", 'hollywood', 'month', 'give', 'b+'], ['appar', 'director', 'toni', 'kay', 'major', 'battl', 'line', 'regard', 'film', 'american', 'histori', \"don't\", 'detail', 'fight', 'happi', 'final', 'product', 'nearli', 'remov', 'credit', 'altogeth', \"i'v\", 'heard', 'thi', 'kind', 'thing', 'happen', 'befor', 'make', 'input', 'studio', 'ha', 'film', 'produc', 'found', 'american', 'histori', 'extrem', 'good', 'film', 'becaus', 'toni', \"kaye'\", 'focus', 'touchi', 'subject', 'racism', 'becaus', 'power', 'charismat', 'perform', 'edward', 'norton', \"it'\", 'hard', 'believ', 'ha', 'onli', 'year', 'sinc', \"norton'\", 'fantast', 'role', 'primal', 'fear', 'star', 'film', 'make', 'star', 'norton', 'perform', 'becom', 'charact', 'work', 'american', 'histori', 'veri', 'perform', 'thi', 'year', 'play', 'young', 'man', 'derek', 'vinyard', 'skinhead', 'live', 'venic', 'beach', 'brother', 'danni', 'edward', 'furlong', 'mother', 'beverli', \"d'angelo\", 'sister', 'davin', 'jennif', 'lien', 'film', 'open', 'flashback', 'derek', 'brutal', 'kill', 'black', 'men', 'vandal', 'car', 'find', 'thi', 'land', 'prison', 'film', 'point', 'eye', 'danni', 'present-tim', 'film', 'danni', 'high', 'school', 'eager', 'follow', 'footstep', 'brother', 'film', 'told', 'flashback', 'path', 'lead', \"derek'\", 'adopt', 'white', 'supremaci', 'derek', 'releas', 'serv', 'year', 'prison', 'find', 'brother', 'full-blown', 'skinhead', 'derek', 'howev', 'ha', 'violenc', 'tri', 'brother', 'understand', 'whi', 'racism', 'violenc', 'bad', 'thing', 'make', 'thi', 'interest', 'young', 'men', 'stupid', 'thoughtless', 'peopl', '--', 'intellig', 'articul', 'voic', 'belief', 'disturbingli', 'straightforward', 'term', \"it'\", 'hard', 'make', 'controversi', 'movi', 'preach', 'kay', 'ha', 'found', 'note', 'materi', 'becaus', 'american', 'histori', 'mainstream', 'film', 'ha', 'redempt', 'phase', 'main', 'charact', '--', 'peopl', 'thi', 'onli', 'make', 'sympathet', 'partial', 'disagre', 'thi', 'becaus', 'advoc', 'racism', 'ani', \"it'\", 'interest', 'kay', 'present', 'derek', '--', 'loud', 'obnoxi', 'man', \"he'\", 'veri', 'smart', 'reason', 'whi', 'becom', 'skinhead', 'believ', '--', 'father', 'wa', 'arbitrarili', 'kill', 'group', 'black', 'men', \"it'\", 'clear', \"he'\", 'passion', 'belief', \"he'\", 'punk', 'excus', 'beat', 'peopl', 'cours', 'kay', 'ha', 'actor', 'talent', 'norton', 'play', 'thi', 'part', \"it'\", 'astonish', 'frighten', 'norton', 'shave', 'head', 'swastika', 'chest', 'addit', \"he'\", 'perfect', 'thi', 'role', '--', 'derek', 'requir', 'intellig', 'depth', 'lot', 'shout', 'norton', 'doe', 'eas', \"he'\", 'meanest', 'derek', 'ha', 'likabl', 'qualiti', \"that'\", 'gutsi', 'approach', 'stori', 'skinhead', 'add', 'depth', 'stori', 'subplot', 'princip', \"danny'\", 'school', 'averi', 'brook', 'becom', 'obsess', 'purg', 'hatr', 'danni', 'perform', 'terrif', 'standout', 'furlong', \"d'angelo\", 'lien', 'visual', 'film', 'veri', 'power', 'kay', 'indulg', 'lot', 'interest', 'artist', 'choic', 'work', 'nice', '--', 'lot', 'slow-mot', 'strang', 'camera', 'angl', 'add', 'moodi', 'atmospher', 'lot', 'movi', 'late', 'american', 'histori', 'skim', 'past', 'great', 'minut', 'climact', 'scene', 'veri', 'move', 'pictur', 'end', 'pretenti', 'preachi', 'resolut', 'featur', 'narrat', 'charact', 'wa', 'kill', 'movi', 'smart', 'subtl', 'point', 'felt', 'slap', 'face', 'hand-f', 'theme', 'simplist', 'make', 'exactli', 'toni', 'kay', 'dislik', 'final', 'version', 'film', 'perhap', 'thi', 'scene', 'wa', 'problem', \"it'\", 'hard', 'imagin', 'ani', 'director', 'partial', 'pleas', 'film', 'thi', 'good', '--', 'time', 'mani', 'movi', 'timid', 'weak', 'american', 'histori', 'manag', 'make', 'compel', 'argument', 'racism', 'advoc', 'ani'], ['colleagu', 'wa', 'surpris', 'told', 'wa', \"betsy'\", 'wed', 'wa', 'shock', 'hear', 'actual', 'reaction', 'wa', 'understand', 'consid', 'film', 'revolv', 'molli', 'ringwald', \"hasn't\", 'made', 'worthwhil', 'film', 'sinc', '1986', 'fact', \"betsy'\", 'wed', 'alan', 'alda', 'film', 'ringwald', 'ha', 'make', 'dud', 'year', 'alda', 'ha', 'involv', 'sever', 'noteworthi', 'project', 'includ', 'crime', 'misdemeanor', 'life', 'written', 'direct', 'alda', \"betsy'\", 'wed', 'vibrant', 'slice-of-lif', 'mix', 'dramat', 'moment', 'big', 'bowl', 'whimsic', 'humor', \"alda'\", 'comic', 'elixir', 'smooth', 'refreshing--and', 'welcom', 'chang', 'pace', 'usual', 'summer', 'fare', 'bride', 'groom', 'molli', 'ringwald', 'dylan', 'walsh', 'pivot', 'charact', 'film', 'interest', 'walsh', 'nonent', 'screen', 'presenc', 'door', 'knob', 'ringwald', 'simpli', 'unbear', 'easili', 'weakest', 'link', 'chain', 'hideou', 'short-crop', 'orang', 'hair', 'red', 'lip-stick', 'grotesqu', 'outfit', \"she'\", 'suppos', 'dress', 'design', 'clown', 'make', 'matter', 'wors', \"ringwald'\", 'perform', 'match', 'alda', \"ringwald'\", 'screen', 'time', 'minimum', 'interest', 'color', 'peripheri', 'charact', 'wed', 'devic', 'bring', 'togeth', \"bride'\", 'working-class', 'italian', 'famili', \"groom'\", 'rich', 'gentil', 'famili', \"ringwald'\", 'folk', 'homey', 'down-to-earth', 'alda', 'free-spirit', 'father', 'madelin', 'kahn', 'practic', 'mother', 'alli', 'sheedi', 'lone', 'sister', \"walsh'\", 'clan', 'hand', 'prim', 'proper', 'ostentati', 'famili', 'meet', 'mingl', 'movi', 'becom', 'stori', 'cultur', 'clash', 'charact', 'put', 'money', 'versu', 'valu', 'alli', 'sheedi', 'underst', 'perform', \"film'\", 'pleasant', 'surpris', 'sheedi', 'express', 'eye', 'ringwald', 'doe', 'entir', 'bodi', \"it'\", 'anthoni', 'lapaglia', 'howev', 'seiz', 'spotlight', 'lapaglia', 'play', 'stevi', 'dee', 'suav', 'overli', 'polit', 'mafioso', 'formal', 'court', 'sheedi', 'old-fashion', 'chivalri', \"lapaglia'\", 'sincer', 'dim-wit', 'charact', 'riot', \"what'\", 'uncanni', 'lapaglia', 'dead', 'ringer', 'robert', 'de', 'niro', 'littl', 'bit', 'alec', 'baldwin', 'thrown', 'good', 'measur', 'lapaglia', 'attend', 'de', 'niro', 'school', 'gangster', 'act', 'inspir', 'perform', 'partli', 'tribut', 'role-model', 'partli', 'rip-off', \"don't\", 'star', 'born', 'star', 're-born', \"lapaglia'\", 'over-the-top', 'perform', 'miss', 'scrumptiou', 'comic', 'act', 'howev', 'extend', 'sheedi', 'lapaglia', 'joe', 'pesci', 'sink', 'teeth', 'role', \"alda'\", 'unscrupul', 'brother-in-law', 'slum', 'lord', 'mob', 'tie', 'cheat', 'wife', 'catherin', \"o'hara\", 'alda', 'face', 'challeng', 'direct', 'act', 'find', 'comic', 'touch', \"bride'\", 'financially-strap', 'father', 'carpent', 'dream', 'bigger', 'wallet', 'film', 'adopt', \"alda'\", 'psycholog', 'point', 'view', 'tri', 'plan', 'wed', 'pay', 'filmmak', \"alda'\", 'style', 'humor', 'remark', 'restrain', 'tast', \"doesn't\", 'comic', 'geniu', 'woodi', 'allen', 'alda', 'doe', 'possess', 'inspir', 'make', 'movi', 'ten', 'time', 'entertain', 'slop', 'usual', 'pass', 'comedi'], ['bloodi', 'clash', 'independ', 'won', 'lumumba', 'refus', 'pander', 'belgian', 'continu', 'condescend', 'paternalist', 'relationship', 'congo', 'offic', 'particularli', 'gener', 'janssen', 'rudi', 'delhem', 'forc', 'publiqu', \"congo'\", 'armi', 'caus', 'rebellion', 'undermin', 'lumumba', 'wa', 'outrag', 'rape', 'murder', 'belgian', 'nation', 'unrest', 'build', 'mois', 'tshomb', 'pascal', 'nzonzi', 'provinc', 'katanga', '70', 'percent', \"country'\", 'resourc', 'proclaim', 'secess', 'lumumba', 'replac', 'janssen', 'make', 'mobutu', 'colonel', 'pacif', 'tour', 'congoles', 'presid', 'joseph', 'kasa', 'vubu', 'maka', 'kotto', 'wa', 'late', \"'when\", 'drown', 'dog', 'ha', 'rabi', 'prophesi', 'lumumba', 'fate', 'peck', 'bonitz', 'exemplari', 'job', 'complic', 'tale', 'myriad', 'player', 'frequent', 'succumb', 'clich', 'particularli', 'regard', \"lumumba'\", 'privat', 'life', \"peck'\", 'script', 'illumin', 'bantu', \"'the\", 'hand', 'give', \"rules'\", 'lumumba', 'american', 'ambassador', \"peck'\", 'direct', 'assur', 'mani', 'scene', 'unfortun', 'play', 'standard', 'televis', 'fare', \"he'\", 'serv', 'cast', 'ebouaney', 'titl', 'role', 'ebouaney', 'dynam', 'radiat', \"character'\", 'fierc', 'passion', 'peopl', 'countri', \"lumumba'\", 'intellig', 'abil', 'strateg', \"he'\", 'corner', 'insurmount', 'odd', 'life', 'ebouaney', \"peck'\", 'subject', 'lead', 'actor', 'elev', 'film', 'abov', 'mediocr', 'product', 'lumumba', 'stori', 'deserv', 'told', \"ebouaney'\", 'perform', 'make', 'tragedi', 'person', 'felt'], ['american', 'action', 'film', 'ha', 'slowli', 'drown', 'death', 'sea', 'asian', 'wire-fu', 'copycat', \"it'\", 'pretti', 'death', \"it'\", 'leav', 'schwartznag', 'stallon', 'van', 'damm', 'wear', 'cement', 'galosh', 'bottom', 'kung', 'fu', 'sea', 'sometim', 'mix', 'result', 'mind-blow', 'spectacl', 'unlik', 'ani', 'qualiti', 'action', 'amaz', 'excit', 'stunt', 'work', \"1999'\", 'matrix', 'real', 'gem', 'hollywood', 'wrong', 'pay', 'chines', 'director', 'fli', 'ninja', 'float', 'karat', 'master', 'replac', 'soar', 'bronx', 'detect', 'slow', 'motion', 'kick', 'scientist', 'mostli', \"it'\", 'laughabl', \"hollywood'\", 'rush', 'emul', 'success', 'matrix', 'trademark', 'asian', 'stunt', 'choreographi', 'ha', 'becom', 'joke', 'art', 'form', 'iron', 'monkey', 'latest', 'asian', 'import', 'show', 'iron', 'monkey', 'actual', 'reissu', '1993', 'film', 'stori', '19th', 'chines', 'vigilant', 'rongguang', 'yu', 'fight', 'uniqu', 'style', 'shaolin', 'kung', 'fu', 'oppress', 'belli', 'hungri', 'piec', 'narr', 'legendari', 'chines', 'film', 'hero', 'wong', 'fei-hong', 'recent', 'overlook', 'possibl', 'film', '2000', 'drunken', 'master', '2', 'releas', 'legend', 'drunken', 'master', 'unlik', 'drunken', 'master', '2', 'star', 'jacki', 'chan', 'adult', 'fei-hong', 'iron', 'monkey', 'find', 'younger', 'fei-hong', 'sze-man', 'tsang', 'father', 'wong', 'kei-i', 'yen', 'chi', 'dan', 'thrust', 'middl', 'iron', \"monkey'\", 'fight', 'oppress', 'iron', 'monkey', 'succe', 'kung', 'fu', 'film', 'sinc', 'drunken', 'master', '2', 'time', 'fight', 'style', 'especi', 'monkey', 'devolv', 'ridicul', 'twinkle-to', 'float', 'film', 'crouch', 'tiger', 'hidden', 'dragon', 'director', 'yuen', 'wo', 'ping', 'eventu', 'rememb', 'bring', 'action', 'scene', 'back', 'earth', 'iron', 'monkey', 'heart', 'hardcor', 'kung', 'fu', 'action', 'film', 'ani', 'kind', 'drama', 'la', 'crouch', 'tiger', 'howev', 'moment', 'profound', 'share', 'charact', 'pass', 'outlaw', 'hero', 'good-heart', 'misguid', 'enemi', 'chief', 'fox', 'moment', 'iron', 'monkey', 'manag', 'transcend', 'mindless', 'kung', 'fu', 'natur', 'touch', 'heart', 'mind', 'audienc', 'equal', 'masterpiec', 'drunken', 'master', '2', 'iron', 'monkey', 'danc', 'quit', 'nice', 'invad', 'kung', 'fu', 'tune', 'aka', 'siunin', 'wong', 'fei-hung', 'tsi', 'titmalau']]\n",
      "[['films', 'adapted', 'comic', 'books', 'plenty', 'success', \"they're\", 'superheroes', 'batman', 'superman', 'spawn', 'geared', 'kids', 'casper', 'arthouse', 'crowd', 'ghost', 'world', \"there's\", 'comic', 'book', 'hell', 'starters', 'created', 'alan', 'moore', 'eddie', 'campbell', 'brought', 'medium', 'level', 'mid', \"'80s\", '12-part', 'series', 'called', 'watchmen', 'moore', 'campbell', 'researched', 'subject', 'jack', 'ripper', 'michael', 'jackson', 'starting', 'odd', 'book', 'graphic', '500', 'pages', 'long', 'includes', '30', 'consist', 'footnotes', 'words', \"don't\", 'dismiss', 'film', 'source', 'past', 'comic', 'book', 'thing', 'find', 'stumbling', 'block', \"hell's\", 'directors', 'albert', 'allen', 'hughes', 'hughes', 'brothers', 'direct', 'ludicrous', 'casting', 'carrot', 'top', 'riddle', 'direct', 'film', \"that's\", 'set', 'ghetto', 'features', 'violent', 'street', 'crime', 'mad', 'geniuses', 'menace', 'ii', 'society', 'ghetto', 'question', 'whitechapel', '1888', \"london's\", 'east', 'end', \"it's\", 'filthy', 'sooty', 'place', 'whores', 'called', 'unfortunates', 'starting', 'nervous', 'mysterious', 'psychopath', 'carving', 'profession', 'surgical', 'precision', 'stiff', 'turns', 'copper', 'peter', 'godley', 'robbie', 'coltrane', 'world', 'calls', 'inspector', 'frederick', 'abberline', 'johnny', 'depp', 'blow', 'crack', 'case', 'abberline', 'widower', 'prophetic', 'dreams', 'unsuccessfully', 'quell', 'copious', 'amounts', 'absinthe', 'opium', 'arriving', 'whitechapel', 'befriends', 'unfortunate', 'named', 'mary', 'kelly', 'heather', 'graham', \"isn't\", 'proceeds', 'investigate', 'horribly', 'gruesome', 'crimes', 'police', 'surgeon', \"can't\", 'stomach', \"don't\", 'briefed', 'jack', 'ripper', \"won't\", 'particulars', 'moore', 'campbell', 'unique', 'interesting', 'theory', 'identity', 'killer', 'reasons', 'chooses', 'slay', 'comic', \"don't\", 'bother', 'cloaking', 'identity', 'ripper', 'screenwriters', 'terry', 'hayes', 'vertical', 'limit', 'rafael', 'yglesias', 'les', 'mis', 'rables', 'good', 'job', 'keeping', 'hidden', 'viewers', 'end', \"it's\", 'funny', 'watch', 'locals', 'blindly', 'point', 'finger', 'blame', 'jews', 'indians', 'englishman', 'capable', 'committing', 'ghastly', 'acts', \"hell's\", 'ending', 'whistling', 'stonecutters', 'song', 'simpsons', 'days', 'holds', 'back', 'electric', 'car/who', 'made', 'steve', 'guttenberg', 'star', \"don't\", 'worry', \"it'll\", 'make', 'sense', \"hell's\", 'appearance', \"it's\", 'dark', 'bleak', \"it's\", 'surprising', 'tim', 'burton', 'film', 'planet', 'apes', 'times', 'sleepy', 'hollow', '2', 'print', \"wasn't\", 'completely', 'finished', 'color', 'music', 'finalized', 'comments', 'marilyn', 'manson', 'cinematographer', 'peter', 'deming', \"don't\", 'word', 'ably', 'captures', 'dreariness', 'victorian-era', 'london', 'helped', 'make', 'flashy', 'killing', 'scenes', 'remind', 'crazy', 'flashbacks', 'twin', 'peaks', 'violence', 'film', 'pales', 'comparison', 'black-and-white', 'comic', 'oscar', 'winner', 'martin', \"childs'\", 'shakespeare', 'love', 'production', 'design', 'turns', 'original', 'prague', 'surroundings', 'creepy', 'place', 'acting', 'hell', 'solid', 'dreamy', 'depp', 'turning', 'typically', 'strong', 'performance', 'deftly', 'handling', 'british', 'accent', 'ians', 'holm', 'joe', \"gould's\", 'secret', 'richardson', '102', 'dalmatians', 'log', 'great', 'supporting', 'roles', 'big', 'surprise', 'graham', 'cringed', 'time', 'opened', 'mouth', 'imagining', 'attempt', 'irish', 'accent', \"wasn't\", 'half', 'bad', 'film', 'good', '2', '00', 'strong', 'violence/gore', 'sexuality', 'language', 'drug', 'content'], ['movie', 'suspect', 'studio', 'indication', 'stinker', \"everybody's\", 'surprise', 'studio', 'film', 'critical', 'darling', 'mtv', \"films'\", '_election', 'high', 'school', 'comedy', 'starring', 'matthew', 'broderick', 'reese', 'witherspoon', 'current', 'film', 'existed', 'week', 'opened', 'plot', 'deceptively', 'simple', 'george', 'washington', 'carver', 'high', 'school', 'student', 'elections', 'tracy', 'flick', 'reese', 'witherspoon', 'over-achiever', 'hand', 'raised', 'question', 'high', 'mr', 'matthew', 'broderick', 'sick', 'megalomaniac', 'student', 'encourages', 'paul', 'popular-but-slow', 'jock', 'run', \"paul's\", 'nihilistic', 'sister', 'jumps', 'race', 'personal', 'reasons', 'dark', 'side', 'sleeper', 'success', 'expectations', 'low', 'fact', 'quality', 'stuff', 'made', 'reviews', 'enthusiastic', \"can't\", 'baggage', 'glowing', 'reviews', 'contrast', 'negative', 'baggage', 'reviewers', '_election', 'good', 'film', 'live', 'hype', 'makes', '_election_', 'disappointing', 'significant', 'plot', 'details', 'lifted', 'directly', '_rushmore_', 'released', 'months', 'earlier', 'similarities', 'staggering', 'tracy', 'flick', '_election_', 'president', 'extraordinary', 'number', 'clubs', 'involved', 'school', 'play', 'max', 'fischer', '_rushmore_', 'president', 'extraordinary', 'number', 'clubs', 'involved', 'school', 'play', 'significant', 'tension', '_election_', 'potential', 'relationship', 'teacher', 'student', 'significant', 'tension', '_rushmore_', 'potential', 'relationship', 'teacher', 'student', 'tracy', 'flick', 'single', 'parent', 'home', 'contributed', 'drive', 'max', 'fischer', 'single', 'parent', 'home', 'contributed', 'drive', 'male', 'bumbling', 'adult', '_election_', 'matthew', 'broderick', 'pursues', 'extramarital', 'affair', 'caught', 'life', 'ruined', 'bee', 'sting', 'male', 'bumbling', 'adult', '_rushmore_', 'bill', 'murray', 'pursues', 'extramarital', 'affair', 'caught', 'life', 'ruined', 'bee', 'stings', 'happened', 'individual', 'screenplay', '_rushmore_', '_election_', 'significant', 'plot', 'points', 'films', 'aware', 'made', 'studios', 'genre', 'high', 'school', 'geeks', 'revenge', 'movie', \"hadn't\", 'fully', 'formed', 'strengths', '_election_', 'rely', 'fantastic', 'performances', 'broderick', 'witherspoon', 'newcomer', 'jessica', 'campbell', \"paul's\", 'anti-social', 'sister', 'tammy', 'broderick', 'playing', 'mr', 'rooney', 'role', '_ferris', 'bueller_', 'fun', \"he's\", 'witherspoon', 'revelation', \"it's\", 'early', 'year', \"it's\", 'comedy', 'teenagers', 'clout', 'money', 'witherspoon', 'deserves', 'oscar', 'nomination', \"campbell's\", 'character', 'fantastic', 'speech', 'gymnasium', \"you're\", 'won', 'thing', \"that's\", 'bothering', \"i've\", 'extraordinary', 'amount', 'sexuality', 'film', 'suppose', 'coming', 'mtv', 'films', 'expect', 'film', 'starts', 'light', 'airy', 'sitcom', 'screws', 'tighten', 'tensions', 'mount', 'alexander', 'payne', 'decides', 'add', 'elements', 'frankly', 'distract', 'story', 'bad', 'mr', \"doesn't\", \"tracy's\", 'determination', 'win', 'costs', 'throw', 'student/teacher', 'relationship', \"there's\", 'logical', 'reason', 'mr', 'affair', \"there's\", 'lot', '_election_', 'plot', 'similarities', '_rushmore_', 'tonal', 'nosedive', 'takes', 'explicitly', 'sex-driven', 'mark', 'disappointment'], [\"you've\", 'mail', 'works', 'alot', 'deserves', 'order', 'make', 'film', 'success', 'cast', 'extremely', 'popular', 'attractive', 'stars', 'share', 'screen', 'hours', 'collect', 'profits', 'real', 'acting', 'involved', 'original', 'inventive', 'bone', \"it's\", 'body', \"it's\", 'basically', 'complete', 're-shoot', 'shop', 'corner', 'adding', 'modern', 'twists', 'essentially', 'defies', 'concepts', 'good', 'contemporary', 'filmmaking', \"it's\", 'overly', 'sentimental', 'times', 'terribly', 'mushy', 'mention', 'manipulative', 'enjoyable', 'manipulation', 'casting', 'manipulation', 'makes', 'movie', 'work', 'absolutely', 'hated', 'previous', 'ryan/hanks', 'teaming', 'sleepless', 'seattle', \"couldn't\", 'directing', 'films', 'helmed', 'woman', \"haven't\", 'figured', \"you've\", 'mail', 'important', 'question', 'storyline', 'cliched', 'tom', 'hanks', 'plays', 'joe', 'fox', 'insanely', 'likeable', 'owner', 'discount', 'book', 'chain', 'meg', 'ryan', 'plays', 'kathleen', 'kelley', 'insanely', 'likeable', 'proprietor', 'family-run', \"children's\", 'book', 'shop', 'called', 'nice', 'homage', 'shop', 'corner', 'fox', 'kelley', 'bitter', 'rivals', 'fox', 'books', 'store', 'opening', 'block', 'small', 'business', 'love', 'internet', 'party', \"person's\", 'true', 'identity', 'rest', 'story', \"isn't\", 'important', 'serve', 'mere', 'backdrop', 'stars', 'share', 'screen', 'mildly', 'interesting', 'subplots', 'fail', 'comparison', 'utter', 'cuteness', 'main', 'relationship', 'leads', 'predictable', 'climax', 'foreseeable', 'ending', \"it's\", 'damn', 'cute', 'well-done', 'doubt', 'movie', 'entire', 'year', 'scene', 'evokes', 'pure', 'joy', 'part', 'ryan', 'discovers', 'true', 'identity', 'online', 'love', 'filled', 'lack', 'word', 'happiness', 'time', 'year', 'left', 'theater', 'smiling'], ['jaws', 'rare', 'film', 'grabs', 'attention', 'shows', 'single', 'image', 'screen', 'movie', 'opens', 'blackness', 'distant', 'alien-like', 'underwater', 'sounds', 'ominous', 'bars', 'composer', 'john', \"williams'\", 'infamous', 'score', 'dah-dum', 'director', 'steven', 'spielberg', 'wastes', 'time', 'taking', 'water', 'midnight', 'swim', 'beautiful', 'girl', 'turns', 'deadly', 'lets', 'vulnerable', 'floating', 'ocean', 'jaws', 'attacked', 'relinquishes', 'grip', 'outstanding', 'jaws', 'spielberg', 'builds', 'movie', 'works', 'theatrical', 'production', 'act', 'act', 'unlike', 'modern', 'filmmakers', 'great', 'deal', 'restraint', 'refuses', 'show', 'shark', 'middle', 'act', 'suggests', 'presence', 'creepy', 'subjective', 'underwater', 'shots', \"williams'\", 'music', \"he's\", 'building', 'tension', 'bit', 'bit', 'time', 'climax', \"shark's\", 'arrival', 'terrifying', \"doesn't\", 'bored', 'imagery', 'act', 'opens', 'police', 'chief', 'martin', 'brody', 'roy', 'scheider', 'york', 'cop', 'easy', 'peaceful', 'job', 'running', 'police', 'station', 'amity', 'island', 'fictitious', 'england', 'resort', 'town', \"hasn't\", 'murder', 'gun', 'fired', '25', 'years', 'island', 'shaken', 'vicious', 'great', 'white', 'shark', 'attacks', 'fourth', 'july', 'mayor', 'larry', 'vaughn', 'murray', 'hamilton', \"doesn't\", 'shut', 'beaches', 'island', 'reliant', 'summer', 'tourist', 'money', 'brody', 'joined', 'matt', 'hooper', 'richard', 'dreyfuss', 'young', 'ambitious', 'shark', 'expert', 'marine', 'institute', 'hooper', 'fascinated', 'shark', 'determined', 'brody', 'stop', '--', 'knowledge', 'exact', 'workings', 'shark', \"it's\", 'perfect', 'engine', 'eating', 'machine', 'make', 'terrifying', 'vaughn', 'finally', 'relents', 'hooper', 'brody', 'join', 'crusty', 'shark', 'killer', 'named', 'quint', 'robert', 'shaw', 'decrepit', 'boat', 'orca', 'search', 'shark', 'entire', 'act', 'takes', 'place', 'orca', 'men', 'hunt', 'shark', 'inevitably', 'hunted', 'jaws', 'thriller', 'keen', 'sense', 'humor', 'incredible', 'sense', 'pacing', 'tension', 'horror', 'ten', 'movies', 'rolled', \"it's\", 'america', 'storm', 'summer', '1975', 'taking', 'money', 'crown', 'box', 'office', 'champ', 'time', 'unceremoniously', 'dethroned', '1977', 'star', 'wars', 'today', 'fascination', 'film', 'par', \"hitchcock's\", 'psycho', 'age', 'grand', 'technology', 'exists', 'makes', 'technical', 'sequences', 'including', 'mechanical', 'sharks', 'obsolete', 'improve', 'film', 'lead', 'overkill', 'technical', 'limitations', 'faced', 'spielberg', '1975', 'produced', 'film', 'forced', 'rely', 'traditional', 'cinematic', 'elements', 'pacing', 'characterization', 'sharp', 'editing', 'creative', 'photography', 'simply', 'dousing', 'audience', 'digital', 'shark', 'effects', 'scheider', 'dreyfuss', 'shaw', 'actors', 'time', 'jaws', 'made', 'draw', 'robert', 'redford', 'paul', 'newman', 'film', 'guaranteed', 'successful', 'careers', 'gave', 'outstanding', 'performance', 'refused', 'overshadowed', 'shark', 'scheider', 'hits', 'notes', 'sympathetic', 'husband', 'father', 'caught', 'political', 'quagmire', \"what's\", 'entire', 'town', \"it's\", 'summer', 'mayor', 'vaughn', 'warns', 'dreyfuss', 'previously', 'american', 'graffiti', '1973', 'apprenticeship', 'duddy', 'kravitz', '1974', 'surprisingly', 'mature', 'complex', 'performance', 'literally', 'played', 'kids', 'teenagers', 'outstanding', 'gnarled', 'performance', 'robert', 'shaw', \"movie's\", 'captain', 'ahab', 'performance', 'sorely', 'overlooked', 'academy', 'awards', 'bordering', 'parody', 'shaw', 'plays', 'quint', 'grizzled', 'loner', 'machismo', 'borders', 'masochism', \"he's\", 'slightly', 'deranged', \"shaw's\", 'performance', 'caricature', 'scene', 'late', 'film', 'brody', 'hooper', 'deck', 'orca', 'comparing', 'scars', 'quint', 'drawn', 'telling', 'story', 'experiences', 'aboard', 'indianapolis', 'navy', 'ship', 'world', 'war', 'ii', 'sunk', 'japanese', 'tale', 'floating', 'water', 'week', '1', '000', 'men', 'swarms', 'sharks', 'slowly', 'devoured', 'hair-raising', 'spielberg', 'put', 'screen', 'shaw', 'delivers', 'story', 'long', 'acting', 'film', \"can't\", 'leave', 'shark', 'black', 'eyes', 'endless', 'rows', 'teeth', 'insatiable', 'urge', 'eat', 'basically', 'epitome', \"mankind's\", 'fears', 'unknown', 'threatening', 'nature', 'shark', 'perfect', 'nemesis', 'real', '--', 'survived', 'sinch', 'dinosaurs', 'great', 'whites', 'exist', 'large', 'shark', 'jaws', 'threat', \"spielberg's\", 'subjective', 'underwater', 'shots', 'makes', 'feel', 'queasy', 'lets', 'shark', 'bunch', 'writihing', 'dangling', 'completely', 'unprotected', 'legs', 'ready', 'chomped', 'shark', 'jaws', 'combination', 'actual', 'footage', 'mechanical', 'sharks', 'nicknamed', 'bruce', 'crew', 'built', 'shot', 'angles', 'forgotten', 'jaws', 'sort', 'precursor', 'waterworld', '1995', \"movie's\", 'soggy', 'production', 'cost', 'overruns', 'universal', 'studios', 'worried', 'bomb', 'spielberg', 'overcame', 'obstacles', 'delivered', 'finest', 'primal', 'scare-thrillers', 'hollywood'], ['moviemaking', 'lot', 'general', 'manager', 'nfl', 'team', 'post-salary', 'cap', 'era', '--', \"you've\", 'allocate', 'resources', 'dollar', 'spent', 'free-agent', 'defensive', 'tackle', 'dollar', 'spend', 'linebackers', 'safeties', 'centers', 'nfl', 'leads', 'teams', 'detroit', 'lions', 'boast', 'superstar', 'running', 'back', 'huge', 'contract', 'field', 'guys', 'named', 'herb', 'block', 'movies', 'end', 'films', 'spawn', 'huge', 'special-effects', 'budget', 'money', 'hire', 'recognizable', 'actors', 'jackie', 'chan', 'barry', 'sanders', 'moviemaking', 'spins', 'darts', 'screen', 'sanders', 'cutting', 'back', 'defensive', 'line', 'watching', 'jackie', 'operation', 'condor', 'drives', 'motorcycle', 'crowded', 'streets', 'madrid', 'fleeing', 'armada', 'pursuers', 'identical', 'black', 'compact', 'cars', 'reminiscent', 'sanders', 'running', 'daylight', 'chicago', 'bears', 'hot', 'pursuit', 'sanders', \"doesn't\", 'worry', 'rescuing', 'runaway', 'baby', 'carriages', 'lions', 'star', 'jackie', \"doesn't\", 'block', 'cent', \"that's\", 'invested', 'jackie', 'chan', 'movie', 'stunts', 'chan', 'stunts', 'rest', 'money', 'pay', 'hospital', 'bills', 'leaves', '75', 'cents', 'pay', 'things', 'directors', 'chan', 'directs', 'scripts', 'dubbing', 'supporting', 'characters', 'mention', 'hideous', 'title', 'sequence', 'explains', 'movie', 'shot', 'odd', 'places', 'morocco', 'spain', \"chan's\", 'release', 'country', 'rumble', 'bronx', 'supposedly', 'set', 'york', 'filmed', 'vancouver', 'chase', 'scenes', 'canadian', 'rockies', 'visible', 'heck', 'jackie', \"doesn't\", 'money', 'haircut', 'personal', 'hairstylist', 'condor', 'chan', 'plays', 'character', \"he's\", 'played', 'mixture', 'bruce', 'lee', 'tim', 'allen', 'master', 'kung-fu', 'slapstick-fu', 'jackie', 'retrieve', 'cache', 'lost', 'nazi', 'gold', 'north', 'african', 'desert', 'chased', 'horde', 'neo-nazi', 'sympathizers', 'stereotypical', 'arabs', 'things', 'jackie', 'chan', 'movies', 'political', 'correctness', 'joined', 'women', 'scream', 'jackie', 'save', 'misuse', 'firearms', 'villain', 'nazi', 'legs', 'broken', 'secret', 'base', 'carried', \"he's\", 'pathetic', 'evil', 'en', 'route', 'extended', 'motorcycle', 'chase', 'scene', 'hilarious', 'fight', 'moroccan', 'version', 'motel', '6', 'neo-nazis', 'confrontations', 'savage', 'natives', 'secret', 'desert', 'base', 'long', 'chop-socky', 'sequence', \"film's\", 'centerpiece', 'wind-tunnel', 'fight', \"that's\", 'face/off', 'money', 'spent', 'well-choreographed', 'kung-fu', 'sequences', 'giant', 'kevlar', 'hamster', 'balls', 'smashed-up', 'crates', 'bananas', 'scorpions', 'ignore', 'gaping', 'holes', 'plot', \"villain's\", 'legs', 'broken', 'escape', 'secret', 'nazi', 'base', \"didn't\", 'key', \"don't\", 'worry', 'production', 'values', 'japanese', 'girl', 'hitchhiking', 'sahara', 'movie', 'operation', 'condor', 'pretentions', 'raiders', 'lost', 'ark', 'knockoff', 'wonders', 'jackie', 'raiders', 'franchise', 'blocking', '--', 'lawrence', 'kazdan', 'screenplay', 'john', 'williams', 'score', 'spielberg', 'directing', 'george', 'lucas', 'producing', 'condor', 'a+', 'movie', \"you've\", \"you've\", \"you've\", 'jackie', 'chan', 'special', '--', 'talent', 'mainstream', 'hollywood', 'utilize'], ['june', '30', '1960', 'self-taught', 'idealistic', 'pragmatic', 'young', 'man', 'age', '36', 'head', 'government', 'newly', 'independent', 'african', 'state', 'belgian', 'congo', 'months', 'ousted', 'powerful', 'position', 'hunted', 'government', 'troops', 'captured', 'brutally', 'murdered', 'aides', 'little-known', 'story', 'meteoric', 'rise', 'fall', 'told', 'international', 'filmmaker', 'raoul', 'peck', 'lumumba', 'patrice', \"lumumba's\", 'eriq', 'ebouaney', 'story', 'told', 'previously', 'helmer', 'peck', '1991', 'award', 'winning', 'documentary', 'lumumba', 'death', 'prophet', 'virtually', 'guaranteeing', 'fictional', 'account', 'patriot', 'remains', 'true', 'subject', 'peck', 'co-writer', 'pascal', 'bonitzer', 'begins', 'end', 'story', 'young', 'political', 'leader', 'watch', 'white', 'men', 'perform', 'gruesome', 'task', 'dismembering', 'bodies', 'black', 'men', 'images', 'hatchets', 'saws', 'fast-emptying', 'whiskey', 'bottles', 'accompany', 'grisly', 'image', 'jump', 'back', 'years', 'meeting', 'black', 'leaders', 'belgian-owned', 'congo', 'class', 'postal', 'worker', 'lumumba', 'speaks', 'mind', 'heads', 'powerful', 'tribes', 'proclaiming', 'tribal', 'regional', 'national', 'leader', 'small', 'mobile', 'party', 'congolese', 'national', 'movement', 'mnc', 'gaining', 'prominence', 'patrice', 'leaves', 'clerical', 'job', 'sell', 'beer', 'face', 'bustling', 'capital', 'stanleyville', 'time', 'colonial', 'empires', 'falling', 'world', 'lumumba', 'place', 'time', 'political', 'savvy', 'chess-like', 'manipulation', 'achieves', 'position', 'leadership', 'mnc', 'date', 'independence', 'approaches', 'tactically', 'positions', \"nation's\", 'prime', 'minister', 'defense', 'minister', 'supporting', 'presidency', 'joseph', 'kasa', 'vubu', 'maka', 'kotto', 'coalition', 'created', 'starts', 'fall', 'belgian', 'masters', 'continue', 'exert', 'influence', 'struggling', 'nation', 'strive', 'maintain', 'economic', 'hold', \"country's\", 'vast', 'natural', 'resources', 'copper', 'diamonds', 'gold', 'lumumba', \"won't\", 'seek', 'knowing', 'create', 'de', 'facto', 'american', 'control', 'fledgling', 'government', 'initial', 'investigation', 'soviet', 'assistance', 'immediately', 'tags', 'patrice', 'communist', 'integrity', 'overshadowed', 'cold', 'war', 'threat', 'russian', 'domination', 'situation', 'bad', 'worse', 'army', 'mutinies', 'remaining', 'whites', 'begin', 'evacuate', 'arm', 'belgian', 'troops', 'violently', 'intervene', 'lucrative', 'katanga', 'province', 'succeeds', 'leadership', 'rival', 'moise', 'tschombe', 'pascal', 'nzonzi', 'lumumba', 'refused', 'access', 'country', 'returns', 'conference', 'abroad', 'tumultuous', 'period', 'modern', 'african', 'history', 'score', 'nations', 'struggling', 'independence', 'sometimes-odious', 'colonialists', 'ruled', 'world', 'european', 'seats', 'power', 'centuries', 'peck', 'focuses', 'story', 'familiar', 'material', 'strives', 'give', 'honest', 'portrayal', 'patrice', 'lumumba', 'friend', 'foes', 'independence', 'movements', 'gripped', 'africa', \"50's\", \"60's\", 'time', 'story', 'takes', 'place', 'nations', 'including', 'nigeria', 'somalia', 'born', 'varying', 'degrees', 'success', 'failure', 'dependent', 'country', 'colonized', 'colonial', 'masters', 'effort', 'involved', 'lumumba', 'ambitious', 'peck', 'crew', 'camera', 'strive', 'bring', 'life', 'slice', 'world', 'history', 'unexplored', 'decades', 'production', 'values', 'rate', 'small', 'standards', 'budget', 'period', 'feel', 'realistic', 'african', 'settings', 'nicely', 'maintained', 'production', 'traveled', 'zimbabwe', 'mozambique', 'screenplay', 'covers', 'lot', 'ground', \"yeoman's\", 'work', 'providing', 'great', 'deal', 'detailed', 'history', 'justice', 'story', \"lumumba's\", 'life', 'political', 'side', 'things', 'evenly', 'told', 'linear', 'straightforward', 'manner', 'teaches', 'preaches', 'concentrates', 'good', 'deeds', 'man', 'bit', 'stalwart', 'saint', \"doesn't\", 'embellish', 'larger', 'life', 'persona', 'family', 'side', \"patrice's\", 'life', 'handled', 'perfunctory', 'interludes', 'show', 'talking', 'children', 'embracing', 'wife', 'lamenting', 'death', 'child', 'intent', 'flesh', 'man', 'short', 'shrift', 'family', 'man', 'side', 'lumumba', 'story', 'lopsided', 'feel', 'high', 'marks', 'eriq', 'ebouaney', 'title', 'character', 'actor', 'convincing', 'charismatic', 'performance', 'multifaceted', 'politically', 'deft', 'patrice', 'lumumba', 'good', 'people', 'country', 'force', 'driving', 'ambitions', 'true', 'docudrama', 'tradition', 'supporting', 'cast', 'outshine', 'star', 'complementing', 'good', 'efforts', 'lumumba', 'solid', 'interesting', 'educational', 'honest', 'docudrama', 'appeal', 'film', 'buffs', 'politicos', 'intelligence', 'telling', \"i've\", 'hollywood', 'months', 'give', 'b+'], ['apparently', 'director', 'tony', 'kaye', 'major', 'battle', 'line', 'film', 'american', 'history', \"don't\", 'details', 'fight', 'happy', 'final', 'product', 'removed', 'credits', 'altogether', \"i've\", 'heard', 'kind', 'thing', 'happening', 'makes', 'input', 'studio', 'films', 'produce', 'found', 'american', 'history', 'extremely', 'good', 'film', 'tony', \"kaye's\", 'focused', 'touchy', 'subject', 'racism', 'powerful', 'charismatic', 'performance', 'edward', 'norton', \"it's\", 'hard', 'years', \"norton's\", 'fantastic', 'role', 'primal', 'fear', 'starring', 'film', 'making', 'star', 'norton', 'performers', 'character', 'work', 'american', 'history', 'performances', 'year', 'plays', 'young', 'man', 'named', 'derek', 'vinyard', 'skinhead', 'living', 'venice', 'beach', 'brother', 'danny', 'edward', 'furlong', 'mother', 'beverly', \"d'angelo\", 'sister', 'davin', 'jennifer', 'lien', 'film', 'opens', 'flashback', 'derek', 'brutally', 'kills', 'black', 'men', 'vandalizing', 'car', 'find', 'lands', 'prison', 'film', 'point', 'eyes', 'danny', 'present-time', 'film', 'danny', 'high', 'school', 'eager', 'follow', 'footsteps', 'brother', 'film', 'told', 'flashback', 'path', 'leads', \"derek's\", 'adoption', 'white', 'supremacy', 'derek', 'released', 'served', 'years', 'prison', 'finds', 'brother', 'full-blown', 'skinhead', 'derek', 'violence', 'brother', 'understand', 'racism', 'violence', 'bad', 'things', 'makes', 'interesting', 'young', 'men', 'stupid', 'thoughtless', 'people', '--', 'intelligent', 'articulate', 'voice', 'beliefs', 'disturbingly', 'straightforward', 'terms', \"it's\", 'hard', 'make', 'controversial', 'movie', 'preach', 'kaye', 'found', 'note', 'material', 'american', 'history', 'mainstream', 'film', 'redemption', 'phase', 'main', 'character', '--', 'people', 'make', 'sympathetic', 'partially', 'disagree', 'advocate', 'racism', \"it's\", 'interesting', 'kaye', 'presents', 'derek', '--', 'loud', 'obnoxious', 'man', \"he's\", 'smart', 'reasons', 'skinhead', 'believable', '--', 'father', 'arbitrarily', 'killed', 'group', 'black', 'men', \"it's\", 'clear', \"he's\", 'passionate', 'beliefs', \"he's\", 'punk', 'excuse', 'beat', 'people', 'helps', 'kaye', 'actor', 'talented', 'norton', 'play', 'part', \"it's\", 'astonishing', 'frightening', 'norton', 'shaved', 'head', 'swastika', 'chest', 'addition', \"he's\", 'perfect', 'role', '--', 'derek', 'requires', 'intelligence', 'depth', 'lot', 'shouting', 'norton', 'ease', \"he's\", 'meanest', 'derek', 'likable', 'quality', \"that's\", 'gutsy', 'approach', 'telling', 'story', 'skinhead', 'adds', 'depth', 'story', 'subplot', 'principal', \"danny's\", 'school', 'avery', 'brooks', 'obsessed', 'purging', 'hatred', 'danny', 'performances', 'terrific', 'standouts', 'furlong', \"d'angelo\", 'lien', 'visually', 'film', 'powerful', 'kaye', 'indulges', 'lot', 'interesting', 'artistic', 'choices', 'work', 'nicely', '--', 'lots', 'slow-motion', 'strange', 'camera', 'angles', 'add', 'moody', 'atmosphere', 'lot', 'movies', 'american', 'history', 'skims', 'past', 'greatness', 'minutes', 'climactic', 'scene', 'moving', 'picture', 'ends', 'pretentious', 'preachy', 'resolution', 'featuring', 'narration', 'character', 'killed', 'movie', 'smart', 'subtle', 'point', 'felt', 'slap', 'face', 'hand-fed', 'theme', 'simplistic', 'makes', 'tony', 'kaye', 'disliked', 'final', 'version', 'film', 'scene', 'problem', \"it's\", 'hard', 'imagine', 'director', 'partially', 'pleased', 'film', 'good', '--', 'time', 'movies', 'timid', 'weak', 'american', 'history', 'manages', 'make', 'compelling', 'argument', 'racism', 'advocating'], ['colleagues', 'surprised', 'told', \"betsy's\", 'wedding', 'shocked', 'hear', 'reaction', 'understandable', 'film', 'revolves', 'molly', 'ringwald', \"hasn't\", 'made', 'worthwhile', 'film', '1986', 'fact', \"betsy's\", 'wedding', 'alan', 'alda', 'film', 'ringwald', 'making', 'duds', 'years', 'alda', 'involved', 'noteworthy', 'projects', 'including', 'crimes', 'misdemeanors', 'life', 'written', 'directed', 'alda', \"betsy's\", 'wedding', 'vibrant', 'slice-of-life', 'mixing', 'dramatic', 'moments', 'big', 'bowl', 'whimsical', 'humor', \"alda's\", 'comic', 'elixir', 'smooth', 'refreshing--and', 'change', 'pace', 'usual', 'summer', 'fare', 'bride', 'groom', 'molly', 'ringwald', 'dylan', 'walsh', 'pivotal', 'characters', 'film', 'interesting', 'walsh', 'nonentity', 'screen', 'presence', 'door', 'knob', 'ringwald', 'simply', 'unbearable', 'easily', 'weakest', 'link', 'chain', 'hideous', 'short-cropped', 'orange', 'hair', 'red', 'lip-stick', 'grotesque', 'outfits', \"she's\", 'supposed', 'dress', 'designer', 'clown', 'make', 'matters', 'worse', \"ringwald's\", 'performance', 'matches', 'appearance', 'thankfully', 'alda', \"ringwald's\", 'screen', 'time', 'minimum', 'interested', 'colorful', 'periphery', 'characters', 'wedding', 'device', 'bring', \"bride's\", 'working-class', 'italian', 'family', \"groom's\", 'rich', 'gentile', 'family', \"ringwald's\", 'folks', 'homey', 'down-to-earth', 'alda', 'free-spirited', 'father', 'madeline', 'kahn', 'practical', 'mother', 'ally', 'sheedy', 'lonely', 'sister', \"walsh's\", 'clan', 'hand', 'prim', 'proper', 'ostentatious', 'families', 'meet', 'mingle', 'movie', 'story', 'culture', 'clash', 'character', 'puts', 'money', 'versus', 'values', 'ally', 'sheedy', 'wonderfully', 'understated', 'performance', \"film's\", 'pleasant', 'surprises', 'sheedy', 'expresses', 'eyes', 'ringwald', 'entire', 'body', \"it's\", 'anthony', 'lapaglia', 'seizes', 'spotlight', 'lapaglia', 'plays', 'stevie', 'dee', 'suave', 'overly', 'polite', 'mafioso', 'formally', 'courting', 'sheedy', 'old-fashioned', 'chivalry', \"lapaglia's\", 'sincere', 'dim-witted', 'character', 'riot', \"what's\", 'uncanny', 'lapaglia', 'dead', 'ringer', 'robert', 'de', 'niro', 'bit', 'alec', 'baldwin', 'thrown', 'good', 'measure', 'lapaglia', 'attended', 'de', 'niro', 'school', 'gangster', 'acting', 'inspired', 'performance', 'partly', 'tribute', 'role-model', 'partly', 'rip-off', \"don't\", 'star', 'born', 'star', 're-born', \"lapaglia's\", 'over-the-top', 'performance', 'missed', 'scrumptious', 'comic', 'acting', 'extends', 'sheedy', 'lapaglia', 'joe', 'pesci', 'sinks', 'teeth', 'role', \"alda's\", 'unscrupulous', 'brother-in-law', 'slum', 'lord', 'mob', 'ties', 'cheating', 'wife', 'catherine', \"o'hara\", 'alda', 'faced', 'challenge', 'directing', 'acting', 'finds', 'comic', 'touch', \"bride's\", 'financially-strapped', 'father', 'carpenter', 'dreams', 'bigger', 'wallet', 'film', 'adopts', \"alda's\", 'psychological', 'point', 'view', 'plan', 'wedding', 'pay', 'filmmaker', \"alda's\", 'style', 'humor', 'remarkably', 'restrained', 'tasteful', \"doesn't\", 'comic', 'genius', 'woody', 'allen', 'alda', 'possess', 'inspiration', 'make', 'movies', 'ten', 'times', 'entertaining', 'slop', 'passes', 'comedy'], ['bloody', 'clashes', 'independence', 'won', 'lumumba', 'refused', 'pander', 'belgians', 'continued', 'condescending', 'paternalistic', 'relationship', 'congo', 'officers', 'general', 'janssens', 'rudi', 'delhem', 'force', 'publique', \"congo's\", 'army', 'caused', 'rebellions', 'undermining', 'lumumba', 'outraged', 'rape', 'murder', 'belgian', 'nationals', 'unrest', 'building', 'moise', 'tshombe', 'pascal', 'nzonzi', 'province', 'katanga', 'contained', '70', 'percent', \"country's\", 'resources', 'proclaimed', 'secession', 'lumumba', 'replaced', 'janssens', 'making', 'mobutu', 'colonel', 'pacification', 'tour', 'congolese', 'president', 'joseph', 'kasa', 'vubu', 'maka', 'kotto', 'late', \"'when\", 'drown', 'dog', 'rabies', 'prophesies', 'lumumba', 'fate', 'peck', 'bonitzer', 'exemplary', 'job', 'telling', 'complicated', 'tale', 'myriad', 'players', 'frequently', 'succumb', 'cliche', \"lumumba's\", 'private', 'life', \"peck's\", 'script', 'illuminates', 'bantu', 'sayings', \"'the\", 'hand', \"rules'\", 'lumumba', 'american', 'ambassador', \"peck's\", 'direction', 'assured', 'scenes', 'playing', 'standard', 'television', 'fare', \"he's\", 'served', 'casting', 'ebouaney', 'title', 'role', 'ebouaney', 'dynamic', 'radiating', \"character's\", 'fierce', 'passion', 'people', 'country', \"lumumba's\", 'intelligence', 'ability', 'strategize', \"he's\", 'cornered', 'insurmountable', 'odds', 'life', 'ebouaney', \"peck's\", 'subject', 'lead', 'actor', 'elevate', 'film', 'mediocre', 'production', 'lumumba', 'story', 'deserves', 'told', \"ebouaney's\", 'performance', 'makes', 'tragedy', 'personally', 'felt'], ['american', 'action', 'film', 'slowly', 'drowning', 'death', 'sea', 'asian', 'wire-fu', 'copycats', \"it's\", 'pretty', 'death', \"it's\", 'leaving', 'likes', 'schwartznager', 'stallone', 'van', 'damme', 'wearing', 'cement', 'galoshes', 'bottom', 'kung', 'fu', 'sea', 'mix', 'results', 'mind-blowing', 'spectacle', 'unlike', 'quality', 'action', 'amazing', 'exciting', 'stunt', 'work', \"1999's\", 'matrix', 'real', 'gem', 'hollywood', 'wrong', 'pay', 'chinese', 'directors', 'flying', 'ninjas', 'floating', 'karate', 'masters', 'replaced', 'soaring', 'bronx', 'detectives', 'slow', 'motion', 'kicking', 'scientists', \"it's\", 'laughable', \"hollywood's\", 'rush', 'emulate', 'success', 'matrix', 'trademark', 'asian', 'stunt', 'choreography', 'joke', 'art', 'form', 'iron', 'monkey', 'latest', 'asian', 'import', 'shows', 'iron', 'monkey', 'reissue', '1993', 'film', 'story', '19th', 'chinese', 'vigilante', 'rongguang', 'yu', 'fighting', 'unique', 'style', 'shaolin', 'kung', 'fu', 'rights', 'oppressed', 'bellies', 'hungry', 'piece', 'narrative', 'legendary', 'chinese', 'film', 'hero', 'wong', 'fei-hong', 'recently', 'overlooked', 'possibly', 'films', '2000', 'drunken', 'master', '2', 'released', 'legend', 'drunken', 'master', 'unlike', 'drunken', 'master', '2', 'stars', 'jackie', 'chan', 'adult', 'fei-hong', 'iron', 'monkey', 'finds', 'younger', 'fei-hong', 'sze-man', 'tsang', 'father', 'wong', 'kei-ying', 'yen', 'chi', 'dan', 'thrust', 'middle', 'iron', \"monkey's\", 'fight', 'oppression', 'iron', 'monkey', 'succeeds', 'kung', 'fu', 'film', 'drunken', 'master', '2', 'times', 'fighting', 'styles', 'monkey', 'devolve', 'ridiculous', 'twinkle-toed', 'floating', 'films', 'crouching', 'tiger', 'hidden', 'dragon', 'director', 'yuen', 'wo', 'ping', 'eventually', 'remembers', 'bring', 'action', 'scenes', 'back', 'earth', 'iron', 'monkey', 'heart', 'hardcore', 'kung', 'fu', 'action', 'film', 'kind', 'drama', 'la', 'crouching', 'tiger', 'moments', 'profoundness', 'shared', 'characters', 'pass', 'outlaw', 'hero', 'good-hearted', 'misguided', 'enemy', 'chief', 'fox', 'moments', 'iron', 'monkey', 'manages', 'transcend', 'mindless', 'kung', 'fu', 'nature', 'touch', 'hearts', 'minds', 'audience', 'equal', 'masterpiece', 'drunken', 'master', '2', 'iron', 'monkey', 'dances', 'nicely', 'invading', 'kung', 'fu', 'tune', 'aka', 'siunin', 'wong', 'fei-hung', 'tsi', 'titmalau']]\n"
     ]
    }
   ],
   "source": [
    "def filter_stopwords(stopword_list, movie_reviews):\n",
    "        #remove stopwords from the list of movie reviews\n",
    "        filtered_reviews = []\n",
    "        for review in movie_reviews:\n",
    "            filtered_review = []\n",
    "            for token in review:\n",
    "                if token not in stopword_list:\n",
    "                    filtered_review.append(token)\n",
    "            filtered_reviews.append(filtered_review)\n",
    "        return filtered_reviews\n",
    "    \n",
    "filtered_movie_reviews = filter_stopwords(stopword_list, preprocessed_movie_reviews)\n",
    "#print the first 10 reviews\n",
    "print(filtered_movie_reviews[:10])\n",
    "\n",
    "#filter and print the first 10 reviews of not stemmed\n",
    "filtered_notstemmed_movie_reviews = filter_stopwords(stopword_list, nsmr)\n",
    "print(filtered_notstemmed_movie_reviews[:10])"
   ]
  },
  {
   "cell_type": "markdown",
   "metadata": {},
   "source": [
    "Lastly, let's make another topic model with this filtered data! Again, you make a bag-of-words model and then the LdaModel, as above.\n",
    "\n",
    "Try to make a model with 8 topics, and show the top 8 words for each topic. Assign the model to a new variable with a sensible name (avoid overwriting the previous models)."
   ]
  },
  {
   "cell_type": "code",
   "execution_count": 86,
   "metadata": {},
   "outputs": [
    {
     "data": {
      "text/plain": [
       "[(0,\n",
       "  '0.016*\"thi\" + 0.013*\"film\" + 0.012*\"movi\" + 0.007*\"wa\" + 0.006*\"ha\" + 0.005*\"time\" + 0.005*\"it\\'\" + 0.005*\"charact\"'),\n",
       " (1,\n",
       "  '0.011*\"film\" + 0.007*\"thi\" + 0.006*\"movi\" + 0.006*\"star\" + 0.005*\"wa\" + 0.005*\"ha\" + 0.004*\"charact\" + 0.003*\"war\"'),\n",
       " (2,\n",
       "  '0.019*\"film\" + 0.017*\"thi\" + 0.009*\"movi\" + 0.008*\"ha\" + 0.007*\"wa\" + 0.006*\"it\\'\" + 0.006*\"charact\" + 0.005*\"make\"'),\n",
       " (3,\n",
       "  '0.013*\"film\" + 0.012*\"thi\" + 0.012*\"movi\" + 0.008*\"wa\" + 0.007*\"ha\" + 0.006*\"it\\'\" + 0.006*\"charact\" + 0.005*\"make\"'),\n",
       " (4,\n",
       "  '0.014*\"film\" + 0.008*\"thi\" + 0.007*\"ha\" + 0.006*\"wa\" + 0.006*\"movi\" + 0.005*\"charact\" + 0.004*\"it\\'\" + 0.004*\"make\"')]"
      ]
     },
     "execution_count": 86,
     "metadata": {},
     "output_type": "execute_result"
    }
   ],
   "source": [
    "# your code here\n",
    "movie_dictionary2 = corpora.Dictionary(filtered_movie_reviews)\n",
    "movie_bow_corpus_2 = [movie_dictionary2.doc2bow(d) for d in filtered_movie_reviews]\n",
    "\n",
    "reviews_ldamodel_2 = models.ldamodel.LdaModel(movie_bow_corpus_2, num_topics=5, id2word = movie_dictionary2, passes=25)\n",
    "reviews_ldamodel_2.show_topics(num_words=8) \n"
   ]
  },
  {
   "attachments": {},
   "cell_type": "markdown",
   "metadata": {},
   "source": [
    "Making a model without using the SnowballStemmer, due to ineligible words"
   ]
  },
  {
   "cell_type": "code",
   "execution_count": 87,
   "metadata": {},
   "outputs": [
    {
     "data": {
      "text/plain": [
       "[(0,\n",
       "  '0.009*\"movie\" + 0.009*\"film\" + 0.006*\"it\\'s\" + 0.003*\"story\" + 0.003*\"time\" + 0.003*\"life\" + 0.003*\"good\" + 0.003*\"character\"'),\n",
       " (1,\n",
       "  '0.006*\"movie\" + 0.005*\"film\" + 0.004*\"it\\'s\" + 0.003*\"time\" + 0.003*\"big\" + 0.002*\"funny\" + 0.002*\"--\" + 0.002*\"story\"'),\n",
       " (2,\n",
       "  '0.019*\"film\" + 0.009*\"movie\" + 0.006*\"it\\'s\" + 0.004*\"good\" + 0.004*\"time\" + 0.004*\"story\" + 0.003*\"characters\" + 0.003*\"films\"'),\n",
       " (3,\n",
       "  '0.010*\"film\" + 0.008*\"movie\" + 0.006*\"it\\'s\" + 0.004*\"good\" + 0.003*\"time\" + 0.003*\"character\" + 0.003*\"story\" + 0.003*\"he\\'s\"'),\n",
       " (4,\n",
       "  '0.015*\"film\" + 0.009*\"movie\" + 0.006*\"it\\'s\" + 0.004*\"story\" + 0.003*\"good\" + 0.003*\"time\" + 0.003*\"characters\" + 0.003*\"character\"')]"
      ]
     },
     "execution_count": 87,
     "metadata": {},
     "output_type": "execute_result"
    }
   ],
   "source": [
    "#modelling with not stemmed words\n",
    "movie_dictionary3 = corpora.Dictionary(filtered_notstemmed_movie_reviews)\n",
    "movie_bow_corpus_3 = [movie_dictionary3.doc2bow(d) for d in filtered_notstemmed_movie_reviews]\n",
    "\n",
    "reviews_ldamodel_3 = models.ldamodel.LdaModel(movie_bow_corpus_3, num_topics=5, id2word = movie_dictionary3, passes=25)\n",
    "reviews_ldamodel_3.show_topics(num_words=8)"
   ]
  },
  {
   "cell_type": "markdown",
   "metadata": {},
   "source": [
    "**Part 3: Experimentation**\n",
    "\n",
    "Are these general stopword lists sufficient? We are working in the movie review domain, meaning that we may have other uninformative stopwords than in the general domain, such as the word 'movie'. Some key experimentation is to add specific stopwords for the movie review domain, which would occur frequently in all (or most) of the clusters. Note that removing words will not just hide these words, but lead to (even very) different topics and different top ranked reviews.\n",
    "\n",
    "**Make your own domain-specific stopwords file** by taking one of the existing ones and adding your own stopwords (make sure that the stopword file is saved as a plain text file). Think about what stopwords are in this domain (e.g., the word film is not a stopword in general, but it will occur in essentially every film review).\n",
    "\n",
    "Re-use the functions you previously made to load your own stopwords file and filter the movie reviews. Then, make another topic model with your new filtering and show the top 8 words for each topic."
   ]
  },
  {
   "cell_type": "code",
   "execution_count": 136,
   "metadata": {},
   "outputs": [
    {
     "data": {
      "text/plain": [
       "[(0,\n",
       "  '0.016*\"thi\" + 0.015*\"movi\" + 0.008*\"ha\" + 0.005*\"charact\" + 0.004*\"onli\" + 0.004*\"play\" + 0.003*\"thing\" + 0.003*\"ani\"'),\n",
       " (1,\n",
       "  '0.015*\"thi\" + 0.007*\"ha\" + 0.006*\"charact\" + 0.005*\"movi\" + 0.005*\"stori\" + 0.004*\"play\" + 0.004*\"becaus\" + 0.004*\"onli\"'),\n",
       " (2,\n",
       "  '0.007*\"thi\" + 0.006*\"ha\" + 0.005*\"charact\" + 0.004*\"stori\" + 0.003*\"movi\" + 0.003*\"onli\" + 0.003*\"harri\" + 0.003*\"famili\"'),\n",
       " (3,\n",
       "  '0.019*\"thi\" + 0.013*\"movi\" + 0.008*\"ha\" + 0.006*\"charact\" + 0.004*\"onli\" + 0.004*\"action\" + 0.004*\"play\" + 0.004*\"veri\"'),\n",
       " (4,\n",
       "  '0.012*\"thi\" + 0.012*\"movi\" + 0.007*\"ha\" + 0.005*\"charact\" + 0.004*\"stori\" + 0.004*\"onli\" + 0.003*\"play\" + 0.003*\"alien\"'),\n",
       " (5,\n",
       "  '0.006*\"scream\" + 0.005*\"ha\" + 0.004*\"thi\" + 0.004*\"charact\" + 0.003*\"ape\" + 0.002*\"stori\" + 0.002*\"love\" + 0.002*\"end\"'),\n",
       " (6,\n",
       "  '0.012*\"thi\" + 0.010*\"movi\" + 0.007*\"ha\" + 0.006*\"charact\" + 0.005*\"stori\" + 0.004*\"play\" + 0.004*\"veri\" + 0.003*\"love\"'),\n",
       " (7,\n",
       "  '0.015*\"thi\" + 0.007*\"ha\" + 0.007*\"charact\" + 0.007*\"movi\" + 0.004*\"play\" + 0.003*\"onli\" + 0.003*\"star\" + 0.003*\"littl\"')]"
      ]
     },
     "execution_count": 136,
     "metadata": {},
     "output_type": "execute_result"
    }
   ],
   "source": [
    "stpwords = load_stopwords('stopwords/stopwords-empty.txt')\n",
    "\n",
    "#Filter movie reviews with my stopwords\n",
    "domainfiltered_movie_reviews = filter_stopwords(stpwords, filtered_movie_reviews)\n",
    "domainfilteredunstemmed_movie_reviews = filter_stopwords(stpwords, filtered_notstemmed_movie_reviews)\n",
    "\n",
    "#Make a model with 8 topics\n",
    "movie_dictionary4 = corpora.Dictionary(domainfiltered_movie_reviews)\n",
    "movie_bow_corpus_4 = [movie_dictionary4.doc2bow(d) for d in domainfiltered_movie_reviews]\n",
    "\n",
    "reviews_ldamodel_4 = models.ldamodel.LdaModel(movie_bow_corpus_4, num_topics=8, id2word = movie_dictionary4, passes=25)\n",
    "reviews_ldamodel_4.show_topics(num_words=8) "
   ]
  },
  {
   "attachments": {},
   "cell_type": "markdown",
   "metadata": {},
   "source": [
    "Model with 8 topics without using the SnowballStemmer"
   ]
  },
  {
   "cell_type": "code",
   "execution_count": 137,
   "metadata": {},
   "outputs": [
    {
     "data": {
      "text/plain": [
       "[(0,\n",
       "  '0.003*\"funny\" + 0.002*\"back\" + 0.002*\"big\" + 0.002*\"love\" + 0.002*\"comedy\" + 0.002*\"original\" + 0.002*\"great\" + 0.002*\"man\" + 0.002*\"years\" + 0.002*\"work\" + 0.002*\"made\" + 0.002*\"makes\" + 0.002*\"director\" + 0.002*\"there\\'s\" + 0.002*\"end\"'),\n",
       " (1,\n",
       "  '0.003*\"action\" + 0.003*\"star\" + 0.003*\"series\" + 0.002*\"trek\" + 0.002*\"great\" + 0.002*\"back\" + 0.002*\"godzilla\" + 0.002*\"makes\" + 0.002*\"big\" + 0.002*\"made\" + 0.002*\"find\" + 0.002*\"acting\" + 0.001*\"years\" + 0.001*\"director\" + 0.001*\"end\"'),\n",
       " (2,\n",
       "  '0.003*\"star\" + 0.002*\"effects\" + 0.002*\"love\" + 0.002*\"great\" + 0.002*\"back\" + 0.002*\"special\" + 0.002*\"wars\" + 0.002*\"end\" + 0.002*\"there\\'s\" + 0.002*\"audience\" + 0.002*\"original\" + 0.002*\"funny\" + 0.002*\"big\" + 0.002*\"young\" + 0.002*\"man\"'),\n",
       " (3,\n",
       "  '0.002*\"man\" + 0.002*\"work\" + 0.002*\"comedy\" + 0.002*\"action\" + 0.002*\"role\" + 0.002*\"great\" + 0.002*\"end\" + 0.002*\"john\" + 0.002*\"love\" + 0.002*\"director\" + 0.002*\"family\" + 0.002*\"makes\" + 0.002*\"audience\" + 0.002*\"young\" + 0.001*\"truman\"'),\n",
       " (4,\n",
       "  '0.002*\"man\" + 0.002*\"john\" + 0.002*\"director\" + 0.002*\"action\" + 0.002*\"real\" + 0.002*\"made\" + 0.002*\"makes\" + 0.002*\"played\" + 0.002*\"performance\" + 0.002*\"love\" + 0.002*\"death\" + 0.002*\"takes\" + 0.002*\"role\" + 0.002*\"great\" + 0.002*\"work\"'),\n",
       " (5,\n",
       "  '0.002*\"made\" + 0.002*\"action\" + 0.002*\"man\" + 0.002*\"makes\" + 0.002*\"great\" + 0.002*\"end\" + 0.002*\"back\" + 0.002*\"find\" + 0.002*\"there\\'s\" + 0.001*\"horror\" + 0.001*\"effects\" + 0.001*\"house\" + 0.001*\"director\" + 0.001*\"work\" + 0.001*\"van\"'),\n",
       " (6,\n",
       "  '0.002*\"man\" + 0.002*\"big\" + 0.002*\"alien\" + 0.002*\"action\" + 0.002*\"work\" + 0.002*\"made\" + 0.002*\"back\" + 0.002*\"money\" + 0.002*\"played\" + 0.001*\"years\" + 0.001*\"makes\" + 0.001*\"i\\'m\" + 0.001*\"acting\" + 0.001*\"plays\" + 0.001*\"there\\'s\"'),\n",
       " (7,\n",
       "  '0.003*\"man\" + 0.002*\"end\" + 0.002*\"love\" + 0.002*\"director\" + 0.002*\"thing\" + 0.002*\"there\\'s\" + 0.002*\"great\" + 0.002*\"isn\\'t\" + 0.002*\"things\" + 0.002*\"action\" + 0.002*\"made\" + 0.002*\"work\" + 0.002*\"performance\" + 0.002*\"actors\" + 0.002*\"back\"')]"
      ]
     },
     "execution_count": 137,
     "metadata": {},
     "output_type": "execute_result"
    }
   ],
   "source": [
    "stpwords = load_stopwords('stopwords/stopwords-empty.txt')\n",
    "\n",
    "domainfilteredunstemmed_movie_reviews = filter_stopwords(stpwords, filtered_notstemmed_movie_reviews)\n",
    "#Make a model with 8 topics for not stemmed words\n",
    "moviedictionary5 = corpora.Dictionary(domainfilteredunstemmed_movie_reviews)\n",
    "movie_bow_corpus_5 = [moviedictionary5.doc2bow(d) for d in domainfilteredunstemmed_movie_reviews]\n",
    "\n",
    "reviews_ldamodel_5 = models.ldamodel.LdaModel(movie_bow_corpus_5, num_topics=8, id2word = moviedictionary5, passes=25)\n",
    "reviews_ldamodel_5.show_topics(num_words=15)"
   ]
  },
  {
   "cell_type": "markdown",
   "metadata": {},
   "source": [
    "Now, you should have 3 models (or more): one without any stopword filtering, one with the standard stopword filtering and one with the domain-filtered stopwords using the list you modified yourself. Compare the topics found by the three models (just looking at them is fine, no need to code a comparison).\n",
    "\n",
    "Do the topics look better with stopword filtering and with domain-specific stopword filtering? At this point, do the resulting topics correspond to particular film genres you have expected?"
   ]
  },
  {
   "attachments": {},
   "cell_type": "markdown",
   "metadata": {},
   "source": [
    "reviews_ldamodel == This is using raw unprocessed data in movie_reviews.\n",
    "Contained mostly punctuation marks and stuff\n",
    "\n",
    "reviews_ldamodel_1 == This is using preprocessed data using Stemmer/Removing Punctuations.\n",
    "Contains stopwords such as a, an, the etc.\n",
    "\n",
    "reviews_ldamodel_2 == This is the model after removing Stopwords from Mallet.\n",
    "Contains stems of words such as movi, film, etc.\n",
    "\n",
    "reviews_ldamodel_3 == This is the unstemmed model after removing Stopwords.\n",
    "Contains film, movies, story, life etc.\n",
    "\n",
    "reviews_ldamodel_4 == This is the model that has been filtered with domain specific stopwords.\n",
    "Contains words such as thi, movi, charact, tough to make sense of what is being said due to stemming\n",
    "\n",
    "reviews_ldamodel_5 == This is the unstemmed model filtered with domain specific stopwords.\n",
    "Contains a lot of good and bad, but has plot, people, director, etc.\n",
    "\n",
    "Model 5 appears to have the most legible data, so moving ahead with 5 for future use and optimization."
   ]
  },
  {
   "cell_type": "markdown",
   "metadata": {},
   "source": [
    "Increase the number of topics. What happens with the topics if you model very few or very many topics? (answer in a text box). Assign the model(s) to a new variable with a sensible name (avoid overwriting the previous models)."
   ]
  },
  {
   "cell_type": "code",
   "execution_count": 138,
   "metadata": {},
   "outputs": [
    {
     "data": {
      "text/plain": [
       "[(1,\n",
       "  '0.002*\"man\" + 0.002*\"work\" + 0.002*\"years\" + 0.002*\"there\\'s\" + 0.002*\"made\" + 0.002*\"back\" + 0.002*\"director\" + 0.002*\"love\" + 0.002*\"great\" + 0.002*\"action\"'),\n",
       " (9,\n",
       "  '0.003*\"love\" + 0.002*\"man\" + 0.002*\"director\" + 0.002*\"made\" + 0.002*\"played\" + 0.002*\"end\" + 0.002*\"things\" + 0.002*\"real\" + 0.002*\"work\" + 0.002*\"that\\'s\"'),\n",
       " (2,\n",
       "  '0.003*\"great\" + 0.002*\"end\" + 0.002*\"man\" + 0.002*\"things\" + 0.002*\"love\" + 0.002*\"performance\" + 0.002*\"work\" + 0.002*\"back\" + 0.002*\"director\" + 0.002*\"find\"'),\n",
       " (8,\n",
       "  '0.004*\"scream\" + 0.004*\"funny\" + 0.003*\"comedy\" + 0.003*\"there\\'s\" + 0.002*\"horror\" + 0.002*\"director\" + 0.002*\"kevin\" + 0.002*\"great\" + 0.002*\"back\" + 0.002*\"plays\"'),\n",
       " (0,\n",
       "  '0.003*\"end\" + 0.002*\"john\" + 0.002*\"director\" + 0.002*\"audience\" + 0.002*\"high\" + 0.002*\"made\" + 0.002*\"great\" + 0.002*\"fact\" + 0.002*\"comedy\" + 0.002*\"back\"'),\n",
       " (13,\n",
       "  '0.003*\"great\" + 0.003*\"funny\" + 0.002*\"makes\" + 0.002*\"work\" + 0.002*\"run\" + 0.002*\"comedy\" + 0.002*\"director\" + 0.002*\"big\" + 0.002*\"action\" + 0.002*\"made\"'),\n",
       " (11,\n",
       "  '0.005*\"jackie\" + 0.004*\"action\" + 0.002*\"man\" + 0.002*\"director\" + 0.002*\"city\" + 0.002*\"john\" + 0.002*\"back\" + 0.002*\"great\" + 0.002*\"chan\" + 0.002*\"performance\"'),\n",
       " (10,\n",
       "  '0.006*\"star\" + 0.003*\"wars\" + 0.003*\"effects\" + 0.003*\"trek\" + 0.002*\"makes\" + 0.002*\"great\" + 0.002*\"special\" + 0.002*\"phantom\" + 0.002*\"there\\'s\" + 0.002*\"big\"'),\n",
       " (12,\n",
       "  '0.003*\"alien\" + 0.002*\"series\" + 0.002*\"family\" + 0.002*\"made\" + 0.002*\"action\" + 0.002*\"death\" + 0.002*\"years\" + 0.002*\"find\" + 0.002*\"screen\" + 0.002*\"plays\"'),\n",
       " (14,\n",
       "  '0.004*\"love\" + 0.002*\"man\" + 0.002*\"audience\" + 0.002*\"end\" + 0.002*\"great\" + 0.002*\"funny\" + 0.002*\"comedy\" + 0.002*\"makes\" + 0.002*\"real\" + 0.002*\"big\"')]"
      ]
     },
     "execution_count": 138,
     "metadata": {},
     "output_type": "execute_result"
    }
   ],
   "source": [
    "# using lda model 5, with increased topics\n",
    "# your code here\n",
    "movie_dictionary6 = corpora.Dictionary(domainfilteredunstemmed_movie_reviews)\n",
    "movie_bow_corpus6 = [movie_dictionary6.doc2bow(d) for d in domainfilteredunstemmed_movie_reviews]\n",
    "\n",
    "lda_main = models.ldamodel.LdaModel(movie_bow_corpus6, num_topics=15, id2word = movie_dictionary6, passes=25)\n",
    "lda_main.show_topics(num_words=10)"
   ]
  },
  {
   "attachments": {},
   "cell_type": "markdown",
   "metadata": {},
   "source": [
    "what to infer idk"
   ]
  },
  {
   "cell_type": "markdown",
   "metadata": {},
   "source": [
    "(your answer here)"
   ]
  },
  {
   "cell_type": "markdown",
   "metadata": {},
   "source": [
    "Increase the number of topic words printed to get more information per topic.  Is it easier to make sense of a topic if you look further down the list, or are the initial words more clear?"
   ]
  },
  {
   "cell_type": "code",
   "execution_count": 101,
   "metadata": {},
   "outputs": [
    {
     "data": {
      "text/plain": [
       "[(9,\n",
       "  '0.004*\"good\" + 0.004*\"plot\" + 0.002*\"man\" + 0.002*\"bad\" + 0.002*\"director\" + 0.002*\"love\" + 0.002*\"batman\" + 0.002*\"role\" + 0.002*\"people\" + 0.002*\"plays\" + 0.002*\"family\" + 0.002*\"things\" + 0.002*\"action\" + 0.002*\"real\" + 0.002*\"back\" + 0.002*\"fact\" + 0.002*\"john\" + 0.002*\"great\" + 0.002*\"performance\" + 0.002*\"end\"'),\n",
       " (1,\n",
       "  '0.003*\"troopers\" + 0.003*\"starship\" + 0.002*\"good\" + 0.002*\"people\" + 0.002*\"bad\" + 0.002*\"back\" + 0.002*\"love\" + 0.002*\"cast\" + 0.002*\"makes\" + 0.002*\"made\" + 0.002*\"end\" + 0.002*\"there\\'s\" + 0.002*\"family\" + 0.002*\"plot\" + 0.002*\"work\" + 0.002*\"allen\" + 0.002*\"funny\" + 0.002*\"performance\" + 0.002*\"sex\" + 0.002*\"home\"'),\n",
       " (13,\n",
       "  '0.005*\"good\" + 0.004*\"star\" + 0.004*\"effects\" + 0.003*\"action\" + 0.003*\"bad\" + 0.003*\"people\" + 0.003*\"plot\" + 0.003*\"special\" + 0.002*\"great\" + 0.002*\"end\" + 0.002*\"made\" + 0.002*\"director\" + 0.002*\"man\" + 0.002*\"young\" + 0.002*\"love\" + 0.002*\"there\\'s\" + 0.002*\"wars\" + 0.002*\"original\" + 0.002*\"makes\" + 0.002*\"fact\"'),\n",
       " (12,\n",
       "  '0.004*\"good\" + 0.003*\"man\" + 0.002*\"action\" + 0.002*\"bad\" + 0.002*\"work\" + 0.002*\"scream\" + 0.002*\"there\\'s\" + 0.002*\"plot\" + 0.002*\"wedding\" + 0.002*\"end\" + 0.002*\"2\" + 0.002*\"love\" + 0.002*\"big\" + 0.002*\"audience\" + 0.002*\"back\" + 0.002*\"disney\" + 0.002*\"script\" + 0.002*\"mulan\" + 0.002*\"people\" + 0.002*\"director\"'),\n",
       " (5,\n",
       "  '0.004*\"good\" + 0.003*\"horror\" + 0.003*\"made\" + 0.003*\"bad\" + 0.003*\"great\" + 0.003*\"plot\" + 0.002*\"people\" + 0.002*\"man\" + 0.002*\"back\" + 0.002*\"series\" + 0.002*\"original\" + 0.002*\"funny\" + 0.002*\"director\" + 0.002*\"summer\" + 0.002*\"big\" + 0.002*\"isn\\'t\" + 0.002*\"action\" + 0.002*\"hollywood\" + 0.002*\"audience\" + 0.002*\"comedy\"'),\n",
       " (4,\n",
       "  '0.008*\"alien\" + 0.005*\"truman\" + 0.003*\"aliens\" + 0.003*\"good\" + 0.003*\"plot\" + 0.002*\"people\" + 0.002*\"role\" + 0.002*\"ripley\" + 0.002*\"species\" + 0.002*\"back\" + 0.002*\"bad\" + 0.002*\"played\" + 0.002*\"carrey\" + 0.002*\"action\" + 0.002*\"isn\\'t\" + 0.002*\"wrestling\" + 0.002*\"makes\" + 0.002*\"funny\" + 0.002*\"acting\" + 0.002*\"find\"'),\n",
       " (7,\n",
       "  '0.003*\"plot\" + 0.003*\"good\" + 0.002*\"elizabeth\" + 0.002*\"queen\" + 0.002*\"war\" + 0.002*\"bad\" + 0.002*\"people\" + 0.002*\"takes\" + 0.002*\"american\" + 0.002*\"peter\" + 0.002*\"work\" + 0.001*\"made\" + 0.001*\"plays\" + 0.001*\"nello\" + 0.001*\"man\" + 0.001*\"great\" + 0.001*\"col\" + 0.001*\"high\" + 0.001*\"set\" + 0.001*\"picture\"'),\n",
       " (11,\n",
       "  '0.003*\"good\" + 0.003*\"love\" + 0.002*\"made\" + 0.002*\"years\" + 0.002*\"man\" + 0.002*\"role\" + 0.002*\"people\" + 0.002*\"earth\" + 0.002*\"work\" + 0.002*\"action\" + 0.002*\"year\" + 0.002*\"real\" + 0.002*\"things\" + 0.002*\"audience\" + 0.002*\"jawbreaker\" + 0.001*\"bad\" + 0.001*\"there\\'s\" + 0.001*\"family\" + 0.001*\"end\" + 0.001*\"performance\"'),\n",
       " (6,\n",
       "  '0.004*\"good\" + 0.003*\"man\" + 0.003*\"people\" + 0.002*\"bad\" + 0.002*\"death\" + 0.002*\"plot\" + 0.002*\"action\" + 0.002*\"performance\" + 0.002*\"love\" + 0.002*\"there\\'s\" + 0.002*\"back\" + 0.002*\"work\" + 0.002*\"end\" + 0.002*\"played\" + 0.002*\"audience\" + 0.002*\"things\" + 0.002*\"director\" + 0.002*\"great\" + 0.002*\"thing\" + 0.002*\"years\"'),\n",
       " (2,\n",
       "  '0.005*\"good\" + 0.003*\"bad\" + 0.003*\"people\" + 0.002*\"end\" + 0.002*\"work\" + 0.002*\"comedy\" + 0.002*\"plot\" + 0.002*\"great\" + 0.002*\"love\" + 0.002*\"funny\" + 0.002*\"man\" + 0.002*\"big\" + 0.002*\"director\" + 0.002*\"john\" + 0.002*\"made\" + 0.002*\"back\" + 0.002*\"makes\" + 0.002*\"script\" + 0.002*\"audience\" + 0.002*\"there\\'s\"')]"
      ]
     },
     "execution_count": 101,
     "metadata": {},
     "output_type": "execute_result"
    }
   ],
   "source": [
    "lda_main.show_topics(num_words=20)\n",
    "# your code here"
   ]
  },
  {
   "attachments": {},
   "cell_type": "markdown",
   "metadata": {},
   "source": [
    "The topics do become a bit clearer, as we can see the movies, their genres and their overall rating be inferred through this"
   ]
  },
  {
   "cell_type": "markdown",
   "metadata": {},
   "source": [
    "If you are interested, you can also experiment with the difference between positive and negative reviews."
   ]
  },
  {
   "cell_type": "markdown",
   "metadata": {
    "id": "tnyB5hCglXeB",
    "tags": []
   },
   "source": [
    "### Part 4: Evaluation\n",
    "\n",
    "There are a few numbers we can compute that indicate the quality of a topic model, such as [perplexity and coherence](https://github.com/ccs-amsterdam/r-course-material/blob/master/tutorials/R_text_LDA_perplexity.md). For perplexity, a lower number means a better model, and for coherence, a higher number is better. Try computing these scores for your models, and see which is the best one according to the numbers\n",
    "\n",
    "In a real project, you should compute these numbers over a separate part of the dataset (the test set) for a proper evaluation, but for simplicity and because we have not talked about this in the lecture we will skip that here."
   ]
  },
  {
   "cell_type": "code",
   "execution_count": 143,
   "metadata": {},
   "outputs": [
    {
     "name": "stdout",
     "output_type": "stream",
     "text": [
      "Perplexity:  -7.093870619261154\n",
      "Coherence score:  0.2513707999082332\n"
     ]
    }
   ],
   "source": [
    "from gensim.models import CoherenceModel\n",
    "\n",
    "#Compute perplexity for the basic model on the bag-of-words representation of the reviews:\n",
    "print('Perplexity: ', reviews_ldamodel_1.log_perplexity(movie_bow_corpus_1))  \n",
    "\n",
    "# Compute coherence score on the same:\n",
    "coherence_model_lda = CoherenceModel(model=reviews_ldamodel_1, texts=preprocessed_movie_reviews, dictionary=movie_dictionary1, coherence='c_v')\n",
    "coherence_lda = coherence_model_lda.get_coherence()\n",
    "print('Coherence score: ', coherence_lda)"
   ]
  },
  {
   "cell_type": "code",
   "execution_count": 141,
   "metadata": {},
   "outputs": [
    {
     "name": "stdout",
     "output_type": "stream",
     "text": [
      "Perplexity for Model 5:  -9.583329429053814\n",
      "Coherence score for Model 5:  0.2601086408980652\n"
     ]
    }
   ],
   "source": [
    "# Compute these numbers for your other models here\n",
    "print('Perplexity for Model 5: ', lda_main.log_perplexity(movie_bow_corpus_5))\n",
    "\n",
    "#computing coherence score for model 5\n",
    "coherence_model_lda = CoherenceModel(model=lda_main, texts=domainfilteredunstemmed_movie_reviews, dictionary=movie_dictionary6, coherence='c_v')\n",
    "coherence_lda = coherence_model_lda.get_coherence()\n",
    "print('Coherence score for Model 5: ', coherence_lda)\n"
   ]
  },
  {
   "cell_type": "code",
   "execution_count": 128,
   "metadata": {},
   "outputs": [
    {
     "name": "stdout",
     "output_type": "stream",
     "text": [
      "[['films', 'adapted', 'from', 'comic', 'books', 'have', 'had', 'plenty', 'of', 'success', ',', 'whether', \"they're\", 'about', 'superheroes', '(', 'batman', ',', 'superman', ',', 'spawn', ')', ',', 'or', 'geared', 'toward', 'kids', '(', 'casper', ')', 'or', 'the', 'arthouse', 'crowd', '(', 'ghost', 'world', ')', ',', 'but', \"there's\", 'never', 'really', 'been', 'a', 'comic', 'book', 'like', 'from', 'hell', 'before', '.', 'for', 'starters', ',', 'it', 'was', 'created', 'by', 'alan', 'moore', '(', 'and', 'eddie', 'campbell', ')', ',', 'who', 'brought', 'the', 'medium', 'to', 'a', 'whole', 'new', 'level', 'in', 'the', 'mid', \"'80s\", 'with', 'a', '12-part', 'series', 'called', 'the', 'watchmen', '.', 'to', 'say', 'moore', 'and', 'campbell', 'thoroughly', 'researched', 'the', 'subject', 'of', 'jack', 'the', 'ripper', 'would', 'be', 'like', 'saying', 'michael', 'jackson', 'is', 'starting', 'to', 'look', 'a', 'little', 'odd', '.', 'the', 'book', '(', 'or', '\"', 'graphic', 'novel', ',', '\"', 'if', 'you', 'will', ')', 'is', 'over', '500', 'pages', 'long', 'and', 'includes', 'nearly', '30', 'more', 'that', 'consist', 'of', 'nothing', 'but', 'footnotes', '.', 'in', 'other', 'words', ',', \"don't\", 'dismiss', 'this', 'film', 'because', 'of', 'its', 'source', '.', 'if', 'you', 'can', 'get', 'past', 'the', 'whole', 'comic', 'book', 'thing', ',', 'you', 'might', 'find', 'another', 'stumbling', 'block', 'in', 'from', \"hell's\", 'directors', ',', 'albert', 'and', 'allen', 'hughes', '.', 'getting', 'the', 'hughes', 'brothers', 'to', 'direct', 'this', 'seems', 'almost', 'as', 'ludicrous', 'as', 'casting', 'carrot', 'top', 'in', ',', 'well', ',', 'anything', ',', 'but', 'riddle', 'me', 'this', ':', 'who', 'better', 'to', 'direct', 'a', 'film', \"that's\", 'set', 'in', 'the', 'ghetto', 'and', 'features', 'really', 'violent', 'street', 'crime', 'than', 'the', 'mad', 'geniuses', 'behind', 'menace', 'ii', 'society', '?', 'the', 'ghetto', 'in', 'question', 'is', ',', 'of', 'course', ',', 'whitechapel', 'in', '1888', \"london's\", 'east', 'end', '.', \"it's\", 'a', 'filthy', ',', 'sooty', 'place', 'where', 'the', 'whores', '(', 'called', '\"', 'unfortunates', '\"', ')', 'are', 'starting', 'to', 'get', 'a', 'little', 'nervous', 'about', 'this', 'mysterious', 'psychopath', 'who', 'has', 'been', 'carving', 'through', 'their', 'profession', 'with', 'surgical', 'precision', '.', 'when', 'the', 'first', 'stiff', 'turns', 'up', ',', 'copper', 'peter', 'godley', '(', 'robbie', 'coltrane', ',', 'the', 'world', 'is', 'not', 'enough', ')', 'calls', 'in', 'inspector', 'frederick', 'abberline', '(', 'johnny', 'depp', ',', 'blow', ')', 'to', 'crack', 'the', 'case', '.', 'abberline', ',', 'a', 'widower', ',', 'has', 'prophetic', 'dreams', 'he', 'unsuccessfully', 'tries', 'to', 'quell', 'with', 'copious', 'amounts', 'of', 'absinthe', 'and', 'opium', '.', 'upon', 'arriving', 'in', 'whitechapel', ',', 'he', 'befriends', 'an', 'unfortunate', 'named', 'mary', 'kelly', '(', 'heather', 'graham', ',', 'say', 'it', \"isn't\", 'so', ')', 'and', 'proceeds', 'to', 'investigate', 'the', 'horribly', 'gruesome', 'crimes', 'that', 'even', 'the', 'police', 'surgeon', \"can't\", 'stomach', '.', 'i', \"don't\", 'think', 'anyone', 'needs', 'to', 'be', 'briefed', 'on', 'jack', 'the', 'ripper', ',', 'so', 'i', \"won't\", 'go', 'into', 'the', 'particulars', 'here', ',', 'other', 'than', 'to', 'say', 'moore', 'and', 'campbell', 'have', 'a', 'unique', 'and', 'interesting', 'theory', 'about', 'both', 'the', 'identity', 'of', 'the', 'killer', 'and', 'the', 'reasons', 'he', 'chooses', 'to', 'slay', '.', 'in', 'the', 'comic', ',', 'they', \"don't\", 'bother', 'cloaking', 'the', 'identity', 'of', 'the', 'ripper', ',', 'but', 'screenwriters', 'terry', 'hayes', '(', 'vertical', 'limit', ')', 'and', 'rafael', 'yglesias', '(', 'les', 'mis', '?', 'rables', ')', 'do', 'a', 'good', 'job', 'of', 'keeping', 'him', 'hidden', 'from', 'viewers', 'until', 'the', 'very', 'end', '.', \"it's\", 'funny', 'to', 'watch', 'the', 'locals', 'blindly', 'point', 'the', 'finger', 'of', 'blame', 'at', 'jews', 'and', 'indians', 'because', ',', 'after', 'all', ',', 'an', 'englishman', 'could', 'never', 'be', 'capable', 'of', 'committing', 'such', 'ghastly', 'acts', '.', 'and', 'from', \"hell's\", 'ending', 'had', 'me', 'whistling', 'the', 'stonecutters', 'song', 'from', 'the', 'simpsons', 'for', 'days', '(', '\"', 'who', 'holds', 'back', 'the', 'electric', 'car/who', 'made', 'steve', 'guttenberg', 'a', 'star', '?', '\"', ')', '.', \"don't\", 'worry', '-', \"it'll\", 'all', 'make', 'sense', 'when', 'you', 'see', 'it', '.', 'now', 'onto', 'from', \"hell's\", 'appearance', ':', \"it's\", 'certainly', 'dark', 'and', 'bleak', 'enough', ',', 'and', \"it's\", 'surprising', 'to', 'see', 'how', 'much', 'more', 'it', 'looks', 'like', 'a', 'tim', 'burton', 'film', 'than', 'planet', 'of', 'the', 'apes', 'did', '(', 'at', 'times', ',', 'it', 'seems', 'like', 'sleepy', 'hollow', '2', ')', '.', 'the', 'print', 'i', 'saw', \"wasn't\", 'completely', 'finished', '(', 'both', 'color', 'and', 'music', 'had', 'not', 'been', 'finalized', ',', 'so', 'no', 'comments', 'about', 'marilyn', 'manson', ')', ',', 'but', 'cinematographer', 'peter', 'deming', '(', \"don't\", 'say', 'a', 'word', ')', 'ably', 'captures', 'the', 'dreariness', 'of', 'victorian-era', 'london', 'and', 'helped', 'make', 'the', 'flashy', 'killing', 'scenes', 'remind', 'me', 'of', 'the', 'crazy', 'flashbacks', 'in', 'twin', 'peaks', ',', 'even', 'though', 'the', 'violence', 'in', 'the', 'film', 'pales', 'in', 'comparison', 'to', 'that', 'in', 'the', 'black-and-white', 'comic', '.', 'oscar', 'winner', 'martin', \"childs'\", '(', 'shakespeare', 'in', 'love', ')', 'production', 'design', 'turns', 'the', 'original', 'prague', 'surroundings', 'into', 'one', 'creepy', 'place', '.', 'even', 'the', 'acting', 'in', 'from', 'hell', 'is', 'solid', ',', 'with', 'the', 'dreamy', 'depp', 'turning', 'in', 'a', 'typically', 'strong', 'performance', 'and', 'deftly', 'handling', 'a', 'british', 'accent', '.', 'ians', 'holm', '(', 'joe', \"gould's\", 'secret', ')', 'and', 'richardson', '(', '102', 'dalmatians', ')', 'log', 'in', 'great', 'supporting', 'roles', ',', 'but', 'the', 'big', 'surprise', 'here', 'is', 'graham', '.', 'i', 'cringed', 'the', 'first', 'time', 'she', 'opened', 'her', 'mouth', ',', 'imagining', 'her', 'attempt', 'at', 'an', 'irish', 'accent', ',', 'but', 'it', 'actually', \"wasn't\", 'half', 'bad', '.', 'the', 'film', ',', 'however', ',', 'is', 'all', 'good', '.', '2', ':', '00', '-', 'r', 'for', 'strong', 'violence/gore', ',', 'sexuality', ',', 'language', 'and', 'drug', 'content'], ['every', 'now', 'and', 'then', 'a', 'movie', 'comes', 'along', 'from', 'a', 'suspect', 'studio', ',', 'with', 'every', 'indication', 'that', 'it', 'will', 'be', 'a', 'stinker', ',', 'and', 'to', \"everybody's\", 'surprise', '(', 'perhaps', 'even', 'the', 'studio', ')', 'the', 'film', 'becomes', 'a', 'critical', 'darling', '.', 'mtv', \"films'\", '_election', ',', 'a', 'high', 'school', 'comedy', 'starring', 'matthew', 'broderick', 'and', 'reese', 'witherspoon', ',', 'is', 'a', 'current', 'example', '.', 'did', 'anybody', 'know', 'this', 'film', 'existed', 'a', 'week', 'before', 'it', 'opened', '?', 'the', 'plot', 'is', 'deceptively', 'simple', '.', 'george', 'washington', 'carver', 'high', 'school', 'is', 'having', 'student', 'elections', '.', 'tracy', 'flick', '(', 'reese', 'witherspoon', ')', 'is', 'an', 'over-achiever', 'with', 'her', 'hand', 'raised', 'at', 'nearly', 'every', 'question', ',', 'way', ',', 'way', ',', 'high', '.', 'mr', '.', '\"', 'm', '\"', '(', 'matthew', 'broderick', ')', ',', 'sick', 'of', 'the', 'megalomaniac', 'student', ',', 'encourages', 'paul', ',', 'a', 'popular-but-slow', 'jock', 'to', 'run', '.', 'and', \"paul's\", 'nihilistic', 'sister', 'jumps', 'in', 'the', 'race', 'as', 'well', ',', 'for', 'personal', 'reasons', '.', 'the', 'dark', 'side', 'of', 'such', 'sleeper', 'success', 'is', 'that', ',', 'because', 'expectations', 'were', 'so', 'low', 'going', 'in', ',', 'the', 'fact', 'that', 'this', 'was', 'quality', 'stuff', 'made', 'the', 'reviews', 'even', 'more', 'enthusiastic', 'than', 'they', 'have', 'any', 'right', 'to', 'be', '.', 'you', \"can't\", 'help', 'going', 'in', 'with', 'the', 'baggage', 'of', 'glowing', 'reviews', ',', 'which', 'is', 'in', 'contrast', 'to', 'the', 'negative', 'baggage', 'that', 'the', 'reviewers', 'were', 'likely', 'to', 'have', '.', '_election', ',', 'a', 'good', 'film', ',', 'does', 'not', 'live', 'up', 'to', 'its', 'hype', '.', 'what', 'makes', '_election_', 'so', 'disappointing', 'is', 'that', 'it', 'contains', 'significant', 'plot', 'details', 'lifted', 'directly', 'from', '_rushmore_', ',', 'released', 'a', 'few', 'months', 'earlier', '.', 'the', 'similarities', 'are', 'staggering', ':', 'tracy', 'flick', '(', '_election_', ')', 'is', 'the', 'president', 'of', 'an', 'extraordinary', 'number', 'of', 'clubs', ',', 'and', 'is', 'involved', 'with', 'the', 'school', 'play', '.', 'max', 'fischer', '(', '_rushmore_', ')', 'is', 'the', 'president', 'of', 'an', 'extraordinary', 'number', 'of', 'clubs', ',', 'and', 'is', 'involved', 'with', 'the', 'school', 'play', '.', 'the', 'most', 'significant', 'tension', 'of', '_election_', 'is', 'the', 'potential', 'relationship', 'between', 'a', 'teacher', 'and', 'his', 'student', '.', 'the', 'most', 'significant', 'tension', 'of', '_rushmore_', 'is', 'the', 'potential', 'relationship', 'between', 'a', 'teacher', 'and', 'his', 'student', '.', 'tracy', 'flick', 'is', 'from', 'a', 'single', 'parent', 'home', ',', 'which', 'has', 'contributed', 'to', 'her', 'drive', '.', 'max', 'fischer', 'is', 'from', 'a', 'single', 'parent', 'home', ',', 'which', 'has', 'contributed', 'to', 'his', 'drive', '.', 'the', 'male', 'bumbling', 'adult', 'in', '_election_', '(', 'matthew', 'broderick', ')', 'pursues', 'an', 'extramarital', 'affair', ',', 'gets', 'caught', ',', 'and', 'his', 'whole', 'life', 'is', 'ruined', '.', 'he', 'even', 'gets', 'a', 'bee', 'sting', '.', 'the', 'male', 'bumbling', 'adult', 'in', '_rushmore_', '(', 'bill', 'murray', ')', 'pursues', 'an', 'extramarital', 'affair', ',', 'gets', 'caught', ',', 'and', 'his', 'whole', 'life', 'is', 'ruined', '.', 'he', 'gets', 'several', 'bee', 'stings', '.', 'and', 'so', 'on', '.', 'what', 'happened', '?', 'how', 'is', 'it', 'that', 'an', 'individual', 'screenplay', '(', '_rushmore_', ')', 'and', 'a', 'novel', '(', '_election_', ')', 'contain', 'so', 'many', 'significant', 'plot', 'points', ',', 'and', 'yet', 'both', 'films', 'were', 'probably', 'not', 'even', 'aware', 'of', 'each', 'other', ',', 'made', 'from', 'two', 'different', 'studios', ',', 'from', 'a', 'genre', '(', 'the', 'high', 'school', 'geeks', 'revenge', 'movie', ')', 'that', \"hadn't\", 'been', 'fully', 'formed', 'yet', '?', 'even', 'so', ',', 'the', 'strengths', 'of', '_election_', 'rely', 'upon', 'its', 'fantastic', 'performances', 'from', 'broderick', ',', 'witherspoon', ',', 'and', 'newcomer', 'jessica', 'campbell', ',', 'as', \"paul's\", 'anti-social', 'sister', ',', 'tammy', '.', 'broderick', 'here', 'is', 'playing', 'the', 'mr', '.', 'rooney', 'role', 'from', '_ferris', 'bueller_', ',', 'and', 'he', 'seems', 'to', 'be', 'having', 'the', 'most', 'fun', \"he's\", 'had', 'since', 'then', '.', 'witherspoon', 'is', 'a', 'revelation', '.', \"it's\", 'early', 'in', 'the', 'year', ',', \"it's\", 'a', 'comedy', ',', 'and', 'teenagers', 'have', 'little', 'clout', ',', 'but', 'for', 'my', 'money', ',', 'witherspoon', 'deserves', 'an', 'oscar', 'nomination', '.', 'and', 'once', \"campbell's\", 'character', 'gets', 'going', ',', 'like', 'in', 'her', 'fantastic', 'speech', 'in', 'the', 'gymnasium', ',', 'then', \"you're\", 'won', 'over', '.', 'one', 'thing', \"that's\", 'been', 'bothering', 'me', 'since', \"i've\", 'seen', 'it', '.', 'there', 'is', 'an', 'extraordinary', 'amount', 'of', 'sexuality', 'in', 'this', 'film', '.', 'i', 'suppose', 'that', ',', 'coming', 'from', 'mtv', 'films', ',', 'i', 'should', 'expect', 'no', 'less', '.', '.', '.', 'but', 'the', 'film', 'starts', 'off', 'light', 'and', 'airy', ',', 'like', 'a', 'sitcom', '.', 'as', 'the', 'screws', 'tighten', ',', 'and', 'the', 'tensions', 'mount', ',', 'alexander', 'payne', 'decides', 'to', 'add', 'elements', 'that', ',', 'frankly', ',', 'distract', 'from', 'the', 'story', '.', 'it', 'is', 'bad', 'enough', 'that', 'mr', '.', 'm', \"doesn't\", 'like', \"tracy's\", 'determination', 'to', 'win', 'at', 'all', 'costs', ',', 'but', 'did', 'they', 'have', 'to', 'throw', 'in', 'the', 'student/teacher', 'relationship', '?', 'even', 'so', ',', \"there's\", 'no', 'logical', 'reason', 'why', 'mr', '.', 'm', 'has', 'an', 'affair', 'when', 'he', 'does', '.', \"there's\", 'a', 'lot', 'to', 'like', 'in', '_election_', ',', 'but', 'the', 'plot', 'similarities', 'to', '_rushmore_', ',', 'and', 'the', 'tonal', 'nosedive', 'it', 'takes', 'as', 'it', 'gets', 'explicitly', 'sex-driven', ',', 'mark', 'this', 'as', 'a', 'disappointment', '.'], [\"you've\", 'got', 'mail', 'works', 'alot', 'better', 'than', 'it', 'deserves', 'to', '.', 'in', 'order', 'to', 'make', 'the', 'film', 'a', 'success', ',', 'all', 'they', 'had', 'to', 'do', 'was', 'cast', 'two', 'extremely', 'popular', 'and', 'attractive', 'stars', ',', 'have', 'them', 'share', 'the', 'screen', 'for', 'about', 'two', 'hours', 'and', 'then', 'collect', 'the', 'profits', '.', 'no', 'real', 'acting', 'was', 'involved', 'and', 'there', 'is', 'not', 'an', 'original', 'or', 'inventive', 'bone', 'in', \"it's\", 'body', '(', \"it's\", 'basically', 'a', 'complete', 're-shoot', 'of', 'the', 'shop', 'around', 'the', 'corner', ',', 'only', 'adding', 'a', 'few', 'modern', 'twists', ')', '.', 'essentially', ',', 'it', 'goes', 'against', 'and', 'defies', 'all', 'concepts', 'of', 'good', 'contemporary', 'filmmaking', '.', \"it's\", 'overly', 'sentimental', 'and', 'at', 'times', 'terribly', 'mushy', ',', 'not', 'to', 'mention', 'very', 'manipulative', '.', 'but', 'oh', ',', 'how', 'enjoyable', 'that', 'manipulation', 'is', '.', 'but', 'there', 'must', 'be', 'something', 'other', 'than', 'the', 'casting', 'and', 'manipulation', 'that', 'makes', 'the', 'movie', 'work', 'as', 'well', 'as', 'it', 'does', ',', 'because', 'i', 'absolutely', 'hated', 'the', 'previous', 'ryan/hanks', 'teaming', ',', 'sleepless', 'in', 'seattle', '.', 'it', \"couldn't\", 'have', 'been', 'the', 'directing', ',', 'because', 'both', 'films', 'were', 'helmed', 'by', 'the', 'same', 'woman', '.', 'i', \"haven't\", 'quite', 'yet', 'figured', 'out', 'what', 'i', 'liked', 'so', 'much', 'about', \"you've\", 'got', 'mail', ',', 'but', 'then', 'again', ',', 'is', 'that', 'really', 'important', '?', 'if', 'you', 'like', 'something', 'so', 'much', ',', 'why', 'even', 'question', 'it', '?', 'again', ',', 'the', 'storyline', 'is', 'as', 'cliched', 'as', 'they', 'come', '.', 'tom', 'hanks', 'plays', 'joe', 'fox', ',', 'the', 'insanely', 'likeable', 'owner', 'of', 'a', 'discount', 'book', 'chain', 'and', 'meg', 'ryan', 'plays', 'kathleen', 'kelley', ',', 'the', 'even', 'more', 'insanely', 'likeable', 'proprietor', 'of', 'a', 'family-run', \"children's\", 'book', 'shop', 'called', ',', 'in', 'a', 'nice', 'homage', ',', 'the', 'shop', 'around', 'the', 'corner', '.', 'fox', 'and', 'kelley', 'soon', 'become', 'bitter', 'rivals', 'because', 'the', 'new', 'fox', 'books', 'store', 'is', 'opening', 'up', 'right', 'across', 'the', 'block', 'from', 'the', 'small', 'business', '.', 'little', 'do', 'they', 'know', ',', 'they', 'are', 'already', 'in', 'love', 'with', 'each', 'other', 'over', 'the', 'internet', ',', 'only', 'neither', 'party', 'knows', 'the', 'other', \"person's\", 'true', 'identity', '.', 'the', 'rest', 'of', 'the', 'story', \"isn't\", 'important', 'because', 'all', 'it', 'does', 'is', 'serve', 'as', 'a', 'mere', 'backdrop', 'for', 'the', 'two', 'stars', 'to', 'share', 'the', 'screen', '.', 'sure', ',', 'there', 'are', 'some', 'mildly', 'interesting', 'subplots', ',', 'but', 'they', 'all', 'fail', 'in', 'comparison', 'to', 'the', 'utter', 'cuteness', 'of', 'the', 'main', 'relationship', '.', 'all', 'of', 'this', ',', 'of', 'course', ',', 'leads', 'up', 'to', 'the', 'predictable', 'climax', '.', 'but', 'as', 'foreseeable', 'as', 'the', 'ending', 'is', ',', \"it's\", 'so', 'damn', 'cute', 'and', 'well-done', 'that', 'i', 'doubt', 'any', 'movie', 'in', 'the', 'entire', 'year', 'contains', 'a', 'scene', 'the', 'evokes', 'as', 'much', 'pure', 'joy', 'as', 'this', 'part', 'does', '.', 'when', 'ryan', 'discovers', 'the', 'true', 'identity', 'of', 'her', 'online', 'love', ',', 'i', 'was', 'filled', 'with', 'such', ',', 'for', 'lack', 'of', 'a', 'better', 'word', ',', 'happiness', 'that', 'for', 'the', 'first', 'time', 'all', 'year', ',', 'i', 'actually', 'left', 'the', 'theater', 'smiling', '.'], ['\"', 'jaws', '\"', 'is', 'a', 'rare', 'film', 'that', 'grabs', 'your', 'attention', 'before', 'it', 'shows', 'you', 'a', 'single', 'image', 'on', 'screen', '.', 'the', 'movie', 'opens', 'with', 'blackness', ',', 'and', 'only', 'distant', ',', 'alien-like', 'underwater', 'sounds', '.', 'then', 'it', 'comes', ',', 'the', 'first', 'ominous', 'bars', 'of', 'composer', 'john', \"williams'\", 'now', 'infamous', 'score', '.', 'dah-dum', '.', 'from', 'there', ',', 'director', 'steven', 'spielberg', 'wastes', 'no', 'time', ',', 'taking', 'us', 'into', 'the', 'water', 'on', 'a', 'midnight', 'swim', 'with', 'a', 'beautiful', 'girl', 'that', 'turns', 'deadly', '.', 'right', 'away', 'he', 'lets', 'us', 'know', 'how', 'vulnerable', 'we', 'all', 'are', 'floating', 'in', 'the', 'ocean', ',', 'and', 'once', '\"', 'jaws', '\"', 'has', 'attacked', ',', 'it', 'never', 'relinquishes', 'its', 'grip', '.', 'perhaps', 'what', 'is', 'most', 'outstanding', 'about', '\"', 'jaws', '\"', 'is', 'how', 'spielberg', 'builds', 'the', 'movie', '.', 'he', 'works', 'it', 'like', 'a', 'theatrical', 'production', ',', 'with', 'a', 'first', 'act', 'and', 'a', 'second', 'act', '.', 'unlike', 'so', 'many', 'modern', 'filmmakers', ',', 'he', 'has', 'a', 'great', 'deal', 'of', 'restraint', ',', 'and', 'refuses', 'to', 'show', 'us', 'the', 'shark', 'until', 'the', 'middle', 'of', 'the', 'second', 'act', '.', 'until', 'then', ',', 'he', 'merely', 'suggests', 'its', 'presence', 'with', 'creepy', ',', 'subjective', 'underwater', 'shots', 'and', \"williams'\", 'music', '.', \"he's\", 'building', 'the', 'tension', 'bit', 'by', 'bit', ',', 'so', 'when', 'it', 'comes', 'time', 'for', 'the', 'climax', ',', 'the', \"shark's\", 'arrival', 'is', 'truly', 'terrifying', '.', 'he', \"doesn't\", 'let', 'us', 'get', 'bored', 'with', 'the', 'imagery', '.', 'the', 'first', 'act', 'opens', 'with', 'police', 'chief', 'martin', 'brody', '(', 'roy', 'scheider', ')', ',', 'a', 'new', 'york', 'cop', 'who', 'has', 'taken', 'an', 'easy', ',', 'peaceful', 'job', 'running', 'the', 'police', 'station', 'on', 'amity', 'island', ',', 'a', 'fictitious', 'new', 'england', 'resort', 'town', 'where', 'there', \"hasn't\", 'been', 'a', 'murder', 'or', 'a', 'gun', 'fired', 'in', '25', 'years', '.', 'the', 'island', 'is', 'shaken', 'up', 'by', 'several', 'vicious', 'great', 'white', 'shark', 'attacks', 'right', 'before', 'the', 'fourth', 'of', 'july', ',', 'and', 'the', 'mayor', ',', 'larry', 'vaughn', '(', 'murray', 'hamilton', ')', ',', \"doesn't\", 'want', 'to', 'shut', 'down', 'the', 'beaches', 'because', 'the', 'island', 'is', 'reliant', 'on', 'summer', 'tourist', 'money', '.', 'brody', 'is', 'joined', 'by', 'matt', 'hooper', '(', 'richard', 'dreyfuss', ')', ',', 'a', 'young', ',', 'ambitious', 'shark', 'expert', 'from', 'the', 'marine', 'institute', '.', 'hooper', 'is', 'as', 'fascinated', 'by', 'the', 'shark', 'as', 'he', 'is', 'determined', 'to', 'help', 'brody', 'stop', 'it', '--', 'his', 'knowledge', 'about', 'the', 'exact', 'workings', 'of', 'the', 'shark', '(', '\"', \"it's\", 'a', 'perfect', 'engine', ',', 'an', 'eating', 'machine', '\"', ')', 'make', 'it', 'that', 'much', 'more', 'terrifying', '.', 'when', 'vaughn', 'finally', 'relents', ',', 'hooper', 'and', 'brody', 'join', 'a', 'crusty', 'old', 'shark', 'killer', 'named', 'quint', '(', 'robert', 'shaw', ')', 'on', 'his', 'decrepit', 'boat', ',', 'the', 'orca', ',', 'to', 'search', 'for', 'the', 'shark', '.', 'the', 'entire', 'second', 'act', 'takes', 'place', 'on', 'the', 'orca', 'as', 'the', 'three', 'men', 'hunt', 'the', 'shark', ',', 'and', 'inevitably', ',', 'are', 'hunted', 'by', 'it', '.', '\"', 'jaws', '\"', 'is', 'a', 'thriller', 'with', 'a', 'keen', 'sense', 'of', 'humor', 'and', 'an', 'incredible', 'sense', 'of', 'pacing', ',', 'tension', ',', 'and', 'horror', '.', 'it', 'is', 'like', 'ten', 'movies', 'all', 'rolled', 'into', 'one', ',', 'and', \"it's\", 'no', 'wonder', 'it', 'took', 'america', 'by', 'storm', 'in', 'the', 'summer', 'of', '1975', ',', 'taking', 'in', 'enough', 'money', 'to', 'crown', 'it', 'the', 'box', 'office', 'champ', 'of', 'all', 'time', '(', 'until', 'it', 'was', 'unceremoniously', 'dethroned', 'in', '1977', 'by', '\"', 'star', 'wars', '\"', ')', '.', 'even', 'today', ',', 'fascination', 'with', 'this', 'film', 'is', 'on', 'par', 'with', \"hitchcock's\", '\"', 'psycho', ',', '\"', 'and', 'it', 'never', 'seems', 'to', 'age', '.', 'although', 'grand', 'new', 'technology', 'exists', 'that', 'makes', 'the', 'technical', 'sequences', ',', 'including', 'several', 'mechanical', 'sharks', ',', 'obsolete', ',', 'none', 'of', 'it', 'could', 'improve', 'the', 'film', 'because', 'it', 'only', 'would', 'lead', 'to', 'overkill', '.', 'the', 'technical', 'limitations', 'faced', 'by', 'spielberg', 'in', '1975', 'may', 'have', 'actually', 'produced', 'a', 'better', 'film', 'because', 'it', 'forced', 'him', 'to', 'rely', 'on', 'traditional', 'cinematic', 'elements', 'like', 'pacing', ',', 'characterization', ',', 'sharp', 'editing', ',', 'and', 'creative', 'photography', ',', 'instead', 'of', 'simply', 'dousing', 'the', 'audience', 'with', 'digital', 'shark', 'effects', '.', 'scheider', ',', 'dreyfuss', ',', 'and', 'shaw', 'were', 'known', 'actors', 'at', 'the', 'time', '\"', 'jaws', '\"', 'was', 'made', ',', 'but', 'none', 'of', 'them', 'had', 'the', 'draw', 'of', 'a', 'robert', 'redford', 'or', 'paul', 'newman', '.', 'nevertheless', ',', 'this', 'film', 'guaranteed', 'them', 'all', 'successful', 'careers', 'because', 'each', 'gave', 'an', 'outstanding', 'performance', 'and', 'refused', 'to', 'be', 'overshadowed', 'by', 'the', 'shark', '.', 'scheider', 'hits', 'just', 'the', 'right', 'notes', 'as', 'a', 'sympathetic', 'husband', 'and', 'father', 'caught', 'in', 'the', 'political', 'quagmire', 'of', 'doing', \"what's\", 'right', 'and', 'going', 'against', 'the', 'entire', 'town', '.', '\"', \"it's\", 'your', 'first', 'summer', 'here', ',', 'you', 'know', ',', '\"', 'mayor', 'vaughn', 'warns', 'him', '.', 'dreyfuss', ',', 'who', 'had', 'previously', 'been', 'seen', 'in', '\"', 'american', 'graffiti', '\"', '(', '1973', ')', 'and', '\"', 'the', 'apprenticeship', 'of', 'duddy', 'kravitz', '\"', '(', '1974', ')', 'gives', 'a', 'surprisingly', 'mature', ',', 'complex', 'performance', 'for', 'someone', 'who', 'had', 'literally', 'only', 'played', 'kids', 'and', 'teenagers', '.', 'however', ',', 'most', 'outstanding', 'is', 'the', 'gnarled', 'performance', 'by', 'robert', 'shaw', 'as', 'the', \"movie's\", 'captain', 'ahab', ',', 'a', 'performance', 'sorely', 'overlooked', 'by', 'the', 'academy', 'awards', '.', 'bordering', 'of', 'parody', ',', 'shaw', 'plays', 'quint', 'as', 'a', 'grizzled', 'old', 'loner', 'whose', 'machismo', 'borders', 'on', 'masochism', '.', \"he's\", 'slightly', 'deranged', ',', 'and', \"shaw's\", 'performance', 'is', 'almost', 'a', 'caricature', '.', 'however', ',', 'there', 'is', 'one', 'scene', 'late', 'in', 'the', 'film', ',', 'when', 'he', 'and', 'brody', 'and', 'hooper', 'are', 'below', 'deck', 'on', 'the', 'orca', 'comparing', 'scars', '.', 'quint', 'is', 'drawn', 'into', 'telling', 'the', 'story', 'of', 'his', 'experiences', 'aboard', 'the', 'u', '.', 's', '.', 's', '.', 'indianapolis', ',', 'a', 'navy', 'ship', 'in', 'world', 'war', 'ii', 'that', 'was', 'sunk', 'by', 'the', 'japanese', '.', 'his', 'tale', 'of', 'floating', 'in', 'the', 'water', 'for', 'more', 'than', 'a', 'week', 'with', 'over', '1', ',', '000', 'other', 'men', 'while', 'swarms', 'of', 'sharks', 'slowly', 'devoured', 'them', 'them', 'is', 'actually', 'more', 'hair-raising', 'than', 'anything', 'spielberg', 'put', 'on', 'screen', '.', 'shaw', 'delivers', 'the', 'story', 'in', 'one', 'long', 'take', ',', 'and', 'it', 'is', 'the', 'best', 'acting', 'in', 'the', 'film', '.', 'of', 'course', ',', 'we', \"can't\", 'leave', 'out', 'the', 'shark', 'itself', ';', 'with', 'its', 'black', 'eyes', ',', 'endless', 'rows', 'of', 'teeth', ',', 'and', 'insatiable', 'urge', 'to', 'eat', ',', 'it', 'is', 'basically', 'the', 'epitome', 'of', 'all', \"mankind's\", 'fears', 'about', 'what', 'is', 'unknown', 'and', 'threatening', 'in', 'nature', '.', 'a', 'shark', 'is', 'such', 'a', 'perfect', 'nemesis', 'it', 'is', 'real', '--', 'having', 'survived', 'sinch', 'the', 'dinosaurs', ',', 'great', 'whites', 'do', 'exist', ',', 'they', 'can', 'be', 'as', 'large', 'as', 'the', 'shark', 'in', '\"', 'jaws', ',', '\"', 'and', 'they', 'are', 'a', 'threat', '.', 'every', 'one', 'of', \"spielberg's\", 'subjective', 'underwater', 'shots', 'makes', 'us', 'feel', 'queasy', 'because', 'lets', 'us', 'see', 'how', 'we', 'look', 'to', 'the', 'shark', ':', 'a', 'bunch', 'of', 'writihing', ',', 'dangling', ',', 'completely', 'unprotected', 'legs', 'just', 'ready', 'to', 'be', 'chomped', 'into', '.', 'the', 'shark', 'in', '\"', 'jaws', '\"', 'was', 'actually', 'a', 'combination', 'of', 'actual', 'footage', 'and', 'five', 'different', 'mechanical', 'sharks', '(', 'all', 'nicknamed', '\"', 'bruce', '\"', 'by', 'the', 'crew', ')', 'built', 'to', 'be', 'shot', 'from', 'different', 'angles', '.', 'many', 'have', 'forgotten', ',', 'but', '\"', 'jaws', '\"', 'was', 'a', 'sort', 'of', 'precursor', 'to', '\"', 'waterworld', '\"', '(', '1995', ')', ',', 'a', \"movie's\", 'who', 'soggy', 'production', 'and', 'cost', 'overruns', 'had', 'universal', 'studios', 'worried', 'about', 'a', 'bomb', '.', 'but', ',', 'as', 'we', 'can', 'see', 'now', ',', 'spielberg', 'overcame', 'all', 'the', 'obstacles', ',', 'and', 'delivered', 'one', 'of', 'the', 'finest', 'primal', 'scare-thrillers', 'ever', 'to', 'come', 'out', 'of', 'hollywood', '.'], ['moviemaking', 'is', 'a', 'lot', 'like', 'being', 'the', 'general', 'manager', 'of', 'an', 'nfl', 'team', 'in', 'the', 'post-salary', 'cap', 'era', '--', \"you've\", 'got', 'to', 'know', 'how', 'to', 'allocate', 'your', 'resources', '.', 'every', 'dollar', 'spent', 'on', 'a', 'free-agent', 'defensive', 'tackle', 'is', 'one', 'less', 'dollar', 'than', 'you', 'can', 'spend', 'on', 'linebackers', 'or', 'safeties', 'or', 'centers', '.', 'in', 'the', 'nfl', ',', 'this', 'leads', 'to', 'teams', 'like', 'the', 'detroit', 'lions', ',', 'who', 'boast', 'a', 'superstar', 'running', 'back', 'with', 'a', 'huge', 'contract', ',', 'but', 'can', 'only', 'field', 'five', 'guys', 'named', 'herb', 'to', 'block', 'for', 'him', '.', 'in', 'the', 'movies', ',', 'you', 'end', 'up', 'with', 'films', 'like', '\"', 'spawn', '\"', ',', 'with', 'a', 'huge', 'special-effects', 'budget', 'but', 'not', 'enough', 'money', 'to', 'hire', 'any', 'recognizable', 'actors', '.', 'jackie', 'chan', 'is', 'the', 'barry', 'sanders', 'of', 'moviemaking', '.', 'he', 'spins', 'and', 'darts', 'across', 'the', 'screen', 'like', 'sanders', 'cutting', 'back', 'through', 'the', 'defensive', 'line', '.', 'watching', 'jackie', 'in', 'operation', 'condor', 'as', 'he', 'drives', 'his', 'motorcycle', 'through', 'the', 'crowded', 'streets', 'of', 'madrid', ',', 'fleeing', 'an', 'armada', 'of', 'pursuers', 'in', 'identical', 'black', 'compact', 'cars', ',', 'is', 'reminiscent', 'of', 'sanders', 'running', 'for', 'daylight', 'with', 'the', 'chicago', 'bears', 'in', 'hot', 'pursuit', ',', 'except', 'that', 'sanders', \"doesn't\", 'have', 'to', 'worry', 'about', 'rescuing', 'runaway', 'baby', 'carriages', '.', 'but', 'like', 'the', 'lions', 'star', ',', 'jackie', \"doesn't\", 'have', 'anybody', 'to', 'block', 'for', 'him', '.', 'almost', 'every', 'cent', \"that's\", 'invested', 'in', 'a', 'jackie', 'chan', 'movie', 'goes', 'for', 'stunts', ',', 'and', 'as', 'chan', 'does', 'his', 'own', 'stunts', ',', 'the', 'rest', 'of', 'the', 'money', 'goes', 'to', 'pay', 'his', 'hospital', 'bills', '.', 'this', 'leaves', 'about', '75', 'cents', 'to', 'pay', 'for', 'things', 'like', 'directors', '(', 'chan', 'directs', ')', ',', 'scripts', 'and', 'dubbing', 'and', 'supporting', 'characters', ',', 'not', 'to', 'mention', 'the', 'hideous', 'title', 'sequence', '.', 'this', 'also', 'explains', 'why', 'the', 'movie', 'was', 'shot', 'in', 'odd', 'places', 'like', 'morocco', 'and', 'spain', '.', '(', \"chan's\", 'first', 'release', 'in', 'this', 'country', ',', '\"', 'rumble', 'in', 'the', 'bronx', '\"', ',', 'was', 'supposedly', 'set', 'in', 'new', 'york', ',', 'but', 'was', 'filmed', 'in', 'vancouver', ',', 'and', 'in', 'the', 'chase', 'scenes', 'the', 'canadian', 'rockies', 'are', 'clearly', 'visible', '.', ')', 'heck', ',', 'jackie', \"doesn't\", 'even', 'have', 'enough', 'money', 'for', 'a', 'haircut', ',', 'looks', 'like', ',', 'much', 'less', 'a', 'personal', 'hairstylist', '.', 'in', 'condor', ',', 'chan', 'plays', 'the', 'same', 'character', \"he's\", 'always', 'played', ',', 'himself', ',', 'a', 'mixture', 'of', 'bruce', 'lee', 'and', 'tim', 'allen', ',', 'a', 'master', 'of', 'both', 'kung-fu', 'and', 'slapstick-fu', '.', 'jackie', 'is', 'sent', 'by', 'the', 'un', 'to', 'retrieve', 'a', 'cache', 'of', 'lost', 'nazi', 'gold', 'in', 'the', 'north', 'african', 'desert', ',', 'and', 'is', 'chased', 'by', 'a', 'horde', 'of', 'neo-nazi', 'sympathizers', 'and', 'two', 'stereotypical', 'arabs', '(', 'one', 'of', 'the', 'things', 'i', 'like', 'about', 'jackie', 'chan', 'movies', ':', 'no', 'political', 'correctness', ')', '.', 'he', 'is', 'joined', 'by', 'three', 'women', ',', 'who', 'have', 'little', 'to', 'do', 'except', 'scream', ',', '\"', 'jackie', ',', 'save', 'us', '!', '\"', ',', 'and', 'misuse', 'firearms', '.', 'the', 'villain', 'is', 'an', 'old', 'nazi', 'whose', 'legs', 'were', 'broken', 'in', 'the', 'secret', 'base', 'so', 'that', 'he', 'has', 'to', 'be', 'carried', 'everywhere', ',', 'and', \"he's\", 'more', 'pathetic', 'than', 'evil', '.', 'en', 'route', ',', 'we', 'have', 'an', 'extended', 'motorcycle', 'chase', 'scene', ',', 'a', 'hilarious', 'fight', 'in', 'the', 'moroccan', 'version', 'of', 'motel', '6', 'with', 'the', 'neo-nazis', ',', 'and', 'two', 'confrontations', 'with', 'savage', 'natives', '.', 'once', 'at', 'the', 'secret', 'desert', 'base', ',', 'there', 'is', 'a', 'long', 'chop-socky', 'sequence', ',', 'followed', 'by', 'the', \"film's\", 'centerpiece', ',', 'a', 'wind-tunnel', 'fight', \"that's\", 'even', 'better', 'than', 'the', 'one', 'in', 'face/off', '.', 'this', 'is', 'where', 'the', 'money', 'was', 'spent', ',', 'on', 'well-choreographed', 'kung-fu', 'sequences', ',', 'on', 'giant', 'kevlar', 'hamster', 'balls', ',', 'on', 'smashed-up', 'crates', 'of', 'bananas', ',', 'and', 'on', 'scorpions', '.', 'ignore', 'the', 'gaping', 'holes', 'in', 'the', 'plot', '(', 'how', ',', 'exactly', ',', 'if', 'the', \"villain's\", 'legs', 'were', 'broken', ',', 'did', 'he', 'escape', 'from', 'the', 'secret', 'nazi', 'base', ',', 'and', 'why', \"didn't\", 'he', 'take', 'the', 'key', 'with', 'him', '?', ')', '.', \"don't\", 'worry', 'about', 'the', 'production', 'values', ',', 'or', 'what', ',', 'exactly', ',', 'the', 'japanese', 'girl', 'was', 'doing', 'hitchhiking', 'across', 'the', 'sahara', '.', 'just', 'go', 'see', 'the', 'movie', '.', 'operation', 'condor', 'has', 'pretentions', 'of', 'being', 'a', '\"', 'raiders', 'of', 'the', 'lost', 'ark', '\"', 'knockoff', ',', 'but', 'one', 'wonders', 'what', 'jackie', 'could', 'do', 'with', 'the', 'raiders', 'franchise', 'blocking', 'for', 'him', '--', 'with', 'a', 'lawrence', 'kazdan', 'screenplay', ',', 'a', 'john', 'williams', 'score', ',', 'spielberg', 'directing', 'and', 'george', 'lucas', 'producing', ',', 'condor', 'might', 'be', 'an', 'a+', 'movie', '.', 'however', ',', \"you've\", 'got', 'to', 'go', 'with', 'what', \"you've\", 'got', ',', 'and', 'what', \"you've\", 'got', 'in', 'jackie', 'chan', 'is', 'something', 'special', '--', 'a', 'talent', 'that', 'mainstream', 'hollywood', 'should', ',', 'could', ',', 'and', 'ought', 'to', 'utilize', '.'], ['on', 'june', '30', ',', '1960', ',', 'a', 'self-taught', ',', 'idealistic', ',', 'yet', 'pragmatic', ',', 'young', 'man', 'became', ',', 'at', 'age', '36', ',', 'the', 'first', 'head', 'of', 'government', 'of', 'a', 'newly', 'independent', 'african', 'state', ',', 'formerly', 'the', 'belgian', 'congo', '.', 'two', 'months', 'later', ',', 'he', 'was', 'ousted', 'from', 'his', 'powerful', 'position', 'and', 'hunted', 'by', 'government', 'troops', 'until', 'he', 'was', 'captured', 'and', 'brutally', 'murdered', 'along', 'with', 'two', 'aides', '.', 'this', 'little-known', 'story', 'of', 'this', 'meteoric', 'rise', 'and', 'fall', 'is', 'told', 'my', 'international', 'filmmaker', 'raoul', 'peck', 'in', '\"', 'lumumba', '.', '\"', 'patrice', \"lumumba's\", '(', 'eriq', 'ebouaney', ')', 'story', 'has', 'been', 'told', 'previously', 'by', 'helmer', 'peck', 'in', 'his', '1991', 'award', 'winning', 'documentary', ',', '\"', 'lumumba', '-', 'death', 'of', 'a', 'prophet', ',', '\"', 'virtually', 'guaranteeing', 'that', 'his', 'new', ',', 'fictional', 'account', 'of', 'a', 'patriot', 'remains', 'true', 'to', 'its', 'subject', '.', 'peck', ',', 'with', 'co-writer', 'pascal', 'bonitzer', ',', 'begins', 'at', 'the', 'end', 'of', 'the', 'story', 'of', 'the', 'young', 'political', 'leader', '.', 'we', 'watch', 'as', 'two', 'white', 'men', 'perform', 'the', 'gruesome', 'task', 'of', 'dismembering', 'the', 'bodies', 'of', 'three', 'black', 'men', '.', 'images', 'of', 'hatchets', ',', 'saws', 'and', 'fast-emptying', 'whiskey', 'bottles', 'accompany', 'the', 'grisly', 'image', '.', 'jump', 'back', 'a', 'few', 'years', 'to', 'a', 'meeting', 'among', 'the', 'black', 'leaders', 'in', 'the', 'belgian-owned', 'congo', '.', 'a', 'third', 'class', 'postal', 'worker', ',', 'lumumba', ',', 'speaks', 'his', 'mind', 'to', 'heads', 'of', 'the', 'most', 'powerful', 'tribes', ',', 'proclaiming', 'himself', 'not', 'tribal', ',', 'not', 'regional', ',', 'but', 'a', 'national', 'leader', '.', 'his', 'small', ',', 'mobile', 'party', ',', 'the', 'congolese', 'national', 'movement', '(', 'mnc', ')', 'is', 'gaining', 'prominence', 'and', 'patrice', 'leaves', 'his', 'clerical', 'job', 'to', 'sell', 'beer', ',', 'and', 'get', 'his', 'face', 'known', ',', 'in', 'the', 'bustling', 'capital', ',', 'stanleyville', '.', 'at', 'a', 'time', 'when', 'the', 'colonial', 'empires', 'are', 'falling', 'down', 'around', 'the', 'world', ',', 'lumumba', 'is', 'in', 'the', 'right', 'place', 'at', 'the', 'right', 'time', 'and', ',', 'through', 'political', 'savvy', 'and', 'chess-like', 'manipulation', ',', 'achieves', 'a', 'position', 'of', 'leadership', 'of', 'the', 'mnc', '.', 'as', 'the', 'date', 'for', 'independence', 'approaches', ',', 'he', 'tactically', 'positions', 'himself', 'to', 'be', 'the', 'new', \"nation's\", 'first', 'prime', 'minister', 'and', 'defense', 'minister', ',', 'supporting', 'the', 'presidency', 'of', 'joseph', 'kasa', 'vubu', '(', 'maka', 'kotto', ')', '.', 'the', 'coalition', 'he', 'created', 'soon', 'starts', 'to', 'fall', 'apart', 'as', 'the', 'former', 'belgian', 'masters', 'continue', 'to', 'exert', 'influence', 'on', 'the', 'struggling', 'nation', 'as', 'they', 'strive', 'to', 'maintain', 'economic', 'hold', 'on', 'the', \"country's\", 'vast', 'natural', 'resources', 'of', 'copper', ',', 'diamonds', ',', 'gold', 'and', 'more', '.', 'lumumba', \"won't\", 'seek', 'the', 'help', 'of', 'the', 'us', ',', 'knowing', 'that', 'they', 'would', 'try', 'to', 'create', 'de', 'facto', 'american', 'control', 'of', 'the', 'fledgling', 'government', '.', 'his', 'initial', 'investigation', 'into', 'soviet', 'assistance', 'immediately', 'tags', 'patrice', 'as', 'a', 'communist', 'and', 'his', 'integrity', 'is', 'overshadowed', 'by', 'the', 'cold', 'war', 'threat', 'of', 'russian', 'domination', '.', 'the', 'situation', 'goes', 'from', 'bad', 'to', 'worse', 'as', 'the', 'army', 'mutinies', ',', 'the', 'remaining', 'whites', 'begin', 'to', 'evacuate', 'or', 'arm', 'themselves', ',', 'belgian', 'troops', 'violently', 'intervene', ',', 'the', 'lucrative', 'katanga', 'province', 'succeeds', 'under', 'the', 'leadership', 'of', 'rival', 'moise', 'tschombe', '(', 'pascal', 'nzonzi', ')', 'and', 'lumumba', 'is', 'refused', 'access', 'to', 'his', 'own', 'country', 'when', 'he', 'returns', 'from', 'a', 'conference', 'abroad', '.', 'this', 'tumultuous', 'and', 'little', 'known', 'period', 'of', 'modern', 'african', 'history', 'saw', 'a', 'score', 'of', 'nations', 'struggling', 'for', 'independence', 'from', 'the', 'sometimes-odious', 'colonialists', 'who', 'have', 'ruled', 'much', 'of', 'the', 'world', 'from', 'their', 'european', 'seats', 'of', 'power', 'for', 'centuries', '.', 'peck', 'focuses', 'his', 'story', 'on', 'familiar', 'material', 'that', 'strives', 'to', 'give', 'an', 'honest', 'portrayal', 'of', 'patrice', 'lumumba', ',', 'his', 'friend', 'and', 'foes', 'and', 'the', 'independence', 'movements', 'that', 'gripped', 'africa', 'in', 'the', \"50's\", 'and', \"60's\", '.', '(', 'during', 'the', 'time', 'the', 'story', 'takes', 'place', ',', 'many', 'new', 'nations', ',', 'including', 'nigeria', 'and', 'somalia', ',', 'were', 'born', ',', 'with', 'varying', 'degrees', 'of', 'success', 'and', 'failure', ',', 'usually', 'dependent', 'upon', 'which', 'country', 'colonized', 'them', '.', 'some', 'colonial', 'masters', 'were', 'better', 'than', 'others', '.', ')', 'the', 'effort', 'involved', 'in', '\"', 'lumumba', '\"', 'is', 'quite', 'ambitious', 'as', 'peck', 'and', 'his', 'crew', 'before', 'and', 'behind', 'the', 'camera', 'strive', 'to', 'bring', 'to', 'life', 'this', 'slice', 'of', 'world', 'history', 'that', 'might', 'have', 'gone', 'unexplored', 'for', 'decades', ',', 'if', 'at', 'all', '.', 'production', 'values', 'are', 'first', 'rate', 'on', 'what', 'must', 'be', 'a', 'small', ',', 'by', 'us', 'standards', ',', 'budget', '.', 'the', 'period', 'feel', 'and', 'realistic', 'african', 'settings', 'are', 'nicely', 'maintained', 'in', 'a', 'production', 'that', 'traveled', 'from', 'zimbabwe', 'to', 'mozambique', '.', 'the', 'screenplay', 'covers', 'a', 'lot', 'of', 'ground', 'and', 'does', \"yeoman's\", 'work', 'in', 'providing', 'a', 'great', 'deal', 'of', 'detailed', 'history', 'while', 'trying', 'to', 'do', 'justice', 'to', 'the', 'story', 'of', \"lumumba's\", 'life', '.', 'the', 'political', 'side', 'of', 'things', 'is', 'evenly', 'told', 'in', 'a', 'linear', ',', 'straightforward', 'manner', 'that', 'teaches', ',', 'not', 'preaches', '.', 'it', 'concentrates', 'on', 'the', 'good', 'deeds', 'of', 'the', 'man', ',', 'if', 'a', 'bit', 'as', 'a', 'stalwart', 'saint', ',', 'but', \"doesn't\", 'embellish', 'on', 'a', 'larger', 'than', 'life', 'persona', '.', 'the', 'family', 'side', 'of', \"patrice's\", 'life', 'is', 'handled', 'in', 'several', ',', 'perfunctory', 'and', 'brief', 'interludes', 'that', 'show', 'him', 'talking', 'to', 'one', 'of', 'his', 'children', ',', 'embracing', 'his', 'wife', 'or', 'lamenting', 'the', 'death', 'of', 'his', 'child', '.', 'i', 'know', 'the', 'intent', 'is', 'to', 'flesh', 'the', 'man', 'out', ',', 'but', 'too', 'short', 'a', 'shrift', 'is', 'given', 'to', 'the', 'family', 'man', 'side', 'of', 'lumumba', '.', 'the', 'story', ',', 'as', 'such', ',', 'has', 'a', 'lopsided', 'feel', 'about', 'it', '.', 'high', 'marks', 'go', 'to', 'eriq', 'ebouaney', 'as', 'the', 'title', 'character', '.', 'the', 'actor', 'gives', 'a', 'convincing', ',', 'charismatic', 'performance', 'as', 'the', 'multifaceted', ',', 'politically', 'deft', 'patrice', 'lumumba', 'who', 'has', 'the', 'good', 'of', 'his', 'people', 'and', 'his', 'country', 'as', 'the', 'force', 'driving', 'his', 'own', 'ambitions', '.', 'in', 'true', 'docudrama', 'tradition', ',', 'the', 'supporting', 'cast', 'does', 'not', 'outshine', 'the', 'star', ',', 'complementing', 'his', 'good', 'efforts', ',', 'instead', '.', '\"', 'lumumba', '\"', 'is', 'a', 'solid', ',', 'interesting', ',', 'educational', 'and', 'honest', 'docudrama', 'that', 'should', 'appeal', 'to', 'film', 'buffs', 'and', 'politicos', ',', 'both', '.', 'it', 'has', 'more', 'intelligence', 'in', 'its', 'telling', 'than', 'anything', \"i've\", 'seen', 'out', 'of', 'hollywood', 'for', 'months', 'and', 'i', 'give', 'it', 'a', 'b+', '.'], ['apparently', ',', 'director', 'tony', 'kaye', 'had', 'a', 'major', 'battle', 'with', 'new', 'line', 'regarding', 'his', 'new', 'film', ',', 'american', 'history', 'x', '.', 'i', \"don't\", 'know', 'the', 'details', 'of', 'the', 'fight', ',', 'but', 'it', 'seems', 'that', 'he', 'is', 'not', 'happy', 'with', 'the', 'final', 'product', ',', 'and', 'nearly', 'removed', 'his', 'name', 'from', 'the', 'credits', 'altogether', '.', \"i've\", 'heard', 'about', 'this', 'kind', 'of', 'thing', 'happening', 'before', ',', 'and', 'it', 'makes', 'me', 'wonder', 'how', 'much', 'input', 'a', 'studio', 'has', 'over', 'the', 'films', 'they', 'produce', '.', 'as', 'it', 'is', ',', 'i', 'found', 'american', 'history', 'x', 'to', 'be', 'an', 'extremely', 'good', 'film', ',', 'not', 'just', 'because', 'of', 'tony', \"kaye's\", 'focused', 'look', 'at', 'the', 'touchy', 'subject', 'of', 'racism', ',', 'but', 'because', 'of', 'a', 'powerful', ',', 'charismatic', 'performance', 'from', 'edward', 'norton', '.', \"it's\", 'hard', 'to', 'believe', 'that', 'it', 'has', 'only', 'been', 'two', 'years', 'since', \"norton's\", 'fantastic', 'role', 'in', 'primal', 'fear', ',', 'but', ',', 'here', 'he', 'is', 'now', ',', 'starring', 'in', 'his', 'own', 'film', 'and', 'making', 'himself', 'a', 'star', '.', 'norton', 'is', 'one', 'of', 'those', 'performers', 'who', 'becomes', 'his', 'character', ',', 'and', 'his', 'work', 'in', 'american', 'history', 'x', 'is', 'one', 'of', 'the', 'very', 'best', 'performances', 'this', 'year', '.', 'he', 'plays', 'a', 'young', 'man', 'named', 'derek', 'vinyard', ',', 'a', 'skinhead', 'living', 'in', 'venice', 'beach', 'with', 'his', 'brother', ',', 'danny', '(', 'edward', 'furlong', ')', ',', 'mother', '(', 'beverly', \"d'angelo\", ')', ',', 'and', 'sister', ',', 'davin', '(', 'jennifer', 'lien', ')', '.', 'the', 'film', 'opens', 'with', 'a', 'flashback', ',', 'in', 'which', 'derek', 'brutally', 'kills', 'two', 'black', 'men', 'vandalizing', 'his', 'car', '.', 'we', 'find', 'out', 'that', 'this', 'lands', 'him', 'in', 'prison', ',', 'and', 'the', 'film', 'from', 'that', 'point', 'is', 'seen', 'through', 'the', 'eyes', 'of', 'danny', '.', 'in', 'the', 'present-time', 'of', 'the', 'film', ',', 'danny', 'is', 'in', 'high', 'school', ',', 'and', 'eager', 'to', 'follow', 'the', 'footsteps', 'of', 'his', 'brother', '.', 'much', 'of', 'the', 'film', 'is', 'told', 'in', 'flashback', ',', 'and', 'we', 'see', 'the', 'path', 'that', 'leads', 'to', \"derek's\", 'adoption', 'of', 'white', 'supremacy', '.', 'when', 'derek', 'is', 'released', ',', 'having', 'served', 'three', 'years', 'in', 'prison', ',', 'he', 'finds', 'that', 'his', 'brother', 'is', 'now', 'a', 'full-blown', 'skinhead', ';', 'derek', ',', 'however', ',', 'has', 'given', 'up', 'the', 'violence', ',', 'and', 'tries', 'to', 'get', 'his', 'brother', 'to', 'understand', 'why', 'racism', 'and', 'the', 'violence', 'that', 'comes', 'with', 'it', 'are', 'bad', 'things', '.', 'what', 'makes', 'this', 'all', 'interesting', 'is', 'that', 'these', 'two', 'young', 'men', 'are', 'not', 'stupid', ',', 'thoughtless', 'people', '--', 'they', 'are', 'intelligent', 'and', 'articulate', ',', 'and', 'voice', 'their', 'beliefs', 'in', 'disturbingly', 'straightforward', 'terms', '.', \"it's\", 'hard', 'to', 'make', 'a', 'controversial', 'movie', 'and', 'not', 'preach', ',', 'but', 'kaye', 'has', 'found', 'the', 'right', 'note', 'for', 'his', 'material', '.', 'because', 'american', 'history', 'x', 'is', 'a', 'mainstream', 'film', ',', 'there', 'has', 'to', 'be', 'a', 'redemption', 'phase', 'for', 'our', 'main', 'character', '--', 'some', 'people', 'may', 'think', 'that', 'this', 'is', 'the', 'only', 'way', 'to', 'make', 'him', 'sympathetic', '.', 'i', 'partially', 'disagree', 'with', 'this', ',', 'because', ',', 'although', 'i', 'do', 'not', 'advocate', 'racism', 'in', 'any', 'way', ',', \"it's\", 'interesting', 'the', 'way', 'kaye', 'presents', 'derek', '--', 'he', 'is', 'a', 'loud', ',', 'obnoxious', 'man', ',', 'but', \"he's\", 'also', 'very', 'smart', '.', 'the', 'reasons', 'for', 'why', 'he', 'becomes', 'a', 'skinhead', 'are', 'believable', '--', 'his', 'father', 'was', 'arbitrarily', 'killed', 'by', 'a', 'group', 'of', 'black', 'men', '.', \"it's\", 'clear', 'that', \"he's\", 'passionate', 'about', 'his', 'beliefs', ',', 'and', 'that', \"he's\", 'not', 'just', 'a', 'punk', 'looking', 'for', 'an', 'excuse', 'to', 'beat', 'people', 'up', '.', 'of', 'course', ',', 'it', 'helps', 'that', 'kaye', 'has', 'an', 'actor', 'as', 'talented', 'as', 'norton', 'to', 'play', 'this', 'part', '.', \"it's\", 'astonishing', 'how', 'frightening', 'norton', 'looks', 'with', 'a', 'shaved', 'head', 'and', 'a', 'swastika', 'on', 'his', 'chest', '.', 'in', 'addition', 'to', 'getting', 'the', 'look', 'just', 'right', ',', \"he's\", 'perfect', 'for', 'this', 'role', '--', 'derek', 'requires', 'intelligence', ',', 'depth', ',', 'and', 'a', 'whole', 'lot', 'of', 'shouting', ',', 'and', 'norton', 'does', 'it', 'all', 'with', 'ease', '.', 'even', 'when', \"he's\", 'at', 'his', 'meanest', ',', 'derek', 'has', 'a', 'likable', 'quality', 'to', 'him', ',', 'and', \"that's\", 'a', 'gutsy', 'approach', 'when', 'telling', 'a', 'story', 'about', 'a', 'skinhead', '.', 'what', 'adds', 'depth', 'to', 'the', 'story', 'is', 'a', 'subplot', 'in', 'which', 'the', 'principal', 'of', \"danny's\", 'school', '(', 'avery', 'brooks', ')', 'becomes', 'obsessed', 'with', 'purging', 'the', 'hatred', 'from', 'danny', '.', 'the', 'other', 'performances', 'are', 'all', 'terrific', ',', 'with', 'standouts', 'from', 'furlong', ',', \"d'angelo\", ',', 'and', 'lien', '.', 'visually', ',', 'the', 'film', 'is', 'very', 'powerful', '.', 'kaye', 'indulges', 'in', 'a', 'lot', 'of', 'interesting', 'artistic', 'choices', ',', 'and', 'most', 'of', 'them', 'work', 'nicely', '--', 'lots', 'of', 'slow-motion', 'and', 'strange', 'camera', 'angles', 'add', 'to', 'a', 'moody', 'atmosphere', '.', 'but', ',', 'like', 'a', 'lot', 'of', 'movies', 'lately', ',', 'american', 'history', 'x', 'skims', 'past', 'greatness', 'in', 'the', 'last', 'few', 'minutes', '.', 'although', 'the', 'climactic', 'scene', 'is', 'very', 'moving', ',', 'the', 'picture', 'ends', 'with', 'a', 'pretentious', ',', 'preachy', 'resolution', 'featuring', 'a', 'brief', 'narration', 'from', 'a', 'character', 'who', 'was', 'killed', '.', 'for', 'a', 'movie', 'so', 'smart', 'a', 'subtle', 'up', 'until', 'that', 'point', ',', 'it', 'felt', 'like', 'a', 'slap', 'in', 'the', 'face', 'to', 'be', 'hand-fed', 'a', 'theme', 'in', 'such', 'a', 'simplistic', 'way', '.', 'it', 'makes', 'me', 'wonder', 'what', ',', 'exactly', ',', 'tony', 'kaye', 'disliked', 'about', 'the', 'final', 'version', 'of', 'his', 'film', '.', 'perhaps', 'this', 'last', 'scene', 'was', 'the', 'problem', '.', \"it's\", 'hard', 'to', 'imagine', 'any', 'director', 'not', 'being', 'at', 'least', 'partially', 'pleased', 'with', 'a', 'film', 'this', 'good', '--', 'in', 'a', 'time', 'when', 'so', 'many', 'movies', 'are', 'timid', 'and', 'weak', ',', 'american', 'history', 'x', 'manages', 'to', 'make', 'a', 'compelling', 'argument', 'for', 'racism', 'without', 'advocating', 'it', 'any', 'way', '.'], ['one', 'of', 'my', 'colleagues', 'was', 'surprised', 'when', 'i', 'told', 'her', 'i', 'was', 'willing', 'to', 'see', \"betsy's\", 'wedding', '.', 'and', 'she', 'was', 'shocked', 'to', 'hear', 'that', 'i', 'actually', 'liked', 'it', '.', 'her', 'reaction', 'was', 'understandable', 'when', 'you', 'consider', 'that', 'the', 'film', 'revolves', 'around', 'molly', 'ringwald', ',', 'who', \"hasn't\", 'made', 'a', 'worthwhile', 'film', 'since', '1986', '.', 'but', 'the', 'fact', 'is', ',', \"betsy's\", 'wedding', 'is', 'also', 'an', 'alan', 'alda', 'film', '.', 'and', 'while', 'ringwald', 'has', 'been', 'making', 'duds', 'for', 'the', 'last', 'four', 'years', ',', 'alda', 'has', 'been', 'involved', 'with', 'several', 'noteworthy', 'projects', ',', 'including', 'crimes', 'and', 'misdemeanors', 'and', 'a', 'new', 'life', '.', 'written', 'and', 'directed', 'by', 'alda', ',', \"betsy's\", 'wedding', 'is', 'a', 'vibrant', 'slice-of-life', ',', 'mixing', 'a', 'few', 'dramatic', 'moments', 'into', 'a', 'big', 'bowl', 'of', 'whimsical', 'humor', '.', \"alda's\", 'comic', 'elixir', 'is', 'smooth', 'and', 'refreshing--and', 'a', 'welcome', 'change', 'of', 'pace', 'from', 'the', 'usual', 'summer', 'fare', '.', 'as', 'bride', 'and', 'groom', ',', 'molly', 'ringwald', 'and', 'dylan', 'walsh', 'are', 'the', 'pivotal', 'characters', 'in', 'the', 'film', ',', 'but', 'they', 'are', 'by', 'far', 'the', 'least', 'interesting', '.', 'walsh', 'is', 'a', 'nonentity', ',', 'with', 'all', 'the', 'screen', 'presence', 'of', 'a', 'door', 'knob', '.', 'ringwald', 'is', 'simply', 'unbearable', 'and', 'is', 'easily', 'the', 'weakest', 'link', 'in', 'the', 'chain', '.', 'she', 'looks', 'hideous', 'with', 'her', 'short-cropped', 'orange', 'hair', ',', 'red', 'lip-stick', 'and', 'grotesque', 'outfits', '.', \"she's\", 'supposed', 'to', 'be', 'a', 'dress', 'designer', ',', 'but', 'she', 'looks', 'more', 'like', 'a', 'clown', '.', 'and', 'to', 'make', 'matters', 'worse', ',', \"ringwald's\", 'performance', 'matches', 'her', 'appearance', '.', 'thankfully', ',', 'alda', 'keeps', \"ringwald's\", 'screen', 'time', 'to', 'a', 'minimum', ';', 'he', 'is', 'far', 'more', 'interested', 'in', 'the', 'colorful', 'periphery', 'characters', '.', 'the', 'wedding', 'is', 'just', 'a', 'device', 'to', 'bring', 'together', 'the', \"bride's\", 'working-class', ',', 'italian', 'family', 'and', 'the', \"groom's\", 'rich', ',', 'gentile', 'family', '.', \"ringwald's\", 'folks', 'are', 'homey', 'and', 'down-to-earth', ',', 'with', 'alda', 'as', 'her', 'free-spirited', 'father', ',', 'madeline', 'kahn', 'as', 'her', 'practical', 'mother', ',', 'and', 'ally', 'sheedy', 'as', 'her', 'lonely', 'sister', '.', \"walsh's\", 'clan', ',', 'on', 'the', 'other', 'hand', ',', 'is', 'prim', ',', 'proper', 'and', 'ostentatious', '.', 'when', 'the', 'two', 'families', 'meet', 'and', 'mingle', ',', 'the', 'movie', 'becomes', 'a', 'story', 'of', 'culture', 'clash', ',', 'or', 'as', 'one', 'character', 'puts', 'it', ',', '\"', 'money', 'versus', 'values', '.', '\"', 'ally', 'sheedy', ',', 'in', 'a', 'wonderfully', 'understated', 'performance', ',', 'is', 'one', 'of', 'the', \"film's\", 'most', 'pleasant', 'surprises', '.', 'sheedy', 'expresses', 'more', 'with', 'just', 'her', 'eyes', 'than', 'ringwald', 'does', 'with', 'her', 'entire', 'body', '.', \"it's\", 'anthony', 'lapaglia', ',', 'however', ',', 'who', 'seizes', 'the', 'spotlight', '.', 'lapaglia', 'plays', 'stevie', 'dee', ',', 'a', 'suave', ',', 'overly', 'polite', 'mafioso', 'who', 'is', 'formally', 'courting', 'sheedy', 'with', 'old-fashioned', 'chivalry', '.', \"lapaglia's\", 'sincere', 'but', 'dim-witted', 'character', 'is', 'a', 'riot', '.', 'and', \"what's\", 'uncanny', 'is', 'that', 'lapaglia', 'is', 'a', 'dead', 'ringer', 'for', 'robert', 'de', 'niro', ',', 'with', 'a', 'little', 'bit', 'of', 'alec', 'baldwin', 'thrown', 'in', 'for', 'good', 'measure', '.', 'lapaglia', 'seems', 'to', 'have', 'attended', 'the', 'de', 'niro', 'school', 'of', 'gangster', 'acting', ',', 'and', 'his', 'inspired', 'performance', 'is', 'partly', 'a', 'tribute', 'to', 'his', 'role-model', 'and', 'partly', 'a', 'rip-off', '.', 'i', \"don't\", 'know', 'whether', 'to', 'say', 'a', 'star', 'is', 'born', 'or', 'a', 'star', 'is', 're-born', ',', 'but', 'i', 'do', 'know', 'that', \"lapaglia's\", 'over-the-top', 'performance', 'should', 'not', 'be', 'missed', '.', 'the', 'scrumptious', 'comic', 'acting', ',', 'however', ',', 'extends', 'well', 'beyond', 'sheedy', 'and', 'lapaglia', '.', 'joe', 'pesci', ',', 'in', 'particular', ',', 'sinks', 'his', 'teeth', 'into', 'his', 'role', 'as', \"alda's\", 'unscrupulous', 'brother-in-law', ',', 'a', 'slum', 'lord', 'with', 'mob', 'ties', ',', 'who', 'is', 'cheating', 'on', 'his', 'wife', '(', 'catherine', \"o'hara\", ')', '.', 'alda', ',', 'faced', 'with', 'challenge', 'of', 'both', 'directing', 'and', 'acting', ',', 'somehow', 'finds', 'just', 'the', 'right', 'comic', 'touch', 'as', 'the', \"bride's\", 'financially-strapped', 'father', ',', 'a', 'carpenter', 'whose', 'dreams', 'are', 'bigger', 'than', 'his', 'wallet', '.', 'the', 'film', 'adopts', \"alda's\", 'psychological', 'point', 'of', 'view', 'as', 'he', 'tries', 'to', 'one', ':', 'plan', 'the', 'wedding', ',', 'and', 'two', ':', 'pay', 'for', 'it', '.', 'as', 'a', 'filmmaker', ',', \"alda's\", 'style', 'of', 'humor', 'is', 'remarkably', 'restrained', 'and', 'tasteful', '.', 'and', 'while', 'he', \"doesn't\", 'have', 'the', 'comic', 'genius', 'of', 'a', 'woody', 'allen', ',', 'alda', 'does', 'possess', 'the', 'inspiration', 'to', 'make', 'movies', 'which', 'are', 'ten', 'times', 'more', 'entertaining', 'than', 'the', 'slop', 'which', 'usually', 'passes', 'for', 'comedy', '.'], ['after', 'bloody', 'clashes', 'and', 'independence', 'won', ',', 'lumumba', 'refused', 'to', 'pander', 'to', 'the', 'belgians', ',', 'who', 'continued', 'a', 'condescending', 'and', 'paternalistic', 'relationship', 'with', 'the', 'congo', '.', 'their', 'officers', ',', 'particularly', 'general', 'janssens', '(', 'rudi', 'delhem', ')', 'in', 'the', 'force', 'publique', ',', 'the', \"congo's\", 'army', ',', 'caused', 'rebellions', ',', 'undermining', 'lumumba', ',', 'who', 'was', 'outraged', 'at', 'the', 'rape', 'and', 'murder', 'of', 'belgian', 'nationals', '.', 'with', 'unrest', 'building', ',', 'moise', 'tshombe', '(', 'pascal', 'nzonzi', ')', 'and', 'the', 'province', 'of', 'katanga', ',', 'which', 'contained', '70', 'percent', 'of', 'the', \"country's\", 'resources', ',', 'proclaimed', 'secession', '.', 'lumumba', 'replaced', 'janssens', ',', 'making', 'mobutu', 'a', 'colonel', ',', 'and', 'went', 'on', 'a', 'pacification', 'tour', 'with', 'congolese', 'president', 'joseph', 'kasa', 'vubu', '(', 'maka', 'kotto', ')', ',', 'but', 'it', 'was', 'too', 'late', '.', \"'when\", 'you', 'want', 'to', 'drown', 'a', 'dog', ',', 'you', 'say', 'it', 'has', 'rabies', ',', \"'\", 'prophesies', 'lumumba', 'of', 'his', 'own', 'fate', '.', 'peck', 'and', 'bonitzer', 'do', 'an', 'exemplary', 'job', 'telling', 'a', 'complicated', 'tale', 'with', 'a', 'myriad', 'of', 'players', ',', 'although', 'they', 'frequently', 'succumb', 'to', 'cliche', ',', 'particularly', 'regarding', \"lumumba's\", 'private', 'life', '.', \"peck's\", 'script', 'illuminates', 'bantu', 'sayings', 'like', \"'the\", 'hand', 'that', 'gives', ',', \"rules'\", 'when', 'lumumba', 'uses', 'it', 'with', 'the', 'american', 'ambassador', '.', \"peck's\", 'direction', 'is', 'less', 'assured', ',', 'with', 'many', 'scenes', 'unfortunately', 'playing', 'like', 'standard', 'television', 'fare', '.', \"he's\", 'served', 'well', ',', 'though', ',', 'by', 'his', 'casting', 'of', 'ebouaney', 'in', 'the', 'title', 'role', '.', 'ebouaney', 'is', 'dynamic', ',', 'radiating', 'his', \"character's\", 'fierce', 'passion', 'for', 'his', 'people', 'and', 'his', 'country', '.', \"lumumba's\", 'intelligence', 'and', 'ability', 'to', 'strategize', ',', 'even', 'as', \"he's\", 'cornered', 'by', 'insurmountable', 'odds', ',', 'are', 'given', 'life', 'by', 'ebouaney', '.', \"peck's\", 'subject', 'and', 'lead', 'actor', 'elevate', 'his', 'film', 'above', 'its', 'mediocre', 'production', '.', '\"', 'lumumba', '\"', 'is', 'a', 'story', 'that', 'deserves', 'to', 'be', 'told', 'and', \"ebouaney's\", 'performance', 'makes', 'the', 'tragedy', 'personally', 'felt', '.'], ['the', 'american', 'action', 'film', 'has', 'been', 'slowly', 'drowning', 'to', 'death', 'in', 'a', 'sea', 'of', 'asian', 'wire-fu', 'copycats', '.', \"it's\", 'not', 'a', 'pretty', 'death', ',', 'and', \"it's\", 'leaving', 'the', 'likes', 'of', 'schwartznager', ',', 'stallone', ',', 'and', 'van', 'damme', 'wearing', 'cement', 'galoshes', 'at', 'the', 'bottom', 'of', 'a', 'kung', 'fu', 'sea', '.', 'sometimes', ',', 'the', 'mix', 'results', 'in', 'a', 'mind-blowing', 'spectacle', 'unlike', 'any', 'other', '.', 'quality', 'action', 'with', 'amazing', 'and', 'exciting', 'stunt', 'work', ',', 'as', 'in', \"1999's\", 'the', 'matrix', ',', 'can', 'be', 'a', 'real', 'gem', '.', 'but', 'too', 'often', 'hollywood', 'gets', 'it', 'wrong', ',', 'even', 'when', 'they', 'pay', 'off', 'chinese', 'directors', '.', 'flying', 'ninjas', 'and', 'floating', 'karate', 'masters', 'have', 'been', 'replaced', 'by', 'soaring', 'bronx', 'detectives', 'and', 'slow', 'motion', 'kicking', 'scientists', '.', 'mostly', \"it's\", 'laughable', '.', 'in', \"hollywood's\", 'rush', 'to', 'emulate', 'the', 'success', 'of', 'the', 'matrix', ',', 'trademark', 'asian', 'stunt', 'choreography', 'has', 'become', 'more', 'of', 'a', 'joke', 'than', 'an', 'art', 'form', '.', 'but', 'iron', 'monkey', ',', 'the', 'latest', 'asian', 'import', ',', 'shows', 'us', 'how', 'to', 'get', 'it', 'right', '.', 'iron', 'monkey', '(', 'actually', 'a', 'reissue', 'of', 'a', '1993', 'film', ')', 'is', 'the', 'story', 'of', 'a', '19th', 'chinese', 'vigilante', '(', 'rongguang', 'yu', ')', ',', 'fighting', 'with', 'his', 'own', 'unique', 'style', 'of', 'shaolin', 'kung', 'fu', 'for', 'the', 'rights', 'of', 'the', 'oppressed', 'and', 'the', 'bellies', 'of', 'the', 'hungry', '.', 'but', 'it', 'is', 'also', 'a', 'piece', 'of', 'the', 'narrative', 'of', 'legendary', 'chinese', 'film', 'hero', 'wong', 'fei-hong', ',', 'most', 'recently', 'seen', 'in', 'one', 'of', 'the', 'most', 'overlooked', ',', 'and', 'possibly', 'best', 'films', 'of', '2000', ',', 'drunken', 'master', '2', '(', 'released', 'in', 'the', 'u', '.', 's', '.', 'as', 'the', 'legend', 'of', 'drunken', 'master', ')', '.', 'unlike', 'drunken', 'master', '2', ',', 'which', 'stars', 'jackie', 'chan', 'as', 'an', 'adult', 'fei-hong', ',', 'iron', 'monkey', 'finds', 'a', 'much', 'younger', 'fei-hong', '(', 'sze-man', 'tsang', ')', 'and', 'his', 'father', 'wong', 'kei-ying', '(', 'yen', 'chi', 'dan', ')', 'thrust', 'into', 'the', 'middle', 'of', 'iron', \"monkey's\", 'fight', 'against', 'oppression', '.', 'iron', 'monkey', 'succeeds', 'as', 'no', 'kung', 'fu', 'film', 'since', 'drunken', 'master', '2', '.', 'at', 'times', ',', 'fighting', 'styles', ',', 'especially', 'that', 'of', 'monkey', 'himself', ',', 'do', 'devolve', 'into', 'the', 'ridiculous', 'twinkle-toed', 'floating', 'of', 'films', 'like', 'crouching', 'tiger', ',', 'hidden', 'dragon', ',', 'director', 'yuen', 'wo', 'ping', 'eventually', 'remembers', 'to', 'bring', 'his', 'action', 'scenes', 'back', 'to', 'earth', '.', 'iron', 'monkey', 'is', 'at', 'its', 'heart', 'a', 'hardcore', ',', 'kung', 'fu', 'action', 'film', 'rather', 'than', 'any', 'kind', 'of', 'drama', 'a', 'la', 'crouching', 'tiger', '.', 'however', ',', 'there', 'are', 'brief', 'moments', 'of', 'profoundness', 'shared', 'between', 'characters', ',', 'such', 'as', 'those', 'that', 'pass', 'between', 'our', 'outlaw', 'hero', 'and', 'his', 'good-hearted', 'but', 'misguided', 'enemy', ',', 'chief', 'fox', '.', 'in', 'those', 'moments', ',', 'and', 'in', 'others', ',', 'iron', 'monkey', 'manages', 'to', 'transcend', 'its', 'mindless', 'kung', 'fu', 'nature', 'to', 'touch', 'the', 'hearts', 'and', 'minds', 'of', 'its', 'audience', '.', 'while', 'in', 'no', 'way', 'the', 'equal', 'of', 'a', 'masterpiece', 'like', 'drunken', 'master', '2', ',', 'iron', 'monkey', 'dances', 'quite', 'nicely', 'to', 'the', 'invading', 'kung', 'fu', 'tune', '.', 'aka', 'siunin', 'wong', 'fei-hung', 'tsi', 'titmalau', '.']]\n",
      "[['adapted', 'comic', 'books', 'plenty', 'success', \"they're\", 'superheroes', 'batman', 'superman', 'spawn', 'geared', 'kids', 'casper', 'arthouse', 'crowd', 'ghost', \"there's\", 'comic', 'book', 'hell', 'starters', 'created', 'alan', 'moore', 'eddie', 'campbell', 'brought', 'medium', 'level', 'mid', \"'80s\", '12-part', 'series', 'called', 'watchmen', 'moore', 'campbell', 'researched', 'subject', 'jack', 'ripper', 'michael', 'jackson', 'starting', 'odd', 'book', 'graphic', '500', 'pages', 'long', 'includes', '30', 'consist', 'footnotes', 'words', 'dismiss', 'source', 'past', 'comic', 'book', 'thing', 'find', 'stumbling', 'block', \"hell's\", 'directors', 'albert', 'allen', 'hughes', 'hughes', 'brothers', 'direct', 'ludicrous', 'casting', 'carrot', 'top', 'riddle', 'direct', \"that's\", 'set', 'ghetto', 'features', 'violent', 'street', 'crime', 'mad', 'geniuses', 'menace', 'ii', 'society', 'ghetto', 'question', 'whitechapel', '1888', \"london's\", 'east', 'end', 'filthy', 'sooty', 'place', 'whores', 'called', 'unfortunates', 'starting', 'nervous', 'mysterious', 'psychopath', 'carving', 'profession', 'surgical', 'precision', 'stiff', 'turns', 'copper', 'peter', 'godley', 'robbie', 'coltrane', 'calls', 'inspector', 'frederick', 'abberline', 'johnny', 'depp', 'blow', 'crack', 'case', 'abberline', 'widower', 'prophetic', 'dreams', 'unsuccessfully', 'quell', 'copious', 'amounts', 'absinthe', 'opium', 'arriving', 'whitechapel', 'befriends', 'unfortunate', 'named', 'mary', 'kelly', 'heather', 'graham', \"isn't\", 'proceeds', 'investigate', 'horribly', 'gruesome', 'crimes', 'police', 'surgeon', \"can't\", 'stomach', 'briefed', 'jack', 'ripper', \"won't\", 'particulars', 'moore', 'campbell', 'unique', 'interesting', 'theory', 'identity', 'killer', 'reasons', 'chooses', 'slay', 'comic', 'bother', 'cloaking', 'identity', 'ripper', 'screenwriters', 'terry', 'hayes', 'vertical', 'limit', 'rafael', 'yglesias', 'les', 'mis', 'rables', 'good', 'job', 'keeping', 'hidden', 'viewers', 'end', 'funny', 'watch', 'locals', 'blindly', 'point', 'finger', 'blame', 'jews', 'indians', 'englishman', 'capable', 'committing', 'ghastly', 'acts', \"hell's\", 'ending', 'whistling', 'stonecutters', 'song', 'simpsons', 'days', 'holds', 'back', 'electric', 'car/who', 'made', 'steve', 'guttenberg', 'star', 'worry', \"it'll\", 'sense', \"hell's\", 'appearance', 'dark', 'bleak', 'surprising', 'tim', 'burton', 'planet', 'apes', 'times', 'sleepy', 'hollow', '2', 'print', \"wasn't\", 'completely', 'finished', 'color', 'music', 'finalized', 'comments', 'marilyn', 'manson', 'cinematographer', 'peter', 'deming', 'word', 'ably', 'captures', 'dreariness', 'victorian-era', 'london', 'helped', 'flashy', 'killing', 'remind', 'crazy', 'flashbacks', 'twin', 'peaks', 'violence', 'pales', 'comparison', 'black-and-white', 'comic', 'oscar', 'winner', 'martin', \"childs'\", 'shakespeare', 'love', 'production', 'design', 'turns', 'original', 'prague', 'surroundings', 'creepy', 'place', 'acting', 'hell', 'solid', 'dreamy', 'depp', 'turning', 'typically', 'strong', 'performance', 'deftly', 'handling', 'british', 'accent', 'ians', 'holm', 'joe', \"gould's\", 'secret', 'richardson', '102', 'dalmatians', 'log', 'great', 'supporting', 'roles', 'big', 'surprise', 'graham', 'cringed', 'opened', 'mouth', 'imagining', 'attempt', 'irish', 'accent', \"wasn't\", 'half', 'bad', 'good', '2', '00', 'strong', 'violence/gore', 'sexuality', 'language', 'drug', 'content'], ['suspect', 'studio', 'indication', 'stinker', \"everybody's\", 'surprise', 'studio', 'critical', 'darling', 'mtv', \"films'\", '_election', 'high', 'school', 'comedy', 'starring', 'matthew', 'broderick', 'reese', 'witherspoon', 'current', 'existed', 'week', 'opened', 'plot', 'deceptively', 'simple', 'george', 'washington', 'carver', 'high', 'school', 'student', 'elections', 'tracy', 'flick', 'reese', 'witherspoon', 'over-achiever', 'hand', 'raised', 'question', 'high', 'mr', 'matthew', 'broderick', 'sick', 'megalomaniac', 'student', 'encourages', 'paul', 'popular-but-slow', 'jock', 'run', \"paul's\", 'nihilistic', 'sister', 'jumps', 'race', 'personal', 'reasons', 'dark', 'side', 'sleeper', 'success', 'expectations', 'low', 'fact', 'quality', 'stuff', 'made', 'reviews', 'enthusiastic', \"can't\", 'baggage', 'glowing', 'reviews', 'contrast', 'negative', 'baggage', 'reviewers', '_election', 'good', 'live', 'hype', 'makes', '_election_', 'disappointing', 'significant', 'plot', 'details', 'lifted', 'directly', '_rushmore_', 'released', 'months', 'earlier', 'similarities', 'staggering', 'tracy', 'flick', '_election_', 'president', 'extraordinary', 'number', 'clubs', 'involved', 'school', 'play', 'max', 'fischer', '_rushmore_', 'president', 'extraordinary', 'number', 'clubs', 'involved', 'school', 'play', 'significant', 'tension', '_election_', 'potential', 'relationship', 'teacher', 'student', 'significant', 'tension', '_rushmore_', 'potential', 'relationship', 'teacher', 'student', 'tracy', 'flick', 'single', 'parent', 'home', 'contributed', 'drive', 'max', 'fischer', 'single', 'parent', 'home', 'contributed', 'drive', 'male', 'bumbling', 'adult', '_election_', 'matthew', 'broderick', 'pursues', 'extramarital', 'affair', 'caught', 'ruined', 'bee', 'sting', 'male', 'bumbling', 'adult', '_rushmore_', 'bill', 'murray', 'pursues', 'extramarital', 'affair', 'caught', 'ruined', 'bee', 'stings', 'happened', 'individual', 'screenplay', '_rushmore_', '_election_', 'significant', 'plot', 'points', 'aware', 'made', 'studios', 'genre', 'high', 'school', 'geeks', 'revenge', \"hadn't\", 'fully', 'formed', 'strengths', '_election_', 'rely', 'fantastic', 'performances', 'broderick', 'witherspoon', 'newcomer', 'jessica', 'campbell', \"paul's\", 'anti-social', 'sister', 'tammy', 'broderick', 'playing', 'mr', 'rooney', 'role', '_ferris', 'bueller_', 'fun', 'witherspoon', 'revelation', 'early', 'year', 'comedy', 'teenagers', 'clout', 'money', 'witherspoon', 'deserves', 'oscar', 'nomination', \"campbell's\", 'fantastic', 'speech', 'gymnasium', \"you're\", 'won', 'thing', \"that's\", 'bothering', \"i've\", 'extraordinary', 'amount', 'sexuality', 'suppose', 'coming', 'mtv', 'expect', 'starts', 'light', 'airy', 'sitcom', 'screws', 'tighten', 'tensions', 'mount', 'alexander', 'payne', 'decides', 'add', 'elements', 'frankly', 'distract', 'bad', 'mr', \"tracy's\", 'determination', 'win', 'costs', 'throw', 'student/teacher', 'relationship', \"there's\", 'logical', 'reason', 'mr', 'affair', \"there's\", 'lot', '_election_', 'plot', 'similarities', '_rushmore_', 'tonal', 'nosedive', 'takes', 'explicitly', 'sex-driven', 'mark', 'disappointment'], [\"you've\", 'mail', 'works', 'alot', 'deserves', 'order', 'success', 'cast', 'extremely', 'popular', 'attractive', 'stars', 'share', 'screen', 'hours', 'collect', 'profits', 'real', 'acting', 'involved', 'original', 'inventive', 'bone', 'body', 'basically', 'complete', 're-shoot', 'shop', 'corner', 'adding', 'modern', 'twists', 'essentially', 'defies', 'concepts', 'good', 'contemporary', 'filmmaking', 'overly', 'sentimental', 'times', 'terribly', 'mushy', 'mention', 'manipulative', 'enjoyable', 'manipulation', 'casting', 'manipulation', 'makes', 'work', 'absolutely', 'hated', 'previous', 'ryan/hanks', 'teaming', 'sleepless', 'seattle', \"couldn't\", 'directing', 'helmed', 'woman', \"haven't\", 'figured', \"you've\", 'mail', 'important', 'question', 'storyline', 'cliched', 'tom', 'hanks', 'plays', 'joe', 'fox', 'insanely', 'likeable', 'owner', 'discount', 'book', 'chain', 'meg', 'ryan', 'plays', 'kathleen', 'kelley', 'insanely', 'likeable', 'proprietor', 'family-run', \"children's\", 'book', 'shop', 'called', 'nice', 'homage', 'shop', 'corner', 'fox', 'kelley', 'bitter', 'rivals', 'fox', 'books', 'store', 'opening', 'block', 'small', 'business', 'love', 'internet', 'party', \"person's\", 'true', 'identity', 'rest', \"isn't\", 'important', 'serve', 'mere', 'backdrop', 'stars', 'share', 'screen', 'mildly', 'interesting', 'subplots', 'fail', 'comparison', 'utter', 'cuteness', 'main', 'relationship', 'leads', 'predictable', 'climax', 'foreseeable', 'ending', 'damn', 'cute', 'well-done', 'doubt', 'entire', 'year', 'evokes', 'pure', 'joy', 'part', 'ryan', 'discovers', 'true', 'identity', 'online', 'love', 'filled', 'lack', 'word', 'happiness', 'year', 'left', 'theater', 'smiling'], ['jaws', 'rare', 'grabs', 'attention', 'shows', 'single', 'image', 'screen', 'opens', 'blackness', 'distant', 'alien-like', 'underwater', 'sounds', 'ominous', 'bars', 'composer', 'john', \"williams'\", 'infamous', 'score', 'dah-dum', 'director', 'steven', 'spielberg', 'wastes', 'taking', 'water', 'midnight', 'swim', 'beautiful', 'girl', 'turns', 'deadly', 'lets', 'vulnerable', 'floating', 'ocean', 'jaws', 'attacked', 'relinquishes', 'grip', 'outstanding', 'jaws', 'spielberg', 'builds', 'works', 'theatrical', 'production', 'act', 'act', 'unlike', 'modern', 'filmmakers', 'great', 'deal', 'restraint', 'refuses', 'shark', 'middle', 'act', 'suggests', 'presence', 'creepy', 'subjective', 'underwater', 'shots', \"williams'\", 'music', 'building', 'tension', 'bit', 'bit', 'climax', \"shark's\", 'arrival', 'terrifying', 'bored', 'imagery', 'act', 'opens', 'police', 'chief', 'martin', 'brody', 'roy', 'scheider', 'york', 'cop', 'easy', 'peaceful', 'job', 'running', 'police', 'station', 'amity', 'island', 'fictitious', 'england', 'resort', 'town', \"hasn't\", 'murder', 'gun', 'fired', '25', 'years', 'island', 'shaken', 'vicious', 'great', 'white', 'shark', 'attacks', 'fourth', 'july', 'mayor', 'larry', 'vaughn', 'murray', 'hamilton', 'shut', 'beaches', 'island', 'reliant', 'summer', 'tourist', 'money', 'brody', 'joined', 'matt', 'hooper', 'richard', 'dreyfuss', 'young', 'ambitious', 'shark', 'expert', 'marine', 'institute', 'hooper', 'fascinated', 'shark', 'determined', 'brody', 'stop', 'knowledge', 'exact', 'workings', 'shark', 'perfect', 'engine', 'eating', 'machine', 'terrifying', 'vaughn', 'finally', 'relents', 'hooper', 'brody', 'join', 'crusty', 'shark', 'killer', 'named', 'quint', 'robert', 'shaw', 'decrepit', 'boat', 'orca', 'search', 'shark', 'entire', 'act', 'takes', 'place', 'orca', 'men', 'hunt', 'shark', 'inevitably', 'hunted', 'jaws', 'thriller', 'keen', 'sense', 'humor', 'incredible', 'sense', 'pacing', 'tension', 'horror', 'ten', 'rolled', 'america', 'storm', 'summer', '1975', 'taking', 'money', 'crown', 'box', 'office', 'champ', 'unceremoniously', 'dethroned', '1977', 'star', 'wars', 'today', 'fascination', 'par', \"hitchcock's\", 'psycho', 'age', 'grand', 'technology', 'exists', 'makes', 'technical', 'sequences', 'including', 'mechanical', 'sharks', 'obsolete', 'improve', 'lead', 'overkill', 'technical', 'limitations', 'faced', 'spielberg', '1975', 'produced', 'forced', 'rely', 'traditional', 'cinematic', 'elements', 'pacing', 'characterization', 'sharp', 'editing', 'creative', 'photography', 'simply', 'dousing', 'audience', 'digital', 'shark', 'effects', 'scheider', 'dreyfuss', 'shaw', 'actors', 'jaws', 'made', 'draw', 'robert', 'redford', 'paul', 'newman', 'guaranteed', 'successful', 'careers', 'gave', 'outstanding', 'performance', 'refused', 'overshadowed', 'shark', 'scheider', 'hits', 'notes', 'sympathetic', 'husband', 'father', 'caught', 'political', 'quagmire', \"what's\", 'entire', 'town', 'summer', 'mayor', 'vaughn', 'warns', 'dreyfuss', 'previously', 'american', 'graffiti', '1973', 'apprenticeship', 'duddy', 'kravitz', '1974', 'surprisingly', 'mature', 'complex', 'performance', 'literally', 'played', 'kids', 'teenagers', 'outstanding', 'gnarled', 'performance', 'robert', 'shaw', \"movie's\", 'captain', 'ahab', 'performance', 'sorely', 'overlooked', 'academy', 'awards', 'bordering', 'parody', 'shaw', 'plays', 'quint', 'grizzled', 'loner', 'machismo', 'borders', 'masochism', 'slightly', 'deranged', \"shaw's\", 'performance', 'caricature', 'late', 'brody', 'hooper', 'deck', 'orca', 'comparing', 'scars', 'quint', 'drawn', 'telling', 'experiences', 'aboard', 'indianapolis', 'navy', 'ship', 'war', 'ii', 'sunk', 'japanese', 'tale', 'floating', 'water', 'week', '1', '000', 'men', 'swarms', 'sharks', 'slowly', 'devoured', 'hair-raising', 'spielberg', 'put', 'screen', 'shaw', 'delivers', 'long', 'acting', \"can't\", 'leave', 'shark', 'black', 'eyes', 'endless', 'rows', 'teeth', 'insatiable', 'urge', 'eat', 'basically', 'epitome', \"mankind's\", 'fears', 'unknown', 'threatening', 'nature', 'shark', 'perfect', 'nemesis', 'real', 'survived', 'sinch', 'dinosaurs', 'great', 'whites', 'exist', 'large', 'shark', 'jaws', 'threat', \"spielberg's\", 'subjective', 'underwater', 'shots', 'makes', 'feel', 'queasy', 'lets', 'shark', 'bunch', 'writihing', 'dangling', 'completely', 'unprotected', 'legs', 'ready', 'chomped', 'shark', 'jaws', 'combination', 'actual', 'footage', 'mechanical', 'sharks', 'nicknamed', 'bruce', 'crew', 'built', 'shot', 'angles', 'forgotten', 'jaws', 'sort', 'precursor', 'waterworld', '1995', \"movie's\", 'soggy', 'production', 'cost', 'overruns', 'universal', 'studios', 'worried', 'bomb', 'spielberg', 'overcame', 'obstacles', 'delivered', 'finest', 'primal', 'scare-thrillers', 'hollywood'], ['moviemaking', 'lot', 'general', 'manager', 'nfl', 'team', 'post-salary', 'cap', 'era', \"you've\", 'allocate', 'resources', 'dollar', 'spent', 'free-agent', 'defensive', 'tackle', 'dollar', 'spend', 'linebackers', 'safeties', 'centers', 'nfl', 'leads', 'teams', 'detroit', 'lions', 'boast', 'superstar', 'running', 'back', 'huge', 'contract', 'field', 'guys', 'named', 'herb', 'block', 'end', 'spawn', 'huge', 'special-effects', 'budget', 'money', 'hire', 'recognizable', 'actors', 'jackie', 'chan', 'barry', 'sanders', 'moviemaking', 'spins', 'darts', 'screen', 'sanders', 'cutting', 'back', 'defensive', 'line', 'watching', 'jackie', 'operation', 'condor', 'drives', 'motorcycle', 'crowded', 'streets', 'madrid', 'fleeing', 'armada', 'pursuers', 'identical', 'black', 'compact', 'cars', 'reminiscent', 'sanders', 'running', 'daylight', 'chicago', 'bears', 'hot', 'pursuit', 'sanders', 'worry', 'rescuing', 'runaway', 'baby', 'carriages', 'lions', 'star', 'jackie', 'block', 'cent', \"that's\", 'invested', 'jackie', 'chan', 'stunts', 'chan', 'stunts', 'rest', 'money', 'pay', 'hospital', 'bills', 'leaves', '75', 'cents', 'pay', 'things', 'directors', 'chan', 'directs', 'scripts', 'dubbing', 'supporting', 'mention', 'hideous', 'title', 'sequence', 'explains', 'shot', 'odd', 'places', 'morocco', 'spain', \"chan's\", 'release', 'country', 'rumble', 'bronx', 'supposedly', 'set', 'york', 'filmed', 'vancouver', 'chase', 'canadian', 'rockies', 'visible', 'heck', 'jackie', 'money', 'haircut', 'personal', 'hairstylist', 'condor', 'chan', 'plays', 'played', 'mixture', 'bruce', 'lee', 'tim', 'allen', 'master', 'kung-fu', 'slapstick-fu', 'jackie', 'retrieve', 'cache', 'lost', 'nazi', 'gold', 'north', 'african', 'desert', 'chased', 'horde', 'neo-nazi', 'sympathizers', 'stereotypical', 'arabs', 'things', 'jackie', 'chan', 'political', 'correctness', 'joined', 'women', 'scream', 'jackie', 'save', 'misuse', 'firearms', 'villain', 'nazi', 'legs', 'broken', 'secret', 'base', 'carried', 'pathetic', 'evil', 'en', 'route', 'extended', 'motorcycle', 'chase', 'hilarious', 'fight', 'moroccan', 'version', 'motel', '6', 'neo-nazis', 'confrontations', 'savage', 'natives', 'secret', 'desert', 'base', 'long', 'chop-socky', 'sequence', \"film's\", 'centerpiece', 'wind-tunnel', 'fight', \"that's\", 'face/off', 'money', 'spent', 'well-choreographed', 'kung-fu', 'sequences', 'giant', 'kevlar', 'hamster', 'balls', 'smashed-up', 'crates', 'bananas', 'scorpions', 'ignore', 'gaping', 'holes', 'plot', \"villain's\", 'legs', 'broken', 'escape', 'secret', 'nazi', 'base', \"didn't\", 'key', 'worry', 'production', 'values', 'japanese', 'girl', 'hitchhiking', 'sahara', 'operation', 'condor', 'pretentions', 'raiders', 'lost', 'ark', 'knockoff', 'wonders', 'jackie', 'raiders', 'franchise', 'blocking', 'lawrence', 'kazdan', 'screenplay', 'john', 'williams', 'score', 'spielberg', 'directing', 'george', 'lucas', 'producing', 'condor', 'a+', \"you've\", \"you've\", \"you've\", 'jackie', 'chan', 'special', 'talent', 'mainstream', 'hollywood', 'utilize'], ['june', '30', '1960', 'self-taught', 'idealistic', 'pragmatic', 'young', 'man', 'age', '36', 'head', 'government', 'newly', 'independent', 'african', 'state', 'belgian', 'congo', 'months', 'ousted', 'powerful', 'position', 'hunted', 'government', 'troops', 'captured', 'brutally', 'murdered', 'aides', 'little-known', 'meteoric', 'rise', 'fall', 'told', 'international', 'filmmaker', 'raoul', 'peck', 'lumumba', 'patrice', \"lumumba's\", 'eriq', 'ebouaney', 'told', 'previously', 'helmer', 'peck', '1991', 'award', 'winning', 'documentary', 'lumumba', 'death', 'prophet', 'virtually', 'guaranteeing', 'fictional', 'account', 'patriot', 'remains', 'true', 'subject', 'peck', 'co-writer', 'pascal', 'bonitzer', 'begins', 'end', 'young', 'political', 'leader', 'watch', 'white', 'men', 'perform', 'gruesome', 'task', 'dismembering', 'bodies', 'black', 'men', 'images', 'hatchets', 'saws', 'fast-emptying', 'whiskey', 'bottles', 'accompany', 'grisly', 'image', 'jump', 'back', 'years', 'meeting', 'black', 'leaders', 'belgian-owned', 'congo', 'class', 'postal', 'worker', 'lumumba', 'speaks', 'mind', 'heads', 'powerful', 'tribes', 'proclaiming', 'tribal', 'regional', 'national', 'leader', 'small', 'mobile', 'party', 'congolese', 'national', 'movement', 'mnc', 'gaining', 'prominence', 'patrice', 'leaves', 'clerical', 'job', 'sell', 'beer', 'face', 'bustling', 'capital', 'stanleyville', 'colonial', 'empires', 'falling', 'lumumba', 'place', 'political', 'savvy', 'chess-like', 'manipulation', 'achieves', 'position', 'leadership', 'mnc', 'date', 'independence', 'approaches', 'tactically', 'positions', \"nation's\", 'prime', 'minister', 'defense', 'minister', 'supporting', 'presidency', 'joseph', 'kasa', 'vubu', 'maka', 'kotto', 'coalition', 'created', 'starts', 'fall', 'belgian', 'masters', 'continue', 'exert', 'influence', 'struggling', 'nation', 'strive', 'maintain', 'economic', 'hold', \"country's\", 'vast', 'natural', 'resources', 'copper', 'diamonds', 'gold', 'lumumba', \"won't\", 'seek', 'knowing', 'create', 'de', 'facto', 'american', 'control', 'fledgling', 'government', 'initial', 'investigation', 'soviet', 'assistance', 'immediately', 'tags', 'patrice', 'communist', 'integrity', 'overshadowed', 'cold', 'war', 'threat', 'russian', 'domination', 'situation', 'bad', 'worse', 'army', 'mutinies', 'remaining', 'whites', 'begin', 'evacuate', 'arm', 'belgian', 'troops', 'violently', 'intervene', 'lucrative', 'katanga', 'province', 'succeeds', 'leadership', 'rival', 'moise', 'tschombe', 'pascal', 'nzonzi', 'lumumba', 'refused', 'access', 'country', 'returns', 'conference', 'abroad', 'tumultuous', 'period', 'modern', 'african', 'history', 'score', 'nations', 'struggling', 'independence', 'sometimes-odious', 'colonialists', 'ruled', 'european', 'seats', 'power', 'centuries', 'peck', 'focuses', 'familiar', 'material', 'strives', 'give', 'honest', 'portrayal', 'patrice', 'lumumba', 'friend', 'foes', 'independence', 'movements', 'gripped', 'africa', \"50's\", \"60's\", 'takes', 'place', 'nations', 'including', 'nigeria', 'somalia', 'born', 'varying', 'degrees', 'success', 'failure', 'dependent', 'country', 'colonized', 'colonial', 'masters', 'effort', 'involved', 'lumumba', 'ambitious', 'peck', 'crew', 'camera', 'strive', 'bring', 'slice', 'history', 'unexplored', 'decades', 'production', 'values', 'rate', 'small', 'standards', 'budget', 'period', 'feel', 'realistic', 'african', 'settings', 'nicely', 'maintained', 'production', 'traveled', 'zimbabwe', 'mozambique', 'screenplay', 'covers', 'lot', 'ground', \"yeoman's\", 'work', 'providing', 'great', 'deal', 'detailed', 'history', 'justice', \"lumumba's\", 'political', 'side', 'things', 'evenly', 'told', 'linear', 'straightforward', 'manner', 'teaches', 'preaches', 'concentrates', 'good', 'deeds', 'man', 'bit', 'stalwart', 'saint', 'embellish', 'larger', 'persona', 'family', 'side', \"patrice's\", 'handled', 'perfunctory', 'interludes', 'talking', 'children', 'embracing', 'wife', 'lamenting', 'death', 'child', 'intent', 'flesh', 'man', 'short', 'shrift', 'family', 'man', 'side', 'lumumba', 'lopsided', 'feel', 'high', 'marks', 'eriq', 'ebouaney', 'title', 'actor', 'convincing', 'charismatic', 'performance', 'multifaceted', 'politically', 'deft', 'patrice', 'lumumba', 'good', 'people', 'country', 'force', 'driving', 'ambitions', 'true', 'docudrama', 'tradition', 'supporting', 'cast', 'outshine', 'star', 'complementing', 'good', 'efforts', 'lumumba', 'solid', 'interesting', 'educational', 'honest', 'docudrama', 'appeal', 'buffs', 'politicos', 'intelligence', 'telling', \"i've\", 'hollywood', 'months', 'give', 'b+'], ['apparently', 'director', 'tony', 'kaye', 'major', 'battle', 'line', 'american', 'history', 'details', 'fight', 'happy', 'final', 'product', 'removed', 'credits', 'altogether', \"i've\", 'heard', 'kind', 'thing', 'happening', 'makes', 'input', 'studio', 'produce', 'found', 'american', 'history', 'extremely', 'good', 'tony', \"kaye's\", 'focused', 'touchy', 'subject', 'racism', 'powerful', 'charismatic', 'performance', 'edward', 'norton', 'hard', 'years', \"norton's\", 'fantastic', 'role', 'primal', 'fear', 'starring', 'making', 'star', 'norton', 'performers', 'work', 'american', 'history', 'performances', 'year', 'plays', 'young', 'man', 'named', 'derek', 'vinyard', 'skinhead', 'living', 'venice', 'beach', 'brother', 'danny', 'edward', 'furlong', 'mother', 'beverly', \"d'angelo\", 'sister', 'davin', 'jennifer', 'lien', 'opens', 'flashback', 'derek', 'brutally', 'kills', 'black', 'men', 'vandalizing', 'car', 'find', 'lands', 'prison', 'point', 'eyes', 'danny', 'present-time', 'danny', 'high', 'school', 'eager', 'follow', 'footsteps', 'brother', 'told', 'flashback', 'path', 'leads', \"derek's\", 'adoption', 'white', 'supremacy', 'derek', 'released', 'served', 'years', 'prison', 'finds', 'brother', 'full-blown', 'skinhead', 'derek', 'violence', 'brother', 'understand', 'racism', 'violence', 'bad', 'things', 'makes', 'interesting', 'young', 'men', 'stupid', 'thoughtless', 'people', 'intelligent', 'articulate', 'voice', 'beliefs', 'disturbingly', 'straightforward', 'terms', 'hard', 'controversial', 'preach', 'kaye', 'found', 'note', 'material', 'american', 'history', 'mainstream', 'redemption', 'phase', 'main', 'people', 'sympathetic', 'partially', 'disagree', 'advocate', 'racism', 'interesting', 'kaye', 'presents', 'derek', 'loud', 'obnoxious', 'man', 'smart', 'reasons', 'skinhead', 'believable', 'father', 'arbitrarily', 'killed', 'group', 'black', 'men', 'clear', 'passionate', 'beliefs', 'punk', 'excuse', 'beat', 'people', 'helps', 'kaye', 'actor', 'talented', 'norton', 'play', 'part', 'astonishing', 'frightening', 'norton', 'shaved', 'head', 'swastika', 'chest', 'addition', 'perfect', 'role', 'derek', 'requires', 'intelligence', 'depth', 'lot', 'shouting', 'norton', 'ease', 'meanest', 'derek', 'likable', 'quality', \"that's\", 'gutsy', 'approach', 'telling', 'skinhead', 'adds', 'depth', 'subplot', 'principal', \"danny's\", 'school', 'avery', 'brooks', 'obsessed', 'purging', 'hatred', 'danny', 'performances', 'terrific', 'standouts', 'furlong', \"d'angelo\", 'lien', 'visually', 'powerful', 'kaye', 'indulges', 'lot', 'interesting', 'artistic', 'choices', 'work', 'nicely', 'lots', 'slow-motion', 'strange', 'camera', 'angles', 'add', 'moody', 'atmosphere', 'lot', 'american', 'history', 'skims', 'past', 'greatness', 'minutes', 'climactic', 'moving', 'picture', 'ends', 'pretentious', 'preachy', 'resolution', 'featuring', 'narration', 'killed', 'smart', 'subtle', 'point', 'felt', 'slap', 'face', 'hand-fed', 'theme', 'simplistic', 'makes', 'tony', 'kaye', 'disliked', 'final', 'version', 'problem', 'hard', 'imagine', 'director', 'partially', 'pleased', 'good', 'timid', 'weak', 'american', 'history', 'manages', 'compelling', 'argument', 'racism', 'advocating'], ['colleagues', 'surprised', 'told', \"betsy's\", 'wedding', 'shocked', 'hear', 'reaction', 'understandable', 'revolves', 'molly', 'ringwald', \"hasn't\", 'made', 'worthwhile', '1986', 'fact', \"betsy's\", 'wedding', 'alan', 'alda', 'ringwald', 'making', 'duds', 'years', 'alda', 'involved', 'noteworthy', 'projects', 'including', 'crimes', 'misdemeanors', 'written', 'directed', 'alda', \"betsy's\", 'wedding', 'vibrant', 'slice-of-life', 'mixing', 'dramatic', 'moments', 'big', 'bowl', 'whimsical', 'humor', \"alda's\", 'comic', 'elixir', 'smooth', 'refreshing--and', 'change', 'pace', 'usual', 'summer', 'fare', 'bride', 'groom', 'molly', 'ringwald', 'dylan', 'walsh', 'pivotal', 'interesting', 'walsh', 'nonentity', 'screen', 'presence', 'door', 'knob', 'ringwald', 'simply', 'unbearable', 'easily', 'weakest', 'link', 'chain', 'hideous', 'short-cropped', 'orange', 'hair', 'red', 'lip-stick', 'grotesque', 'outfits', \"she's\", 'supposed', 'dress', 'designer', 'clown', 'matters', 'worse', \"ringwald's\", 'performance', 'matches', 'appearance', 'thankfully', 'alda', \"ringwald's\", 'screen', 'minimum', 'interested', 'colorful', 'periphery', 'wedding', 'device', 'bring', \"bride's\", 'working-class', 'italian', 'family', \"groom's\", 'rich', 'gentile', 'family', \"ringwald's\", 'folks', 'homey', 'down-to-earth', 'alda', 'free-spirited', 'father', 'madeline', 'kahn', 'practical', 'mother', 'ally', 'sheedy', 'lonely', 'sister', \"walsh's\", 'clan', 'hand', 'prim', 'proper', 'ostentatious', 'families', 'meet', 'mingle', 'culture', 'clash', 'puts', 'money', 'versus', 'values', 'ally', 'sheedy', 'wonderfully', 'understated', 'performance', \"film's\", 'pleasant', 'surprises', 'sheedy', 'expresses', 'eyes', 'ringwald', 'entire', 'body', 'anthony', 'lapaglia', 'seizes', 'spotlight', 'lapaglia', 'plays', 'stevie', 'dee', 'suave', 'overly', 'polite', 'mafioso', 'formally', 'courting', 'sheedy', 'old-fashioned', 'chivalry', \"lapaglia's\", 'sincere', 'dim-witted', 'riot', \"what's\", 'uncanny', 'lapaglia', 'dead', 'ringer', 'robert', 'de', 'niro', 'bit', 'alec', 'baldwin', 'thrown', 'good', 'measure', 'lapaglia', 'attended', 'de', 'niro', 'school', 'gangster', 'acting', 'inspired', 'performance', 'partly', 'tribute', 'role-model', 'partly', 'rip-off', 'star', 'born', 'star', 're-born', \"lapaglia's\", 'over-the-top', 'performance', 'missed', 'scrumptious', 'comic', 'acting', 'extends', 'sheedy', 'lapaglia', 'joe', 'pesci', 'sinks', 'teeth', 'role', \"alda's\", 'unscrupulous', 'brother-in-law', 'slum', 'lord', 'mob', 'ties', 'cheating', 'wife', 'catherine', \"o'hara\", 'alda', 'faced', 'challenge', 'directing', 'acting', 'finds', 'comic', 'touch', \"bride's\", 'financially-strapped', 'father', 'carpenter', 'dreams', 'bigger', 'wallet', 'adopts', \"alda's\", 'psychological', 'point', 'view', 'plan', 'wedding', 'pay', 'filmmaker', \"alda's\", 'style', 'humor', 'remarkably', 'restrained', 'tasteful', 'comic', 'genius', 'woody', 'allen', 'alda', 'possess', 'inspiration', 'ten', 'times', 'entertaining', 'slop', 'passes', 'comedy'], ['bloody', 'clashes', 'independence', 'won', 'lumumba', 'refused', 'pander', 'belgians', 'continued', 'condescending', 'paternalistic', 'relationship', 'congo', 'officers', 'general', 'janssens', 'rudi', 'delhem', 'force', 'publique', \"congo's\", 'army', 'caused', 'rebellions', 'undermining', 'lumumba', 'outraged', 'rape', 'murder', 'belgian', 'nationals', 'unrest', 'building', 'moise', 'tshombe', 'pascal', 'nzonzi', 'province', 'katanga', 'contained', '70', 'percent', \"country's\", 'resources', 'proclaimed', 'secession', 'lumumba', 'replaced', 'janssens', 'making', 'mobutu', 'colonel', 'pacification', 'tour', 'congolese', 'president', 'joseph', 'kasa', 'vubu', 'maka', 'kotto', 'late', \"'when\", 'drown', 'dog', 'rabies', 'prophesies', 'lumumba', 'fate', 'peck', 'bonitzer', 'exemplary', 'job', 'telling', 'complicated', 'tale', 'myriad', 'players', 'frequently', 'succumb', 'cliche', \"lumumba's\", 'private', \"peck's\", 'script', 'illuminates', 'bantu', 'sayings', \"'the\", 'hand', \"rules'\", 'lumumba', 'american', 'ambassador', \"peck's\", 'direction', 'assured', 'playing', 'standard', 'television', 'fare', 'served', 'casting', 'ebouaney', 'title', 'role', 'ebouaney', 'dynamic', 'radiating', \"character's\", 'fierce', 'passion', 'people', 'country', \"lumumba's\", 'intelligence', 'ability', 'strategize', 'cornered', 'insurmountable', 'odds', 'ebouaney', \"peck's\", 'subject', 'lead', 'actor', 'elevate', 'mediocre', 'production', 'lumumba', 'deserves', 'told', \"ebouaney's\", 'performance', 'makes', 'tragedy', 'personally', 'felt'], ['american', 'action', 'slowly', 'drowning', 'death', 'sea', 'asian', 'wire-fu', 'copycats', 'pretty', 'death', 'leaving', 'likes', 'schwartznager', 'stallone', 'van', 'damme', 'wearing', 'cement', 'galoshes', 'bottom', 'kung', 'fu', 'sea', 'mix', 'results', 'mind-blowing', 'spectacle', 'unlike', 'quality', 'action', 'amazing', 'exciting', 'stunt', 'work', \"1999's\", 'matrix', 'real', 'gem', 'hollywood', 'wrong', 'pay', 'chinese', 'directors', 'flying', 'ninjas', 'floating', 'karate', 'masters', 'replaced', 'soaring', 'bronx', 'detectives', 'slow', 'motion', 'kicking', 'scientists', 'laughable', \"hollywood's\", 'rush', 'emulate', 'success', 'matrix', 'trademark', 'asian', 'stunt', 'choreography', 'joke', 'art', 'form', 'iron', 'monkey', 'latest', 'asian', 'import', 'shows', 'iron', 'monkey', 'reissue', '1993', '19th', 'chinese', 'vigilante', 'rongguang', 'yu', 'fighting', 'unique', 'style', 'shaolin', 'kung', 'fu', 'rights', 'oppressed', 'bellies', 'hungry', 'piece', 'narrative', 'legendary', 'chinese', 'hero', 'wong', 'fei-hong', 'recently', 'overlooked', 'possibly', '2000', 'drunken', 'master', '2', 'released', 'legend', 'drunken', 'master', 'unlike', 'drunken', 'master', '2', 'stars', 'jackie', 'chan', 'adult', 'fei-hong', 'iron', 'monkey', 'finds', 'younger', 'fei-hong', 'sze-man', 'tsang', 'father', 'wong', 'kei-ying', 'yen', 'chi', 'dan', 'thrust', 'middle', 'iron', \"monkey's\", 'fight', 'oppression', 'iron', 'monkey', 'succeeds', 'kung', 'fu', 'drunken', 'master', '2', 'times', 'fighting', 'styles', 'monkey', 'devolve', 'ridiculous', 'twinkle-toed', 'floating', 'crouching', 'tiger', 'hidden', 'dragon', 'director', 'yuen', 'wo', 'ping', 'eventually', 'remembers', 'bring', 'action', 'back', 'earth', 'iron', 'monkey', 'heart', 'hardcore', 'kung', 'fu', 'action', 'kind', 'drama', 'la', 'crouching', 'tiger', 'moments', 'profoundness', 'shared', 'pass', 'outlaw', 'hero', 'good-hearted', 'misguided', 'enemy', 'chief', 'fox', 'moments', 'iron', 'monkey', 'manages', 'transcend', 'mindless', 'kung', 'fu', 'nature', 'touch', 'hearts', 'minds', 'audience', 'equal', 'masterpiece', 'drunken', 'master', '2', 'iron', 'monkey', 'dances', 'nicely', 'invading', 'kung', 'fu', 'tune', 'aka', 'siunin', 'wong', 'fei-hung', 'tsi', 'titmalau']]\n"
     ]
    }
   ],
   "source": [
    "print(movie_reviews[:10])\n",
    "print(domainfilteredunstemmed_movie_reviews[:10])"
   ]
  },
  {
   "attachments": {},
   "cell_type": "markdown",
   "metadata": {},
   "source": [
    "Since the Coherence score seems low for the model without using the SnowballStemmer, trying on model after using it."
   ]
  },
  {
   "cell_type": "code",
   "execution_count": 139,
   "metadata": {},
   "outputs": [
    {
     "name": "stdout",
     "output_type": "stream",
     "text": [
      "Perplexity for Model 4:  -8.651938001372137\n",
      "Coherence score for Model 4:  nan\n"
     ]
    }
   ],
   "source": [
    "#computing perplexity for model 4\n",
    "print('Perplexity for Model 4: ', reviews_ldamodel_4.log_perplexity(movie_bow_corpus_4))\n",
    "\n",
    "#computing coherence score for model 4\n",
    "coherence_model_lda = CoherenceModel(model=reviews_ldamodel_4, texts=movie_reviews, dictionary=movie_dictionary4, coherence='c_v')\n",
    "coherence_lda = coherence_model_lda.get_coherence()\n",
    "print('Coherence score for Model 4: ', coherence_lda)\n"
   ]
  },
  {
   "cell_type": "markdown",
   "metadata": {},
   "source": [
    "However, just comparing numbers is not very interpretable. We will choose our topic model with the highest coherence score and validate the evaluation.\n",
    "\n",
    "Using the top 20 topic words for each topic in the model with the highest coherence score, pick at least 5 topic numbers and determine what film genres (in an informal sense) they represent, i.e. think of a meaningful label for the topic. Write down the topic number and your topic label. Is it easy to guess what the topic represents? For how many topics are you fairly confident, for how many do you have to make a guess, and for how many do you have no real clue."
   ]
  },
  {
   "cell_type": "markdown",
   "metadata": {},
   "source": [
    "(your answer here)"
   ]
  },
  {
   "cell_type": "raw",
   "metadata": {},
   "source": [
    "To validate your guessed topic label, we could check the probability that the word you chose as a label belongs to each topic. We could do that using the get_term_topics method. For example, the code below checks the probability of the word \"the\" for each topic in the `reviews_ldamodel` model:"
   ]
  },
  {
   "cell_type": "code",
   "execution_count": null,
   "metadata": {},
   "outputs": [
    {
     "data": {
      "text/plain": [
       "[(1, 0.052959308), (3, 0.03552808), (4, 0.0030824954)]"
      ]
     },
     "execution_count": 68,
     "metadata": {},
     "output_type": "execute_result"
    }
   ],
   "source": [
    "reviews_ldamodel.get_term_topics(\"the\", minimum_probability = 1e-3)"
   ]
  },
  {
   "cell_type": "markdown",
   "metadata": {},
   "source": [
    "Do this for your own best model and the labels you just picked. For each of your topic labels, if the probability for the label is the highest for the topic number you wrote down, your guess was probably correct. Did you guess a suitable label for every topic?"
   ]
  },
  {
   "cell_type": "code",
   "execution_count": 112,
   "metadata": {},
   "outputs": [
    {
     "data": {
      "text/plain": [
       "[(0, 0.0024713383),\n",
       " (1, 0.004900068),\n",
       " (2, 0.0020549402),\n",
       " (3, 0.0034489438),\n",
       " (4, 0.004087925),\n",
       " (5, 0.0034804526),\n",
       " (6, 0.0035401687),\n",
       " (7, 0.0042395815)]"
      ]
     },
     "execution_count": 112,
     "metadata": {},
     "output_type": "execute_result"
    }
   ],
   "source": [
    "# your code here\n",
    "reviews_ldamodel_5.get_term_topics(\"good\", minimum_probability = 1e-3)"
   ]
  },
  {
   "cell_type": "markdown",
   "metadata": {},
   "source": [
    "(your answer here)"
   ]
  },
  {
   "cell_type": "markdown",
   "metadata": {},
   "source": [
    "In a real project, you would also want to validate your topics by examining the reviews that are most strongly associated with that topic. You can see what documents have what topics using the get_document_topics() method. Here we look at the topics for the first document in the model (change the name of the model to yours):"
   ]
  },
  {
   "cell_type": "code",
   "execution_count": 104,
   "metadata": {},
   "outputs": [
    {
     "data": {
      "text/plain": [
       "[(0, 0.00015640355),\n",
       " (1, 0.00015646798),\n",
       " (2, 0.00015646858),\n",
       " (3, 0.00015643754),\n",
       " (4, 0.23685333),\n",
       " (5, 0.75400776),\n",
       " (6, 0.00015644266),\n",
       " (7, 0.008356733)]"
      ]
     },
     "execution_count": 104,
     "metadata": {},
     "output_type": "execute_result"
    }
   ],
   "source": [
    "reviews_ldamodel_5.get_document_topics(movie_bow_corpus[0], minimum_probability = 0)"
   ]
  },
  {
   "cell_type": "markdown",
   "metadata": {},
   "source": [
    "Or for the first 20 of them:"
   ]
  },
  {
   "cell_type": "code",
   "execution_count": 103,
   "metadata": {},
   "outputs": [
    {
     "name": "stdout",
     "output_type": "stream",
     "text": [
      "Topics for the review cv000_29590.txt: [(4, 0.23686397), (5, 0.75400853)]\n",
      "Topics for the review cv001_18431.txt: [(1, 0.17214037), (4, 0.3357013), (5, 0.4835417)]\n",
      "Topics for the review cv002_15918.txt: [(1, 0.4678076), (4, 0.037359186), (5, 0.49348322)]\n",
      "Topics for the review cv003_11664.txt: [(1, 0.22001721), (4, 0.15501367), (5, 0.37171966), (6, 0.24740753)]\n",
      "Topics for the review cv004_11636.txt: [(1, 0.3063768), (4, 0.13730076), (5, 0.48968762), (7, 0.065961674)]\n",
      "Topics for the review cv005_29443.txt: [(1, 0.21698801), (3, 0.11653629), (4, 0.13869707), (5, 0.42899436), (6, 0.098395616)]\n",
      "Topics for the review cv006_15448.txt: [(1, 0.10966835), (3, 0.04555083), (4, 0.25933298), (5, 0.54796857), (7, 0.03553256)]\n",
      "Topics for the review cv007_4968.txt: [(1, 0.17226005), (4, 0.35740015), (5, 0.46585268)]\n",
      "Topics for the review cv008_29435.txt: [(1, 0.24910447), (4, 0.1768782), (5, 0.49528638), (6, 0.077033974)]\n",
      "Topics for the review cv009_29592.txt: [(0, 0.026072387), (1, 0.30831927), (4, 0.100231715), (5, 0.54600084), (6, 0.017490067)]\n",
      "Topics for the review cv010_29198.txt: [(0, 0.04091186), (1, 0.12812093), (3, 0.18454787), (4, 0.20965049), (5, 0.37366164), (7, 0.062845916)]\n",
      "Topics for the review cv011_12166.txt: [(1, 0.09451613), (4, 0.13452391), (5, 0.4652148), (7, 0.3050963)]\n",
      "Topics for the review cv012_29576.txt: [(1, 0.28790107), (2, 0.08066261), (4, 0.29419616), (5, 0.33586454)]\n",
      "Topics for the review cv013_10159.txt: [(1, 0.2653653), (2, 0.062415484), (4, 0.22645813), (5, 0.42133808), (6, 0.023273405)]\n",
      "Topics for the review cv014_13924.txt: [(0, 0.023460407), (1, 0.2057114), (4, 0.25402486), (5, 0.4429898), (6, 0.04884386), (7, 0.024131237)]\n",
      "Topics for the review cv015_29439.txt: [(0, 0.16265708), (1, 0.069366544), (4, 0.14285026), (5, 0.4844898), (6, 0.097596765), (7, 0.042664256)]\n",
      "Topics for the review cv016_4659.txt: [(0, 0.10753614), (1, 0.1590277), (3, 0.040197134), (4, 0.23231986), (5, 0.3334047), (6, 0.03112908), (7, 0.088350184)]\n",
      "Topics for the review cv017_22464.txt: [(1, 0.21226217), (3, 0.1638419), (4, 0.18152823), (5, 0.31594056), (6, 0.03520273), (7, 0.090952896)]\n",
      "Topics for the review cv018_20137.txt: [(1, 0.19034846), (4, 0.42004737), (5, 0.34887022), (6, 0.020900374), (7, 0.01911971)]\n",
      "Topics for the review cv019_14482.txt: [(1, 0.075619675), (2, 0.06083033), (4, 0.45070988), (5, 0.3281737), (6, 0.06466977), (7, 0.019586587)]\n"
     ]
    }
   ],
   "source": [
    "for i, doc_topics in enumerate(reviews_ldamodel_5.get_document_topics(movie_bow_corpus)):\n",
    "    if i >= 20:\n",
    "        break\n",
    "    print(f\"Topics for the review {movie_reviewnames[i]}: {doc_topics}\")"
   ]
  },
  {
   "cell_type": "markdown",
   "metadata": {},
   "source": [
    "But this assignment is already long enough so I will not ask you to report on this too!"
   ]
  }
 ],
 "metadata": {
  "colab": {
   "provenance": []
  },
  "kernelspec": {
   "display_name": "Python 3 (ipykernel)",
   "language": "python",
   "name": "python3"
  },
  "language_info": {
   "codemirror_mode": {
    "name": "ipython",
    "version": 3
   },
   "file_extension": ".py",
   "mimetype": "text/x-python",
   "name": "python",
   "nbconvert_exporter": "python",
   "pygments_lexer": "ipython3",
   "version": "3.10.11"
  }
 },
 "nbformat": 4,
 "nbformat_minor": 4
}
