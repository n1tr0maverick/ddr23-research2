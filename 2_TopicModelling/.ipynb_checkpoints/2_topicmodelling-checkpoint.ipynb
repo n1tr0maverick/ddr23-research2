{
 "cells": [
  {
   "cell_type": "markdown",
   "metadata": {
    "id": "KV-UrkvK3HBQ"
   },
   "source": [
    "# Data-Driven Research Assignment 2: Topic Modeling\n",
    "This notebook contains the second, collaborative, graded assignment of the 2023 Data-Driven Research course. In this assignment you'll use a topic modeling tool in order to uncover the ''topics'' of a large set of reviews of popular films. \n",
    "\n",
    "To complete the assignment, complete **Part 1, Part 2, Part 3 and Part 4** of the **Your Model** section at the end."
   ]
  },
  {
   "cell_type": "markdown",
   "metadata": {
    "id": "13WY-Pd4m1Nq"
   },
   "source": [
    "This is a collaborative assignment. In the text cell below, please include all the names of your group members.\n",
    "\n",
    "If you used code or a solution from the internet (such as StackOverflow) or another external resource, please make reference to it (in any format). Unattributed copied code will be considered plagiarism and therefore fraud.\n"
   ]
  },
  {
   "cell_type": "markdown",
   "metadata": {
    "id": "FnYtJb9olXd0"
   },
   "source": [
    "**Authors of this answer:**"
   ]
  },
  {
   "cell_type": "markdown",
   "metadata": {
    "id": "gV4eOyrVqRHQ"
   },
   "source": [
    "# 1. Introduction\n",
    "\n",
    "You'll use a Topic Modelling tool from Gensim, a popular library for topic modelling in Python, though these days mainly known for its implementation of Word2Vec to train word embeddings (dense representations). Using this library, you will model topics based on reviews of popular films. The reviews are stored in plain text files, organized by film and rating. The aim of this exercise is to familiarize you with the topic modeling process and its output and to get insight in what kinds of topics are modeled."
   ]
  },
  {
   "cell_type": "markdown",
   "metadata": {
    "id": "uaPXV7qlq9oa"
   },
   "source": [
    "# 2. Preparation\n",
    "\n",
    "This assignment comes with the following files:\n",
    "\n",
    "\n",
    "1.   The reviews of the films. This is the data in which we want to find topics. They are found in the movie2k/txt_sentoken directory. There are then two types: negative reviews (neg directory) and positive reviews (pos directory). The reviews are already tokenized.\n",
    "2.   Stopword list files. They are found in the stopwords directory.\n",
    "\n",
    "Let's start by loading the movie reviews from the files (I'll do it for you):"
   ]
  },
  {
   "cell_type": "code",
   "execution_count": null,
   "metadata": {
    "id": "jp-zI1sNQfPD"
   },
   "outputs": [],
   "source": [
    "import os\n",
    "\n",
    "def load_reviews(folder_path):\n",
    "    reviews = [] #Make a list to put the reviews in\n",
    "    reviewnames = [] # Make a list to put the review filenames in (to be able to look them up later)\n",
    "    tokens = 0 #Make a counter for the number of tokens\n",
    "    \n",
    "    for file in os.listdir(folder_path):\n",
    "        #Loop through all the text files in the folder, each containing one review\n",
    "        \n",
    "        if not file.endswith('.txt'):  #Only read text files\n",
    "            continue\n",
    "\n",
    "        file_path = os.path.join(folder_path, file)\n",
    "\n",
    "        #Open the text file and read its contents\n",
    "        with open(file_path, encoding='utf-8') as infile:\n",
    "            review = infile.read()\n",
    "        reviewnames.append(file)\n",
    "            \n",
    "        # Turn the string with the review into a list of words (this is easy because it is already tokenized)\n",
    "        review = review.split()\n",
    "        # And add it to the list\n",
    "        reviews.append(review)\n",
    "        # To count the number of tokens processed so far\n",
    "        tokens = tokens + len(review)\n",
    "\n",
    "    print(f\"Loaded reviews from {folder_path} containing {tokens} tokens in total.\") \n",
    "    return reviews, reviewnames\n",
    "        \n",
    "folder_path = \"movie2k/txt_sentoken\"\n",
    "    \n",
    "movie_reviews_pos, movie_reviewnames_pos = load_reviews(folder_path + \"/pos\") #Load the positive reviews\n",
    "movie_reviews_neg, movie_reviewnames_neg = load_reviews(folder_path + \"/neg\") #Load the negative reviews\n",
    "\n",
    "movie_reviews = movie_reviews_pos + movie_reviews_neg #Combine the lists of positive and negative reviews into one\n",
    "movie_reviewnames = movie_reviewnames_pos + movie_reviewnames_neg #The same for the list of filenames"
   ]
  },
  {
   "cell_type": "markdown",
   "metadata": {
    "id": "tUb1NfU7Q_do"
   },
   "source": [
    "If you are working on Google Colab, you will probably have to change the path to the files to something that Google Colab has access to. For example, you could put the files on your Google Drive and then load them from there, as we did in Coding the Humanities. For more details about how to work with files in Python and load them from Google Drive, have a look at the Coding the Humanities course notebook on Files: https://github.com/bloemj/2023-coding-the-humanities/blob/main/notebooks/4_ReadingAndWritingFiles.ipynb\n",
    "\n",
    "How to load files off Google Drive is explained at the beginning there."
   ]
  },
  {
   "cell_type": "markdown",
   "metadata": {},
   "source": [
    "## Preprocessing\n",
    "\n",
    "Now that we have loaded the text, you might want to perform some pre-processing steps to be able to create a better bag-of-words model in which all forms of a word are mapped to a single number. For example, you could remove the punctuation characters, or you could perform lemmatization or stemming, which we discussed in the lecture. This would be the place to do it by writing a preprocessing function that accepts a list of movie reviews as its argument and returns a preprocessed list of movie reviews. Feel free to use your knowledge of text normalization from Coding the Humanities or the functions you wrote then. Here is some information on how to perform stemming with NLTK: https://www.nltk.org/howto/stem.html\n",
    "\n",
    "You can also try other forms of preprocessing, if you are able to do it.\n",
    "\n",
    "Make sure to also keep the unmodified reviews, so you can compare the results with preprocessing and without preprocessing.\n",
    "\n",
    "**Part 1: Preprocessing**\n",
    "\n",
    "You can also skip this part for now - it is not required to perform the topic modelling, but you will get better results."
   ]
  },
  {
   "cell_type": "code",
   "execution_count": null,
   "metadata": {},
   "outputs": [],
   "source": [
    "from nltk.stem import *\n",
    "import string\n",
    "\n",
    "preprocessed_movie_reviews = []\n",
    "\n",
    "# your code here"
   ]
  },
  {
   "cell_type": "markdown",
   "metadata": {
    "id": "fYf1LwMRlXd3"
   },
   "source": [
    "# 3. Topic Modelling using Gensim\n",
    "\n",
    "Gensim offers an implementation of Latent Dirichlet Allocation (LDA), the most popular topic modelling algorithm, which we discussed in the lecture. If you are working on Google Colab, it is normally already installed there. Otherwise, you can install it with `pip install --upgrade gensim` or if you are using Conda, `conda install -c conda-forge gensim`.\n",
    "\n",
    "Let's load it, and some other things we use:"
   ]
  },
  {
   "cell_type": "code",
   "execution_count": null,
   "metadata": {
    "id": "w3KtsubolXd3"
   },
   "outputs": [],
   "source": [
    "import gensim\n",
    "import gensim.corpora as corpora\n",
    "import gensim.models as models\n",
    "import itertools\n",
    "from operator import itemgetter\n",
    "print(gensim.__version__)"
   ]
  },
  {
   "cell_type": "markdown",
   "metadata": {
    "id": "pOrYQV90lXd6"
   },
   "source": [
    "## Constructing the bag-of-words model\n",
    "\n",
    "The `gensim.corpora.Dictionary()` class allows you to map words to numbers, which is what we need to make a bag-of-words model. In particular, the doc2bow() function converts a collection of words to a bag-of-words representation:"
   ]
  },
  {
   "cell_type": "code",
   "execution_count": null,
   "metadata": {
    "id": "OXwSQdqRtUx6"
   },
   "outputs": [],
   "source": [
    "movie_dictionary = corpora.Dictionary(movie_reviews)\n",
    "movie_bow_corpus = [movie_dictionary.doc2bow(d) for d in movie_reviews]"
   ]
  },
  {
   "cell_type": "markdown",
   "metadata": {},
   "source": [
    "Let's see what happened:"
   ]
  },
  {
   "cell_type": "code",
   "execution_count": null,
   "metadata": {},
   "outputs": [],
   "source": [
    "print('Number of unique tokens in the dataset:', len(movie_dictionary))\n",
    "\n",
    "#Checking the first 11 words in the bag-of-words model\n",
    "print('\\nThe first 11 words in the bag-of-words model:')\n",
    "print(dict(itertools.islice(movie_dictionary.token2id.items(), 12)))\n",
    "\n",
    "#Checking the first 100 words of the first review\n",
    "print('\\nThe start of the first review:')\n",
    "print(movie_reviews[0][:100])\n",
    "#And the filename of that review is...\n",
    "print('\\nThe filename of the first review:')\n",
    "print(movie_reviewnames[0])\n",
    "\n",
    "#Which words are used in that review?\n",
    "print('\\nMost frequent words in the first review:')\n",
    "for i, freq in sorted(movie_bow_corpus[0], key=itemgetter(1), reverse=True)[:20]:\n",
    "    print(movie_dictionary[i], \"-->\", freq)\n",
    "print(\"...\")"
   ]
  },
  {
   "cell_type": "markdown",
   "metadata": {},
   "source": [
    "## The topic model\n",
    "\n",
    "Now, we can train our LDA model on this bag-of-words data by using `gensim.models.ldamodel.LDAModel()`.\n",
    "\n",
    "This model can take various parameters that specify what kind of model gets made. Some important ones:\n",
    "\n",
    "\n",
    "* num_topics: how many topics do we want? In what follows, we set the number of topics to 5, because we want to have a few topics that we can interpret, but the number of topics is data and application-dependent;\n",
    "* id2word: our bag-of-words dictionary needed to map ids to strings;\n",
    "* passes: how often we iterate over the entire corpus (default = 1). In general, the more passes, the higher the accuracy. This number is also called epochs in Artificial Intelligence and Machine Learning.\n",
    "\n",
    "Let's first make a model that finds 5 topics, and tries 25 times to improve its estimate. This code may take a while to run, as it is the process that creates the topic model. If it takes too long, you can reduce the number of passes, but the topics might be worse."
   ]
  },
  {
   "cell_type": "code",
   "execution_count": null,
   "metadata": {
    "id": "UkT4re_Muowp"
   },
   "outputs": [],
   "source": [
    "reviews_ldamodel = models.ldamodel.LdaModel(movie_bow_corpus, num_topics=5, id2word = movie_dictionary, passes=25)"
   ]
  },
  {
   "cell_type": "markdown",
   "metadata": {},
   "source": [
    "And let's have a look! An easy way to inspect the created topics is by using the `show_topics()` method, which prints the most representative word for each topic along with their probability."
   ]
  },
  {
   "cell_type": "code",
   "execution_count": null,
   "metadata": {},
   "outputs": [],
   "source": [
    "reviews_ldamodel.show_topics(num_words=8) #Show the top 8 words for each topic"
   ]
  },
  {
   "cell_type": "markdown",
   "metadata": {},
   "source": [
    "There we go, we have a topic model. However, you can probably see that it is far from perfect and some uninteresting 'words' appear there. Now, it is your turn to make it better!\n",
    "\n",
    "## Your model\n",
    "\n",
    "**Part 1: Preprocessing**\n",
    "\n",
    "Show the effect of your preprocessing by also making a topic model for your preprocessed_movie_reviews. First, you make a bag-of-words model and then the LdaModel, as above. Feel free to go back to your preprocessing code above and update it based on what you saw from the show_topics function applied to the initial model.\n",
    "\n",
    "Try to make a model with 8 topics, and show the top 8 words for each topic. **Assign the model to a new variable with a sensible name** (avoid overwriting the previous models).\n",
    "\n",
    "Also for the dictionary and corpus, **give the variables different and expressive names to avoid overwriting the other ones**. Otherwise, you will get confused between your different topic models."
   ]
  },
  {
   "cell_type": "code",
   "execution_count": null,
   "metadata": {},
   "outputs": [],
   "source": [
    "# your code here"
   ]
  },
  {
   "cell_type": "markdown",
   "metadata": {},
   "source": [
    "**Part 2: Stopwords**\n",
    "\n",
    "The topics you saw so far are probably mostly made up of stopwords such as \"the\". As discussed in the lecture, our results will probably be more interesting if we get rid of them.\n",
    "\n",
    "We have included 3 generic lists of stopwords: the default list of the tool Mallet, a shorter frequent word list used in search applications (Snowball stemmer), and the top 10,000 words based on Google n-grams (in frequency order, select as many lines as you want). Gensim and NLTK also have stopword lists.\n",
    "\n",
    "Make a function that accepts the path to a stopwords file (e.g. `stopwords/standard-mallet-en.txt`), and returns a list of stopwords."
   ]
  },
  {
   "cell_type": "code",
   "execution_count": null,
   "metadata": {},
   "outputs": [],
   "source": [
    "def load_stopwords(filename):\n",
    "    \n",
    "    #your code here\n",
    "    \n",
    "    return stopword_list\n",
    "\n",
    "stopword_list = load_stopwords(\"stopwords/standard-mallet-en.txt\")"
   ]
  },
  {
   "cell_type": "markdown",
   "metadata": {},
   "source": [
    "Then, make a function that takes a stopword list and a list of reviews (e.g. `preprocessed_movie_reviews`). The function should remove all stopwords from all the reviews, returning a list of the reviews without stopwords. This code may be a bit slow if you have many stopwords, since there is a lot of data to process."
   ]
  },
  {
   "cell_type": "code",
   "execution_count": null,
   "metadata": {},
   "outputs": [],
   "source": [
    "def filter_stopwords(stopword_list, movie_reviews):\n",
    "    \n",
    "    filtered_movie_reviews = []\n",
    "    \n",
    "    for review in movie_reviews:\n",
    "        \n",
    "        #your code here\n",
    "        \n",
    "    return filtered_movie_reviews\n",
    "\n",
    "filtered_movie_reviews = filter_stopwords(stopword_list, preprocessed_movie_reviews)"
   ]
  },
  {
   "cell_type": "markdown",
   "metadata": {},
   "source": [
    "Lastly, let's make another topic model with this filtered data! Again, you make a bag-of-words model and then the LdaModel, as above.\n",
    "\n",
    "Try to make a model with 8 topics, and show the top 8 words for each topic. Assign the model to a new variable with a sensible name (avoid overwriting the previous models)."
   ]
  },
  {
   "cell_type": "code",
   "execution_count": null,
   "metadata": {},
   "outputs": [],
   "source": [
    "# your code here"
   ]
  },
  {
   "cell_type": "markdown",
   "metadata": {},
   "source": [
    "**Part 3: Experimentation**\n",
    "\n",
    "Are these general stopword lists sufficient? We are working in the movie review domain, meaning that we may have other uninformative stopwords than in the general domain, such as the word 'movie'. Some key experimentation is to add specific stopwords for the movie review domain, which would occur frequently in all (or most) of the clusters. Note that removing words will not just hide these words, but lead to (even very) different topics and different top ranked reviews.\n",
    "\n",
    "**Make your own domain-specific stopwords file** by taking one of the existing ones and adding your own stopwords (make sure that the stopword file is saved as a plain text file). Think about what stopwords are in this domain (e.g., the word film is not a stopword in general, but it will occur in essentially every film review).\n",
    "\n",
    "Re-use the functions you previously made to load your own stopwords file and filter the movie reviews. Then, make another topic model with your new filtering and show the top 8 words for each topic."
   ]
  },
  {
   "cell_type": "code",
   "execution_count": null,
   "metadata": {},
   "outputs": [],
   "source": [
    "my_stopword_list = load_stopwords(\"stopwords/my_movie_stopwords.txt\")\n",
    "domainfiltered_movie_reviews = filter_stopwords(my_stopword_list, preprocessed_movie_reviews)\n",
    "\n",
    "# your code here"
   ]
  },
  {
   "cell_type": "markdown",
   "metadata": {},
   "source": [
    "Now, you should have 3 models (or more): one without any stopword filtering, one with the standard stopword filtering and one with the domain-filtered stopwords using the list you modified yourself. Compare the topics found by the three models (just looking at them is fine, no need to code a comparison).\n",
    "\n",
    "Do the topics look better with stopword filtering and with domain-specific stopword filtering? At this point, do the resulting topics correspond to particular film genres you have expected?"
   ]
  },
  {
   "cell_type": "markdown",
   "metadata": {},
   "source": [
    "(your answer here)"
   ]
  },
  {
   "cell_type": "markdown",
   "metadata": {},
   "source": [
    "Increase the number of topics. What happens with the topics if you model very few or very many topics? (answer in a text box). Assign the model(s) to a new variable with a sensible name (avoid overwriting the previous models)."
   ]
  },
  {
   "cell_type": "code",
   "execution_count": null,
   "metadata": {},
   "outputs": [],
   "source": [
    "# your code here"
   ]
  },
  {
   "cell_type": "markdown",
   "metadata": {},
   "source": [
    "(your answer here)"
   ]
  },
  {
   "cell_type": "markdown",
   "metadata": {},
   "source": [
    "Increase the number of topic words printed to get more information per topic.  Is it easier to make sense of a topic if you look further down the list, or are the initial words more clear?"
   ]
  },
  {
   "cell_type": "code",
   "execution_count": null,
   "metadata": {},
   "outputs": [],
   "source": [
    "# your code here"
   ]
  },
  {
   "cell_type": "markdown",
   "metadata": {},
   "source": [
    "(your answer here)"
   ]
  },
  {
   "cell_type": "markdown",
   "metadata": {},
   "source": [
    "If you are interested, you can also experiment with the difference between positive and negative reviews."
   ]
  },
  {
   "cell_type": "markdown",
   "metadata": {
    "id": "tnyB5hCglXeB",
    "tags": []
   },
   "source": [
    "### Part 4: Evaluation\n",
    "\n",
    "There are a few numbers we can compute that indicate the quality of a topic model, such as [perplexity and coherence](https://github.com/ccs-amsterdam/r-course-material/blob/master/tutorials/R_text_LDA_perplexity.md). For perplexity, a lower number means a better model, and for coherence, a higher number is better. Try computing these scores for your models, and see which is the best one according to the numbers\n",
    "\n",
    "In a real project, you should compute these numbers over a separate part of the dataset (the test set) for a proper evaluation, but for simplicity and because we have not talked about this in the lecture we will skip that here."
   ]
  },
  {
   "cell_type": "code",
   "execution_count": null,
   "metadata": {},
   "outputs": [],
   "source": [
    "from gensim.models import CoherenceModel\n",
    "\n",
    "#Compute perplexity for the basic model on the bag-of-words representation of the reviews:\n",
    "print('Perplexity: ', reviews_ldamodel.log_perplexity(movie_bow_corpus))  \n",
    "\n",
    "# Compute coherence score on the same:\n",
    "coherence_model_lda = CoherenceModel(model=reviews_ldamodel, texts=movie_reviews, dictionary=movie_dictionary, coherence='c_v')\n",
    "coherence_lda = coherence_model_lda.get_coherence()\n",
    "print('Coherence score: ', coherence_lda)"
   ]
  },
  {
   "cell_type": "code",
   "execution_count": null,
   "metadata": {},
   "outputs": [],
   "source": [
    "# Compute these numbers for your other models here"
   ]
  },
  {
   "cell_type": "markdown",
   "metadata": {},
   "source": [
    "However, just comparing numbers is not very interpretable. We will choose our topic model with the highest coherence score and validate the evaluation.\n",
    "\n",
    "Using the top 20 topic words for each topic in the model with the highest coherence score, pick at least 5 topic numbers and determine what film genres (in an informal sense) they represent, i.e. think of a meaningful label for the topic. Write down the topic number and your topic label. Is it easy to guess what the topic represents? For how many topics are you fairly confident, for how many do you have to make a guess, and for how many do you have no real clue."
   ]
  },
  {
   "cell_type": "markdown",
   "metadata": {},
   "source": [
    "(your answer here)"
   ]
  },
  {
   "cell_type": "raw",
   "metadata": {},
   "source": [
    "To validate your guessed topic label, we could check the probability that the word you chose as a label belongs to each topic. We could do that using the get_term_topics method. For example, the code below checks the probability of the word \"the\" for each topic in the `reviews_ldamodel` model:"
   ]
  },
  {
   "cell_type": "code",
   "execution_count": null,
   "metadata": {},
   "outputs": [],
   "source": [
    "reviews_ldamodel.get_term_topics(\"the\", minimum_probability = 1e-3)"
   ]
  },
  {
   "cell_type": "markdown",
   "metadata": {},
   "source": [
    "Do this for your own best model and the labels you just picked. For each of your topic labels, if the probability for the label is the highest for the topic number you wrote down, your guess was probably correct. Did you guess a suitable label for every topic?"
   ]
  },
  {
   "cell_type": "code",
   "execution_count": null,
   "metadata": {},
   "outputs": [],
   "source": [
    "# your code here"
   ]
  },
  {
   "cell_type": "markdown",
   "metadata": {},
   "source": [
    "(your answer here)"
   ]
  },
  {
   "cell_type": "markdown",
   "metadata": {},
   "source": [
    "In a real project, you would also want to validate your topics by examining the reviews that are most strongly associated with that topic. You can see what documents have what topics using the get_document_topics() method. Here we look at the topics for the first document in the model (change the name of the model to yours):"
   ]
  },
  {
   "cell_type": "code",
   "execution_count": null,
   "metadata": {},
   "outputs": [],
   "source": [
    "reviews_ldamodel.get_document_topics(movie_bow_corpus[0], minimum_probability = 0)"
   ]
  },
  {
   "cell_type": "markdown",
   "metadata": {},
   "source": [
    "Or for the first 20 of them:"
   ]
  },
  {
   "cell_type": "code",
   "execution_count": null,
   "metadata": {},
   "outputs": [],
   "source": [
    "for i, doc_topics in enumerate(reviews_ldamodel.get_document_topics(movie_bow_corpus)):\n",
    "    if i >= 20:\n",
    "        break\n",
    "    print(f\"Topics for the review {movie_reviewnames[i]}: {doc_topics}\")"
   ]
  },
  {
   "cell_type": "markdown",
   "metadata": {},
   "source": [
    "But this assignment is already long enough so I will not ask you to report on this too!"
   ]
  }
 ],
 "metadata": {
  "colab": {
   "provenance": []
  },
  "kernelspec": {
   "display_name": "Python 3 (ipykernel)",
   "language": "python",
   "name": "python3"
  },
  "language_info": {
   "codemirror_mode": {
    "name": "ipython",
    "version": 3
   },
   "file_extension": ".py",
   "mimetype": "text/x-python",
   "name": "python",
   "nbconvert_exporter": "python",
   "pygments_lexer": "ipython3",
   "version": "3.8.10"
  }
 },
 "nbformat": 4,
 "nbformat_minor": 4
}
