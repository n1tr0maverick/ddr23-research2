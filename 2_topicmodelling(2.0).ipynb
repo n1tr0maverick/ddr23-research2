{
  "cells": [
    {
      "cell_type": "markdown",
      "metadata": {
        "id": "view-in-github",
        "colab_type": "text"
      },
      "source": [
        "<a href=\"https://colab.research.google.com/github/n1tr0maverick/ddr23-research2/blob/main/2_topicmodelling(2.0).ipynb\" target=\"_parent\"><img src=\"https://colab.research.google.com/assets/colab-badge.svg\" alt=\"Open In Colab\"/></a>"
      ]
    },
    {
      "cell_type": "markdown",
      "metadata": {
        "id": "KV-UrkvK3HBQ"
      },
      "source": [
        "# Data-Driven Research Assignment 2: Topic Modeling\n",
        "This notebook contains the second, collaborative, graded assignment of the 2023 Data-Driven Research course. In this assignment you'll use a topic modeling tool in order to uncover the ''topics'' of a large set of reviews of popular films. \n",
        "\n",
        "To complete the assignment, complete **Part 1, Part 2, Part 3 and Part 4** of the **Your Model** section at the end."
      ]
    },
    {
      "cell_type": "markdown",
      "metadata": {
        "id": "13WY-Pd4m1Nq"
      },
      "source": [
        "This is a collaborative assignment. In the text cell below, please include all the names of your group members.\n",
        "\n",
        "If you used code or a solution from the internet (such as StackOverflow) or another external resource, please make reference to it (in any format). Unattributed copied code will be considered plagiarism and therefore fraud.\n"
      ]
    },
    {
      "cell_type": "markdown",
      "metadata": {
        "id": "FnYtJb9olXd0"
      },
      "source": [
        "**Authors of this answer:**\n",
        "Aravind Ashok 13149970\n",
        "Ngan Nguyen 13653830\n",
        "Ellianna Kim 12718289"
      ]
    },
    {
      "cell_type": "markdown",
      "metadata": {
        "id": "gV4eOyrVqRHQ"
      },
      "source": [
        "# 1. Introduction\n",
        "\n",
        "You'll use a Topic Modelling tool from Gensim, a popular library for topic modelling in Python, though these days mainly known for its implementation of Word2Vec to train word embeddings (dense representations). Using this library, you will model topics based on reviews of popular films. The reviews are stored in plain text files, organized by film and rating. The aim of this exercise is to familiarize you with the topic modeling process and its output and to get insight in what kinds of topics are modeled."
      ]
    },
    {
      "cell_type": "markdown",
      "metadata": {
        "id": "uaPXV7qlq9oa"
      },
      "source": [
        "# 2. Preparation\n",
        "\n",
        "This assignment comes with the following files:\n",
        "\n",
        "\n",
        "1.   The reviews of the films. This is the data in which we want to find topics. They are found in the movie2k/txt_sentoken directory. There are then two types: negative reviews (neg directory) and positive reviews (pos directory). The reviews are already tokenized.\n",
        "2.   Stopword list files. They are found in the stopwords directory.\n",
        "\n",
        "Let's start by loading the movie reviews from the files (I'll do it for you):"
      ]
    },
    {
      "cell_type": "code",
      "source": [
        "from google.colab import drive\n",
        "drive.mount('/content/drive')"
      ],
      "metadata": {
        "colab": {
          "base_uri": "https://localhost:8080/"
        },
        "id": "k3wLhD4zGldl",
        "outputId": "571a8903-3ddb-4ef7-ae7c-b0ac46e4d3e8"
      },
      "execution_count": null,
      "outputs": [
        {
          "output_type": "stream",
          "name": "stdout",
          "text": [
            "Drive already mounted at /content/drive; to attempt to forcibly remount, call drive.mount(\"/content/drive\", force_remount=True).\n"
          ]
        }
      ]
    },
    {
      "cell_type": "code",
      "execution_count": null,
      "metadata": {
        "id": "jp-zI1sNQfPD",
        "colab": {
          "base_uri": "https://localhost:8080/"
        },
        "outputId": "494a382e-81ea-4797-c332-76f1230e768c"
      },
      "outputs": [
        {
          "output_type": "stream",
          "name": "stdout",
          "text": [
            "Loaded reviews from /content/drive/MyDrive/ddr23-research2-main/2_TopicModelling/movie2k/txt_sentoken/pos containing 787051 tokens in total.\n",
            "Loaded reviews from /content/drive/MyDrive/ddr23-research2-main/2_TopicModelling/movie2k/txt_sentoken/neg containing 705630 tokens in total.\n"
          ]
        }
      ],
      "source": [
        "import os\n",
        "\n",
        "def load_reviews(folder_path):\n",
        "    reviews = [] #Make a list to put the reviews in\n",
        "    reviewnames = [] # Make a list to put the review filenames in (to be able to look them up later)\n",
        "    tokens = 0 #Make a counter for the number of tokens\n",
        "    \n",
        "    for file in os.listdir(folder_path):\n",
        "        #Loop through all the text files in the folder, each containing one review\n",
        "        \n",
        "        if not file.endswith('.txt'):  #Only read text files\n",
        "            continue\n",
        "\n",
        "        file_path = os.path.join(folder_path, file)\n",
        "\n",
        "        #Open the text file and read its contents\n",
        "        with open(file_path, encoding='utf-8') as infile:\n",
        "            review = infile.read()\n",
        "        reviewnames.append(file)\n",
        "            \n",
        "        # Turn the string with the review into a list of words (this is easy because it is already tokenized)\n",
        "        review = review.split()\n",
        "        # And add it to the list\n",
        "        reviews.append(review)\n",
        "        # To count the number of tokens processed so far\n",
        "        tokens = tokens + len(review)\n",
        "\n",
        "    print(f\"Loaded reviews from {folder_path} containing {tokens} tokens in total.\") \n",
        "    return reviews, reviewnames\n",
        "        \n",
        "folder_path = \"/content/drive/MyDrive/ddr23-research2-main/2_TopicModelling/movie2k/txt_sentoken\"\n",
        "    \n",
        "movie_reviews_pos, movie_reviewnames_pos = load_reviews(folder_path + \"/pos\") #Load the positive reviews\n",
        "movie_reviews_neg, movie_reviewnames_neg = load_reviews(folder_path + \"/neg\") #Load the negative reviews\n",
        "\n",
        "movie_reviews = movie_reviews_pos + movie_reviews_neg #Combine the lists of positive and negative reviews into one\n",
        "movie_reviewnames = movie_reviewnames_pos + movie_reviewnames_neg #The same for the list of filenames"
      ]
    },
    {
      "cell_type": "markdown",
      "metadata": {
        "id": "tUb1NfU7Q_do"
      },
      "source": [
        "If you are working on Google Colab, you will probably have to change the path to the files to something that Google Colab has access to. For example, you could put the files on your Google Drive and then load them from there, as we did in Coding the Humanities. For more details about how to work with files in Python and load them from Google Drive, have a look at the Coding the Humanities course notebook on Files: https://github.com/bloemj/2023-coding-the-humanities/blob/main/notebooks/4_ReadingAndWritingFiles.ipynb\n",
        "\n",
        "How to load files off Google Drive is explained at the beginning there."
      ]
    },
    {
      "cell_type": "markdown",
      "metadata": {
        "id": "hMkKYu_gAAK5"
      },
      "source": [
        "## Preprocessing\n",
        "\n",
        "Now that we have loaded the text, you might want to perform some pre-processing steps to be able to create a better bag-of-words model in which all forms of a word are mapped to a single number. For example, you could remove the punctuation characters, or you could perform lemmatization or stemming, which we discussed in the lecture. This would be the place to do it by writing a preprocessing function that accepts a list of movie reviews as its argument and returns a preprocessed list of movie reviews. Feel free to use your knowledge of text normalization from Coding the Humanities or the functions you wrote then. Here is some information on how to perform stemming with NLTK: https://www.nltk.org/howto/stem.html\n",
        "\n",
        "You can also try other forms of preprocessing, if you are able to do it.\n",
        "\n",
        "Make sure to also keep the unmodified reviews, so you can compare the results with preprocessing and without preprocessing.\n",
        "\n",
        "**Part 1: Preprocessing**\n",
        "\n",
        "You can also skip this part for now - it is not required to perform the topic modelling, but you will get better results."
      ]
    },
    {
      "cell_type": "code",
      "execution_count": null,
      "metadata": {
        "colab": {
          "base_uri": "https://localhost:8080/"
        },
        "id": "cgmwe5FNAAK5",
        "outputId": "2684ed04-c78f-4220-d2c5-4df6c5e83e5e"
      },
      "outputs": [
        {
          "output_type": "stream",
          "name": "stderr",
          "text": [
            "[nltk_data] Downloading package stopwords to /root/nltk_data...\n",
            "[nltk_data]   Unzipping corpora/stopwords.zip.\n"
          ]
        }
      ],
      "source": [
        "import nltk\n",
        "from nltk.stem.snowball import SnowballStemmer\n",
        "nltk.download('stopwords')\n",
        "from nltk.stem import *\n",
        "stemmer = PorterStemmer()\n",
        "stemmer2 = SnowballStemmer(\"english\", ignore_stopwords=True)\n",
        "from nltk.corpus import stopwords\n",
        "from nltk.tokenize import word_tokenize \n",
        "import string\n",
        "\n",
        "preprocessed_movie_reviews = []\n",
        "#not stemmed movie reviews\n",
        "nsmr = []\n",
        "\n",
        "#with stemming\n",
        "for review in movie_reviews:\n",
        "  review = [stemmer.stem(token) for token in review if token not in string.punctuation and token != '']\n",
        "  \n",
        "  preprocessed_movie_reviews.append(review)\n",
        "\n",
        "#without stemming\n",
        "for review in movie_reviews:\n",
        "  review = [token for token in review if token not in string.punctuation and token != '']\n",
        "  nsmr.append(review)"
      ]
    },
    {
      "cell_type": "markdown",
      "metadata": {
        "id": "fYf1LwMRlXd3"
      },
      "source": [
        "# 3. Topic Modelling using Gensim\n",
        "\n",
        "Gensim offers an implementation of Latent Dirichlet Allocation (LDA), the most popular topic modelling algorithm, which we discussed in the lecture. If you are working on Google Colab, it is normally already installed there. Otherwise, you can install it with `pip install --upgrade gensim` or if you are using Conda, `conda install -c conda-forge gensim`.\n",
        "\n",
        "Let's load it, and some other things we use:"
      ]
    },
    {
      "cell_type": "code",
      "execution_count": null,
      "metadata": {
        "id": "w3KtsubolXd3",
        "colab": {
          "base_uri": "https://localhost:8080/"
        },
        "outputId": "dbc261a5-a22b-420e-9cc9-e218cef841db"
      },
      "outputs": [
        {
          "output_type": "stream",
          "name": "stdout",
          "text": [
            "4.3.1\n"
          ]
        }
      ],
      "source": [
        "import gensim\n",
        "import gensim.corpora as corpora\n",
        "import gensim.models as models\n",
        "import itertools\n",
        "from operator import itemgetter\n",
        "print(gensim.__version__)"
      ]
    },
    {
      "cell_type": "markdown",
      "metadata": {
        "id": "pOrYQV90lXd6"
      },
      "source": [
        "## Constructing the bag-of-words model\n",
        "\n",
        "The `gensim.corpora.Dictionary()` class allows you to map words to numbers, which is what we need to make a bag-of-words model. In particular, the doc2bow() function converts a collection of words to a bag-of-words representation:"
      ]
    },
    {
      "cell_type": "code",
      "execution_count": null,
      "metadata": {
        "id": "OXwSQdqRtUx6"
      },
      "outputs": [],
      "source": [
        "movie_dictionary = corpora.Dictionary(movie_reviews)\n",
        "movie_bow_corpus = [movie_dictionary.doc2bow(d) for d in movie_reviews]"
      ]
    },
    {
      "cell_type": "markdown",
      "metadata": {
        "id": "kS6dtaL5AAK6"
      },
      "source": [
        "Let's see what happened:"
      ]
    },
    {
      "cell_type": "code",
      "execution_count": null,
      "metadata": {
        "colab": {
          "base_uri": "https://localhost:8080/"
        },
        "id": "LXAtYi0NAAK6",
        "outputId": "3b811f85-5498-4556-c88b-d9f309895973"
      },
      "outputs": [
        {
          "output_type": "stream",
          "name": "stdout",
          "text": [
            "Number of unique tokens in the dataset: 50920\n",
            "\n",
            "The first 11 words in the bag-of-words model:\n",
            "{'\"': 0, '(': 1, ')': 2, ',': 3, '-': 4, '.': 5, '000': 6, '1': 7, '50': 8, ';': 9, 'a': 10, 'about': 11}\n",
            "\n",
            "The start of the first review:\n",
            "['vampire', 'lore', 'and', 'legend', 'has', 'always', 'been', 'a', 'popular', 'fantasy', 'element', ',', 'substantiated', 'by', 'not', 'only', 'the', 'sheer', 'number', 'of', 'movies', 'about', 'the', 'subject', ',', 'but', 'also', 'the', 'proliferation', 'of', 'cults', 'and', 'sects', 'of', 'adherents', '.', 'and', ',', 'unlike', 'any', 'of', 'the', 'more', 'outlandish', 'myths', ',', 'the', 'vampire', 'holds', 'some', 'real-world', 'probability', '(', 'one', 'study', 'claims', '1', ',', '000', 'bloodsuckers', 'exist', 'worldwide', ',', 'and', 'places', '50', 'in', 'los', 'angeles', ')', '.', 'but', 'lest', 'the', 'nasties', 'be', 'mistaken', 'for', 'simple', 'comic', 'book', 'bad', 'guys', ',', 'john', 'carpenter', 'would', 'like', 'to', 'remind', 'us', 'that', 'they', 'are', '-', 'and', 'always', 'have', 'been', '-']\n",
            "\n",
            "The filename of the first review:\n",
            "cv646_15065.txt\n",
            "\n",
            "Most frequent words in the first review:\n",
            ", --> 43\n",
            "the --> 34\n",
            ". --> 23\n",
            "and --> 23\n",
            "a --> 17\n",
            "of --> 17\n",
            "to --> 13\n",
            "for --> 9\n",
            "is --> 9\n",
            "( --> 8\n",
            ") --> 8\n",
            "in --> 8\n",
            "all --> 5\n",
            "his --> 5\n",
            "that --> 5\n",
            "valek --> 5\n",
            "vampire --> 5\n",
            "are --> 4\n",
            "by --> 4\n",
            "one --> 4\n",
            "...\n"
          ]
        }
      ],
      "source": [
        "print('Number of unique tokens in the dataset:', len(movie_dictionary))\n",
        "\n",
        "#Checking the first 11 words in the bag-of-words model\n",
        "print('\\nThe first 11 words in the bag-of-words model:')\n",
        "print(dict(itertools.islice(movie_dictionary.token2id.items(), 12)))\n",
        "\n",
        "#Checking the first 100 words of the first review\n",
        "print('\\nThe start of the first review:')\n",
        "print(movie_reviews[0][:100])\n",
        "#And the filename of that review is...\n",
        "print('\\nThe filename of the first review:')\n",
        "print(movie_reviewnames[0])\n",
        "\n",
        "#Which words are used in that review?\n",
        "print('\\nMost frequent words in the first review:')\n",
        "for i, freq in sorted(movie_bow_corpus[0], key=itemgetter(1), reverse=True)[:20]:\n",
        "    print(movie_dictionary[i], \"-->\", freq)\n",
        "print(\"...\")"
      ]
    },
    {
      "cell_type": "markdown",
      "metadata": {
        "id": "aFRGSGs2AAK7"
      },
      "source": [
        "## The topic model\n",
        "\n",
        "Now, we can train our LDA model on this bag-of-words data by using `gensim.models.ldamodel.LDAModel()`.\n",
        "\n",
        "This model can take various parameters that specify what kind of model gets made. Some important ones:\n",
        "\n",
        "\n",
        "* num_topics: how many topics do we want? In what follows, we set the number of topics to 5, because we want to have a few topics that we can interpret, but the number of topics is data and application-dependent;\n",
        "* id2word: our bag-of-words dictionary needed to map ids to strings;\n",
        "* passes: how often we iterate over the entire corpus (default = 1). In general, the more passes, the higher the accuracy. This number is also called epochs in Artificial Intelligence and Machine Learning.\n",
        "\n",
        "Let's first make a model that finds 5 topics, and tries 25 times to improve its estimate. This code may take a while to run, as it is the process that creates the topic model. If it takes too long, you can reduce the number of passes, but the topics might be worse."
      ]
    },
    {
      "cell_type": "code",
      "execution_count": null,
      "metadata": {
        "id": "UkT4re_Muowp"
      },
      "outputs": [],
      "source": [
        "reviews_ldamodel = models.ldamodel.LdaModel(movie_bow_corpus, num_topics=5, id2word = movie_dictionary, passes=25)"
      ]
    },
    {
      "cell_type": "markdown",
      "metadata": {
        "id": "i39ONl0MAAK7"
      },
      "source": [
        "And let's have a look! An easy way to inspect the created topics is by using the `show_topics()` method, which prints the most representative word for each topic along with their probability."
      ]
    },
    {
      "cell_type": "code",
      "execution_count": null,
      "metadata": {
        "colab": {
          "base_uri": "https://localhost:8080/"
        },
        "id": "YQ9LlQbnAAK7",
        "outputId": "80c38479-8816-45fb-9048-14e36abb6c88"
      },
      "outputs": [
        {
          "output_type": "execute_result",
          "data": {
            "text/plain": [
              "[(0,\n",
              "  '0.018*\",\" + 0.015*\".\" + 0.010*\"\"\" + 0.009*\"a\" + 0.009*\"the\" + 0.008*\"and\" + 0.007*\"to\" + 0.007*\")\"'),\n",
              " (1,\n",
              "  '0.054*\",\" + 0.052*\"the\" + 0.045*\".\" + 0.026*\"a\" + 0.024*\"and\" + 0.023*\"of\" + 0.021*\"to\" + 0.017*\"is\"'),\n",
              " (2,\n",
              "  '0.018*\",\" + 0.014*\"the\" + 0.012*\"and\" + 0.011*\".\" + 0.010*\"\"\" + 0.009*\"a\" + 0.006*\"of\" + 0.005*\"to\"'),\n",
              " (3,\n",
              "  '0.002*\"silverman\" + 0.001*\"osmosis\" + 0.001*\"chucky\" + 0.001*\"judith\" + 0.001*\"darren\" + 0.001*\"seagal\" + 0.001*\"pollock\\'s\" + 0.001*\"zahn\"'),\n",
              " (4,\n",
              "  '0.043*\"the\" + 0.040*\".\" + 0.028*\",\" + 0.023*\"and\" + 0.021*\"a\" + 0.020*\"to\" + 0.019*\"is\" + 0.016*\"of\"')]"
            ]
          },
          "metadata": {},
          "execution_count": 12
        }
      ],
      "source": [
        "reviews_ldamodel.show_topics(num_words=8) #Show the top 8 words for each topic"
      ]
    },
    {
      "cell_type": "markdown",
      "metadata": {
        "id": "fJywUbSqAAK7"
      },
      "source": [
        "There we go, we have a topic model. However, you can probably see that it is far from perfect and some uninteresting 'words' appear there. Now, it is your turn to make it better!\n",
        "\n",
        "## Your model\n",
        "\n",
        "**Part 1: Preprocessing**\n",
        "\n",
        "Show the effect of your preprocessing by also making a topic model for your preprocessed_movie_reviews. First, you make a bag-of-words model and then the LdaModel, as above. Feel free to go back to your preprocessing code above and update it based on what you saw from the show_topics function applied to the initial model.\n",
        "\n",
        "Try to make a model with 8 topics, and show the top 8 words for each topic. **Assign the model to a new variable with a sensible name** (avoid overwriting the previous models).\n",
        "\n",
        "Also for the dictionary and corpus, **give the variables different and expressive names to avoid overwriting the other ones**. Otherwise, you will get confused between your different topic models."
      ]
    },
    {
      "cell_type": "code",
      "execution_count": null,
      "metadata": {
        "colab": {
          "base_uri": "https://localhost:8080/"
        },
        "id": "xK3a7tA9AAK7",
        "outputId": "ea99633b-3335-42bf-fd5c-457e1fb6cabe"
      },
      "outputs": [
        {
          "output_type": "execute_result",
          "data": {
            "text/plain": [
              "[(0,\n",
              "  '0.040*\"the\" + 0.036*\"a\" + 0.025*\"and\" + 0.024*\"to\" + 0.021*\"of\" + 0.020*\"is\" + 0.016*\"in\" + 0.012*\"that\"'),\n",
              " (1,\n",
              "  '0.050*\"the\" + 0.031*\"of\" + 0.027*\"a\" + 0.024*\"and\" + 0.019*\"to\" + 0.016*\"in\" + 0.016*\"is\" + 0.010*\"with\"'),\n",
              " (2,\n",
              "  '0.001*\"relentless\" + 0.001*\"dietz\" + 0.000*\"dietz\\'\" + 0.000*\"rossi\" + 0.000*\"demoralis\" + 0.000*\"signi\" + 0.000*\"investigator\\'\" + 0.000*\"mini-seri\"'),\n",
              " (3,\n",
              "  '0.061*\"the\" + 0.030*\"a\" + 0.028*\"and\" + 0.028*\"of\" + 0.025*\"to\" + 0.022*\"is\" + 0.017*\"in\" + 0.011*\"it\"'),\n",
              " (4,\n",
              "  '0.041*\"the\" + 0.028*\"a\" + 0.028*\"and\" + 0.026*\"to\" + 0.021*\"of\" + 0.018*\"is\" + 0.018*\"hi\" + 0.014*\"in\"'),\n",
              " (5,\n",
              "  '0.063*\"the\" + 0.027*\"a\" + 0.027*\"and\" + 0.025*\"of\" + 0.024*\"to\" + 0.018*\"is\" + 0.016*\"in\" + 0.013*\"that\"'),\n",
              " (6,\n",
              "  '0.013*\"and\" + 0.013*\"a\" + 0.009*\"the\" + 0.009*\"to\" + 0.008*\"in\" + 0.006*\"of\" + 0.006*\"hi\" + 0.004*\"is\"'),\n",
              " (7,\n",
              "  '0.040*\"the\" + 0.025*\"of\" + 0.021*\"and\" + 0.018*\"a\" + 0.015*\"to\" + 0.013*\"in\" + 0.010*\"is\" + 0.009*\"that\"')]"
            ]
          },
          "metadata": {},
          "execution_count": 13
        }
      ],
      "source": [
        "# your code here\n",
        "movie_dictionary1 = corpora.Dictionary(preprocessed_movie_reviews)\n",
        "movie_bow_corpus_1 = [movie_dictionary1.doc2bow(d) for d in preprocessed_movie_reviews]\n",
        "\n",
        "reviews_ldamodel_1 = models.ldamodel.LdaModel(movie_bow_corpus_1, num_topics=8, id2word = movie_dictionary1, passes=25)\n",
        "reviews_ldamodel_1.show_topics(num_words=8) "
      ]
    },
    {
      "cell_type": "markdown",
      "metadata": {
        "id": "i-fK_L-2AAK8"
      },
      "source": [
        "**Part 2: Stopwords**\n",
        "\n",
        "The topics you saw so far are probably mostly made up of stopwords such as \"the\". As discussed in the lecture, our results will probably be more interesting if we get rid of them.\n",
        "\n",
        "We have included 3 generic lists of stopwords: the default list of the tool Mallet, a shorter frequent word list used in search applications (Snowball stemmer), and the top 10,000 words based on Google n-grams (in frequency order, select as many lines as you want). Gensim and NLTK also have stopword lists.\n",
        "\n",
        "Make a function that accepts the path to a stopwords file (e.g. `stopwords/standard-mallet-en.txt`), and returns a list of stopwords."
      ]
    },
    {
      "cell_type": "code",
      "execution_count": null,
      "metadata": {
        "id": "BWDlXgG_AAK8"
      },
      "outputs": [],
      "source": [
        "def load_stopwords(filename):\n",
        "    \n",
        "    #load a file from disk and return a list of stopwords\n",
        "    stopword_list = []\n",
        "    with open(filename, encoding='utf-8') as infile:\n",
        "        for line in infile:\n",
        "            stopword_list.append(line.strip())\n",
        "\n",
        "    return stopword_list\n",
        "stopword_list = load_stopwords(\"/content/drive/MyDrive/ddr23-research2-main/2_TopicModelling/stopwords/standard-mallet-en.txt\")"
      ]
    },
    {
      "cell_type": "markdown",
      "metadata": {
        "id": "CDXaj6UBAAK8"
      },
      "source": [
        "Then, make a function that takes a stopword list and a list of reviews (e.g. `preprocessed_movie_reviews`). The function should remove all stopwords from all the reviews, returning a list of the reviews without stopwords. This code may be a bit slow if you have many stopwords, since there is a lot of data to process."
      ]
    },
    {
      "cell_type": "code",
      "execution_count": null,
      "metadata": {
        "colab": {
          "base_uri": "https://localhost:8080/"
        },
        "id": "Md7oCexzAAK8",
        "outputId": "7c6c826a-07ce-4d9a-e940-36fdd9fd8d5c"
      },
      "outputs": [
        {
          "output_type": "stream",
          "name": "stdout",
          "text": [
            "[['vampir', 'lore', 'legend', 'ha', 'alway', 'popular', 'fantasi', 'element', 'substanti', 'onli', 'sheer', 'number', 'movi', 'subject', 'prolifer', 'cult', 'sect', 'adher', 'unlik', 'ani', 'outlandish', 'myth', 'vampir', 'hold', 'real-world', 'probabl', 'studi', 'claim', '1', '000', 'bloodsuck', 'exist', 'worldwid', 'place', '50', 'lo', 'angel', 'nasti', 'mistaken', 'simpl', 'comic', 'book', 'bad', 'guy', 'john', 'carpent', 'remind', 'alway', 'truli', 'frighten', 'element', 'thriller', 'genr', 'remind', 'doe', 'latest', 'film', 'vampir', 'wa', 'question', 'halloween', 'weekend', 'approach', 'vampir', 'comparison', 'line', \"cinema'\", 'immens', 'success', 'blade', 'releas', 'august', 'film', 'notic', 'differ', 'stand', 'vampir', 'issu', \"don't\", 'agre', 'basic', 'point', 'slay', 'method', 'instanc', \"blade'\", 'main', 'weapon', 'silver', 'garlic', 'wherea', 'main', 'charact', 'jack', \"crow'\", 'techniqu', 'wooden', 'stake', 'heart', 'blade', 'give', 'face', 'vampir', 'civil', 'carpent', 'remain', 'dark', 'pasti', 'oper', 'advantag', \"carpenter'\", 'style', 'lend', 'darker', 'breed', 'suspens', 'action', 'movi', 'blade', 'director', 'stephen', 'norrington', 'deliev', \"it'\", 'vampir', 'kill', 'die', 'bloodi', 'flourish', 'level', 'gore', 'inde', 'set', 'maximum', 'thi', 'time', 'hero', 'vatican-sponsor', 'slayer', 'jack', 'crow', 'jame', 'wood', \"he'\", 'cynic', 'battle-worn', 'veteran', 'bunch', 'team', 'respons', 'clean', 'american', 'southwest', 'extermin', 'nest', 'night', 'run', 'super-vampir', 'term', 'master', 'valek', 'thoma', 'ian', 'griffith', 'valek', 'kill', \"jack'\", 'team', 'partner', 'toni', 'montoya', 'daniel', 'baldwin', 'regroup', 'learn', 'valek', 'origin', 'vampir', 'hundr', 'year', 'appar', 'valek', 'minion', 'sweep', 'southwest', 'decad', 'search', 'cross', 'enabl', 'walk', 'daytim', 'aid', 'priest', 'adam', 'tim', 'guine', 'bitten', 'hooker', 'sheryl', 'lee', 'bait', 'track', 'valek', 'final', 'confront', 'script', 'vampir', 'written', 'don', 'jakobi', 'base', 'john', 'steakley', 'perhap', 'wittiest', 'piec', 'screenplay', 'product', 'year', 'crow', 'fun', 'sourc', 'one-lin', 'wood', 'doe', 'everi', 'perfect', 'stoicism', 'baldwin', 'lee', 'guine', 'fine', 'support', 'ad', 'charact', 'pool', 'true', 'highlight', 'movi', 'thoma', 'ian', \"griffith'\", 'bad', 'guy', \"griffith'\", 'intens', 'express', 'perfect', 'role', 'onli', 'downsid', \"he'\", 'talk', 'sometim', 'luckili', \"he'\", 'line', 'manag', 'pull', 'thrill', 'perform', 'fan', 'impress', 'thi', 'pictur', 'found', 'apt', 'pupil', 'bit', 'limp', 'excit', 'thi', 'certainli', 'worthwhil', 'visit', 'theater'], ['capsul', 'suprisingli', 'comedi', 'straight', 'action', 'flick', \"isn't\", 'necessarili', 'bad', 'thing', 'exactli', 'oscar', 'calib', 'helluva', 'bullet-riddl', 'good', 'time', 'extend', 'review', 'rememb', 'hitmen', 'evil', 'murder', 'scum', 'ala', 'time', \"a-changin'\", 'recent', 'string', 'movi', 'hitmen', 'suddenli', 'wise-', 'crack', 'fun-lov', 'killers-with-heart', 'thi', 'bring', 'hong', 'kong', 'director', 'kirk', \"wong'\", 'american', 'featur', 'big', 'hit', 'oddli', 'time', 'year', 'similar', 'film', 'gross', 'point', 'blank', 'wa', 'releas', 'advertis', 'quirki', 'comedi', 'hint', 'action', 'turn', 'supris', 'dosag', 'big', 'hit', 'quit', 'opposit', 'wa', 'hype', 'film', 'produc', 'john', 'woo', 'expect', 'lot', 'styliz', 'kill', 'action', 'howev', \"there'\", 'sore', 'lack', 'onli', 'thing', 'wrong', 'big', 'hit', 'film', 'start', 'mel', 'smiley', 'cohort', 'job', 'white', 'slaver', 'mel', 'play', 'mark', 'wahlberg', 'dopey', 'milquetoast', 'role', 'kill', 'machin', 'flip', 'spin', 'breakdanc', 'whilst', 'pop', 'cap', 'sadli', \"doesn't\", 'chanc', 'begin', 'set', 'piec', '20', 'twenti', 'minut', 'film', 'comedi', 'mode', 'action', 'prime', 'cut', 'stuff', 'wong', 'numer', 'hong', 'kong', 'featur', 'make', 'quit', 'nice', 'debut', 'howev', 'pace', 'bit', 'action', 'sequenc', 'onli', 'bookend', 'movi', 'long', 'start', 'electrifi', 'fresh', 'kinda', 'stop', 'normal', 'thi', 'hamper', 'movi', 'point', 'unenjoy', 'luckili', 'ben', \"ramsey'\", 'screenplay', 'bitingli', 'funni', 'piec', 'work', 'onli', 'problem', 'humor', 'joke', 'make', 'laugh', 'hard', 'miss', 'gag', 'includ', 'orient', 'film', 'maker', 'luck', \"mel'\", 'hitmen', 'pal', 'ha', 'discov', 'onan', 'onli', 'problem', 'minor', 'charact', 'handl', 'onli', 'laugh', 'sometim', 'work', 'sometim', \"doesn't\", 'overal', 'big', 'hit', \"it'\", 'flaw', 'make', 'stylishli', 'direct', 'gut-wrenchingli', 'funni', 'joyrid', 'defin', 'spend', 'hour'], [\"don't\", 'mike', 'mike', 'ha', 'badli', 'embarrassingli', 'bad', 'broke', 'six-year', 'relationship', 'month', 'ago', 'move', \"he'\", 'result', 'joke', 'fall', 'flat', 'tri', 'impress', \"he'\", 'comedian', 'unemploy', 'comedian', \"hollywood'\", 'littl', 'fish', 'ha', 'bad', \"he'\", 'applic', \"starbuck'\", 'actual', \"starbuck'\", 'thing', 'wors', 'wors', \"won't\", 'fail', 'mike', 'howev', 'play', 'endearingli', 'jon', 'favreau', 'swinger', 'revolv', \"mike'\", 'half-heart', 'awkward', 'effort', 'back', 'social', 'swing', 'thing', 'thi', 'end', 'enthusiast', 'assist', 'equal', 'underachiev', 'twentysometh', 'actor', 'friend', 'trent', 'vinc', 'vaughn', \"film'\", 'anim', 'perform', 'ha', 'gift', 'gab', 'border', 'disturb', 'side', 'motiv', 'speak', 'gun-tot', 'sue', 'patrick', 'van', 'horn', 'rob', 'ron', 'livingston', 'onc', 'play', 'hamlet', 'long', 'work', 'goofi', 'disneyland', \"doesn't\", 'succeed', 'becaus', 'lack', 'theme', 'park', 'experi', 'togeth', 'talk', 'women', 'make', 'eye', 'contact', 'involv', 'avoid', 'call', 'desper', 'day', 'industri', 'standard', 'talk', 'talk', 'walk', 'walk', 'strut', 'cool', 'swinger', 'aspir', 'alway', 'laughabl', 'effect', 'mike', 'funk', 'friend', 'persist', 'convinc', 'outsid', 'quicki', 'night', 'trip', 'seedi', 'vega', 'casino', 'cutthroat', 'hollywood', 'parti', 'beauti', 'peopl', '50', 'swing', 'loung', 'everywher', 'encourag', 'mike', 'replac', 'honey', 'vigil', 'progress', 'lack', 'dotti', 'dote', 'parent', 'mike', 'leav', 'compani', 'recipi', 'confid', 'cheerlead', \"you'r\", 'money', 'mike', 'honey', 'equip', 'eccentr', 'date', 'philosophi', 'analog', 'flirt', 'bear', 'bunni', 'unwav', 'support', 'friend', 'mayb', \"mike'\", 'badli', 'favreau', 'doubl', \"film'\", 'screenwrit', 'prove', 'ha', 'gift', 'creat', 'engag', 'charact', 'witti', 'banter', 'goe', \"today'\", 'bon', 'mot', 'reassur', 'honesti', 'friendship', 'hit', 'low', 'point', 'friend', 'commiser', 'mike', 'gumption', 'love', 'join', 'cheerlead', 'section', 'swinger', 'light', 'unassum', 'fare', 'sweet', 'candi', 'bust', 'gut', 'laugh'], [\"it'\", 'wednesday', 'march', '27', 'murder', 'investig', 'underway', 'charlott', 'south', 'carolina', 'crime', 'young', 'prostitut', 'elizabeth', 'rene', 'zellweg', 'ha', 'brutal', 'slain', 'half', 'sever', 'bodi', 'wa', 'found', 'bag', 'train', 'station', 'half', 'wa', 'discov', 'trunk', 'harbor', 'author', 'mile', 'polic', 'duo', 'braxton', 'chri', 'penn', 'kennesaw', 'michael', 'rooker', 'strap', 'lead', 'moment', 'onli', 'possibl', 'suspect', 'wayland', 'tim', 'roth', 'wealthi', 'unemploy', 'geniu', 'graduat', 'summa', 'cum', 'laud', 'princeton', 'charact', 'commit', 'heinou', 'act', \"that'\", 'premis', 'deceiv', 'thriller', 'pate', 'brother', 'jona', 'josh', 'made', 'mark', 'film', 'world', 'year', 'ago', 'sundanc', 'movi', 'grave', 'deceiv', 'play', 'mind', 'game', 'intellectu', 'superior', 'wayland', 'not-', 'so-bright', 'cop', 'caption', 'earli', 'proceed', \"wayland'\", 'iq', '151', 'contrast', \"kennesaw'\", '122', \"braxton'\", '102', 'set', 'polic', 'interrog', 'room', 'lie', 'detector', 'test', 'administ', 'day', 'wayland', 'return', 'answer', 'question', 'drama', 'tension', 'charact', 'gradual', 'escal', 'inevit', 'boil', 'plot', 'element', 'thrown', 'good', 'measur', 'wayland', 'suffer', 'peculiar', 'kind', 'epilepsi', 'stress', 'situat', 'render', 'virtual', 'cataton', 'extrem', 'violent', 'braxton', 'compuls', 'gambler', 'deep', 'debt', 'local', 'syndic', 'kennesaw', 'haunt', 'dark', 'abus', 'side', 'delight', 'terror', 'women', 'especi', 'wife', 'rosanna', 'arquett', 'suspect', 'unfaith', 'foibl', 'fail', 'brought', 'open', 'mysteri', \"elizabeth'\", 'death', 'deepen', 'becom', 'unclear', 'ha', 'upper', 'hand', 'suspect', 'question', 'deceiv', 'mostli', 'transpir', 'dimly-lit', 'room', 'involv', 'lot', 'smart', 'dialogu', 'ha', 'feel', 'david', 'mamet', 'play', 'edgi', 'claustrophob', 'tens', 'atmospher', 'explos', 'pivot', 'moment', 'confront', 'rivet', 'deceiv', 'ha', 'power', 'grab', 'audienc', 'unfortun', 'end', 'succumb', 'throw', 'unexpect', 'twist', 'thi', 'undo', 'thi', 'surpris', 'certainli', 'shock', 'viewer', 'stretch', 'credul', 'rais', 'question', 'answer', \"it'\", 'onli', 'effect', 'wrap-up', \"don't\", 'care', 'full', 'implic', 'cours', 'film', 'play', 'fast', 'loos', 'realiti', 'logic', 'polic', 'procedur', 'total', 'ignor', \"it'\", 'imposs', 'accept', 'ani', 'crimin', 'investig', 'proceed', 'thi', 'manner', 'real', 'focu', 'deceiv', 'charact', 'interact', 'plot', 'detail', 'deceiv', 'onli', 'occasion', 'polic', 'station', 'instanc', 'occur', 'primarili', 'dure', 'flashback', 'featur', 'prostitut', 'pate', 'employ', 'number', 'interest', 'techniqu', 'present', 'vignett', \"elizabeth'\", 'final', 'day', 'hour', 'intrigu', 'unreli', 'narrat', 'underlin', 'discrep', 'voice-ov', 'visual', 'show', 'realli', 'happen', 'moment', 'thi', 'effect', 'dismiss', 'gimmick', 'movi', 'obvious', 'fashion', 'manner', 'classic', 'film', 'noir', 'drip', 'atmospher', 'fascin', 'stylist', 'touch', 'exampl', 'set', 'contemporari', 'telephon', 'old-fashion', 'rotari', 'model', 'cinematograph', 'bill', 'butler', 'opportun', 'unconvent', 'camera', 'work', 'liven', \"deceiver'\", 'thing', 'tri', 'mostli', 'involv', 'contrast', 'light', 'shadow', 'work', 'ani', 'sever', 'lazi', 'susan', 'shot', 'unnecessari', 'visual', 'trick', 'wayland', 'tim', 'roth', 'give', \"film'\", 'top', 'perform', 'despit', 'occasion', 'tread', 'tightrop', 'act', 'overact', 'roth', 'make', 'believ', 'wayland', 'brilliant', 'troubl', \"he'\", 'suppos', 'lead', 'chri', 'penn', 'michael', 'rooker', \"aren't\", 'effect', 'play', 'charact', 'familiar', 'type', \"penn'\", 'perform', 'uninspir', \"rooker'\", 'lack', 'subtleti', 'work', 'turn', 'support', 'actor', 'rene', 'zellweg', 'role', \"that'\", 'mile', 'star-mak', 'turn', 'jerri', 'maguir', 'bring', 'note', 'vulner', 'human', 'part', 'easili', 'becom', 'caricatur', 'rosanna', 'arquett', 'solid', \"kennesaw'\", 'wife', 'michael', 'park', 'deliv', 'sever', 'scene', 'psychiatrist', \"who'\", 'entrust', 'evalu', \"wayland'\", 'condit', 'thing', 'deceiv', 'talk', 'audienc', 'plot', 'point', \"aren't\", 'hammer', 'home', 'end', 'ha', 'weak', 'everyth', \"isn't\", 'spell', 'bold', 'letter', 'pate', 'give', 'audienc', 'member', 'credit', 'brain', 'increasingli', 'rare', 'characterist', 'film', 'maker', 'occasion', 'grip', 'uninterest', 'deceiv', 'fine', 'noir', 'effort'], ['accept', 'oscar', 'produc', 'thi', \"year'\", 'pictur', 'winner', 'saul', 'zaentz', 'remark', 'cup', 'runneth', 'much-priz', 'film', 'rare', 'screen', 'overflow', 'potent', 'imageri', 'symbol', 'idea', 'metaphor', 'complex', 'liter', 'storytel', 'possess', 'intellig', 'invit', '--', 'demand', '--', 'constant', 'scrutini', 'acuiti', 'percept', 'observ', 'yield', 'truth', 'short', 'antithesi', 'thing', 'hollywood', 'thi', 'surfeit', 'signal', 'made', 'serv', 'pale', 'thinli', 'realiz', 'love', 'stori', 'emot', 'impact', 'dri', 'desert', 'wind', 'ralph', 'fienn', 'titl', 'charact', 'amnesiac', 'burn', 'victim', 'gradual', 'return', 'memori', 'particularli', 'memori', 'love', 'ostens', 'focu', 'film', 'despit', 'numer', 'flashback', 'put', 'piec', 'thi', 'person', 'puzzl', 'togeth', 'learn', 'man', 'feel', 'empathi', 'emot', 'life', 'befor', 'stori', 'begin', 'essenti', 'clue', 'remain', 'withheld', 'easili', 'everi', 'charact', 'film', 'mani', 'juliett', \"binoche'\", 'nurs', 'close', 'thi', 'film', 'emot', 'heart', 'learn', 'earli', 'scar', 'death', 'close', 'understand', 'whi', 'eager', 'escap', 'compani', 'comrad', 'order', 'seek', 'refug', 'convalesc', 'mysteri', 'disfigur', 'die', 'stranger', 'thi', 'inform', 'impart', 'quickli', 'cursori', 'fashion', 'howev', 'verg', 'comic', 'mani', 'charact', 'enjoy', 'littl', 'screen', 'time', \"film'\", '160', 'minut', 'tax', 'someth', 'captiv', 'sensibl', 'camera', \"couldn't\", 'feel', 'great', 'wa', 'air', 'hint', 'everywher', '--', 'man', 'hate', 'ownership', 'desper', 'possess', 'lover', 'ancient', 'cave', 'paint', 'swimmer', 'copi', 'casual', 'modern-day', 'swimmer', 'sahara', 'shift', 'sand', 'time', 'obliter', 'everyth', 'complet', 'world', 'war', 'latent', 'suppli', 'colleg', 'film', 'student', 'paper', 'topic', 'year', 'ultim', 'emot', 'truth', 'writer-director', 'anthoni', 'minghella', 'wa', 'grasp', 'reveal', 'end', 'wa', 'left', 'impress', 'wit', 'quit', 'oxymoron', 'haunt', 'bore', 'bore', 'perhap', 'strong', 'word', 'drink', 'rich', 'product', 'valu', 'cup', 'remain', 'onli', 'slightli', 'half-ful'], ['uncompromis', 'nuditi', 'bare', 'petric', \"chereau'\", 'intimaci', 'ha', 'alreadi', 'garner', 'notorieti', \"it'\", 'nake', 'face', 'fearless', 'actor', 'mark', 'rylanc', 'angel', 'insect', 'kerri', 'fox', 'welcom', 'sarajevo', 'tender', 'ach', 'emot', 'reson', 'discov', 'sharp', 'intellig', 'eye', 'reflect', 'experi', 'matur', 'rylanc', 'fox', 'refreshingli', 'detach', 'fals', 'glamour', 'hollywood', 'idol', 'sex', 'scene', 'togeth', 'brace', 'raw', 'honesti', 'accept', 'flesh', 'messi', 'appar', 'remark', 'astut', 'observ', 'behavior', 'reveal', 'carnal', 'beat', 'hast', 'hesit', 'singl', 'line', 'dialogu', 'aim', 'spiritu', 'poetri', 'realm', 'sens', 'philosoph', 'transgress', 'crash', 'chereau', 'sexual', 'odyssey', 'firmli', 'ground', 'term', 'straightforward', 'charact', 'develop', 'veri', 'reason', 'whi', 'intimaci', 'unerringli', 'impress', 'particularli', 'signific', 'tactil', 'sensori', 'level', 'theme', 'human', 'isol', 'barren', 'obviou', 'scienc', 'project', 'devoid', 'ani', 'especi', 'groundbreak', 'hypothesi', 'intimaci', 'doe', 'manag', 'stand', 'lesser', 'portrait', 'human', 'interconnected', 'pinter-esqu', 'rummag', 'psycholog', 'dirti', 'drawer', 'kill', 'shallow', 'sound', \"it'\", 'amaz', 'fill', 'inspir', 'cast', 'percept', 'camerawork', 'imagin', 'treat', 'love', 'scene', 'ingredi', 'assur', 'confid', 'mere', 'dismiss', 'ice', 'cake', 'especi', 'sinc', 'substanc', 'cake', 'adapt', 'pair', 'short', 'stori', 'british', 'novelist', 'hanif', 'kureishi', 'intimaci', 'weav', 'desper', 'lovemak', 'stranger', 'london', 'everi', 'wednesday', 'jay', 'rylanc', 'clair', 'fox', 'meet', 'clutter', 'dank', 'hour', 'sexual', 'releas', 'uninspir', 'live', \"he'\", 'head', 'bartend', 'posh', 'restaur', 'year', \"she'\", 'mysteri', 'glum', 'workaday', 'reveal', 'similar', 'dissatisfact', \"they'r\", 'marri', 'relationship', 'ha', 'curdl', 'embitt', 'separ', 'week', 'draw', 'jay', 'obsess', 'uncov', \"claire'\", 'person', 'routin', 'attempt', 'gain', 'fuller', 'semblanc', 'open', 'wound', \"hadn't\", 'exist', 'befor', 'single-handedli', 'corrupt', 'fantasi', \"weren't\", 'unnecessari', 'subplot', 'involv', \"jay'\", 'brother', 'bevi', 'disgruntl', 'co-work', 'thi', 'minimalist', 'premis', 'describ', 'modern', 'fabl', 'peril', 'fulfil', \"chareau'\", 'restless', 'camera', 'onc', 'wield', 'superb', 'ever-attent', 'cinematograph', 'eric', 'gautier', 'appropri', 'famili', 'transit-ori', 'love', 'train', 'scene', 'linger', 'rylanc', 'fox', 'separ', 'pensiv', 'attempt', 'carri', 'makeshift', 'household', 'routin', 'captur', 'linger', 'unblink', 'wide', 'shot', 'view', 'strand', 'amidst', 'drab', 'workplac', 'home', 'separ', 'prove', 'haunt', 'melancholi', 'seri', 'intercut', 'shot', 'rylanc', 'fox', 'undress', 'opposit', 'side', 'room', 'crawl', 'floor', 'meet', 'center', 'despit', 'restless', 'fli', 'dure', 'hyperact', 'restaur', 'scene', 'blend', 'hustl', 'crowd', 'gabbi', 'trendsett', \"you'd\", 'hard', 'press', 'find', 'singl', 'uninterest', 'imag', 'intimaci', 'interest', 'sordid', 'world', 'lower-middl', 'class', 'lone', 'pub', 'busi', 'shop', 'street', '--', 'understand', 'peopl', 'inhabit', 'space', 'view', 'sympathi', 'scrape', 'raw', 'evalu', 'incomplet', 'highlight', 'great', 'timothi', 'spall', 'robust', 'scene-steal', 'mani', 'mike', 'leigh', 'collabor', \"claire'\", 'cuckold', 'husband', 'thi', 'jocular', 'heavyweight', 'play', 'hand', 'bitter', 'pill', 'scene', 'unforc', 'menac', 'self-effac', 'embarrass', 'impos', 'bulk', 'bang', 'eye', 'mouth', 'form', 'quizzic', 'pout', 'dri', 'smirk', 'fool', 'barroom', 'encount', 'opposit', 'sarcast', 'gleam', 'mark', 'rylanc', 'jay', 'ha', 'arriv', 'scene', 'stir', 'troubl', 'spall', 'trifl', 'overreach', 'pal', 'demeanor', 'suggest', 'mind', 'abuzz', 'secret', 'passageway', 'guil', 'point', 'question', 'onli', 'na', 've', 'choos', 'read', 'crafti', 'insinu', 'unassum', \"spall'\", 'care', 'etch', 'interpret', 'hostil', 'buri', 'mountain', 'surfac', 'proprieti', 'becom', 'crimin', 'underappreci', 'perform', 'year', 'mayb', \"he'\", 'good'], ['usual', 'debat', 'modern', 'queen', 'romant', 'comedi', 'bring', 'julia', 'robert', 'sandra', 'bullock', 'mention', 'meg', 'ryan', \"it'\", 'close', 'janean', 'garofalo', 'onli', 'queen', 'romant', 'comedi', 'comic', 'actress', 'hollywood', \"it'\", 'good', 'thing', \"she'\", 'star', 'matchmak', 'becaus', 'presenc', 'movi', 'bland', 'unfunni', 'dull', 'garofalo', 'star', 'marci', 'tizard', 'top', 'aid', 'boston', 'senat', 'john', 'mcglori', 'suffer', 'poll', 'attempt', 'captur', 'irish', 'vote', 'send', 'marci', 'mission', 'small', 'irish', 'town', 'call', 'ballinagra', 'search', \"mcglory'\", 'move', 'america', 'unfortun', 'marci', 'visit', 'coincid', \"town'\", 'annual', 'matchmak', 'festiv', 'thing', 'rocki', 'start', 'marci', 'ha', 'hotel', 'reserv', 'ration', 'reason', 'tini', 'confin', 'room', 'tire', \"cliche'\", 'ha', 'stay', 'ha', 'visitor', 'bathtub', 'sean', 'marci', 'find', 'repugn', 'obvious', 'thi', 'head', 'movi', 'run', 'roadblock', 'instanc', 'stori', 'veri', 'thin', 'charact', 'local', 'matchmak', 'nearli', 'interest', 'garofalo', 'charact', 'polit', 'aid', 'play', 'deni', 'leari', 'wander', 'complet', 'differ', 'movi', 'director', 'realiz', 'thi', 'decid', 'throw', 'numer', 'shot', 'beauti', 'irish', 'sceneri', 'sever', 'close-up', \"garofalo'\", 'win', 'smile', 'strang', 'thing', 'work', \"garofalo'\", 'charm', 'irish', 'sceneri', 'carri', 'thinnest', 'stori', 'carri', 'thi'], ['1987', 'stock', 'market', 'crash', 'oliv', \"stone'\", 'wall', 'street', 'wa', 'releas', 'critic', 'acclaim', 'pack', 'movi', 'hous', 'wall', 'street', 'luck', 'time', 'recent', 'crash', 'gave', 'film', 'reson', 'kill-or-be-kil', 'approach', 'busi', 'wa', 'exagger', 'veri', 'ideolog', 'wa', 'key', 'mind', 'set', 'quintessenti', 'reagan-era', 'businessman', 'stone', 'construct', 'film', 'mythic', 'good', 'evil', 'tale', 'relay', 'fast-pac', 'milieu', 'burgeon', 'stock', 'exchang', 'critic', 'audienc', 'laud', 'wall', 'street', 'elev', 'statu', 'contemporari', 'classic', \"i'm\", 'proud', 'count', 'found', 'wall', 'street', 'axiomat', 'pander', 'major', \"stone'\", 'output', 'thin', 'caricatur', 'obviou', 'sentiment', 'charisma', 'barren', 'perform', 'young', 'charli', 'sheen', 'stone', 'goe', 'broke', 'everi', 'scene', 'nearli', 'work', 'thi', 'approach', 'tend', 'buri', 'purport', 'messag', 'beneath', 'heap', 'good', 'intent', 'direct', 'stock', 'exchang', 'scene', 'typic', 'hyperbol', 'mode', 'peopl', 'shout', 'phone', 'plummet', 'airplan', \"it'\", 'excus', 'stone', 'ratchet', 'emot', 'fals', 'intens', 'explor', 'situat', 'realli', 'feel', 'broker', 'psycholog', 'manipul', 'present', 'boiler', 'room', 'laughabl', 'top', 'guy', 'salesmen', 'televis', 'judg', 'anyth', 'baffl', 'whi', 'mani', 'ador', 'wall', 'street', 'onli', 'possibl', 'solut', 'muster', 'releas', 'date', 'timeli', 'greed', 'good', 'subject', 'matter', 'film', 'wa', 'plump', 'eighti', 'decad', 'one-jok', 'comedi', 'rose', 'art', 'form', 'group', 'glamor', 'brat', 'packer', 'smirk', 'inan', 'high', 'concept', 'low', 'result', 'movi', 'mind', 'eighti', 'forev', 'rememb', 'decad', 'onli', 'prolifer', 'bad', 'movi', 'bad', 'music', 'bad', 'hair', 'bad', 'cloth', 'mayb', \"stone'\", 'school', 'special', 'set', 'wall', 'street', 'wa', 'view', 'welcom', 'chang', 'pace', 'boiler', 'room', 'equal', 'well-tim', 'film', 'similar', \"stone'\", 'piec', 'crap', 'featur', 'consequenti', 'father-son', 'relationship', 'boiler', \"room'\", 'subtl', 'touch', 'concern', 'power', 'greed', 'men', 'boiler', 'room', 'akin', 'poseur', 'presum', 'big', 'shot', 'slippery-smooth', 'heartless', 'gordon', 'gecko', 'figur', 'wall', 'street', 'boiler', 'room', 'messag', 'movi', 'end', \"doesn't\", 'shove', 'face', 'boiler', 'room', 'pursuit', 'cash', 'degre', 'peopl', 'cash', 'thi', 'film', 'inde', 'time', 'societi', 'millionair', 'number', 'prime', 'time', 'show', 'everi', 'day', 'bring', 'revolut', 'prime', 'time', 'tv', 'watch', \"hasn't\", 'quit', 'onli', 'millionair', 'watch', 'peopl', 'becom', 'millionair', 'super-judgment', 'power-ori', 'cultur', 'desir', 'money', 'supersed', 'everyth', 'money', 'seth', 'giovanni', 'ribisi', 'easi', \"he'\", 'well-intent', 'colleg', 'drop', 'lure', 'work', 'illeg', 'run', 'brokerag', 'firm', 'kind', 'sell', 'junk', 'stock', 'meet', 'ben', 'affleck', 'cast', 'jim', 'compani', 'headhunt', 'strut', 'command', 'room', 'frat', 'boy', 'gordon', 'gecko', 'job', 'influenc', \"trainee'\", 'becom', 'enthusiast', 'employe', 'give', 'speech', 'subtli', 'attack', 'man', 'hood', \"it'\", 'iron', 'sell', 'pup', 'load', \"they'r\", 'told', 'dish', 'prospect', 'buyer', \"affleck'\", 'charact', 'obvious', 'suppos', 'recal', 'alec', \"baldwin'\", 'similar', 'charact', 'glengari', 'glen', 'ross', 'prove', 'detriment', \"actor'\", 'perform', 'affleck', 'shout', 'curs', 'be-littl', 'rooki', 'employe', 'baldwin', 'minu', 'edg', 'alec', 'play', 'scene', 'becam', 'part', 'spew', 'brutal', 'line', 'comparison', 'affleck', 'simpli', 'realli', 'hammi', 'line', 'read', 'broker', 'approach', 'job', 'fervor', 'overzeal', 'jock', 'storm', 'work', 'footbal', 'player', 'big', 'game', 'rap', 'music', 'thump', 'soundtrack', 'effect', 'illustr', 'guy', 'intellectu', 'gangster', \"aren't\", 'abov', 'rumbl', 'test', 'man', 'hood', 'especi', 'dure', 'leisur', 'time', 'lumber', 'scott', 'caan', 'eager', 'fist', 'minor', 'disput', 'drink', 'thi', 'world', 'seth', 'watch', 'becom', 'seduc', 'cautionari', 'tale', 'boiler', 'room', 'begin', 'seduc', 'illustri', 'world', 'profit', 'wrongdo', 'smack', 'consequ', 'reckless', 'thi', 'stori', 'work', \"it'\", 'told', 'intellig', 'energi', 'writer', 'director', 'ben', 'younger', 'director', 'pleas', 'excus', 'french', 'mise-en-scen', 'younger', 'ha', 'learn', 'style', 'sitcom', 'bland', 'write', \"isn't\", \"younger'\", 'script', 'studi', 'vernacular', 'thi', 'bunch', 'dialogu', 'junior', 'david', 'mamet', 'despit', 'moder', 'camera', 'work', 'younger', 'fill', 'phone-pitch', 'scene', 'tension', 'perform', 'tightli', 'wound', 'script', 'broker', 'huckster', 'counter', 'everi', 'custom', 'object', 'gentli', 'bulli', 'buy', 'stock', 'moment', 'film', 'psycholog', 'action', 'scene', 'tens', 'confront', 'victim', 'victim', \"isn't\", 'awar', \"affleck'\", 'perform', 'truli', 'ribisi', 'ha', 'edgi', 'charact', 'actor', 'extrem', 'potent', 'work', 'pale', 'angular', 'face', 'eeri', 'plaintiv', 'stare', 'worth', 'convey', 'child-lik', 'vulner', 'charact', 'hide', 'corner', 'whenev', 'thing', \"aren't\", 'scene', \"he'\", 'feroci', 'cut', 'throat', 'jekyl', 'hyde', 'contradict', 'work', 'movi', 'ribisi', 'confid', \"it'\", 'phone', 'cowardli', 'front', 'author', 'figur', 'includ', 'abras', 'father', 'authorit', 'play', 'ron', 'rifkin', 'boiler', 'room', 'avoid', 'wall', 'street-lik', 'histrion', 'sales-pitch', 'sequenc', 'sale', 'build', 'slowli', 'crescendo', 'intellig', 'psycholog', 'ploy', 'ploy', 'taught', 'seth', 'chri', 'vin', 'diesel', 'kind', 'broker', 'altern', \"seth'\", 'friend', 'mentor', 'diesl', 'shine', 'minor', 'role', 'thi', 'week', 'sci-fi', 'opu', 'pitch', 'black', 'diesel', 'play', 'complet', 'differ', 'role', 'equal', 'effect', 'manner', 'film', 'ha', 'kind', 'role', 'arnold', 'schwarzenegg', \"80'\", 'boiler', 'room', 'ha', 'kind', 'role', 'elliot', 'gould', \"70'\", 'nicki', 'katt', 'memor', 'superior', 'broker', 'obsess', \"can't\", 'nia', 'long', \"firm'\", 'secretari', 'lone', 'black', 'women', 'mani', 'white', 'men', \"ribisi'\", 'love', 'interest', 'part', 'insignific', 'part', 'thi', 'talent', 'actress', 'develop', 'someth', 'interest', 'make', 'oddli', 'likeabl', 'coupl', 'long', 'smart', 'brash', 'ribisi', 'charmingli', 'aloof', 'point', \"i'm\", \"lookin'\", 'chocol', 'love', \"it'\", 'terribl', 'line', 'ribisi', 'deliv', 'innocu', 'child-lik', 'becom', 'sweetli', 'endear', 'unfortun', 'end', 'boiler', 'room', 'turn', 'tad', 'schmaltzi', 'cri', 'hug', 'sorrow', 'stare', 'thi', 'small', 'dose', \"younger'\", 'conclus', 'construct', 'seri', 'boo-hoo', 'moment', 'follow', 'misstep', 'attempt', 'show', 'effect', \"seth'\", 'manipul', 'poor', 'victim', \"it'\", 'bad', 'idea', 'execut', 'lack', 'scene', 'feel', 'tack', 'spell', 'messag', 'messag', 'greed', 'bad', 'ye', \"it'\", 'patent', 'obviou', 'boiler', 'room', 'convey', 'introduc', 'cultur', \"haven't\", 'movi', 'disenfranchis', 'twenti', 'someth', 'entrepreneur', 'wall', 'street', 'wa', 'introduc', 'simplist', 'fantasi', 'world', 'saint', 'sinner', 'boiler', 'room', 'offer', 'extrem', 'give'], ['cinemat', 'speak', 'gordon', \"parks'\", 'origin', '1971', '_shaft_', 'great', 'film', 'bit', 'slow', 'time', 'littl', 'rough', 'edg', 'build', 'climact', 'explos', 'violent', 'action', 'thi', 'spirit', 'formula', 'yarn', 'initi', 'brought', 'ernest', \"tidyman'\", 'black', 'privat', 'dick', \"that'\", 'sex', 'machin', 'chick', 'big', 'screen', 'hardli', 'qualifi', 'groundbreak', 'filmmak', 'nearli', '30', 'year', 'origin', 'release--and', 'long', 'genr', 'spawn', 'blaxploit', 'die', 'decade--th', '1971', '_shaft_', 'remain', 'extrem', 'entertain', 'watch', 'complet', 'escap', 'pop', 'cultur', 'conscious', 'reason', 'thi', 'explain', \"film'\", 'connect', 'moviego', 'target', 'african-american', 'audienc', 'titl', 'charact', 'john', 'shaft', 'fact', 'strong', 'smart', 'viril', 'superbl', 'suav', 'shaft', 'black', 'primari', 'factor', 'histor', 'cultur', 'signific', 'broad-bas', 'appeal', 'stem', 'idea', 'transcend', 'race', 'comfort', 'confid', 'proud', 'anyon', 'problem', 'simpli', 'kiss', 'ass', 'thi', 'fact', 'explain', 'whi', 'john', \"singleton'\", 'y2g', 'reviv', 'john', 'shaft', 'enjoy', 'film', 'start', 'franchis', 'thi', \"_shaft_'\", 'plot', \"doesn't\", 'score', 'point', 'origin', 'depart', 'energi', 'level', 'smooth', 'attitud', 'distinguish', 'standard', 'crime', 'thriller', 'contrari', 'ha', 'report', 'past', 'month', 'thi', '_shaft_', 'remak', 'origin', 'film', 'sequel/spinoff', 'star', 'audienc', 'love', 'origin', 'film', 'sequel', \"1972'\", \"_shaft's_big_scor\", \"1973'\", '_shaft_in_africa_', 'richard', 'roundtre', 'onc', 'play', 'john', 'shaft', 'run', 'privat', 'investig', 'firm', 'york', 'citi', 'howev', 'focu', 'film', 'lie', 'same-nam', 'nephew', 'samuel', 'jackson', 'film', 'begin', 'cop', 'take-no-crap', 'demeanor', 'constantli', 'leav', 'odd', 'superior', 'privileg', 'young', 'man', 'walter', 'wade', 'jr', 'christian', 'bale', 'accus', 'brutal', 'racially-motiv', 'murder', 'releas', 'bail', 'disgust', 'shaft', 'leav', 'forc', 'decid', 'matter', 'hand', \"that'\", 'easier', 'stand', 'shaft', 'justic', 'peopl', 'hernandez', 'jeffrey', 'wright', 'dominican', 'gangster', 'hire', 'walter', 'rub', 'waitress', 'dian', 'palmieri', 'toni', 'collett', 'onli', 'eyewit', 'crime', 'peoples--or', 'wright', 'big', 'obstacl', \"jackson'\", 'command', 'thi', 'film', 'peopl', 'outrag', 'comic', 'charact', 'run', 'time', 'wright', 'insan', 'funni', 'dure', 'stage', 'howev', \"isn't\", 'funni', 'make', 'charact', 'goofi', 'buffoonish', \"peoples'\", 'eventu', 'turn', 'seriou', 'villaini', 'seamless', 'believ', 'probabl', 'case', 'play', 'origin', 'cast', 'choic', 'john', 'leguizamo', 'bow', 'befor', 'film', \"it'\", 'easi', 'task', 'steal', 'film', 'jackson', 'usual', 'captiv', 'charismat', \"that'\", 'exactli', 'wright', 'does--and', 'make', 'effortless', 'talent', 'ensembl', 'surround', 'surpris', \"jackson'\", 'impress', 'star', 'turn', \"doesn't\", 'quit', 'tower', 'rest', 'strongli', 'complement', 'onli', 'wright', 'co-star', 'bale', 'ha', 'alreadi', 'proven', 'abil', 'play', 'uppiti', 'killer', '_american_psycho_', 'onli', 'follow', 'perform', 'similar', 'exagger', 'charact', 'spot-on', 'collett', 'lend', 'film', 'convinc', 'welcom', 'dramat', 'weight', 'frighten', 'conflict', 'dian', 'busta', 'rhyme', 'bring', 'good', 'laugh', \"shaft'\", 'sidekick', 'rasaan', 'regist', 'strongly--but', 'fault', 'own--ar', 'vanessa', 'william', 'tough', 'narcot', 'cop', 'carmen', 'vasquez', 'dismayingli', 'underus', 'roundtre', 'simpli', 'littl', 'script', 'credit', 'richard', 'price', 'singleton', 'shane', 'salerno', 'jackson', 'ha', 'littl', 'sens', 'throwaway', 'footag', 'dure', 'open', 'credit', 'asid', 'shaft', \"doesn't\", 'sex', 'scene', 'singleton', 'onc', 'prove', 'abil', 'actor', 'especi', 'good', 'thing', 'sinc', \"he'\", 'realli', 'action', 'director', 'thi', 'doe', 'bad', 'job', 'numer', 'gunfight', 'requisit', 'foot', 'car', 'chase', 'move', 'doe', 'film', 'reason', 'excit', \"it'\", \"there'\", 'noth', 'terribl', 'invent', 'set', 'piec', 'function', 'script', 'work', \"they'r\", 'unsurpris', 'convent', \"there'\", 'anyth', '_shaft_', 'movi', 'doe', \"it'\", 'make', 'familiar', 'cool--and', 'thi', '_shaft_', 'tradit', 'aliv', 'slick', 'titl', 'sequence--scor', 'cours', 'isaac', \"hayes'\", 'ever-infecti', 'oscar-win', 'theme', 'song', 'singleton', 'wise', 'sprinkl', 'film--on', 'film', 'great', 'easili', 'sweep', 'viewer', 'world', 'energet', 'bravado', 'common', 'visual', 'trick', 'employ', 'fanci', 'wipe', 'scene', 'transit', 'onli', 'feel', 'unforc', 'feel', 'necessari', 'style', \"doesn't\", 'exactli', 'make', 'great', 'film', '_shaft_', \"that'\", 'littl', 'consequ', 'matter', 'abov', 'els', 'good', 'time', 'latest', '_shaft_', 'mani', 'fun', 'ride', 'thi', 'bad', 'mutha--shut', 'mouth'], ['amaz', 'thing', 'paul', \"cox'\", 'innoc', 'unlik', 'movi', 'highest', 'compliment', 'studio', 'profil', 'elderli', 'coupl', 'rekindl', '40-year-old', 'romanc', \"i'd\", 'run', 'hide', 'sex', 'scene', 'handl', 'farc', 'produc', 'shed', '20', 'year', \"characters'\", 'age', 'susan', 'sarandon', 'harrison', 'ford', 'star', 'true', 'love', 'shine', 'ani', 'obstacl', 'explan', 'consequ', 'charm', 'romant', 'stori', 'australian/belgian', 'innoc', 'show', 'increas', 'sens', 'mortal', 'combin', 'revisit', 'past', 'entrench', 'present', 'make', 'someth', 'downright', 'question', 'romanc', 'start', 'musician', 'andrea', 'charl', 'bud', 'tingwel', 'learn', 'true', 'love', 'clair', 'julia', 'blake', 'live', 'nearbi', 'decid', 'catch', 'time', 'find', 'themselv', 'reinvigor', 'affair', 'complic', 'matter', \"andreas'\", 'frail', 'health', \"claire'\", 'longtim', 'husband', 'terri', 'norri', \"can't\", 'understand', 'whi', \"he'\", 'suddenli', 'becom', 'obsolet', 'mind', 'movi', 'relationship', 'andrea', 'clair', 'feel', 'everyon', 'involv', 'john', \"claire'\", 'husband', 'endlessli', 'question', 'wrong', 'clair', 'initi', 'insist', \"she'\", 'grown-up', 'admittedli', 'behav', 'child', 'prospect', 'thrill', 'disappoint', 'andrea', 'agnost', 'begin', 'question', 'fate', 'messag', 'cox', 'deliv', 'memor', 'dream', 'sequenc', 'cox', 'litter', 'movi', 'flashback', 'includ', 'repeat', 'vision', 'roar', 'train', \"it'\", 'remind', 'andrea', \"claire'\", 'past', 'love', 'young', 'lover', 'met', 'train', 'recur', 'feel', 'past', 'present', 'clash', 'pall', 'cast', 'affair', 'master', 'underst', 'cox', 'string', 'togeth', 'seri', 'memor', 'moment', \"andreas'\", 'dream', 'sequenc', 'amidst', 'roar', 'train', 'convers', 'pictur', 'andrea', \"claire'\", 'love', 'glimps', 'john', \"claire'\", 'relationship', 'dure', 'silent', 'candlelit', 'dinner', 'shortli', 'afterward', 'clair', 'admit', 'john', 'indiscret', 'ani', 'monologu', \"that'\", 'heard', 'scrape', 'fork', 'plate', 'charact', 'unlik', 'anyth', \"i'v\", '--', \"they'r\", 'peopl', 'mani', 'time', 'movi', 'especi', 'televis', 'portray', 'senior', 'citizen', 'gratingli', 'spunki', \"they'r\", 'reduc', 'comed', 'buffoon', 'ordinari', 'peopl', 'pile', 'emot', 'clair', 'andrea', \"aren't\", 'step', 'happi', 'consist', 'entir', 'differ', 'set', 'condit', \"they'v\", 'adult', 'live', 'bravo', 'cox', 'wrote', 'script', 'make', 'john', 'monster', \"claire'\", 'affair', 'automat', 'justifi', 'norri', 'effect', 'john', 'make', 'andrea', \"claire'\", 'love', 'difficult', 'accept', 'feel', \"he'\", 'decent', 'man', 'becom', 'complac', 'expect', 'thi', 'especi', 'present', 'audienc', \"it'\", 'onli', 'expect', 'materi', 'littl', 'drawn', 'repetit', 'doe', 'howev', 'bring', 'tough', 'question', 'offer', 'easi', 'answer', 'cox', 'display', 'skill', 'lan', \"isn't\", 'surpass', 'anyon', 'anytim']]\n",
            "[['vampire', 'lore', 'legend', 'popular', 'fantasy', 'element', 'substantiated', 'sheer', 'number', 'movies', 'subject', 'proliferation', 'cults', 'sects', 'adherents', 'unlike', 'outlandish', 'myths', 'vampire', 'holds', 'real-world', 'probability', 'study', 'claims', '1', '000', 'bloodsuckers', 'exist', 'worldwide', 'places', '50', 'los', 'angeles', 'nasties', 'mistaken', 'simple', 'comic', 'book', 'bad', 'guys', 'john', 'carpenter', 'remind', 'frightening', 'element', 'thriller', 'genre', 'remind', 'latest', 'film', 'vampires', 'question', 'halloween', 'weekend', 'approached', 'vampires', 'comparison', 'line', \"cinema's\", 'immensely', 'successful', 'blade', 'released', 'august', 'films', 'noticeably', 'stands', 'vampire', 'issue', \"don't\", 'agree', 'basic', 'points', 'slaying', 'method', 'instance', \"blade's\", 'main', 'weapons', 'silver', 'garlic', 'main', 'character', 'jack', \"crow's\", 'technique', 'wooden', 'stake', 'heart', 'blade', 'face', 'vampire', 'civilization', 'carpenter', 'remain', 'dark', 'pasties', 'operate', 'advantages', \"carpenter's\", 'style', 'lends', 'darker', 'breed', 'suspense', 'action', 'movie', 'blade', 'director', 'stephen', 'norrington', 'delievered', \"it's\", 'vampires', 'kill', 'die', 'bloody', 'flourish', 'level', 'gore', 'set', 'maximum', 'time', 'hero', 'vatican-sponsored', 'slayer', 'jack', 'crow', 'james', 'woods', \"he's\", 'cynical', 'battle-worn', 'veteran', 'bunch', 'team', 'responsible', 'cleaning', 'american', 'southwest', 'exterminating', 'nest', 'night', 'run', 'super-vampire', 'termed', 'master', 'named', 'valek', 'thomas', 'ian', 'griffith', 'valek', 'kills', \"jack's\", 'team', 'partner', 'tony', 'montoya', 'daniel', 'baldwin', 'regroup', 'learn', 'valek', 'original', 'vampire', 'hundred', 'years', 'apparently', 'valek', 'minions', 'sweeping', 'southwest', 'decades', 'search', 'cross', 'enable', 'walk', 'daytime', 'aid', 'priest', 'named', 'adam', 'tim', 'guinee', 'bitten', 'hooker', 'sheryl', 'lee', 'bait', 'track', 'valek', 'final', 'confrontation', 'script', 'vampires', 'written', 'don', 'jakoby', 'based', 'john', 'steakley', 'wittiest', 'piece', 'screenplay', 'production', 'year', 'crow', 'fun', 'source', 'one-liners', 'woods', 'perfect', 'stoicism', 'baldwin', 'lee', 'guinee', 'fine', 'supports', 'adding', 'character', 'pool', 'true', 'highlight', 'movie', 'thomas', 'ian', \"griffith's\", 'bad', 'guy', \"griffith's\", 'intense', 'expression', 'perfect', 'role', 'downside', \"he's\", 'talk', 'luckily', \"he's\", 'lines', 'manages', 'pull', 'thrilling', 'performance', 'fans', 'surely', 'impressed', 'picture', 'found', 'apt', 'pupil', 'bit', 'limp', 'excited', 'worthwhile', 'visit', 'theaters'], ['capsule', 'suprisingly', 'comedy', 'straight', 'action', 'flick', \"isn't\", 'necessarily', 'bad', 'thing', 'oscar', 'caliber', 'helluva', 'bullet-riddled', 'good', 'time', 'extended', 'review', 'remember', 'hitmen', 'evil', 'murderous', 'scum', 'alas', 'times', \"a-changin'\", 'recent', 'string', 'movies', 'hitmen', 'suddenly', 'wise-', 'cracking', 'fun-loving', 'killers-with-hearts', 'brings', 'hong', 'kong', 'director', 'kirk', \"wong's\", 'american', 'feature', 'big', 'hit', 'oddly', 'time', 'year', 'similar', 'film', 'grosse', 'point', 'blank', 'released', 'advertised', 'quirky', 'comedy', 'hints', 'action', 'turned', 'suprising', 'dosage', 'big', 'hit', 'opposite', 'hyped', 'film', 'producer', 'john', 'woo', 'expect', 'lots', 'stylized', 'killing', 'action', \"there's\", 'sore', 'lack', 'thing', 'wrong', 'big', 'hit', 'film', 'starts', 'mel', 'smiley', 'cohorts', 'job', 'white', 'slaver', 'mel', 'played', 'mark', 'wahlberg', 'dopey', 'milquetoast', 'role', 'killing', 'machine', 'flips', 'spins', 'breakdances', 'whilst', 'popping', 'caps', 'sadly', \"doesn't\", 'chance', 'beginning', 'set', 'piece', '20', 'twenty', 'minutes', 'film', 'comedy', 'mode', 'action', 'prime', 'cut', 'stuff', 'wong', 'numerous', 'hong', 'kong', 'features', 'makes', 'nice', 'debut', 'pacing', 'bit', 'action', 'sequences', 'bookending', 'movie', 'lasting', 'long', 'start', 'electrifying', 'fresh', 'kinda', 'stop', 'hamper', 'movie', 'point', 'unenjoyable', 'luckily', 'ben', \"ramsey's\", 'screenplay', 'bitingly', 'funny', 'piece', 'work', 'problem', 'humor', 'joke', 'makes', 'laugh', 'hard', 'miss', 'gags', 'include', 'oriental', 'film', 'maker', 'luck', \"mel's\", 'hitmen', 'pals', 'discovered', 'onanism', 'problem', 'minor', 'characters', 'handled', 'laugh', 'works', \"doesn't\", 'big', 'hit', \"it's\", 'flaws', 'makes', 'stylishly', 'directed', 'gut-wrenchingly', 'funny', 'joyride', 'definately', 'ways', 'spend', 'hours'], [\"don't\", 'mike', 'mike', 'badly', 'embarrassingly', 'bad', 'broke', 'six-year', 'relationship', 'months', 'ago', 'move', \"he's\", 'result', 'jokes', 'fall', 'flat', 'impress', \"he's\", 'comedian', 'unemployed', 'comedian', \"hollywood's\", 'fish', 'bad', \"he's\", 'asked', 'application', \"starbuck's\", \"starbuck's\", 'thing', 'worse', 'worse', \"won't\", 'fail', 'mike', 'played', 'endearingly', 'jon', 'favreau', 'swingers', 'revolves', \"mike's\", 'half-hearted', 'awkward', 'efforts', 'back', 'social', 'swing', 'things', 'end', 'enthusiastically', 'assisted', 'equally', 'underachieving', 'twentysomething', 'actor', 'friends', 'trent', 'vince', 'vaughn', \"film's\", 'animated', 'performance', 'gift', 'gab', 'bordering', 'disturbing', 'side', 'motivational', 'speaking', 'gun-toting', 'sue', 'patrick', 'van', 'horn', 'rob', 'ron', 'livingston', 'played', 'hamlet', 'longs', 'work', 'goofy', 'disneyland', \"doesn't\", 'succeed', 'lack', 'theme', 'park', 'experience', 'talk', 'women', 'make', 'eye', 'contact', 'involves', 'avoiding', 'call', 'desperate', 'days', 'industry', 'standard', 'talking', 'talk', 'walk', 'walk', 'strutting', 'cool', 'swingers', 'aspire', 'laughable', 'effect', 'mike', 'funk', 'friends', 'persistently', 'convince', 'quickie', 'night', 'trip', 'seedy', 'vegas', 'casino', 'cutthroat', 'hollywood', 'party', 'beautiful', 'people', '50s', 'swing', 'lounge', 'encourage', 'mike', 'replacement', 'honey', 'vigil', 'progress', 'lack', 'dotty', 'doting', 'parents', 'mike', 'leaves', 'company', 'recipient', 'confidence', 'cheerleading', \"you're\", 'money', 'mike', 'honeys', 'equipped', 'eccentric', 'dating', 'philosophies', 'analogy', 'flirting', 'bear', 'bunny', 'unwavering', 'support', 'friends', \"mike's\", 'badly', 'favreau', 'doubled', \"film's\", 'screenwriter', 'proves', 'gift', 'creating', 'engaging', 'characters', 'witty', 'banter', \"today's\", 'bon', 'mot', 'reassuring', 'honesty', 'friendships', 'hits', 'low', 'points', 'friends', 'commiserate', 'mike', 'gumption', 'love', 'join', 'cheerleading', 'section', 'swingers', 'light', 'unassuming', 'fare', 'sweet', 'candy', 'bust', 'gut', 'laughing'], [\"it's\", 'wednesday', 'march', '27', 'murder', 'investigation', 'underway', 'charlotte', 'south', 'carolina', 'crime', 'young', 'prostitute', 'elizabeth', 'renee', 'zellweger', 'brutally', 'slain', 'half', 'severed', 'body', 'found', 'bag', 'train', 'station', 'half', 'discovered', 'trunk', 'harbor', 'authority', 'miles', 'police', 'duo', 'braxton', 'chris', 'penn', 'kennesaw', 'michael', 'rooker', 'strapped', 'leads', 'moment', 'suspect', 'wayland', 'tim', 'roth', 'wealthy', 'unemployed', 'genius', 'graduated', 'summa', 'cum', 'laude', 'princeton', 'appears', 'character', 'commit', 'heinous', 'act', \"that's\", 'premise', 'deceiver', 'thriller', 'pate', 'brothers', 'jonas', 'josh', 'made', 'mark', 'film', 'world', 'years', 'ago', 'sundance', 'movie', 'grave', 'deceiver', 'plays', 'mind', 'game', 'intellectually', 'superior', 'wayland', 'not-', 'so-bright', 'cops', 'captions', 'early', 'proceedings', \"wayland's\", 'iq', '151', 'contrast', \"kennesaw's\", '122', \"braxton's\", '102', 'setting', 'police', 'interrogation', 'room', 'lie', 'detector', 'test', 'administered', 'days', 'wayland', 'returns', 'answer', 'questions', 'drama', 'tension', 'characters', 'gradually', 'escalates', 'inevitably', 'boils', 'plot', 'elements', 'thrown', 'good', 'measure', 'wayland', 'suffers', 'peculiar', 'kind', 'epilepsy', 'stressful', 'situations', 'render', 'virtually', 'catatonic', 'extremely', 'violent', 'braxton', 'compulsive', 'gambler', 'deep', 'debt', 'local', 'syndicate', 'kennesaw', 'haunted', 'dark', 'abusive', 'side', 'delights', 'terrorizing', 'women', 'wife', 'rosanna', 'arquette', 'suspects', 'unfaithful', 'foibles', 'failings', 'brought', 'open', 'mystery', \"elizabeth's\", 'death', 'deepens', 'unclear', 'upper', 'hand', 'suspect', 'questioners', 'deceiver', 'transpires', 'dimly-lit', 'room', 'involves', 'lot', 'smart', 'dialogue', 'feel', 'david', 'mamet', 'play', 'edgy', 'claustrophobic', 'tense', 'atmosphere', 'explosive', 'pivotal', 'moments', 'confrontation', 'riveting', 'deceiver', 'power', 'grab', 'audience', 'end', 'succumbs', 'throw', 'unexpected', 'twist', 'undoing', 'surprise', 'shock', 'viewers', 'stretches', 'credulity', 'raises', 'questions', 'answers', \"it's\", 'effective', 'wrap-up', \"don't\", 'carefully', 'full', 'implications', 'film', 'plays', 'fast', 'loose', 'reality', 'logic', 'police', 'procedure', 'totally', \"it's\", 'impossible', 'accept', 'criminal', 'investigation', 'proceed', 'manner', 'real', 'focus', 'deceiver', 'character', 'interaction', 'plot', 'details', 'deceiver', 'occasionally', 'police', 'station', 'instances', 'occur', 'primarily', 'flashbacks', 'featuring', 'prostitute', 'pates', 'employ', 'number', 'interesting', 'techniques', 'present', 'vignettes', \"elizabeth's\", 'final', 'days', 'hours', 'intriguing', 'unreliable', 'narrator', 'underlining', 'discrepancies', 'voice-over', 'visually', 'showing', 'happened', 'moments', 'effective', 'dismissed', 'gimmicks', 'movie', 'fashioned', 'manner', 'classic', 'film', 'noir', 'drips', 'atmosphere', 'fascinating', 'stylistic', 'touches', 'setting', 'contemporary', 'telephones', 'old-fashioned', 'rotary', 'models', 'cinematographer', 'bill', 'butler', 'opportunity', 'unconventional', 'camera', 'work', 'liven', \"deceiver's\", 'things', 'involve', 'contrast', 'light', 'shadow', 'work', 'exceptionally', 'lazy', 'susan', 'shots', 'unnecessary', 'visual', 'tricks', 'wayland', 'tim', 'roth', \"film's\", 'top', 'performance', 'occasionally', 'treading', 'tightrope', 'acting', 'overacting', 'roth', 'makes', 'wayland', 'brilliant', 'troubled', \"he's\", 'supposed', 'leads', 'chris', 'penn', 'michael', 'rooker', \"aren't\", 'effective', 'play', 'characters', 'familiar', 'types', \"penn's\", 'performance', 'uninspired', \"rooker's\", 'lacks', 'subtlety', 'work', 'turned', 'supporting', 'actors', 'renee', 'zellweger', 'role', \"that's\", 'miles', 'star-making', 'turn', 'jerry', 'maguire', 'brings', 'note', 'vulnerability', 'humanity', 'part', 'easily', 'caricature', 'rosanna', 'arquette', 'solid', \"kennesaw's\", 'wife', 'michael', 'parks', 'delivers', 'wonderful', 'scenes', 'psychiatrist', \"who's\", 'entrusted', 'evaluating', \"wayland's\", 'condition', 'things', 'deceiver', 'talks', 'audience', 'plot', 'points', \"aren't\", 'hammered', 'home', 'ending', 'weaknesses', \"isn't\", 'spelled', 'bold', 'letters', 'pates', 'give', 'audience', 'members', 'credit', 'brains', 'increasingly', 'rare', 'characteristic', 'film', 'makers', 'occasionally', 'gripping', 'uninteresting', 'deceiver', 'fine', 'noir', 'effort'], ['accepting', 'oscar', 'producer', \"year's\", 'picture', 'winner', 'saul', 'zaentz', 'remarked', 'cup', 'runneth', 'much-prized', 'film', 'rarely', 'screen', 'overflowing', 'potent', 'imagery', 'symbolism', 'ideas', 'metaphors', 'complex', 'literate', 'storytelling', 'possessed', 'intelligence', 'invites', '--', 'demands', '--', 'constant', 'scrutiny', 'acuity', 'perception', 'observation', 'yield', 'truth', 'short', 'antithesis', 'things', 'hollywood', 'surfeit', 'signals', 'made', 'serve', 'pale', 'thinly', 'realized', 'love', 'story', 'emotional', 'impact', 'dry', 'desert', 'wind', 'ralph', 'fiennes', 'title', 'character', 'amnesiac', 'burn', 'victim', 'gradual', 'return', 'memory', 'memory', 'love', 'ostensible', 'focus', 'film', 'numerous', 'flashbacks', 'put', 'pieces', 'personal', 'puzzle', 'learn', 'man', 'feel', 'empathy', 'emotional', 'life', 'story', 'begins', 'essential', 'clue', 'remains', 'withheld', 'easily', 'character', 'film', 'juliette', \"binoche's\", 'nurse', 'close', 'film', 'emotional', 'heart', 'learn', 'early', 'scarred', 'deaths', 'close', 'understand', 'eager', 'escape', 'company', 'comrades', 'order', 'seek', 'refuge', 'convalescence', 'mysterious', 'disfigured', 'dying', 'stranger', 'information', 'imparted', 'quickly', 'cursory', 'fashion', 'verges', 'comical', 'characters', 'enjoying', 'screen', 'time', \"film's\", '160', 'minutes', 'taxing', 'captivating', 'sensibility', 'camera', \"couldn't\", 'feel', 'greatness', 'air', 'hints', '--', 'man', 'hates', 'ownership', 'desperately', 'possess', 'lover', 'ancient', 'cave', 'paintings', 'swimmers', 'copied', 'casually', 'modern-day', 'swimmer', 'sahara', 'shifting', 'sands', 'time', 'obliterate', 'completely', 'world', 'war', 'latent', 'meaning', 'supply', 'college', 'film', 'students', 'paper', 'topics', 'years', 'ultimately', 'emotional', 'truths', 'writer-director', 'anthony', 'minghella', 'grasping', 'revealed', 'end', 'left', 'impression', 'witnessed', 'oxymoron', 'haunting', 'bore', 'bore', 'strong', 'word', 'drinking', 'rich', 'production', 'values', 'cup', 'remains', 'slightly', 'half-full'], ['uncompromising', 'nudity', 'bared', 'petrice', \"chereau's\", 'intimacy', 'garnered', 'notoriety', \"it's\", 'naked', 'faces', 'fearless', 'actors', 'mark', 'rylance', 'angels', 'insects', 'kerry', 'fox', 'sarajevo', 'tender', 'ache', 'emotional', 'resonance', 'discovered', 'sharp', 'intelligent', 'eyes', 'reflect', 'experience', 'maturity', 'rylance', 'fox', 'refreshingly', 'detached', 'false', 'glamour', 'hollywood', 'idols', 'sex', 'scenes', 'bracing', 'raw', 'honesty', 'acceptance', 'flesh', 'messiness', 'apparent', 'remarkable', 'astute', 'observations', 'behavior', 'revealed', 'carnal', 'beats', 'haste', 'hesitance', 'single', 'line', 'dialogue', 'aiming', 'spiritual', 'poetry', 'realm', 'senses', 'philosophical', 'transgressions', 'crash', 'chereau', 'sexual', 'odyssey', 'firmly', 'grounded', 'terms', 'straightforward', 'character', 'development', 'reason', 'intimacy', 'unerringly', 'impressive', 'significant', 'tactile', 'sensory', 'level', 'themes', 'human', 'isolation', 'barren', 'obvious', 'science', 'project', 'devoid', 'groundbreaking', 'hypothesis', 'intimacy', 'manage', 'stand', 'lesser', 'portraits', 'human', 'interconnectedness', 'pinter-esque', 'rummages', 'psychological', 'dirty', 'drawers', 'kill', 'shallow', 'sound', \"it's\", 'amazing', 'filled', 'inspired', 'cast', 'perceptive', 'camerawork', 'imaginative', 'ways', 'treating', 'love', 'scene', 'ingredients', 'assured', 'confident', 'dismiss', 'icing', 'cake', 'substance', 'cake', 'adapted', 'pair', 'short', 'stories', 'british', 'novelist', 'hanif', 'kureishi', 'intimacy', 'weaves', 'desperate', 'lovemaking', 'strangers', 'london', 'wednesday', 'jay', 'rylance', 'claire', 'fox', 'meet', 'cluttered', 'dank', 'apartment', 'hour', 'sexual', 'release', 'uninspired', 'lives', \"he's\", 'head', 'bartender', 'posh', 'restaurant', 'years', \"she's\", 'mystery', 'glum', 'workaday', 'appearance', 'reveals', 'similar', 'dissatisfaction', \"they're\", 'married', 'relationship', 'curdled', 'embittered', 'separation', 'weeks', 'draw', 'jay', 'obsessively', 'takes', 'uncover', \"claire's\", 'personal', 'routines', 'attempt', 'gain', 'fuller', 'semblance', 'opens', 'wounds', \"hadn't\", 'existed', 'single-handedly', 'corrupting', 'fantasy', \"weren't\", 'unnecessary', 'subplots', 'involving', \"jay's\", 'brother', 'bevy', 'disgruntled', 'co-workers', 'minimalist', 'premise', 'modern', 'fable', 'perils', 'fulfillment', \"chareau's\", 'restless', 'camera', 'wielded', 'superb', 'ever-attentive', 'cinematographer', 'eric', 'gautier', 'family', 'transit-oriented', 'love', 'train', 'scenes', 'linger', 'rylance', 'fox', 'separately', 'pensively', 'attempt', 'carry', 'makeshift', 'household', 'routines', 'captured', 'lingering', 'unblinking', 'wide', 'shots', 'view', 'stranded', 'amidst', 'drab', 'workplaces', 'homes', 'separation', 'proves', 'haunting', 'melancholy', 'series', 'intercut', 'shots', 'rylance', 'fox', 'undress', 'opposite', 'sides', 'room', 'crawling', 'floor', 'meet', 'center', 'restless', 'fly', 'hyperactive', 'restaurant', 'scenes', 'blend', 'hustling', 'crowd', 'gabby', 'trendsetters', \"you'd\", 'hard', 'pressed', 'find', 'single', 'uninteresting', 'image', 'intimacy', 'takes', 'interest', 'sordid', 'world', 'lower-middle', 'class', 'lonely', 'pubs', 'busy', 'shopping', 'streets', '--', 'understands', 'people', 'inhabit', 'spaces', 'viewing', 'sympathy', 'scraped', 'raw', 'evaluation', 'incomplete', 'highlighting', 'great', 'timothy', 'spall', 'robust', 'scene-stealer', 'mike', 'leigh', 'collaboration', \"claire's\", 'cuckolded', 'husband', 'jocular', 'heavyweight', 'plays', 'handful', 'bitter', 'pill', 'scenes', 'unforced', 'menace', 'self-effacing', 'embarrassment', 'imposing', 'bulk', 'bangs', 'eyes', 'mouth', 'forming', 'quizzical', 'pouts', 'dry', 'smirks', 'fool', 'barroom', 'encounters', 'opposite', 'sarcastic', 'gleaming', 'mark', 'rylance', 'jay', 'arrived', 'scene', 'stir', 'trouble', 'spall', 'trifle', 'overreaching', 'pal', 'demeanor', 'suggests', 'mind', 'abuzz', 'secret', 'passageways', 'guile', 'pointed', 'questions', 'na', 've', 'choose', 'read', 'crafty', 'insinuations', 'unassuming', \"spall's\", 'carefully', 'etched', 'interpretation', 'hostility', 'buried', 'mountain', 'surface', 'propriety', 'criminally', 'underappreciated', 'performances', 'year', \"he's\", 'good'], ['debating', 'modern', 'queen', 'romantic', 'comedy', 'bring', 'names', 'julia', 'roberts', 'sandra', 'bullock', 'mention', 'meg', 'ryan', \"it's\", 'close', 'janeane', 'garofalo', 'queen', 'romantic', 'comedy', 'comic', 'actress', 'hollywood', \"it's\", 'good', 'thing', \"she's\", 'starring', 'matchmaker', 'presence', 'movie', 'bland', 'unfunny', 'dull', 'garofalo', 'stars', 'marcy', 'tizard', 'top', 'aide', 'boston', 'senator', 'john', 'mcglory', 'suffering', 'polls', 'attempt', 'capture', 'irish', 'vote', 'sends', 'marcy', 'mission', 'small', 'irish', 'town', 'called', 'ballinagra', 'search', \"mcglory's\", 'moved', 'america', 'marcy', 'visit', 'coincides', \"town's\", 'annual', 'matchmaking', 'festival', 'things', 'rocky', 'start', 'marcy', 'hotel', 'reservations', 'rational', 'reason', 'tiny', 'confined', 'room', 'tired', \"cliche'\", 'stay', 'visitor', 'bathtub', 'sean', 'marcy', 'finds', 'repugnant', 'headed', 'movie', 'runs', 'roadblocks', 'instance', 'story', 'thin', 'characters', 'local', 'matchmaker', 'interesting', 'garofalo', 'characters', 'political', 'aide', 'played', 'denis', 'leary', 'wandered', 'completely', 'movie', 'director', 'realized', 'decided', 'throw', 'numerous', 'shots', 'beautiful', 'irish', 'scenery', 'close-ups', \"garofalo's\", 'winning', 'smile', 'strange', 'thing', 'works', \"garofalo's\", 'charm', 'irish', 'scenery', 'carry', 'thinnest', 'stories', 'carries'], ['1987', 'stock', 'market', 'crashed', 'oliver', \"stone's\", 'wall', 'street', 'released', 'critical', 'acclaim', 'packed', 'movie', 'houses', 'wall', 'street', 'lucked', 'timing', 'recent', 'crash', 'gave', 'film', 'resonation', 'kill-or-be-killed', 'approach', 'business', 'exaggerated', 'ideology', 'keyed', 'mind', 'set', 'quintessential', 'reagan-era', 'businessman', 'stone', 'constructed', 'film', 'mythical', 'good', 'evil', 'tale', 'relayed', 'fast-paced', 'milieu', 'burgeoning', 'stock', 'exchange', 'critics', 'audiences', 'lauded', 'wall', 'street', 'elevating', 'status', 'contemporary', 'classic', \"i'm\", 'proud', 'counted', 'found', 'wall', 'street', 'axiomatic', 'pandering', 'majority', \"stone's\", 'output', 'thin', 'caricatures', 'obvious', 'sentiments', 'charisma', 'barren', 'performance', 'young', 'charlie', 'sheen', 'stone', 'broke', 'scene', 'works', 'approach', 'bury', 'purported', 'message', 'beneath', 'heap', 'good', 'intentions', 'directs', 'stock', 'exchange', 'scenes', 'typical', 'hyperbolic', 'mode', 'people', 'shouting', 'phones', 'plummeting', 'airplane', \"it's\", 'excuse', 'stone', 'ratchet', 'emotion', 'false', 'intensity', 'explore', 'situations', 'feeling', 'brokers', 'psychologically', 'manipulative', 'presented', 'boiler', 'room', 'laughably', 'top', 'guys', 'salesmen', 'televised', 'judges', 'baffled', 'adore', 'wall', 'street', 'solution', 'muster', 'release', 'date', 'timeliness', 'greed', 'good', 'subject', 'matter', 'film', 'plumped', 'eighties', 'decade', 'one-joke', 'comedy', 'rose', 'art', 'form', 'group', 'glamorous', 'brat', 'packers', 'smirked', 'inane', 'high', 'concept', 'low', 'result', 'movies', 'mind', 'eighties', 'forever', 'remembered', 'decade', 'proliferation', 'bad', 'movies', 'bad', 'music', 'bad', 'hair', 'bad', 'clothes', \"stone's\", 'school', 'special', 'set', 'wall', 'street', 'viewed', 'change', 'pace', 'boiler', 'room', 'equally', 'well-timed', 'film', 'similarities', \"stone's\", 'piece', 'crap', 'feature', 'consequential', 'father-son', 'relationship', 'boiler', \"room's\", 'subtle', 'touching', 'concerned', 'power', 'greed', 'men', 'boiler', 'room', 'akin', 'poseurs', 'presuming', 'big', 'shots', 'slippery-smooth', 'heartless', 'gordon', 'gecko', 'figures', 'wall', 'street', 'boiler', 'room', 'message', 'movie', 'end', \"doesn't\", 'shove', 'faces', 'boiler', 'room', 'pursuit', 'cash', 'degrees', 'people', 'cash', 'film', 'timely', 'society', 'millionaire', 'number', 'prime', 'time', 'show', 'day', 'bringing', 'revolution', 'prime', 'time', 'tv', 'watching', \"hasn't\", 'millionaires', 'watch', 'people', 'millionaires', 'super-judgmental', 'power-oriented', 'culture', 'desire', 'money', 'supersedes', 'money', 'seth', 'giovanni', 'ribisi', 'easy', \"he's\", 'well-intentioned', 'college', 'drop', 'lured', 'working', 'illegally', 'run', 'brokerage', 'firm', 'kind', 'sells', 'junk', 'stock', 'meets', 'ben', 'affleck', 'cast', 'jim', 'company', 'headhunter', 'struts', 'commanding', 'room', 'frat', 'boy', 'gordon', 'gecko', 'job', 'influence', \"trainee's\", 'enthusiastic', 'employees', 'giving', 'speech', 'subtly', 'attacks', 'man', 'hood', \"it's\", 'ironic', 'sells', 'pups', 'load', \"they're\", 'told', 'dish', 'prospective', 'buyers', \"affleck's\", 'character', 'supposed', 'recall', 'alec', \"baldwin's\", 'similar', 'character', 'glengary', 'glen', 'ross', 'proves', 'detrimental', \"actor's\", 'performance', 'affleck', 'shouts', 'curses', 'be-littles', 'rookie', 'employees', 'baldwin', 'minus', 'edge', 'alec', 'played', 'scene', 'part', 'spewing', 'brutal', 'lines', 'comparison', 'affleck', 'simply', 'hammy', 'line', 'reading', 'brokers', 'approach', 'job', 'fervor', 'overzealous', 'jocks', 'storm', 'work', 'football', 'players', 'big', 'game', 'rap', 'music', 'thumps', 'soundtrack', 'effectively', 'illustrating', 'guys', 'intellectual', 'gangsters', \"aren't\", 'rumble', 'test', 'man', 'hood', 'leisure', 'time', 'lumbering', 'scott', 'caan', 'eager', 'fists', 'minor', 'disputes', 'drink', 'world', 'seth', 'watch', 'seduced', 'cautionary', 'tales', 'boiler', 'room', 'begins', 'seducing', 'illustrious', 'world', 'profit', 'wrongdoing', 'smacks', 'consequences', 'recklessness', 'story', 'work', \"it's\", 'told', 'intelligence', 'energy', 'writer', 'director', 'ben', 'younger', 'tells', 'director', 'excuse', 'french', 'mise-en-scene', 'younger', 'learn', 'style', 'sitcom', 'bland', 'writing', \"isn't\", \"younger's\", 'script', 'studied', 'vernacular', 'bunch', 'dialogue', 'junior', 'david', 'mamet', 'moderate', 'camera', 'work', 'younger', 'fills', 'phone-pitch', 'scenes', 'tension', 'performances', 'tightly', 'wound', 'script', 'brokers', 'hucksters', 'counter', 'customer', 'objection', 'gently', 'bullying', 'buying', 'stock', 'moments', 'filmed', 'psychological', 'action', 'scenes', 'tense', 'confrontation', 'victimizer', 'victim', \"isn't\", 'aware', 'exception', \"affleck's\", 'appearances', 'performances', 'exceptional', 'ribisi', 'edgy', 'character', 'actor', 'extremely', 'potent', 'working', 'pale', 'angular', 'face', 'eerie', 'plaintive', 'stare', 'worth', 'conveys', 'child-like', 'vulnerability', 'character', 'hide', 'corner', 'things', \"aren't\", 'scenes', \"he's\", 'ferociously', 'cut', 'throat', 'jekyll', 'hyde', 'contradiction', 'works', 'movie', 'ribisi', 'confident', \"it's\", 'phone', 'cowardly', 'front', 'authority', 'figures', 'including', 'abrasive', 'father', 'authoritatively', 'played', 'ron', 'rifkin', 'boiler', 'room', 'thankfully', 'avoids', 'wall', 'street-like', 'histrionics', 'sales-pitch', 'sequences', 'sales', 'build', 'slowly', 'crescendo', 'intelligent', 'psychological', 'ploys', 'ploys', 'taught', 'seth', 'chris', 'vin', 'diesel', 'kind', 'broker', 'alternates', \"seth's\", 'friend', 'mentor', 'diesl', 'shines', 'minor', 'role', 'week', 'sci-fi', 'opus', 'pitch', 'black', 'diesel', 'plays', 'completely', 'role', 'equally', 'effective', 'manner', 'film', 'kind', 'role', 'arnold', 'schwarzenegger', \"80's\", 'boiler', 'room', 'kind', 'role', 'elliot', 'gould', \"70's\", 'nicky', 'katt', 'memorable', 'superior', 'broker', 'obsessed', \"can't\", 'nia', 'long', \"firm's\", 'secretary', 'lone', 'black', 'women', 'white', 'men', \"ribisi's\", 'love', 'interest', 'part', 'insignificant', 'parts', 'talented', 'actress', 'develops', 'interesting', 'make', 'oddly', 'likeable', 'couple', 'long', 'smart', 'brash', 'ribisi', 'charmingly', 'aloof', 'point', \"i'm\", \"lookin'\", 'chocolate', 'love', \"it's\", 'terrible', 'line', 'ribisi', 'delivers', 'innocuous', 'child-like', 'sweetly', 'endearing', 'end', 'boiler', 'room', 'turns', 'tad', 'schmaltzy', 'crying', 'hugging', 'sorrowful', 'stares', 'small', 'doses', \"younger's\", 'conclusion', 'constructed', 'series', 'boo-hoo', 'moments', 'misstep', 'attempt', 'show', 'effect', \"seth's\", 'manipulations', 'poor', 'victims', \"it's\", 'bad', 'idea', 'execution', 'lacking', 'scenes', 'feeling', 'tacked', 'spell', 'message', 'message', 'greed', 'bad', \"it's\", 'patently', 'obvious', 'boiler', 'room', 'conveys', 'introducing', 'culture', \"haven't\", 'movies', 'disenfranchised', 'twenty', 'entrepreneur', 'wall', 'street', 'introduce', 'simplistic', 'fantasy', 'world', 'saints', 'sinners', 'boiler', 'room', 'offers', 'extreme', 'thankful'], ['cinematically', 'speaking', 'gordon', \"parks'\", 'original', '1971', '_shaft_', 'great', 'film', 'bit', 'slow', 'times', 'rough', 'edges', 'builds', 'climactic', 'explosion', 'violent', 'action', 'spirited', 'formulaic', 'yarn', 'initially', 'brought', 'ernest', \"tidyman's\", 'black', 'private', 'dick', \"that's\", 'sex', 'machine', 'chicks', 'big', 'screen', 'qualifies', 'groundbreaking', 'filmmaking', '30', 'years', 'original', 'release--and', 'long', 'genre', 'spawned', 'blaxploitation', 'died', 'decade--the', '1971', '_shaft_', 'remains', 'extremely', 'entertaining', 'watch', 'completely', 'escaped', 'pop', 'culture', 'consciousness', 'reason', 'explains', \"film's\", 'connection', 'moviegoers', 'target', 'african-american', 'audience', 'title', 'character', 'john', 'shaft', 'fact', 'strong', 'smart', 'virile', 'superbly', 'suave', 'shaft', 'black', 'primary', 'factor', 'historical', 'cultural', 'significance', 'broad-based', 'appeal', 'stems', 'idea', 'transcends', 'race', 'comfortable', 'confident', 'proud', 'problem', 'simply', 'kiss', 'ass', 'fact', 'explains', 'john', \"singleton's\", 'y2g', 'revival', 'john', 'shaft', 'enjoyable', 'film', 'started', 'franchise', \"_shaft_'s\", 'plot', \"doesn't\", 'score', 'points', 'originality', 'department', 'energy', 'level', 'smooth', 'attitude', 'distinguishes', 'standard', 'crime', 'thrillers', 'contrary', 'reported', 'past', 'months', '_shaft_', 'remake', 'original', 'film', 'sequel/spinoff', 'star', 'audiences', 'love', 'original', 'film', 'sequels', \"1972's\", \"_shaft's_big_score\", \"1973's\", '_shaft_in_africa_', 'richard', 'roundtree', 'plays', 'john', 'shaft', 'runs', 'private', 'investigation', 'firm', 'york', 'city', 'focus', 'film', 'lies', 'same-named', 'nephew', 'samuel', 'jackson', 'film', 'begins', 'cop', 'take-no-crap', 'demeanor', 'constantly', 'leaves', 'odds', 'superiors', 'privileged', 'young', 'man', 'named', 'walter', 'wade', 'jr', 'christian', 'bale', 'accused', 'brutal', 'racially-motivated', 'murder', 'allowed', 'released', 'bail', 'disgusted', 'shaft', 'leaves', 'force', 'decides', 'matters', 'hands', \"that's\", 'easier', 'standing', 'shaft', 'justice', 'peoples', 'hernandez', 'jeffrey', 'wright', 'dominican', 'gangster', 'hired', 'walter', 'rub', 'waitress', 'diane', 'palmieri', 'toni', 'collette', 'eyewitness', 'crime', 'peoples--or', 'wright', 'big', 'obstacle', \"jackson's\", 'commanding', 'film', 'peoples', 'outrageous', 'comic', 'character', 'running', 'time', 'wright', 'insanely', 'funny', 'stages', \"isn't\", 'funny', 'make', 'character', 'goofy', 'buffoonish', \"peoples'\", 'eventual', 'turn', 'villainy', 'seamless', 'believable', 'case', 'played', 'original', 'casting', 'choice', 'john', 'leguizamo', 'bowed', 'filming', \"it's\", 'easy', 'task', 'steal', 'film', 'jackson', 'usual', 'captivating', 'charismatic', \"that's\", 'wright', 'does--and', 'makes', 'effortless', 'talented', 'ensemble', 'surrounding', 'surprising', \"jackson's\", 'impressive', 'star', 'turn', \"doesn't\", 'tower', 'rest', 'strongly', 'complemented', 'wright', 'co-stars', 'bale', 'proven', 'ability', 'play', 'uppity', 'killer', '_american_psycho_', 'performance', 'similar', 'exaggerated', 'character', 'spot-on', 'collette', 'lends', 'film', 'convincing', 'dramatic', 'weight', 'frightened', 'conflicted', 'diane', 'busta', 'rhymes', 'brings', 'good', 'laughs', \"shaft's\", 'sidekick', 'rasaan', 'registering', 'strongly--but', 'fault', 'own--are', 'vanessa', 'williams', 'tough', 'narcotics', 'cop', 'carmen', 'vasquez', 'dismayingly', 'underused', 'roundtree', 'simply', 'script', 'credited', 'richard', 'price', 'singleton', 'shane', 'salerno', 'jackson', 'sense', 'throwaway', 'footage', 'opening', 'credits', 'shaft', \"doesn't\", 'sex', 'scene', 'singleton', 'proves', 'ability', 'actors', 'good', 'thing', \"he's\", 'action', 'director', 'bad', 'job', 'numerous', 'gunfights', 'requisite', 'foot', 'car', 'chases', 'move', 'film', 'exciting', \"it's\", \"there's\", 'terribly', 'inventive', 'set', 'pieces', 'functional', 'script', 'work', \"they're\", 'unsurprising', 'conventional', \"there's\", '_shaft_', 'movie', \"it's\", 'make', 'familiar', 'cool--and', '_shaft_', 'tradition', 'alive', 'slick', 'title', 'sequence--scored', 'isaac', \"hayes'\", 'ever-infectious', 'oscar-winning', 'theme', 'song', 'singleton', 'wisely', 'sprinkles', 'film--on', 'film', 'great', 'easily', 'sweeps', 'viewer', 'world', 'energetic', 'bravado', 'common', 'visual', 'trick', 'employing', 'fancy', 'wipes', 'scene', 'transitions', 'feels', 'unforced', 'feels', 'style', \"doesn't\", 'make', 'great', 'film', '_shaft_', \"that's\", 'consequence', 'matters', 'good', 'time', 'latest', '_shaft_', 'fun', 'rides', 'bad', 'mutha--shut', 'mouth'], ['amazing', 'thing', 'paul', \"cox's\", 'innocence', 'unlike', 'movie', 'highest', 'compliment', 'studios', 'profile', 'elderly', 'couple', 'rekindle', '40-year-old', 'romance', \"i'd\", 'run', 'hide', 'sex', 'scenes', 'handled', 'farce', 'producers', 'shed', '20', 'years', \"characters'\", 'ages', 'susan', 'sarandon', 'harrison', 'ford', 'star', 'true', 'love', 'shine', 'obstacle', 'explanation', 'consequence', 'charming', 'romantic', 'story', 'australian/belgian', 'innocence', 'shows', 'increasing', 'sense', 'mortality', 'combined', 'revisiting', 'past', 'entrenched', 'present', 'make', 'downright', 'questionable', 'romance', 'started', 'musician', 'andreas', 'charles', 'bud', 'tingwell', 'learns', 'true', 'love', 'claire', 'julia', 'blake', 'lives', 'nearby', 'decide', 'catch', 'times', 'find', 'reinvigorating', 'affair', 'complicating', 'matters', \"andreas'\", 'frail', 'health', \"claire's\", 'longtime', 'husband', 'terry', 'norris', \"can't\", 'understand', \"he's\", 'suddenly', 'obsolete', 'mind', 'movie', 'relationship', 'andreas', 'claire', 'feelings', 'involved', 'john', \"claire's\", 'husband', 'endlessly', 'questions', 'wrong', 'claire', 'initially', 'insists', \"she's\", 'grown-up', 'admittedly', 'behaves', 'child', 'prospect', 'thrills', 'disappoints', 'andreas', 'agnostic', 'begins', 'question', 'fate', 'message', 'cox', 'delivers', 'memorable', 'dream', 'sequence', 'cox', 'litters', 'movie', 'flashbacks', 'including', 'repeated', 'vision', 'roaring', 'train', \"it's\", 'reminder', 'andreas', \"claire's\", 'past', 'love', 'young', 'lovers', 'met', 'train', 'recurs', 'feeling', 'past', 'present', 'clashed', 'pall', 'cast', 'affair', 'master', 'understated', 'cox', 'strings', 'series', 'memorable', 'moments', \"andreas'\", 'dream', 'sequence', 'amidst', 'roar', 'train', 'conversations', 'picture', 'andreas', \"claire's\", 'love', 'glimpses', 'john', \"claire's\", 'relationship', 'silent', 'candlelit', 'dinner', 'shortly', 'afterward', 'claire', 'admits', 'john', 'indiscretion', 'telling', 'monologue', \"that's\", 'heard', 'scraping', 'forks', 'plates', 'characters', 'unlike', \"i've\", '--', \"they're\", 'people', 'times', 'movies', 'television', 'portray', 'senior', 'citizens', 'gratingly', 'spunky', \"they're\", 'reduced', 'comedic', 'buffoons', 'ordinary', 'people', 'pile', 'emotions', 'claire', 'andreas', \"aren't\", 'step', 'happy', 'consists', 'set', 'conditions', \"they've\", 'adult', 'lives', 'bravo', 'cox', 'wrote', 'script', 'making', 'john', 'monster', \"claire's\", 'affair', 'automatically', 'justified', 'norris', 'effective', 'john', 'makes', 'andreas', \"claire's\", 'love', 'difficult', 'accept', 'feel', \"he's\", 'decent', 'man', 'complacent', 'expected', 'presented', 'audience', \"it's\", 'expected', 'material', 'drawn', 'repetitive', 'bringing', 'tough', 'questions', 'offering', 'easy', 'answers', 'cox', 'displays', 'skill', 'lan', \"isn't\", 'surpassed', 'anytime']]\n"
          ]
        }
      ],
      "source": [
        "def filter_stopwords(stopword_list, movie_reviews):\n",
        "        #remove stopwords from the list of movie reviews\n",
        "        filtered_reviews = []\n",
        "        for review in movie_reviews:\n",
        "            filtered_review = []\n",
        "            for token in review:\n",
        "                if token not in stopword_list:\n",
        "                    filtered_review.append(token)\n",
        "            filtered_reviews.append(filtered_review)\n",
        "        return filtered_reviews\n",
        "    \n",
        "filtered_movie_reviews = filter_stopwords(stopword_list, preprocessed_movie_reviews)\n",
        "#print the first 10 reviews\n",
        "print(filtered_movie_reviews[:10])\n",
        "\n",
        "#filter and print the first 10 reviews of not stemmed\n",
        "filtered_notstemmed_movie_reviews = filter_stopwords(stopword_list, nsmr)\n",
        "print(filtered_notstemmed_movie_reviews[:10])"
      ]
    },
    {
      "cell_type": "markdown",
      "metadata": {
        "id": "oalypSePAAK8"
      },
      "source": [
        "Lastly, let's make another topic model with this filtered data! Again, you make a bag-of-words model and then the LdaModel, as above.\n",
        "\n",
        "Try to make a model with 8 topics, and show the top 8 words for each topic. Assign the model to a new variable with a sensible name (avoid overwriting the previous models)."
      ]
    },
    {
      "cell_type": "code",
      "execution_count": null,
      "metadata": {
        "colab": {
          "base_uri": "https://localhost:8080/"
        },
        "id": "sTXpnrjoAAK8",
        "outputId": "aca2247c-c0c5-4fc2-cf85-bb578bed4631"
      },
      "outputs": [
        {
          "output_type": "execute_result",
          "data": {
            "text/plain": [
              "[(0,\n",
              "  '0.011*\"film\" + 0.008*\"thi\" + 0.006*\"ha\" + 0.005*\"wa\" + 0.005*\"charact\" + 0.004*\"make\" + 0.003*\"stori\" + 0.003*\"love\"'),\n",
              " (1,\n",
              "  '0.013*\"thi\" + 0.011*\"film\" + 0.010*\"movi\" + 0.006*\"wa\" + 0.006*\"ha\" + 0.005*\"it\\'\" + 0.005*\"charact\" + 0.004*\"scene\"'),\n",
              " (2,\n",
              "  '0.010*\"thi\" + 0.009*\"film\" + 0.009*\"movi\" + 0.007*\"ha\" + 0.006*\"wa\" + 0.005*\"charact\" + 0.004*\"make\" + 0.004*\"play\"'),\n",
              " (3,\n",
              "  '0.006*\"film\" + 0.005*\"thi\" + 0.004*\"ha\" + 0.003*\"movi\" + 0.003*\"time\" + 0.003*\"play\" + 0.002*\"war\" + 0.002*\"stori\"'),\n",
              " (4,\n",
              "  '0.020*\"film\" + 0.017*\"thi\" + 0.012*\"movi\" + 0.009*\"wa\" + 0.008*\"ha\" + 0.007*\"it\\'\" + 0.006*\"charact\" + 0.005*\"make\"')]"
            ]
          },
          "metadata": {},
          "execution_count": 17
        }
      ],
      "source": [
        "# your code here\n",
        "movie_dictionary2 = corpora.Dictionary(filtered_movie_reviews)\n",
        "movie_bow_corpus_2 = [movie_dictionary2.doc2bow(d) for d in filtered_movie_reviews]\n",
        "\n",
        "reviews_ldamodel_2 = models.ldamodel.LdaModel(movie_bow_corpus_2, num_topics=5, id2word = movie_dictionary2, passes=25)\n",
        "reviews_ldamodel_2.show_topics(num_words=8) \n"
      ]
    },
    {
      "cell_type": "markdown",
      "metadata": {
        "id": "rQqI_t96AAK8"
      },
      "source": [
        "Making a model without using the SnowballStemmer, due to ineligible words"
      ]
    },
    {
      "cell_type": "code",
      "execution_count": null,
      "metadata": {
        "colab": {
          "base_uri": "https://localhost:8080/"
        },
        "id": "e1_t5rAPAAK8",
        "outputId": "39e18114-ca4a-4d0b-a73b-da17c31f58fd"
      },
      "outputs": [
        {
          "output_type": "execute_result",
          "data": {
            "text/plain": [
              "[(0,\n",
              "  '0.013*\"film\" + 0.009*\"movie\" + 0.006*\"it\\'s\" + 0.004*\"time\" + 0.003*\"character\" + 0.003*\"good\" + 0.003*\"story\" + 0.003*\"plot\"'),\n",
              " (1,\n",
              "  '0.015*\"film\" + 0.008*\"movie\" + 0.004*\"it\\'s\" + 0.003*\"films\" + 0.003*\"good\" + 0.003*\"time\" + 0.002*\"characters\" + 0.002*\"story\"'),\n",
              " (2,\n",
              "  '0.014*\"film\" + 0.007*\"movie\" + 0.005*\"it\\'s\" + 0.004*\"good\" + 0.003*\"story\" + 0.003*\"time\" + 0.003*\"character\" + 0.003*\"--\"'),\n",
              " (3,\n",
              "  '0.010*\"film\" + 0.004*\"movie\" + 0.004*\"story\" + 0.003*\"it\\'s\" + 0.002*\"life\" + 0.002*\"good\" + 0.002*\"make\" + 0.002*\"time\"'),\n",
              " (4,\n",
              "  '0.014*\"film\" + 0.011*\"movie\" + 0.007*\"it\\'s\" + 0.004*\"time\" + 0.004*\"good\" + 0.004*\"story\" + 0.003*\"character\" + 0.003*\"characters\"')]"
            ]
          },
          "metadata": {},
          "execution_count": 18
        }
      ],
      "source": [
        "#modelling with not stemmed words\n",
        "movie_dictionary3 = corpora.Dictionary(filtered_notstemmed_movie_reviews)\n",
        "movie_bow_corpus_3 = [movie_dictionary3.doc2bow(d) for d in filtered_notstemmed_movie_reviews]\n",
        "\n",
        "reviews_ldamodel_3 = models.ldamodel.LdaModel(movie_bow_corpus_3, num_topics=5, id2word = movie_dictionary3, passes=25)\n",
        "reviews_ldamodel_3.show_topics(num_words=8)"
      ]
    },
    {
      "cell_type": "markdown",
      "metadata": {
        "id": "v8ejR0DeAAK9"
      },
      "source": [
        "**Part 3: Experimentation**\n",
        "\n",
        "Are these general stopword lists sufficient? We are working in the movie review domain, meaning that we may have other uninformative stopwords than in the general domain, such as the word 'movie'. Some key experimentation is to add specific stopwords for the movie review domain, which would occur frequently in all (or most) of the clusters. Note that removing words will not just hide these words, but lead to (even very) different topics and different top ranked reviews.\n",
        "\n",
        "**Make your own domain-specific stopwords file** by taking one of the existing ones and adding your own stopwords (make sure that the stopword file is saved as a plain text file). Think about what stopwords are in this domain (e.g., the word film is not a stopword in general, but it will occur in essentially every film review).\n",
        "\n",
        "Re-use the functions you previously made to load your own stopwords file and filter the movie reviews. Then, make another topic model with your new filtering and show the top 8 words for each topic."
      ]
    },
    {
      "cell_type": "code",
      "execution_count": null,
      "metadata": {
        "colab": {
          "base_uri": "https://localhost:8080/"
        },
        "id": "71NSKitsAAK9",
        "outputId": "0e91c9ae-dd3f-413c-a94a-865ec14b6bdd"
      },
      "outputs": [
        {
          "output_type": "execute_result",
          "data": {
            "text/plain": [
              "[(0,\n",
              "  '0.019*\"thi\" + 0.009*\"movi\" + 0.007*\"ha\" + 0.007*\"charact\" + 0.004*\"play\" + 0.004*\"onli\" + 0.004*\"thing\" + 0.003*\"end\"'),\n",
              " (1,\n",
              "  '0.014*\"thi\" + 0.010*\"movi\" + 0.008*\"ha\" + 0.006*\"stori\" + 0.006*\"charact\" + 0.004*\"play\" + 0.003*\"onli\" + 0.003*\"vampir\"'),\n",
              " (2,\n",
              "  '0.013*\"thi\" + 0.008*\"movi\" + 0.007*\"ha\" + 0.005*\"charact\" + 0.004*\"onli\" + 0.003*\"jacki\" + 0.003*\"stori\" + 0.003*\"perform\"'),\n",
              " (3,\n",
              "  '0.009*\"thi\" + 0.008*\"movi\" + 0.007*\"ha\" + 0.006*\"charact\" + 0.005*\"stori\" + 0.004*\"play\" + 0.003*\"onli\" + 0.003*\"love\"'),\n",
              " (4,\n",
              "  '0.008*\"thi\" + 0.008*\"movi\" + 0.005*\"ha\" + 0.004*\"charact\" + 0.003*\"onli\" + 0.003*\"play\" + 0.003*\"veri\" + 0.003*\"work\"'),\n",
              " (5,\n",
              "  '0.019*\"thi\" + 0.013*\"movi\" + 0.007*\"ha\" + 0.006*\"charact\" + 0.004*\"onli\" + 0.004*\"action\" + 0.004*\"veri\" + 0.004*\"stori\"'),\n",
              " (6,\n",
              "  '0.015*\"thi\" + 0.012*\"movi\" + 0.008*\"ha\" + 0.005*\"charact\" + 0.005*\"onli\" + 0.004*\"stori\" + 0.004*\"play\" + 0.003*\"love\"'),\n",
              " (7,\n",
              "  '0.012*\"thi\" + 0.009*\"movi\" + 0.007*\"ha\" + 0.005*\"charact\" + 0.004*\"onli\" + 0.003*\"play\" + 0.003*\"action\" + 0.003*\"work\"')]"
            ]
          },
          "metadata": {},
          "execution_count": 20
        }
      ],
      "source": [
        "stopwords = load_stopwords('/content/drive/MyDrive/ddr23-research2-main/2_TopicModelling/stopwords/stopwords-empty.txt')\n",
        "\n",
        "#Filter movie reviews with my stopwords\n",
        "domainfiltered_movie_reviews = filter_stopwords(stopwords, filtered_movie_reviews)\n",
        "domainfilteredunstemmed_movie_reviews = filter_stopwords(stopwords, filtered_notstemmed_movie_reviews)\n",
        "\n",
        "#Make a model with 8 topics\n",
        "movie_dictionary4 = corpora.Dictionary(domainfiltered_movie_reviews)\n",
        "movie_bow_corpus_4 = [movie_dictionary4.doc2bow(d) for d in domainfiltered_movie_reviews]\n",
        "\n",
        "reviews_ldamodel_4 = models.ldamodel.LdaModel(movie_bow_corpus_4, num_topics=8, id2word = movie_dictionary4, passes=25)\n",
        "reviews_ldamodel_4.show_topics(num_words=8) "
      ]
    },
    {
      "cell_type": "markdown",
      "metadata": {
        "id": "RpWK1nkTAAK9"
      },
      "source": [
        "Model with 8 topics without using the SnowballStemmer"
      ]
    },
    {
      "cell_type": "code",
      "execution_count": null,
      "metadata": {
        "colab": {
          "base_uri": "https://localhost:8080/"
        },
        "id": "dQ-IFDroAAK9",
        "outputId": "c8b6e3ac-6722-4981-9d23-295e3d313d40"
      },
      "outputs": [
        {
          "output_type": "execute_result",
          "data": {
            "text/plain": [
              "[(0,\n",
              "  '0.003*\"scream\" + 0.003*\"horror\" + 0.002*\"back\" + 0.002*\"original\" + 0.002*\"end\" + 0.002*\"made\" + 0.002*\"director\" + 0.002*\"man\" + 0.002*\"action\" + 0.002*\"great\" + 0.002*\"played\" + 0.002*\"work\" + 0.002*\"evil\" + 0.002*\"2\" + 0.002*\"years\"'),\n",
              " (1,\n",
              "  '0.003*\"love\" + 0.002*\"man\" + 0.002*\"family\" + 0.002*\"men\" + 0.002*\"godzilla\" + 0.002*\"war\" + 0.002*\"end\" + 0.002*\"makes\" + 0.002*\"ryan\" + 0.002*\"made\" + 0.002*\"home\" + 0.002*\"back\" + 0.001*\"mother\" + 0.001*\"comedy\" + 0.001*\"things\"'),\n",
              " (2,\n",
              "  '0.003*\"things\" + 0.003*\"alien\" + 0.002*\"director\" + 0.002*\"man\" + 0.002*\"love\" + 0.002*\"made\" + 0.002*\"find\" + 0.002*\"there\\'s\" + 0.002*\"real\" + 0.002*\"back\" + 0.002*\"makes\" + 0.002*\"i\\'m\" + 0.001*\"work\" + 0.001*\"town\" + 0.001*\"action\"'),\n",
              " (3,\n",
              "  '0.005*\"jackie\" + 0.002*\"action\" + 0.002*\"chan\" + 0.002*\"big\" + 0.002*\"kind\" + 0.002*\"makes\" + 0.002*\"plays\" + 0.002*\"great\" + 0.001*\"man\" + 0.001*\"takes\" + 0.001*\"war\" + 0.001*\"end\" + 0.001*\"money\" + 0.001*\"can\\'t\" + 0.001*\"martial\"'),\n",
              " (4,\n",
              "  '0.003*\"love\" + 0.002*\"action\" + 0.002*\"man\" + 0.002*\"great\" + 0.002*\"performance\" + 0.002*\"work\" + 0.002*\"director\" + 0.002*\"there\\'s\" + 0.002*\"back\" + 0.002*\"makes\" + 0.002*\"end\" + 0.002*\"wife\" + 0.002*\"audience\" + 0.001*\"years\" + 0.001*\"young\"'),\n",
              " (5,\n",
              "  '0.003*\"man\" + 0.002*\"great\" + 0.002*\"performance\" + 0.002*\"real\" + 0.002*\"makes\" + 0.002*\"love\" + 0.002*\"role\" + 0.002*\"end\" + 0.002*\"back\" + 0.002*\"work\" + 0.002*\"director\" + 0.002*\"years\" + 0.002*\"played\" + 0.002*\"made\" + 0.002*\"place\"'),\n",
              " (6,\n",
              "  '0.002*\"man\" + 0.002*\"there\\'s\" + 0.002*\"great\" + 0.002*\"comedy\" + 0.002*\"work\" + 0.002*\"made\" + 0.002*\"love\" + 0.002*\"audience\" + 0.002*\"director\" + 0.002*\"john\" + 0.002*\"makes\" + 0.002*\"role\" + 0.002*\"isn\\'t\" + 0.002*\"big\" + 0.002*\"end\"'),\n",
              " (7,\n",
              "  '0.003*\"star\" + 0.003*\"funny\" + 0.003*\"action\" + 0.002*\"big\" + 0.002*\"isn\\'t\" + 0.002*\"there\\'s\" + 0.002*\"effects\" + 0.002*\"comedy\" + 0.002*\"great\" + 0.002*\"work\" + 0.002*\"end\" + 0.002*\"director\" + 0.002*\"that\\'s\" + 0.002*\"made\" + 0.002*\"back\"')]"
            ]
          },
          "metadata": {},
          "execution_count": 49
        }
      ],
      "source": [
        "stopwords = load_stopwords('/content/drive/MyDrive/ddr23-research2-main/2_TopicModelling/stopwords/stopwords-empty.txt')\n",
        "\n",
        "domainfilteredunstemmed_movie_reviews = filter_stopwords(stopwords, filtered_notstemmed_movie_reviews)\n",
        "#Make a model with 8 topics for not stemmed words\n",
        "moviedictionary5 = corpora.Dictionary(domainfilteredunstemmed_movie_reviews)\n",
        "movie_bow_corpus_5 = [moviedictionary5.doc2bow(d) for d in domainfilteredunstemmed_movie_reviews]\n",
        "\n",
        "reviews_ldamodel_5 = models.ldamodel.LdaModel(movie_bow_corpus_5, num_topics=8, id2word = moviedictionary5, passes=25)\n",
        "reviews_ldamodel_5.show_topics(num_words=15)"
      ]
    },
    {
      "cell_type": "markdown",
      "metadata": {
        "id": "eViA5sYkAAK9"
      },
      "source": [
        "Now, you should have 3 models (or more): one without any stopword filtering, one with the standard stopword filtering and one with the domain-filtered stopwords using the list you modified yourself. Compare the topics found by the three models (just looking at them is fine, no need to code a comparison).\n",
        "\n",
        "Do the topics look better with stopword filtering and with domain-specific stopword filtering? At this point, do the resulting topics correspond to particular film genres you have expected?"
      ]
    },
    {
      "cell_type": "markdown",
      "metadata": {
        "id": "G2QXGROzAAK9"
      },
      "source": [
        "reviews_ldamodel == This is using raw unprocessed data in movie_reviews.\n",
        "Contained mostly punctuation marks and stuff\n",
        "\n",
        "reviews_ldamodel_1 == This is using preprocessed data using Stemmer/Removing Punctuations.\n",
        "Contains stopwords such as a, an, the etc.\n",
        "\n",
        "reviews_ldamodel_2 == This is the model after removing Stopwords from Mallet.\n",
        "Contains stems of words such as movi, film, etc.\n",
        "\n",
        "reviews_ldamodel_3 == This is the unstemmed model after removing Stopwords.\n",
        "Contains film, movies, story, life etc.\n",
        "\n",
        "reviews_ldamodel_4 == This is the model that has been filtered with domain specific stopwords.\n",
        "Contains words such as thi, movi, charact, tough to make sense of what is being said due to stemming\n",
        "\n",
        "reviews_ldamodel_5 == This is the unstemmed model filtered with domain specific stopwords.\n",
        "Contains a lot of good and bad, but has plot, people, director, etc.\n",
        "\n",
        "Model 5 appears to have the most legible data, so moving ahead with 5 for future use and optimization."
      ]
    },
    {
      "cell_type": "markdown",
      "metadata": {
        "id": "Zm5PXcT5AAK9"
      },
      "source": [
        "Increase the number of topics. What happens with the topics if you model very few or very many topics? (answer in a text box). Assign the model(s) to a new variable with a sensible name (avoid overwriting the previous models)."
      ]
    },
    {
      "cell_type": "code",
      "execution_count": null,
      "metadata": {
        "id": "9OaY_X7PAAK9",
        "colab": {
          "base_uri": "https://localhost:8080/"
        },
        "outputId": "ff4c5f7a-0870-4693-bce6-b91ba67ecabd"
      },
      "outputs": [
        {
          "output_type": "execute_result",
          "data": {
            "text/plain": [
              "[(11,\n",
              "  '0.003*\"man\" + 0.003*\"mulan\" + 0.003*\"love\" + 0.002*\"disney\" + 0.002*\"director\" + 0.002*\"young\" + 0.002*\"comedy\" + 0.002*\"place\" + 0.002*\"simon\" + 0.002*\"family\"'),\n",
              " (13,\n",
              "  '0.002*\"back\" + 0.002*\"man\" + 0.002*\"league\" + 0.002*\"love\" + 0.002*\"made\" + 0.002*\"jeff\" + 0.002*\"big\" + 0.002*\"find\" + 0.002*\"american\" + 0.001*\"home\"'),\n",
              " (10,\n",
              "  '0.003*\"love\" + 0.002*\"back\" + 0.002*\"great\" + 0.002*\"big\" + 0.002*\"man\" + 0.002*\"makes\" + 0.002*\"action\" + 0.002*\"joe\" + 0.002*\"family\" + 0.002*\"made\"'),\n",
              " (0,\n",
              "  '0.003*\"john\" + 0.002*\"end\" + 0.002*\"love\" + 0.002*\"back\" + 0.002*\"made\" + 0.002*\"comedy\" + 0.002*\"man\" + 0.002*\"years\" + 0.002*\"real\" + 0.002*\"funny\"'),\n",
              " (5,\n",
              "  '0.002*\"funny\" + 0.002*\"series\" + 0.002*\"carter\" + 0.002*\"there\\'s\" + 0.002*\"van\" + 0.002*\"young\" + 0.002*\"work\" + 0.002*\"comedy\" + 0.002*\"man\" + 0.002*\"godzilla\"'),\n",
              " (6,\n",
              "  '0.006*\"scream\" + 0.004*\"tarzan\" + 0.003*\"horror\" + 0.003*\"2\" + 0.002*\"director\" + 0.002*\"man\" + 0.002*\"end\" + 0.002*\"action\" + 0.002*\"played\" + 0.002*\"harry\"'),\n",
              " (8,\n",
              "  '0.008*\"star\" + 0.008*\"wars\" + 0.005*\"phantom\" + 0.005*\"jedi\" + 0.004*\"menace\" + 0.004*\"lucas\" + 0.003*\"young\" + 0.003*\"effects\" + 0.003*\"special\" + 0.002*\"jar\"'),\n",
              " (1,\n",
              "  '0.003*\"man\" + 0.002*\"love\" + 0.002*\"big\" + 0.002*\"makes\" + 0.002*\"great\" + 0.002*\"city\" + 0.002*\"played\" + 0.002*\"human\" + 0.002*\"role\" + 0.002*\"point\"'),\n",
              " (4,\n",
              "  '0.003*\"action\" + 0.003*\"end\" + 0.003*\"there\\'s\" + 0.002*\"director\" + 0.002*\"great\" + 0.002*\"acting\" + 0.002*\"isn\\'t\" + 0.002*\"man\" + 0.002*\"things\" + 0.002*\"big\"'),\n",
              " (3,\n",
              "  '0.004*\"alien\" + 0.003*\"batman\" + 0.003*\"aliens\" + 0.002*\"action\" + 0.002*\"love\" + 0.002*\"makes\" + 0.002*\"great\" + 0.002*\"man\" + 0.002*\"work\" + 0.002*\"death\"')]"
            ]
          },
          "metadata": {},
          "execution_count": 45
        }
      ],
      "source": [
        "# using lda model 5, with increased topics\n",
        "# your code here\n",
        "movie_dictionary6 = corpora.Dictionary(domainfilteredunstemmed_movie_reviews)\n",
        "movie_bow_corpus6 = [movie_dictionary6.doc2bow(d) for d in domainfilteredunstemmed_movie_reviews]\n",
        "\n",
        "lda_main = models.ldamodel.LdaModel(movie_bow_corpus6, num_topics=15, id2word = movie_dictionary6, passes=25)\n",
        "lda_main.show_topics(num_words=10)"
      ]
    },
    {
      "cell_type": "markdown",
      "metadata": {
        "id": "vHZhFiQaAAK9"
      },
      "source": [
        "**Answer:**\n",
        "\n",
        "When modeling topics, it can be challenging to determine the genres of movies, especially when the number of topics is low. In one instance, when only five topics were modeled, words such as \"funny,\" \"comedy,\" \"family,\" \"horror,\" and \"action\" were good indicators for identifying genres. However, the rest of the resulting topics were too general and not informative.\n",
        "\n",
        "By increasing the number of topics to ten, it is more likely to identify distinct genres and even guess the title of the movie. For example, in addition to the movie-genre terms mentioned above, we can see words like \"Truman\" and \"Kevin,\" which are the names of specific characters in movies.\n",
        "\n",
        "However, increasing the number of topics can have both positive and negative effects. Too few topics may result in a low-quality output, while too many can cause overlapping topics and performance issues. It is important to create a balance between the number of topics and their quality and interpretability to ensure that the results are significant and pertinent to the analysis."
      ]
    },
    {
      "cell_type": "markdown",
      "metadata": {
        "id": "knOhZYEaAAK-"
      },
      "source": [
        "Increase the number of topic words printed to get more information per topic.  Is it easier to make sense of a topic if you look further down the list, or are the initial words more clear?"
      ]
    },
    {
      "cell_type": "markdown",
      "source": [
        "**Answer:** Expanding the number of subject words displayed can offer more details on each topic. However, whether it is beneficial to delve deeper into the list to comprehend a topic depends on the particular model and the topic under scrutiny.\n",
        "\n",
        "According to the topics we've printed out above, most of the words at the top of the list clearly show film genres and character names like \"jackie\", \"truman\",\"tazan\". while in others, the more specific words further down the list may be more helpful in understanding the topic. Therefore, it is important to explore the entire list of topic words for a comprehensive understanding of each topic and its relevance to the data being analyzed."
      ],
      "metadata": {
        "id": "82BtsivCMTZg"
      }
    },
    {
      "cell_type": "code",
      "execution_count": null,
      "metadata": {
        "id": "guNF0rNDAAK-",
        "colab": {
          "base_uri": "https://localhost:8080/"
        },
        "outputId": "1dae2505-a25a-4b73-a1b3-076b85f68015"
      },
      "outputs": [
        {
          "output_type": "execute_result",
          "data": {
            "text/plain": [
              "[(11,\n",
              "  '0.003*\"great\" + 0.002*\"war\" + 0.002*\"action\" + 0.002*\"black\" + 0.002*\"joe\" + 0.002*\"made\" + 0.002*\"death\" + 0.002*\"men\" + 0.002*\"end\" + 0.002*\"john\" + 0.002*\"director\" + 0.002*\"work\" + 0.002*\"thing\" + 0.002*\"find\" + 0.002*\"man\" + 0.001*\"audience\" + 0.001*\"cast\" + 0.001*\"comedy\" + 0.001*\"ryan\" + 0.001*\"makes\"'),\n",
              " (14,\n",
              "  '0.003*\"end\" + 0.002*\"great\" + 0.002*\"man\" + 0.002*\"love\" + 0.002*\"action\" + 0.002*\"funny\" + 0.002*\"isn\\'t\" + 0.002*\"back\" + 0.002*\"audience\" + 0.002*\"there\\'s\" + 0.002*\"things\" + 0.002*\"that\\'s\" + 0.002*\"big\" + 0.002*\"thing\" + 0.002*\"made\" + 0.002*\"director\" + 0.002*\"day\" + 0.002*\"makes\" + 0.002*\"performance\" + 0.002*\"part\"'),\n",
              " (8,\n",
              "  '0.003*\"funny\" + 0.002*\"love\" + 0.002*\"great\" + 0.002*\"libby\" + 0.002*\"played\" + 0.002*\"family\" + 0.002*\"plays\" + 0.002*\"man\" + 0.002*\"sex\" + 0.002*\"husband\" + 0.002*\"carry\" + 0.002*\"deuce\" + 0.002*\"jones\" + 0.002*\"there\\'s\" + 0.002*\"judd\" + 0.002*\"george\" + 0.002*\"performance\" + 0.002*\"kenneth\" + 0.002*\"made\" + 0.002*\"double\"'),\n",
              " (0,\n",
              "  '0.002*\"back\" + 0.002*\"man\" + 0.002*\"young\" + 0.002*\"work\" + 0.002*\"great\" + 0.002*\"made\" + 0.002*\"comedy\" + 0.002*\"years\" + 0.002*\"audience\" + 0.002*\"54\" + 0.002*\"makes\" + 0.002*\"things\" + 0.002*\"performance\" + 0.001*\"role\" + 0.001*\"watch\" + 0.001*\"original\" + 0.001*\"american\" + 0.001*\"fact\" + 0.001*\"funny\" + 0.001*\"big\"'),\n",
              " (10,\n",
              "  '0.003*\"family\" + 0.002*\"years\" + 0.002*\"flynt\" + 0.002*\"love\" + 0.002*\"made\" + 0.002*\"man\" + 0.002*\"director\" + 0.002*\"there\\'s\" + 0.002*\"role\" + 0.002*\"death\" + 0.001*\"fact\" + 0.001*\"takes\" + 0.001*\"minutes\" + 0.001*\"i\\'m\" + 0.001*\"ghost\" + 0.001*\"year\" + 0.001*\"back\" + 0.001*\"performance\" + 0.001*\"action\" + 0.001*\"isn\\'t\"'),\n",
              " (12,\n",
              "  '0.004*\"alien\" + 0.002*\"things\" + 0.002*\"makes\" + 0.002*\"thing\" + 0.002*\"great\" + 0.002*\"end\" + 0.002*\"work\" + 0.002*\"fact\" + 0.002*\"back\" + 0.002*\"there\\'s\" + 0.002*\"find\" + 0.002*\"man\" + 0.002*\"big\" + 0.002*\"aliens\" + 0.002*\"john\" + 0.002*\"that\\'s\" + 0.002*\"long\" + 0.002*\"acting\" + 0.002*\"director\" + 0.002*\"real\"'),\n",
              " (3,\n",
              "  '0.003*\"jackie\" + 0.003*\"man\" + 0.002*\"there\\'s\" + 0.002*\"scream\" + 0.002*\"back\" + 0.002*\"big\" + 0.002*\"original\" + 0.002*\"isn\\'t\" + 0.002*\"made\" + 0.002*\"action\" + 0.002*\"work\" + 0.002*\"director\" + 0.002*\"makes\" + 0.002*\"horror\" + 0.002*\"i\\'m\" + 0.002*\"end\" + 0.002*\"fact\" + 0.002*\"real\" + 0.002*\"audience\" + 0.002*\"things\"'),\n",
              " (2,\n",
              "  '0.003*\"truman\" + 0.003*\"man\" + 0.002*\"makes\" + 0.002*\"role\" + 0.002*\"love\" + 0.002*\"made\" + 0.002*\"audience\" + 0.002*\"things\" + 0.002*\"spawn\" + 0.002*\"played\" + 0.002*\"performance\" + 0.002*\"thing\" + 0.002*\"cast\" + 0.002*\"real\" + 0.002*\"long\" + 0.002*\"director\" + 0.002*\"watch\" + 0.002*\"i\\'m\" + 0.001*\"there\\'s\" + 0.001*\"money\"'),\n",
              " (5,\n",
              "  '0.003*\"star\" + 0.003*\"trek\" + 0.002*\"love\" + 0.002*\"series\" + 0.002*\"man\" + 0.002*\"back\" + 0.002*\"cast\" + 0.002*\"script\" + 0.002*\"family\" + 0.002*\"made\" + 0.002*\"end\" + 0.002*\"director\" + 0.002*\"real\" + 0.002*\"lost\" + 0.002*\"smith\" + 0.002*\"batman\" + 0.002*\"role\" + 0.001*\"plays\" + 0.001*\"great\" + 0.001*\"makes\"'),\n",
              " (4,\n",
              "  '0.003*\"tarzan\" + 0.003*\"man\" + 0.002*\"makes\" + 0.002*\"years\" + 0.002*\"work\" + 0.002*\"end\" + 0.002*\"made\" + 0.002*\"performance\" + 0.002*\"there\\'s\" + 0.002*\"mother\" + 0.002*\"young\" + 0.002*\"disney\" + 0.002*\"back\" + 0.002*\"love\" + 0.002*\"director\" + 0.002*\"big\" + 0.002*\"things\" + 0.001*\"film\\'s\" + 0.001*\"great\" + 0.001*\"mike\"')]"
            ]
          },
          "metadata": {},
          "execution_count": 24
        }
      ],
      "source": [
        "lda_main.show_topics(num_words=20)\n",
        "# your code here"
      ]
    },
    {
      "cell_type": "markdown",
      "metadata": {
        "id": "FuTZ0FJvAAK-"
      },
      "source": [
        "If you are interested, you can also experiment with the difference between positive and negative reviews."
      ]
    },
    {
      "cell_type": "markdown",
      "metadata": {
        "id": "tnyB5hCglXeB",
        "tags": []
      },
      "source": [
        "### Part 4: Evaluation\n",
        "\n",
        "There are a few numbers we can compute that indicate the quality of a topic model, such as [perplexity and coherence](https://github.com/ccs-amsterdam/r-course-material/blob/master/tutorials/R_text_LDA_perplexity.md). For perplexity, a lower number means a better model, and for coherence, a higher number is better. Try computing these scores for your models, and see which is the best one according to the numbers\n",
        "\n",
        "In a real project, you should compute these numbers over a separate part of the dataset (the test set) for a proper evaluation, but for simplicity and because we have not talked about this in the lecture we will skip that here."
      ]
    },
    {
      "cell_type": "code",
      "execution_count": null,
      "metadata": {
        "id": "lfcbSojZAAK-",
        "colab": {
          "base_uri": "https://localhost:8080/"
        },
        "outputId": "eb1d2af7-928f-458d-aee1-e4224ff84f1d"
      },
      "outputs": [
        {
          "output_type": "stream",
          "name": "stdout",
          "text": [
            "Perplexity:  -7.097968116127571\n",
            "Coherence score:  0.24518595278157773\n"
          ]
        }
      ],
      "source": [
        "from gensim.models import CoherenceModel\n",
        "\n",
        "# Compute perplexity for the basic model on the bag-of-words representation of the reviews:\n",
        "print('Perplexity: ', reviews_ldamodel_1.log_perplexity(movie_bow_corpus_1))  \n",
        "\n",
        "# Compute coherence score on the same:\n",
        "coherence_model_lda = CoherenceModel(model=reviews_ldamodel_1, texts=preprocessed_movie_reviews, dictionary=movie_dictionary1, coherence='c_v')\n",
        "coherence_lda = coherence_model_lda.get_coherence()\n",
        "print('Coherence score: ', coherence_lda)"
      ]
    },
    {
      "cell_type": "code",
      "source": [
        "#computing perplexity for model 2\n",
        "print('Perplexity for Model 2: ', reviews_ldamodel_2.log_perplexity(movie_bow_corpus_2))\n",
        "\n",
        "#computing coherence score for model 2\n",
        "coherence_model_lda = CoherenceModel(model=reviews_ldamodel_2, texts=movie_reviews, dictionary=movie_dictionary2, coherence='c_v')\n",
        "coherence_lda = coherence_model_lda.get_coherence()\n",
        "print('Coherence score for Model 2: ', coherence_lda)"
      ],
      "metadata": {
        "colab": {
          "base_uri": "https://localhost:8080/"
        },
        "id": "6TAxV9I7O-2R",
        "outputId": "67e1d765-c167-4559-9ba8-89400d629f31"
      },
      "execution_count": null,
      "outputs": [
        {
          "output_type": "stream",
          "name": "stdout",
          "text": [
            "Perplexity for Model 2:  -8.47365523892959\n",
            "Coherence score for Model 2:  nan\n"
          ]
        },
        {
          "output_type": "stream",
          "name": "stderr",
          "text": [
            "/usr/local/lib/python3.9/dist-packages/gensim/topic_coherence/direct_confirmation_measure.py:204: RuntimeWarning: divide by zero encountered in double_scalars\n",
            "  m_lr_i = np.log(numerator / denominator)\n",
            "/usr/local/lib/python3.9/dist-packages/gensim/topic_coherence/indirect_confirmation_measure.py:323: RuntimeWarning: invalid value encountered in double_scalars\n",
            "  return cv1.T.dot(cv2)[0, 0] / (_magnitude(cv1) * _magnitude(cv2))\n"
          ]
        }
      ]
    },
    {
      "cell_type": "code",
      "source": [
        "#computing perplexity for model 3\n",
        "print('Perplexity for Model 3: ', reviews_ldamodel_3.log_perplexity(movie_bow_corpus_3))\n",
        "\n",
        "#computing coherence score for model 3\n",
        "coherence_model_lda = CoherenceModel(model=reviews_ldamodel_3, texts=movie_reviews, dictionary=movie_dictionary3, coherence='c_v')\n",
        "coherence_lda = coherence_model_lda.get_coherence()\n",
        "print('Coherence score for Model 3: ', coherence_lda)\n"
      ],
      "metadata": {
        "colab": {
          "base_uri": "https://localhost:8080/"
        },
        "id": "aolRLRZPOXAB",
        "outputId": "0639893f-ba5c-44ff-b54c-f47332ba715d"
      },
      "execution_count": null,
      "outputs": [
        {
          "output_type": "stream",
          "name": "stdout",
          "text": [
            "Perplexity for Model 3:  -9.204168679173886\n",
            "Coherence score for Model 3:  0.26105578270279745\n"
          ]
        }
      ]
    },
    {
      "cell_type": "code",
      "execution_count": null,
      "metadata": {
        "id": "yTj7_Jr_AAK-",
        "colab": {
          "base_uri": "https://localhost:8080/"
        },
        "outputId": "12df4433-98b6-45f9-e677-a742c4d8d0d2"
      },
      "outputs": [
        {
          "output_type": "stream",
          "name": "stdout",
          "text": [
            "Perplexity for Model 4:  -8.653652036370891\n",
            "Coherence score for Model 4:  nan\n"
          ]
        }
      ],
      "source": [
        "#computing perplexity for model 4\n",
        "print('Perplexity for Model 4: ', reviews_ldamodel_4.log_perplexity(movie_bow_corpus_4))\n",
        "\n",
        "#computing coherence score for model 4\n",
        "coherence_model_lda = CoherenceModel(model=reviews_ldamodel_4, texts=movie_reviews, dictionary=movie_dictionary4, coherence='c_v')\n",
        "coherence_lda = coherence_model_lda.get_coherence()\n",
        "print('Coherence score for Model 4: ', coherence_lda)\n"
      ]
    },
    {
      "cell_type": "code",
      "execution_count": null,
      "metadata": {
        "id": "x76i86_VAAK-",
        "colab": {
          "base_uri": "https://localhost:8080/"
        },
        "outputId": "0613818d-0acc-4d4a-f75b-5b70cbb3d46f"
      },
      "outputs": [
        {
          "output_type": "stream",
          "name": "stdout",
          "text": [
            "Perplexity for Model 5:  -9.588741545531217\n",
            "Coherence score for Model 5:  0.25501913804045984\n"
          ]
        }
      ],
      "source": [
        "#computing perplexity for model 5 \n",
        "print('Perplexity for Model 5: ', lda_main.log_perplexity(movie_bow_corpus_5))\n",
        "\n",
        "#computing coherence score for model 5\n",
        "coherence_model_lda = CoherenceModel(model=lda_main, texts=domainfilteredunstemmed_movie_reviews, dictionary=movie_dictionary6, coherence='c_v')\n",
        "coherence_lda = coherence_model_lda.get_coherence()\n",
        "print('Coherence score for Model 5: ', coherence_lda)\n"
      ]
    },
    {
      "cell_type": "code",
      "source": [
        "#computing perplexity for lda main \n",
        "print('Perplexity for lda mian: ', lda_main.log_perplexity(movie_bow_corpus6))\n",
        "\n",
        "#computing coherence score for lda main\n",
        "coherence_model_lda = CoherenceModel(model=lda_main, texts=domainfilteredunstemmed_movie_reviews, dictionary=movie_dictionary6, coherence='c_v')\n",
        "coherence_lda = coherence_model_lda.get_coherence()\n",
        "print('Coherence score for lda main: ', coherence_lda)"
      ],
      "metadata": {
        "colab": {
          "base_uri": "https://localhost:8080/"
        },
        "id": "IxnzYbeyiq-Q",
        "outputId": "2170e2db-5d08-47bc-fcc7-5119e75a9583"
      },
      "execution_count": null,
      "outputs": [
        {
          "output_type": "stream",
          "name": "stdout",
          "text": [
            "Perplexity for lda mian:  -9.57793832337022\n",
            "Coherence score for lda main:  0.2715332391817373\n"
          ]
        }
      ]
    },
    {
      "cell_type": "code",
      "execution_count": null,
      "metadata": {
        "id": "y4K60-dxAAK-",
        "colab": {
          "base_uri": "https://localhost:8080/"
        },
        "outputId": "7432a72b-a9a2-4681-82e8-68fb3480669d"
      },
      "outputs": [
        {
          "output_type": "stream",
          "name": "stdout",
          "text": [
            "[['vampire', 'lore', 'and', 'legend', 'has', 'always', 'been', 'a', 'popular', 'fantasy', 'element', ',', 'substantiated', 'by', 'not', 'only', 'the', 'sheer', 'number', 'of', 'movies', 'about', 'the', 'subject', ',', 'but', 'also', 'the', 'proliferation', 'of', 'cults', 'and', 'sects', 'of', 'adherents', '.', 'and', ',', 'unlike', 'any', 'of', 'the', 'more', 'outlandish', 'myths', ',', 'the', 'vampire', 'holds', 'some', 'real-world', 'probability', '(', 'one', 'study', 'claims', '1', ',', '000', 'bloodsuckers', 'exist', 'worldwide', ',', 'and', 'places', '50', 'in', 'los', 'angeles', ')', '.', 'but', 'lest', 'the', 'nasties', 'be', 'mistaken', 'for', 'simple', 'comic', 'book', 'bad', 'guys', ',', 'john', 'carpenter', 'would', 'like', 'to', 'remind', 'us', 'that', 'they', 'are', '-', 'and', 'always', 'have', 'been', '-', 'a', 'truly', 'frightening', 'element', 'of', 'the', 'thriller', 'genre', '.', 'and', 'remind', 'us', 'he', 'does', 'in', 'his', 'latest', 'film', ',', 'vampires', '.', 'there', 'was', 'some', 'question', ',', 'as', 'halloween', 'weekend', 'approached', ',', 'of', 'how', 'well', 'vampires', 'would', 'do', 'in', 'comparison', 'to', 'new', 'line', \"cinema's\", 'immensely', 'successful', 'blade', ',', 'released', 'in', 'august', '.', 'the', 'two', 'films', 'take', 'noticeably', 'different', 'stands', 'on', 'the', 'vampire', 'issue', ',', 'and', \"don't\", 'even', 'agree', 'on', 'some', 'basic', 'points', 'of', 'the', 'slaying', 'method', '.', '(', 'for', 'instance', ',', \"blade's\", 'main', 'weapons', 'are', 'silver', 'and', 'garlic', ',', 'whereas', 'main', 'character', 'jack', \"crow's\", 'technique', 'is', 'a', 'wooden', 'stake', 'to', 'the', 'heart', '.', ')', 'blade', 'also', 'gives', 'more', 'of', 'a', 'face', 'to', 'the', 'vampire', 'civilization', ',', 'while', 'carpenter', 'would', 'like', 'us', 'to', 'remain', 'in', 'the', 'dark', 'about', 'how', 'the', 'pasties', 'operate', '.', 'both', 'have', 'their', 'advantages', ',', 'and', 'here', ',', \"carpenter's\", 'style', 'lends', 'itself', 'to', 'a', 'darker', 'breed', 'of', 'suspense', 'rather', 'than', 'the', 'action', 'movie', 'that', 'blade', 'director', 'stephen', 'norrington', 'delievered', '.', 'when', \"it's\", 'all', 'said', 'and', 'done', ',', 'though', ',', 'the', 'vampires', 'still', 'kill', 'and', 'die', 'with', 'a', 'bloody', 'flourish', ';', 'the', 'level', 'for', 'gore', 'is', 'indeed', 'set', 'to', 'maximum', '.', 'this', 'time', ',', 'our', 'hero', 'is', 'vatican-sponsored', 'slayer', 'jack', 'crow', '(', 'james', 'woods', ')', '.', \"he's\", 'a', 'cynical', ',', 'battle-worn', 'veteran', ',', 'and', 'the', 'best', 'of', 'his', 'bunch', '.', 'he', 'and', 'his', 'team', 'are', 'responsible', 'for', 'cleaning', 'out', 'the', 'american', 'southwest', ',', 'and', 'after', 'exterminating', 'a', 'nest', 'one', 'night', ',', 'they', 'run', 'up', 'against', 'a', 'super-vampire', '(', 'termed', 'a', '\"', 'master', '\"', ')', 'named', 'valek', '(', 'thomas', 'ian', 'griffith', ')', '.', 'valek', 'kills', 'all', 'of', \"jack's\", 'team', 'except', 'for', 'his', 'partner', ',', 'tony', 'montoya', '(', 'daniel', 'baldwin', ')', ',', 'and', 'as', 'the', 'two', 'regroup', ',', 'they', 'learn', 'that', 'valek', 'is', 'the', 'original', 'vampire', '-', 'now', 'over', 'six', 'hundred', 'years', 'old', '.', 'apparently', ',', 'valek', 'and', 'his', 'minions', 'have', 'been', 'sweeping', 'the', 'southwest', 'for', 'decades', 'in', 'search', 'of', 'a', 'cross', 'that', 'will', 'enable', 'them', 'to', 'walk', 'in', 'the', 'daytime', '.', 'so', 'with', 'the', 'aid', 'of', 'a', 'priest', 'named', 'adam', '(', 'tim', 'guinee', ')', 'and', 'a', 'bitten', 'hooker', '(', 'sheryl', 'lee', ')', 'as', 'bait', ',', 'they', 'track', 'valek', 'down', 'for', 'the', 'final', 'confrontation', '.', 'the', 'script', 'for', 'vampires', ',', 'written', 'by', 'don', 'jakoby', 'and', 'based', 'on', 'the', 'john', 'steakley', 'novel', ',', 'is', 'perhaps', 'the', 'wittiest', 'piece', 'of', 'screenplay', 'to', 'see', 'production', 'all', 'year', '.', 'crow', ',', 'in', 'particular', ',', 'is', 'a', 'fun', 'source', 'of', 'one-liners', ',', 'and', 'woods', 'does', 'every', 'one', 'of', 'them', 'with', 'perfect', 'stoicism', '.', 'baldwin', ',', 'lee', ',', 'and', 'guinee', 'are', 'all', 'fine', 'supports', ',', 'adding', 'to', 'the', 'character', 'pool', ',', 'but', 'the', 'other', 'true', 'highlight', 'of', 'the', 'movie', 'is', 'thomas', 'ian', \"griffith's\", 'bad', 'guy', '.', \"griffith's\", 'intense', 'expression', 'is', 'perfect', 'for', 'the', 'role', ',', 'and', 'the', 'only', 'downside', 'is', 'that', \"he's\", 'got', 'to', 'talk', 'sometime', '.', 'luckily', ',', \"he's\", 'got', 'few', 'lines', ',', 'and', 'manages', 'to', 'pull', 'off', 'a', 'rather', 'thrilling', 'performance', '.', 'all', 'said', ',', 'fans', 'will', 'surely', 'be', 'impressed', 'by', 'this', 'picture', ',', 'and', 'those', 'who', 'found', 'apt', 'pupil', 'a', 'bit', 'limp', 'will', 'be', 'excited', 'by', 'this', 'one', '.', 'certainly', 'a', 'worthwhile', 'visit', 'to', 'the', 'theaters', '.'], ['capsule', ':', 'suprisingly', 'more', 'of', 'a', 'comedy', 'than', 'a', 'straight', 'action', 'flick', ',', 'which', \"isn't\", 'necessarily', 'a', 'bad', 'thing', '.', 'not', 'exactly', 'oscar', 'caliber', ',', 'but', 'one', 'helluva', 'bullet-riddled', 'good', 'time', '.', 'extended', 'review', ':', 'you', 'know', ',', 'i', 'remember', 'when', 'hitmen', 'were', 'evil', ',', 'murderous', 'scum', '.', 'alas', ',', 'the', 'times', 'are', \"a-changin'\", '.', 'in', 'a', 'recent', 'string', 'of', 'movies', ',', 'hitmen', 'are', 'suddenly', 'wise-', 'cracking', ',', 'fun-loving', 'killers-with-hearts', '.', 'this', 'brings', 'us', 'to', 'hong', 'kong', 'director', 'kirk', \"wong's\", 'first', 'american', 'feature', ',', 'the', 'big', 'hit', '.', 'oddly', 'enough', ',', 'about', 'the', 'same', 'time', 'last', 'year', 'a', 'similar', 'film', ',', 'grosse', 'point', 'blank', ',', 'was', 'released', '.', 'advertised', 'as', 'a', 'quirky', 'comedy', 'with', 'hints', 'of', 'action', ',', 'it', 'turned', 'out', 'to', 'have', 'a', 'suprising', 'dosage', 'of', 'it', '.', 'the', 'big', 'hit', 'is', 'quite', 'the', 'opposite', '.', 'it', 'was', 'hyped', 'as', '\"', 'the', 'new', 'film', 'from', 'producer', 'john', 'woo', '\"', ',', 'so', 'one', 'would', 'it', 'expect', 'lots', 'of', 'stylized', 'killing', 'and', 'action', '.', 'however', ',', \"there's\", 'a', 'sore', 'lack', 'of', 'it', ',', 'which', 'is', 'about', 'the', 'only', 'thing', 'wrong', 'with', 'the', 'big', 'hit', '.', 'the', 'film', 'starts', 'out', 'with', 'mel', 'smiley', 'and', 'his', 'cohorts', 'doing', 'a', 'job', 'on', 'a', 'white', 'slaver', '.', 'mel', ',', 'played', 'by', 'mark', 'wahlberg', 'in', 'a', 'dopey', ',', 'milquetoast', 'role', ',', 'is', 'a', 'killing', 'machine', ';', 'he', 'flips', ',', 'spins', ',', 'even', 'breakdances', 'whilst', 'popping', 'caps', '.', 'sadly', ',', 'he', \"doesn't\", 'get', 'a', 'chance', 'to', 'do', 'much', 'of', 'it', '.', 'except', 'for', 'the', 'beginning', 'set', 'piece', 'and', 'the', 'last', '20', 'twenty', 'minutes', 'or', 'so', ',', 'the', 'film', 'is', 'in', 'comedy', 'mode', '.', 'the', 'action', ',', 'at', 'least', 'what', 'there', 'is', 'of', 'it', ',', 'is', 'prime', 'cut', 'stuff', '.', 'wong', ',', 'after', 'numerous', 'hong', 'kong', 'features', ',', 'makes', 'quite', 'a', 'nice', 'u', '.', 's', '.', 'debut', '.', 'however', ',', 'his', 'pacing', 'is', 'a', 'bit', 'off', ',', 'with', 'the', 'action', 'sequences', 'only', 'bookending', 'the', 'movie', 'and', 'not', 'lasting', 'long', 'enough', '.', 'they', 'start', 'off', 'electrifying', 'and', 'fresh', ',', 'but', 'just', 'kinda', 'stop', '.', 'normally', ',', 'this', 'would', 'hamper', 'a', 'movie', 'to', 'the', 'point', 'of', 'being', 'unenjoyable', '.', 'luckily', ',', 'we', 'have', 'ben', \"ramsey's\", 'screenplay', ',', 'a', 'bitingly', 'funny', 'piece', 'of', 'work', '.', 'the', 'only', 'problem', 'is', 'there', 'might', 'be', 'too', 'much', 'humor', ',', 'one', 'joke', 'makes', 'you', 'laugh', 'so', 'hard', 'you', 'miss', 'the', 'next', 'few', '.', 'some', 'of', 'best', 'gags', 'include', 'an', 'oriental', 'film', 'maker', 'down', 'on', 'his', 'luck', 'and', 'one', 'of', \"mel's\", 'hitmen', 'pals', 'that', 'has', 'just', 'discovered', 'onanism', '.', 'the', 'only', 'problem', 'is', 'how', 'some', 'of', 'the', 'minor', 'characters', 'are', 'handled', ',', 'some', 'being', 'there', 'only', 'for', 'a', 'laugh', ',', 'which', 'sometimes', 'works', ',', 'sometimes', \"doesn't\", '.', 'overall', ',', 'the', 'big', 'hit', 'may', 'have', \"it's\", 'flaws', ',', 'but', 'it', 'makes', 'up', 'for', 'them', 'in', 'a', 'stylishly', 'directed', ',', 'gut-wrenchingly', 'funny', 'joyride', '.', 'definately', 'one', 'of', 'the', 'better', 'ways', 'to', 'spend', 'two', 'hours', '.'], ['you', \"don't\", 'want', 'to', 'be', 'like', 'mike', '.', 'mike', 'has', 'been', 'doing', 'badly', '.', 'embarrassingly', 'bad', '.', 'he', 'broke', 'up', 'a', 'six-year', 'relationship', 'six', 'months', 'ago', 'to', 'move', 'from', 'n', '.', 'y', '.', 'to', 'l', '.', 'a', '.', 'and', \"he's\", 'still', 'not', 'over', 'her', '.', 'as', 'a', 'result', ',', 'his', 'jokes', 'fall', 'flat', 'when', 'he', 'tries', 'to', 'impress', ',', 'and', \"he's\", 'a', 'comedian', '.', 'well', ',', 'an', 'unemployed', 'comedian', ',', 'one', 'of', \"hollywood's\", 'little', 'fish', ',', 'and', 'it', 'has', 'gotten', 'so', 'bad', \"he's\", 'asked', 'for', 'an', 'application', 'at', \"starbuck's\", '.', 'actually', ',', 'the', \"starbuck's\", 'thing', 'gets', 'even', 'worse', '.', 'and', 'worse', '.', 'you', \"won't\", 'fail', 'to', 'like', 'mike', ',', 'however', ',', 'played', 'endearingly', 'by', 'jon', 'favreau', '.', 'swingers', 'revolves', 'around', \"mike's\", 'half-hearted', 'and', 'awkward', 'efforts', 'to', 'get', 'back', 'in', 'the', 'social', 'swing', 'of', 'things', '.', 'to', 'this', 'end', 'he', 'is', 'enthusiastically', 'assisted', 'by', 'his', 'equally', 'underachieving', 'twentysomething', 'actor', 'friends', ',', 'such', 'as', 'trent', '(', 'vince', 'vaughn', 'with', 'the', \"film's\", 'most', 'animated', 'performance', ')', ',', 'who', 'has', 'the', 'gift', 'of', 'gab', 'bordering', 'on', 'the', 'disturbing', 'side', 'of', 'motivational', 'speaking', ',', 'gun-toting', 'sue', '(', 'patrick', 'van', 'horn', ')', ',', 'and', 'rob', '(', 'ron', 'livingston', ')', ',', 'who', 'once', 'played', 'hamlet', 'but', 'now', 'longs', 'to', 'work', 'as', 'goofy', 'in', 'disneyland', ',', 'but', \"doesn't\", 'succeed', 'because', 'of', 'his', 'lack', 'of', '\"', 'theme', 'park', 'experience', '.', '\"', 'together', 'they', 'talk', 'about', 'women', '-', 'how', 'to', 'make', 'eye', 'contact', ',', 'which', 'involves', 'avoiding', 'it', ',', 'and', 'when', 'to', 'call', 'so', 'as', 'never', 'to', 'appear', 'desperate', ',', 'two', 'days', 'being', '\"', 'industry', 'standard', '.', '\"', 'after', 'talking', 'the', 'talk', ',', 'they', 'walk', 'the', 'walk', ',', 'strutting', 'like', 'the', 'cool', 'swingers', 'they', 'aspire', 'to', 'be', ',', 'always', 'to', 'laughable', 'effect', '.', 'to', 'get', 'mike', 'out', 'of', 'his', 'funk', ',', 'his', 'friends', 'persistently', 'convince', 'him', 'to', 'get', 'outside', ',', 'whether', 'it', 'be', 'to', 'a', 'quickie', 'night', 'trip', 'to', 'a', 'seedy', 'vegas', 'casino', 'or', 'a', 'cutthroat', 'hollywood', 'party', 'with', 'the', 'beautiful', 'people', 'or', 'a', '50s', 'swing', 'lounge', '.', 'everywhere', 'they', 'encourage', 'mike', 'to', 'look', 'for', 'a', 'replacement', '\"', 'honey', '\"', 'and', 'then', 'keep', 'vigil', 'over', 'his', 'progress', ',', 'or', 'lack', 'of', 'it', '.', 'like', 'dotty', 'doting', 'parents', ',', 'mike', 'never', 'leaves', 'their', 'company', 'without', 'being', 'the', 'recipient', 'of', 'their', 'confidence', 'cheerleading', '(', '\"', \"you're\", 'money', ',', 'mike', ',', 'and', 'the', 'honeys', 'know', 'it', '.', '\"', ')', 'or', 'equipped', 'with', 'their', 'eccentric', 'dating', 'philosophies', ',', 'such', 'as', 'an', 'analogy', 'of', 'flirting', 'with', 'the', 'bear', 'and', 'the', 'bunny', '.', 'with', 'the', 'unwavering', 'support', 'of', 'friends', 'like', 'these', ',', 'maybe', \"mike's\", 'not', 'doing', 'too', 'badly', 'after', 'all', '.', 'favreau', 'also', 'doubled', 'as', 'the', \"film's\", 'screenwriter', ',', 'and', 'he', 'proves', 'he', 'has', 'the', 'gift', 'for', 'creating', 'engaging', 'characters', 'and', 'witty', 'banter', 'that', 'goes', 'beyond', \"today's\", 'bon', 'mot', '.', 'there', 'is', 'a', 'reassuring', 'honesty', 'to', 'the', 'friendships', ',', 'even', 'when', 'it', 'hits', 'its', 'low', 'points', 'and', 'the', 'friends', 'commiserate', '.', 'when', 'mike', 'gets', 'the', 'gumption', 'to', 'look', 'for', 'love', ',', 'you', 'will', 'join', 'his', 'cheerleading', 'section', 'as', 'well', '.', 'swingers', 'is', 'light', ',', 'unassuming', 'fare', ',', 'sweet', 'candy', 'you', 'will', 'want', 'to', 'bust', 'your', 'gut', 'with', '-', 'laughing', '-', 'again', 'and', 'again', '.'], [\"it's\", 'wednesday', ',', 'march', '27', ',', 'and', 'a', 'murder', 'investigation', 'is', 'underway', 'in', 'charlotte', ',', 'south', 'carolina', '.', 'the', 'crime', ':', 'a', 'young', 'prostitute', ',', 'elizabeth', '(', 'renee', 'zellweger', ')', ',', 'has', 'been', 'brutally', 'slain', '.', 'one', 'half', 'of', 'her', 'severed', 'body', 'was', 'found', 'in', 'a', 'bag', 'at', 'the', 'train', 'station', '.', 'the', 'other', 'half', 'was', 'discovered', 'in', 'a', 'trunk', 'at', 'the', 'harbor', 'authority', ',', 'miles', 'away', '.', 'the', 'police', 'duo', 'of', 'braxton', '(', 'chris', 'penn', ')', 'and', 'kennesaw', '(', 'michael', 'rooker', ')', 'are', 'strapped', 'for', 'leads', '.', 'at', 'the', 'moment', ',', 'they', 'have', 'only', 'one', 'possible', 'suspect', ':', 'wayland', '(', 'tim', 'roth', ')', ',', 'a', 'wealthy', ',', 'unemployed', 'genius', 'who', 'graduated', 'summa', 'cum', 'laude', 'from', 'princeton', 'and', 'appears', 'to', 'be', 'the', 'least', 'likely', 'character', 'to', 'commit', 'such', 'a', 'heinous', 'act', '.', \"that's\", 'the', 'premise', 'for', 'deceiver', ',', 'a', 'new', 'thriller', 'from', 'the', 'pate', 'brothers', ',', 'jonas', 'and', 'josh', ',', 'who', 'made', 'their', 'mark', 'on', 'the', 'film', 'world', 'two', 'years', 'ago', 'at', 'sundance', 'with', 'the', 'movie', 'the', 'grave', '.', 'deceiver', 'plays', 'out', 'like', 'a', 'mind', 'game', 'between', 'the', 'intellectually', 'superior', 'wayland', 'and', 'the', 'two', 'not-', 'so-bright', 'cops', '(', 'captions', 'early', 'in', 'the', 'proceedings', 'let', 'us', 'know', 'that', \"wayland's\", 'iq', 'is', '151', ';', 'by', 'contrast', ',', \"kennesaw's\", 'is', '122', 'and', \"braxton's\", 'is', '102', ')', '.', 'the', 'setting', 'is', 'a', 'police', 'interrogation', 'room', 'where', 'a', 'lie', 'detector', 'test', 'is', 'about', 'to', 'be', 'administered', '.', 'over', 'three', 'days', ',', 'as', 'wayland', 'returns', 'to', 'answer', 'more', 'questions', ',', 'the', 'drama', 'and', 'tension', 'among', 'these', 'three', 'characters', 'gradually', 'escalates', 'until', ',', 'inevitably', ',', 'it', 'boils', 'over', '.', 'other', 'plot', 'elements', 'are', 'thrown', 'in', 'for', 'good', 'measure', '.', 'wayland', 'suffers', 'from', 'a', 'peculiar', 'kind', 'of', 'epilepsy', 'that', 'can', ',', 'in', 'stressful', 'situations', ',', 'render', 'him', 'virtually', 'catatonic', 'or', 'extremely', 'violent', '.', 'braxton', ',', 'a', 'compulsive', 'gambler', ',', 'is', 'deep', 'in', 'debt', 'to', 'a', 'local', 'syndicate', '.', 'and', 'kennesaw', 'is', 'haunted', 'by', 'a', 'dark', ',', 'abusive', 'side', 'that', 'delights', 'in', 'terrorizing', 'women', ',', 'especially', 'his', 'wife', '(', 'rosanna', 'arquette', ')', ',', 'whom', 'he', 'suspects', 'of', 'being', 'unfaithful', '.', 'the', 'foibles', 'and', 'failings', 'of', 'these', 'three', 'are', 'brought', 'into', 'the', 'open', 'as', 'the', 'mystery', 'around', \"elizabeth's\", 'death', 'deepens', 'and', 'it', 'becomes', 'unclear', 'who', 'has', 'the', 'upper', 'hand', ':', 'the', 'suspect', 'or', 'his', 'questioners', '.', 'deceiver', ',', 'which', 'mostly', 'transpires', 'in', 'a', 'dimly-lit', 'room', 'and', 'involves', 'a', 'lot', 'of', 'smart', 'dialogue', ',', 'has', 'the', 'feel', 'of', 'a', 'david', 'mamet', 'play', ':', 'edgy', ',', 'claustrophobic', ',', 'and', 'tense', '.', 'the', 'atmosphere', 'is', 'explosive', ',', 'and', 'some', 'of', 'pivotal', 'moments', 'of', 'confrontation', 'are', 'riveting', '.', 'deceiver', 'has', 'the', 'power', 'to', 'grab', 'an', 'audience', '.', 'unfortunately', ',', 'in', 'the', 'end', ',', 'it', 'succumbs', 'to', 'the', 'need', 'to', 'throw', 'in', 'one', 'last', ',', 'unexpected', 'twist', ',', 'and', 'this', 'is', 'its', 'undoing', '.', 'for', ',', 'while', 'this', 'surprise', 'will', 'certainly', 'shock', 'most', 'viewers', ',', 'it', 'also', 'stretches', 'our', 'credulity', 'too', 'much', ',', 'and', 'raises', 'more', 'questions', 'than', 'it', 'answers', '.', \"it's\", 'only', 'an', 'effective', 'wrap-up', 'if', 'you', \"don't\", 'think', 'too', 'carefully', 'about', 'its', 'full', 'implications', '.', 'of', 'course', ',', 'the', 'film', 'as', 'a', 'whole', 'plays', 'fast', 'and', 'loose', 'with', 'reality', 'and', 'logic', '.', 'police', 'procedure', 'is', 'totally', 'ignored', 'and', \"it's\", 'almost', 'impossible', 'to', 'accept', 'that', 'any', 'criminal', 'investigation', 'would', 'or', 'could', 'proceed', 'in', 'this', 'manner', '.', 'but', 'the', 'real', 'focus', 'in', 'deceiver', 'is', 'on', 'character', 'interaction', ',', 'not', 'plot', 'details', '.', 'deceiver', 'only', 'occasionally', 'gets', 'out', 'of', 'the', 'police', 'station', ',', 'and', 'those', 'instances', 'occur', 'primarily', 'during', 'flashbacks', 'featuring', 'the', 'prostitute', '.', 'the', 'pates', 'employ', 'a', 'number', 'of', 'interesting', 'techniques', 'to', 'present', 'vignettes', 'from', \"elizabeth's\", 'final', 'days', 'and', 'hours', '.', 'the', 'most', 'intriguing', 'of', 'these', 'is', 'to', 'use', 'an', 'unreliable', 'narrator', 'while', 'underlining', 'the', 'discrepancies', 'in', 'his', 'voice-over', 'by', 'visually', 'showing', 'what', 'really', 'happened', '.', 'moments', 'like', 'this', 'are', 'too', 'effective', 'to', 'be', 'dismissed', 'as', 'gimmicks', '.', 'the', 'movie', ',', 'obviously', 'fashioned', 'in', 'the', 'manner', 'of', 'classic', 'film', 'noir', ',', 'drips', 'atmosphere', '.', 'there', 'are', 'some', 'fascinating', 'stylistic', 'touches', ';', 'for', 'example', ',', 'although', 'the', 'setting', 'is', 'contemporary', ',', 'all', 'of', 'the', 'telephones', 'are', 'old-fashioned', ',', 'rotary', 'models', '.', 'cinematographer', 'bill', 'butler', 'is', 'given', 'an', 'opportunity', 'to', 'use', 'unconventional', 'camera', 'work', 'to', 'liven', 'up', \"deceiver's\", 'look', '.', 'some', 'of', 'the', 'things', 'he', 'tries', '(', 'mostly', 'those', 'that', 'involve', 'the', 'contrast', 'between', 'light', 'and', 'shadow', ')', 'work', 'exceptionally', 'well', ',', 'while', 'others', '(', 'like', 'any', 'of', 'several', 'lazy', 'susan', 'shots', ')', 'seem', 'more', 'like', 'unnecessary', 'visual', 'tricks', '.', 'as', 'wayland', ',', 'tim', 'roth', 'gives', 'the', \"film's\", 'top', 'performance', ',', 'despite', 'occasionally', 'treading', 'the', 'tightrope', 'between', 'acting', 'and', 'overacting', '.', 'roth', 'makes', 'us', 'believe', 'that', 'wayland', 'is', 'both', 'as', 'brilliant', 'and', 'as', 'troubled', 'as', \"he's\", 'supposed', 'to', 'be', '.', 'the', 'other', 'two', 'leads', ',', 'chris', 'penn', 'and', 'michael', 'rooker', ',', \"aren't\", 'as', 'effective', '.', 'both', 'play', 'their', 'characters', 'like', 'familiar', 'types', '.', \"penn's\", 'performance', 'is', 'uninspired', ';', \"rooker's\", 'lacks', 'subtlety', '.', 'some', 'of', 'the', 'best', 'work', 'is', 'turned', 'in', 'by', 'the', 'supporting', 'actors', '.', 'renee', 'zellweger', ',', 'in', 'a', 'role', \"that's\", 'miles', 'away', 'from', 'her', 'star-making', 'turn', 'in', 'jerry', 'maguire', ',', 'brings', 'a', 'note', 'of', 'vulnerability', 'and', 'humanity', 'to', 'a', 'part', 'that', 'could', 'easily', 'have', 'become', 'a', 'caricature', '.', 'rosanna', 'arquette', 'is', 'solid', 'as', \"kennesaw's\", 'wife', ',', 'and', 'michael', 'parks', 'delivers', 'several', 'wonderful', 'scenes', 'as', 'a', 'psychiatrist', \"who's\", 'entrusted', 'with', 'evaluating', \"wayland's\", 'condition', '.', 'one', 'of', 'the', 'best', 'things', 'about', 'deceiver', 'is', 'that', 'it', 'never', 'talks', 'down', 'to', 'the', 'audience', '.', 'plot', 'points', \"aren't\", 'hammered', 'home', ',', 'and', ',', 'although', 'the', 'ending', 'has', 'its', 'weaknesses', ',', 'everything', \"isn't\", 'spelled', 'out', 'in', 'bold', 'letters', '.', 'the', 'pates', 'give', 'audience', 'members', 'credit', 'for', 'having', 'brains', ',', 'which', 'is', 'an', 'increasingly', 'rare', 'characteristic', 'for', 'film', 'makers', '.', 'occasionally', 'gripping', 'and', 'never', 'uninteresting', ',', 'deceiver', 'is', 'a', 'fine', 'noir', 'effort', '.'], ['accepting', 'his', 'oscar', 'as', 'producer', 'of', 'this', \"year's\", 'best', 'picture', 'winner', ',', 'saul', 'zaentz', 'remarked', 'that', 'his', 'cup', 'runneth', 'over', '.', 'one', 'could', 'almost', 'say', 'the', 'same', 'about', 'his', 'much-prized', 'film', '.', 'rarely', 'is', 'the', 'screen', 'so', 'overflowing', 'with', 'potent', 'imagery', ',', 'symbolism', ',', 'ideas', 'and', 'metaphors', ',', 'complex', 'and', 'literate', 'storytelling', ',', 'all', 'possessed', 'of', 'an', 'intelligence', 'that', 'invites', '--', 'even', 'demands', '--', 'constant', 'scrutiny', ',', 'an', 'acuity', 'of', 'perception', 'and', 'observation', 'that', 'must', 'somehow', 'yield', 'the', 'truth', '.', 'in', 'short', ',', 'the', 'antithesis', 'of', 'all', 'things', 'hollywood', '.', 'yet', 'this', 'surfeit', 'of', 'signals', 'is', 'made', 'to', 'serve', 'a', 'rather', 'pale', 'and', 'thinly', 'realized', 'love', 'story', 'whose', 'emotional', 'impact', 'is', 'as', 'dry', 'as', 'a', 'desert', 'wind', '.', 'ralph', 'fiennes', 'is', 'the', 'title', 'character', ',', 'an', 'amnesiac', 'burn', 'victim', 'whose', 'gradual', 'return', 'to', 'memory', ',', 'and', 'particularly', 'the', 'memory', 'of', 'love', ',', 'is', 'the', 'ostensible', 'focus', 'of', 'the', 'film', '.', 'but', 'despite', 'the', 'use', 'of', 'numerous', 'flashbacks', 'to', 'help', 'put', 'the', 'pieces', 'of', 'this', 'personal', 'puzzle', 'together', ',', 'we', 'never', 'learn', 'enough', 'about', 'the', 'man', 'to', 'feel', 'much', 'empathy', 'for', 'him', '.', 'his', 'emotional', 'life', 'before', 'the', 'story', 'begins', 'is', 'an', 'essential', 'clue', 'that', 'remains', 'withheld', '.', 'the', 'same', 'can', 'easily', 'be', 'said', 'for', 'every', 'other', 'character', 'in', 'the', 'film', ',', 'of', 'which', 'there', 'are', 'too', 'many', '.', 'juliette', \"binoche's\", 'nurse', 'comes', 'as', 'close', 'as', 'this', 'film', 'gets', 'to', 'an', 'emotional', 'heart', '.', 'at', 'least', 'we', 'learn', 'early', 'on', 'that', 'she', 'is', 'scarred', 'by', 'the', 'deaths', 'of', 'those', 'close', 'to', 'her', ',', 'and', 'so', 'we', 'understand', 'why', 'she', 'is', 'eager', 'to', 'escape', 'the', 'company', 'of', 'her', 'comrades', 'in', 'order', 'to', 'seek', 'refuge', 'in', 'the', 'convalescence', 'of', 'a', 'mysterious', ',', 'disfigured', ',', 'dying', 'stranger', '.', 'even', 'this', 'information', 'is', 'imparted', 'so', 'quickly', 'and', 'in', 'such', 'cursory', 'fashion', ',', 'however', ',', 'that', 'it', 'verges', 'on', 'the', 'comical', '.', 'with', 'so', 'many', 'characters', 'enjoying', 'so', 'little', 'screen', 'time', ',', 'the', \"film's\", '160', 'minutes', 'can', 'be', 'taxing', '.', 'yet', 'there', 'is', 'something', 'so', 'captivating', 'about', 'the', 'sensibility', 'behind', 'the', 'camera', 'that', 'i', \"couldn't\", 'help', 'but', 'feel', 'that', 'greatness', 'was', 'in', 'the', 'air', '.', 'hints', 'of', 'it', 'were', 'everywhere', '--', 'in', 'a', 'man', 'who', 'hates', 'ownership', 'but', 'wants', 'desperately', 'to', 'possess', 'his', 'lover', ';', 'in', 'ancient', 'cave', 'paintings', 'of', 'swimmers', 'copied', 'casually', 'by', 'a', 'modern-day', 'swimmer', 'in', 'the', 'sahara', ';', 'in', 'the', 'way', 'the', 'shifting', 'sands', 'of', 'time', 'obliterate', 'everything', 'more', 'completely', 'than', 'a', 'world', 'war', '.', 'there', 'is', 'enough', 'latent', 'meaning', 'to', 'supply', 'college', 'film', 'students', 'with', 'paper', 'topics', 'for', 'years', '.', 'but', 'ultimately', 'the', 'emotional', 'truths', 'writer-director', 'anthony', 'minghella', 'was', 'grasping', 'for', 'were', 'never', 'revealed', '.', 'in', 'the', 'end', ',', 'i', 'was', 'left', 'with', 'the', 'impression', 'that', 'i', 'had', 'witnessed', 'quite', 'an', 'oxymoron', ':', 'a', 'haunting', 'bore', '.', 'bore', 'is', 'perhaps', 'too', 'strong', 'a', 'word', '.', 'but', 'after', 'drinking', 'in', 'the', 'rich', 'production', 'values', ',', 'the', 'cup', 'remains', 'only', 'slightly', 'over', 'half-full', '.'], ['the', 'uncompromising', 'nudity', 'bared', 'throughout', 'petrice', \"chereau's\", 'intimacy', 'has', 'already', 'garnered', 'much', 'notoriety', ',', 'but', \"it's\", 'in', 'the', 'naked', 'faces', 'of', 'fearless', 'actors', 'mark', 'rylance', '(', 'angels', '&', 'insects', ')', 'and', 'kerry', 'fox', '(', 'welcome', 'to', 'sarajevo', ')', 'that', 'the', 'tender', 'ache', 'of', 'emotional', 'resonance', 'is', 'discovered', '.', 'with', 'sharp', ',', 'intelligent', 'eyes', 'that', 'reflect', 'experience', 'and', 'maturity', ',', 'rylance', 'and', 'fox', 'are', 'refreshingly', 'detached', 'from', 'the', 'false', 'glamour', 'of', 'hollywood', 'idols', '.', 'their', 'sex', 'scenes', 'together', 'are', 'bracing', 'in', 'their', 'raw', 'honesty', ',', 'in', 'the', 'acceptance', 'of', 'flesh', 'and', 'messiness', '.', 'less', 'apparent', ',', 'but', 'no', 'less', 'remarkable', ',', 'are', 'the', 'astute', 'observations', 'of', 'behavior', 'revealed', 'through', 'those', 'carnal', 'beats', 'of', 'haste', 'and', 'hesitance', ',', 'often', 'without', 'a', 'single', 'line', 'of', 'dialogue', '.', 'not', 'aiming', 'for', 'the', 'spiritual', 'poetry', 'of', 'in', 'the', 'realm', 'of', 'the', 'senses', 'or', 'the', 'philosophical', 'transgressions', 'of', 'crash', ',', 'chereau', 'keeps', 'his', 'sexual', 'odyssey', 'firmly', 'grounded', 'in', 'terms', 'of', 'straightforward', 'character', 'development', '.', 'that', 'may', 'be', 'the', 'very', 'reason', 'why', 'intimacy', 'seems', 'unerringly', 'impressive', 'but', 'never', 'particularly', 'significant', 'on', 'more', 'than', 'a', 'tactile', ',', 'sensory', 'level', '.', 'the', 'themes', 'of', 'human', 'isolation', 'are', 'barren', 'and', 'obvious', ',', 'a', 'science', 'project', 'devoid', 'of', 'any', 'especially', 'groundbreaking', 'hypothesis', '.', 'intimacy', 'does', 'manage', 'to', 'stand', 'out', 'from', 'lesser', 'portraits', 'of', '\"', 'human', 'interconnectedness', '\"', 'and', 'pinter-esque', 'rummages', 'through', 'psychological', 'dirty', 'drawers', '(', 'okay', ',', 'kill', 'me', ')', '.', 'shallow', 'though', 'it', 'might', 'sound', ',', \"it's\", 'amazing', 'how', 'much', 'is', 'filled', 'in', 'through', 'an', 'inspired', 'cast', ',', 'perceptive', 'camerawork', ',', 'and', 'imaginative', 'ways', 'of', 'treating', 'the', 'love', 'scene', '.', 'those', 'ingredients', 'are', 'too', 'assured', 'and', 'confident', 'to', 'merely', 'dismiss', 'as', 'icing', 'on', 'the', 'cake', ',', 'especially', 'since', 'they', 'are', 'the', 'substance', 'of', 'the', 'cake', 'itself', '.', 'adapted', 'from', 'a', 'pair', 'of', 'short', 'stories', 'by', 'british', 'novelist', 'hanif', 'kureishi', ',', 'intimacy', 'weaves', 'desperate', 'lovemaking', 'between', 'two', 'strangers', 'in', 'london', '.', 'every', 'wednesday', ',', 'jay', '(', 'rylance', ')', 'and', 'claire', '(', 'fox', ')', 'meet', 'in', 'his', 'cluttered', ',', 'dank', 'apartment', 'for', 'an', 'hour', 'or', 'two', 'of', 'sexual', 'release', 'from', 'their', 'uninspired', 'lives', '.', \"he's\", 'been', 'head', 'bartender', 'at', 'a', 'posh', 'restaurant', 'for', 'over', 'six', 'years', '.', \"she's\", 'a', 'mystery', 'to', 'him', 'but', 'her', 'glum', 'workaday', 'appearance', 'reveals', 'a', 'similar', 'dissatisfaction', '.', \"they're\", 'both', 'married', ',', 'but', 'his', 'relationship', 'has', 'curdled', 'into', 'an', 'embittered', 'separation', '.', 'as', 'the', 'weeks', 'draw', 'on', ',', 'jay', 'obsessively', 'takes', 'it', 'upon', 'himself', 'to', 'uncover', \"claire's\", 'personal', 'routines', '.', 'in', 'his', 'attempt', 'to', 'gain', 'a', 'fuller', 'semblance', 'of', 'who', 'she', 'is', ',', 'he', 'opens', 'wounds', 'that', \"hadn't\", 'existed', 'before', 'by', 'single-handedly', 'corrupting', 'the', 'fantasy', '.', 'if', 'it', \"weren't\", 'for', 'a', 'few', 'unnecessary', 'subplots', 'involving', \"jay's\", 'brother', 'and', 'his', 'bevy', 'of', 'disgruntled', 'co-workers', ',', 'this', 'minimalist', 'premise', 'might', 'be', 'described', 'as', 'a', 'modern', 'fable', 'on', 'the', 'perils', 'of', 'wish', 'fulfillment', '.', \"chareau's\", 'restless', 'camera', '(', 'once', 'again', 'wielded', 'by', 'superb', 'and', 'ever-attentive', 'cinematographer', 'eric', 'gautier', ')', 'is', 'less', 'appropriate', 'here', 'than', 'in', 'his', 'family', 'transit-oriented', 'those', 'who', 'love', 'me', 'can', 'take', 'the', 'train', '.', 'the', 'scenes', 'that', 'linger', 'are', 'the', 'still', 'ones', 'where', 'rylance', 'and', 'fox', 'separately', ',', 'pensively', 'attempt', 'to', 'carry', 'on', 'with', 'their', 'makeshift', 'household', 'routines', '.', 'these', 'are', 'often', 'captured', 'in', 'lingering', ',', 'unblinking', 'wide', 'shots', 'that', 'view', 'them', 'stranded', 'amidst', 'their', 'drab', 'workplaces', 'and', 'homes', '.', 'separation', 'proves', 'haunting', 'in', 'a', 'melancholy', 'series', 'of', 'intercut', 'shots', 'as', 'rylance', 'and', 'fox', 'undress', 'on', 'opposite', 'sides', 'of', 'the', 'room', ',', 'crawling', 'across', 'the', 'floor', 'to', 'meet', 'in', 'the', 'center', '.', 'despite', 'being', 'as', 'restless', 'as', 'a', 'fly', 'during', 'the', 'hyperactive', 'restaurant', 'scenes', '(', 'all', 'the', 'better', 'to', 'blend', 'in', 'with', 'a', 'hustling', 'crowd', 'of', 'gabby', 'trendsetters', ')', ',', \"you'd\", 'be', 'hard', 'pressed', 'to', 'find', 'a', 'single', 'uninteresting', 'image', '.', 'intimacy', 'takes', 'an', 'interest', 'in', 'its', 'sordid', 'world', 'of', 'the', 'lower-middle', 'class', ',', 'with', 'lonely', 'pubs', 'and', 'busy', 'shopping', 'streets', '--', 'it', 'also', 'understands', 'the', 'people', 'who', 'inhabit', 'those', 'spaces', ',', 'viewing', 'them', 'with', 'sympathy', 'scraped', 'raw', '.', 'an', 'evaluation', 'would', 'be', 'incomplete', 'without', 'highlighting', 'the', 'great', 'timothy', 'spall', '(', 'the', 'robust', 'scene-stealer', 'of', 'many', 'a', 'mike', 'leigh', 'collaboration', ')', '.', 'as', \"claire's\", 'cuckolded', 'husband', ',', 'this', 'jocular', 'heavyweight', 'plays', 'out', 'his', 'handful', 'of', 'bitter', 'pill', 'scenes', 'with', 'the', 'unforced', 'menace', 'and', 'self-effacing', 'embarrassment', 'of', 'his', 'imposing', 'bulk', '.', 'bangs', 'in', 'his', 'eyes', ',', 'his', 'mouth', 'forming', 'into', 'quizzical', 'pouts', 'and', 'dry', 'smirks', ',', 'he', 'may', 'seem', 'the', 'fool', 'in', 'his', 'barroom', 'encounters', 'opposite', 'a', 'sarcastic', ',', 'gleaming', 'mark', 'rylance', '(', 'whose', 'jay', 'has', 'arrived', 'on', 'the', 'scene', 'looking', 'to', 'stir', 'up', 'some', 'trouble', ')', ',', 'but', 'spall', 'is', 'no', 'one', 'to', 'trifle', 'with', '.', 'his', 'overreaching', 'best', 'pal', 'demeanor', 'suggests', 'a', 'mind', 'abuzz', 'with', 'secret', 'passageways', 'of', 'guile', ',', 'his', 'pointed', 'questions', 'only', 'na', '?', 've', 'if', 'you', 'choose', 'not', 'to', 'read', 'into', 'their', 'crafty', 'insinuations', '.', 'in', 'his', 'unassuming', 'way', ',', \"spall's\", 'carefully', 'etched', 'interpretation', 'of', 'hostility', 'buried', 'under', 'a', 'mountain', 'of', 'surface', 'propriety', 'may', 'become', 'one', 'of', 'the', 'most', 'criminally', 'underappreciated', 'performances', 'of', 'the', 'year', ',', 'but', 'maybe', 'also', 'one', 'of', 'the', 'best', '.', \"he's\", 'that', 'good', '.'], ['usually', 'when', 'one', 'is', 'debating', 'who', 'the', 'modern', 'queen', 'of', 'the', 'romantic', 'comedy', 'is', 'they', 'will', 'bring', 'up', 'names', 'like', 'julia', 'roberts', 'or', 'sandra', 'bullock', '.', 'others', 'will', 'mention', 'meg', 'ryan', '.', 'but', 'for', 'me', ',', \"it's\", 'not', 'even', 'close', '.', 'janeane', 'garofalo', 'is', 'not', 'only', 'the', 'queen', 'of', 'the', 'romantic', 'comedy', ',', 'she', 'is', 'the', 'best', 'comic', 'actress', 'in', 'hollywood', 'right', 'now', '.', 'and', \"it's\", 'a', 'good', 'thing', \"she's\", 'starring', 'in', 'the', 'matchmaker', ',', 'because', 'without', 'her', 'presence', 'the', 'movie', 'would', 'be', 'bland', ',', 'unfunny', ',', 'and', 'dull', '.', 'garofalo', 'stars', 'as', 'marcy', 'tizard', ',', 'a', 'top', 'aide', 'to', 'boston', 'senator', 'john', 'mcglory', ',', 'who', 'is', 'suffering', 'in', 'the', 'polls', '.', 'in', 'an', 'attempt', 'to', 'capture', 'the', 'irish', 'vote', ',', 'he', 'sends', 'marcy', 'on', 'a', 'mission', 'to', 'a', 'small', 'irish', 'town', 'called', 'ballinagra', 'in', 'search', 'of', 'other', \"mcglory's\", 'that', 'never', 'moved', 'to', 'america', '.', 'unfortunately', 'for', 'marcy', ',', 'her', 'visit', 'coincides', 'with', 'the', \"town's\", 'annual', 'matchmaking', 'festival', '.', 'things', 'get', 'off', 'to', 'a', 'rocky', 'start', 'for', 'marcy', 'though', '.', 'she', 'has', 'no', 'hotel', 'reservations', '(', 'for', 'no', 'rational', 'reason', ')', 'and', 'the', 'tiny', 'confined', 'room', '(', 'tired', 'old', \"cliche'\", ')', 'she', 'has', 'to', 'stay', 'in', 'has', 'a', 'visitor', 'in', 'her', 'bathtub', '.', 'his', 'name', 'is', 'sean', ',', 'and', 'marcy', 'finds', 'him', 'repugnant', 'at', 'first', ',', 'so', 'you', 'can', 'obviously', 'tell', 'where', 'this', 'is', 'headed', '.', 'the', 'movie', 'runs', 'into', 'a', 'few', 'roadblocks', '.', 'for', 'instance', ',', 'the', 'story', 'is', 'very', 'thin', '.', 'none', 'of', 'the', 'characters', '(', 'except', 'the', 'old', 'local', 'matchmaker', ')', 'are', 'nearly', 'as', 'interesting', 'as', 'garofalo', '.', 'some', 'of', 'the', 'characters', ',', 'like', 'the', 'political', 'aide', 'played', 'by', 'denis', 'leary', ',', 'have', 'wandered', 'in', 'from', 'a', 'completely', 'different', 'movie', '.', 'i', 'think', 'the', 'director', 'realized', 'this', 'and', 'decided', 'to', 'throw', 'in', 'numerous', 'shots', 'of', 'the', 'beautiful', 'irish', 'scenery', ',', 'and', 'several', 'close-ups', 'of', \"garofalo's\", 'winning', 'smile', '.', 'the', 'strange', 'thing', 'is', 'that', 'it', 'works', '.', \"garofalo's\", 'charm', 'and', 'the', 'irish', 'scenery', 'could', 'carry', 'the', 'thinnest', 'of', 'stories', ',', 'and', 'it', 'carries', 'this', 'one', '.'], ['in', '1987', 'the', 'stock', 'market', 'crashed', ',', 'and', 'oliver', \"stone's\", 'wall', 'street', 'was', 'released', 'to', 'critical', 'acclaim', 'and', 'packed', 'movie', 'houses', '.', 'wall', 'street', 'lucked', 'out', 'in', 'its', 'timing', ';', 'the', 'recent', 'crash', 'gave', 'the', 'film', 'a', 'resonation', 'it', 'might', 'not', 'of', 'had', ',', 'and', 'though', 'its', 'kill-or-be-killed', 'approach', 'to', 'business', 'was', 'exaggerated', ',', 'that', 'very', 'ideology', 'was', 'keyed', 'into', 'the', 'mind', 'set', 'of', 'the', 'quintessential', 'reagan-era', 'businessman', '.', 'stone', 'constructed', 'his', 'film', 'as', 'a', 'mythical', 'good', 'vs', '.', 'evil', 'tale', 'relayed', 'in', 'the', 'fast-paced', 'milieu', 'of', 'the', 'burgeoning', 'stock', 'exchange', '.', 'critics', 'and', 'audiences', 'lauded', 'wall', 'street', ',', 'elevating', 'its', 'status', 'to', 'that', 'of', 'a', 'contemporary', 'classic', '.', \"i'm\", 'proud', 'to', 'say', 'that', 'i', 'will', 'never', 'be', 'counted', 'as', 'one', 'of', 'them', '.', 'i', 'found', 'wall', 'street', 'to', 'be', 'just', 'as', 'axiomatic', 'and', 'pandering', 'as', 'the', 'majority', 'of', \"stone's\", 'output', 'with', 'its', 'thin', 'caricatures', ',', 'obvious', 'sentiments', ',', 'and', 'a', 'charisma', 'barren', 'performance', 'by', 'the', 'young', 'charlie', 'sheen', '.', 'stone', 'goes', 'for', 'broke', 'in', 'every', 'scene', '(', 'the', 'same', 'could', 'be', 'said', 'for', 'nearly', 'all', 'of', 'his', 'works', ')', '.', 'this', 'approach', 'tends', 'to', 'bury', 'his', 'purported', 'message', 'beneath', 'a', 'heap', 'of', 'good', 'intentions', '.', 'he', 'directs', 'stock', 'exchange', 'scenes', 'in', 'typical', 'hyperbolic', 'mode', 'with', 'people', 'shouting', 'into', 'phones', 'as', 'if', 'they', 'were', 'in', 'a', 'plummeting', 'airplane', '.', \"it's\", 'all', 'an', 'excuse', 'for', 'stone', 'to', 'ratchet', 'up', 'the', 'emotion', 'with', 'false', 'intensity', ',', 'rather', 'than', 'explore', 'what', 'these', 'situations', 'are', 'really', 'like', '.', 'i', 'have', 'a', 'feeling', 'the', 'brokers', 'would', 'be', 'psychologically', 'manipulative', '(', 'as', 'they', 'are', 'presented', 'in', 'boiler', 'room', ')', 'rather', 'than', 'laughably', 'over', 'the', 'top', '.', 'these', 'guys', 'are', 'salesmen', 'after', 'all', ',', 'not', 'televised', 'judges', '.', 'more', 'than', 'anything', 'i', 'am', 'baffled', 'by', 'why', 'so', 'many', 'adore', 'wall', 'street', '.', 'the', 'only', 'possible', 'solution', 'i', 'can', 'muster', 'is', 'its', 'release', 'date', '.', 'and', 'not', 'just', 'the', 'timeliness', 'of', 'the', '\"', 'greed', 'is', 'good', '\"', 'subject', 'matter', ':', 'the', 'film', 'was', 'plumped', 'down', 'in', 'the', 'eighties', ',', 'a', 'decade', 'in', 'which', 'the', 'one-joke', 'comedy', 'rose', 'to', 'an', 'art', 'form', ',', 'and', 'a', 'group', 'of', 'glamorous', 'brat', 'packers', 'smirked', 'their', 'way', 'through', 'inane', 'high', 'concept', ',', 'low', 'result', 'movies', '.', 'in', 'my', 'mind', ',', 'the', 'eighties', 'will', 'forever', 'be', 'remembered', 'as', 'a', 'decade', 'with', 'not', 'only', 'a', 'proliferation', 'of', 'bad', 'movies', ',', 'but', 'bad', 'music', ',', 'bad', 'hair', ',', 'and', 'bad', 'clothes', '.', 'maybe', \"stone's\", 'after', 'school', 'special', 'set', 'in', 'wall', 'street', 'was', 'viewed', 'as', 'a', 'welcome', 'change', 'of', 'pace', '.', 'boiler', 'room', 'is', 'an', 'equally', 'well-timed', 'film', 'with', 'some', 'similarities', 'to', \"stone's\", 'piece', 'of', 'crap', '.', 'they', 'both', 'feature', 'a', 'consequential', 'father-son', 'relationship', ',', 'though', 'boiler', \"room's\", 'is', 'much', 'more', 'subtle', 'and', 'touching', '.', 'and', 'they', 'are', 'both', 'concerned', 'with', 'the', 'power', 'of', 'greed', ',', 'yet', 'the', 'men', 'in', 'boiler', 'room', 'are', 'akin', 'to', 'poseurs', 'presuming', 'to', 'be', 'big', 'shots', 'rather', 'than', 'the', 'slippery-smooth', ',', 'heartless', 'gordon', 'gecko', 'figures', 'of', 'wall', 'street', '.', 'boiler', 'room', 'is', 'a', 'message', 'movie', 'as', 'well', ',', 'though', '(', 'at', 'least', 'until', 'the', 'end', ')', \"doesn't\", 'shove', 'it', 'in', 'our', 'faces', '.', 'boiler', 'room', 'is', 'about', 'the', 'pursuit', 'of', 'cash', 'and', 'the', 'degrees', 'to', 'which', 'people', 'will', 'go', 'for', 'that', 'cash', '.', 'as', 'i', 'said', ',', 'this', 'film', 'is', 'indeed', 'timely', 'in', 'a', 'society', 'where', 'who', 'wants', 'to', 'be', 'a', 'millionaire', 'is', 'the', 'number', 'one', 'prime', 'time', 'show', 'every', 'day', '(', 'bringing', 'about', 'a', 'revolution', 'of', 'prime', 'time', 'tv', 'watching', 'that', \"hasn't\", 'been', 'seen', 'in', 'quite', 'a', 'while', ')', ';', 'not', 'only', 'do', 'we', 'want', 'to', 'be', 'millionaires', ',', 'we', 'want', 'to', 'watch', 'other', 'people', 'become', 'millionaires', '!', 'in', 'our', 'super-judgmental', ',', 'power-oriented', 'culture', 'the', 'desire', 'for', 'money', 'supersedes', 'everything', ';', 'when', 'you', 'have', 'money', ',', 'you', 'have', 'it', '\"', 'all', '\"', '.', 'and', 'seth', '(', 'giovanni', 'ribisi', ')', 'wants', 'it', '\"', 'all', '\"', 'the', 'easy', 'way', '.', \"he's\", 'a', 'well-intentioned', 'college', 'drop', 'out', 'who', 'gets', 'lured', 'into', 'working', 'for', 'an', 'illegally', 'run', 'brokerage', 'firm', '(', 'the', 'kind', 'that', 'sells', 'junk', 'stock', ')', 'whereupon', 'he', 'meets', 'others', 'just', 'like', 'him', '.', 'ben', 'affleck', 'is', 'cast', 'as', 'jim', ',', 'the', 'company', 'headhunter', ',', 'who', 'struts', 'in', 'commanding', 'the', 'room', 'like', 'a', 'frat', 'boy', 'gordon', 'gecko', '.', 'his', 'job', 'is', 'to', 'influence', \"trainee's\", 'into', 'becoming', 'enthusiastic', 'employees', 'by', 'giving', 'a', 'speech', 'that', 'subtly', 'attacks', 'their', 'man', 'hood', '.', \"it's\", 'ironic', 'that', 'he', 'sells', 'these', 'pups', 'the', 'same', 'load', 'of', 'b', '.', 's', 'that', \"they're\", 'told', 'to', 'dish', 'out', 'to', 'prospective', 'buyers', '.', \"affleck's\", 'character', 'is', 'obviously', 'supposed', 'to', 'recall', 'alec', \"baldwin's\", 'similar', 'character', 'in', 'glengary', 'glen', 'ross', ',', 'and', 'that', 'proves', 'detrimental', 'to', 'the', \"actor's\", 'performance', '.', 'affleck', 'shouts', ',', 'curses', 'and', 'be-littles', 'his', 'rookie', 'employees', 'just', 'like', 'baldwin', ',', 'minus', 'the', 'edge', '.', 'when', 'alec', 'played', 'the', 'scene', 'he', 'became', 'the', 'part', ',', 'spewing', 'those', 'brutal', 'lines', 'as', 'if', 'they', 'were', 'his', 'own', '.', 'by', 'comparison', 'affleck', 'simply', 'looks', 'as', 'if', 'he', 'were', 'doing', 'a', 'really', 'hammy', 'line', 'reading', '.', 'the', 'brokers', 'approach', 'their', 'job', 'with', 'the', 'fervor', 'of', 'overzealous', 'jocks', ':', 'they', 'storm', 'to', 'work', 'like', 'football', 'players', 'on', 'the', 'way', 'to', 'the', 'big', 'game', '.', 'rap', 'music', 'thumps', 'on', 'the', 'soundtrack', 'effectively', 'illustrating', 'who', 'these', 'guys', 'think', 'they', 'are', ':', 'intellectual', 'gangsters', '.', 'they', \"aren't\", 'above', 'a', 'rumble', 'as', 'a', 'test', 'of', 'man', 'hood', 'especially', 'during', 'leisure', 'time', 'where', 'the', 'lumbering', 'scott', 'caan', 'seems', 'all', 'too', 'eager', 'to', 'use', 'his', 'fists', 'in', 'minor', 'disputes', '.', 'we', 'drink', 'up', 'this', 'world', 'along', 'with', 'seth', ',', 'and', 'watch', 'him', 'become', 'seduced', 'by', 'it', ',', 'just', 'like', 'we', 'might', 'be', '.', 'as', 'in', 'all', 'cautionary', 'tales', ',', 'boiler', 'room', 'begins', 'with', 'seducing', 'us', 'into', 'its', 'illustrious', 'world', 'of', 'profit', 'and', 'wrongdoing', ',', 'then', 'smacks', 'us', 'with', 'the', 'consequences', 'of', 'all', 'the', 'recklessness', '.', 'i', 'know', 'this', 'story', '.', 'we', 'all', 'do', '.', 'but', 'it', 'can', 'work', 'if', \"it's\", 'told', 'with', 'intelligence', 'and', 'energy', ',', 'and', 'that', 'is', 'how', 'writer', '\\\\', 'director', 'ben', 'younger', 'tells', 'it', '.', 'as', 'a', 'director', 'of', '(', 'please', 'excuse', 'my', 'french', ')', 'mise-en-scene', 'younger', 'has', 'much', 'to', 'learn', '.', 'his', 'style', 'is', 'sitcom', 'bland', '.', 'but', 'his', 'writing', \"isn't\", '.', \"younger's\", 'script', 'is', 'well', 'studied', 'in', 'the', 'vernacular', 'of', 'this', 'bunch', ';', 'his', 'dialogue', 'is', 'like', 'a', 'junior', 'david', 'mamet', '.', 'despite', 'the', 'moderate', 'camera', 'work', 'younger', 'fills', 'his', 'phone-pitch', 'scenes', 'with', 'tension', 'that', 'comes', 'from', 'just', 'the', 'performances', 'and', 'the', 'tightly', 'wound', 'script', '.', 'the', 'brokers', '\\\\', 'hucksters', 'counter', 'every', 'customer', 'objection', ',', 'gently', 'bullying', 'them', 'into', 'buying', 'stock', '.', 'these', 'moments', 'are', 'filmed', 'like', 'psychological', 'action', 'scenes', ':', 'a', 'tense', 'confrontation', 'between', 'a', 'victimizer', 'and', 'a', 'victim', 'who', \"isn't\", 'aware', 'that', 'he', 'is', 'one', '.', 'with', 'the', 'exception', 'of', \"affleck's\", 'brief', 'appearances', ',', 'the', 'performances', 'are', 'truly', 'exceptional', '.', 'ribisi', ',', 'who', 'has', 'the', 'edgy', 'looks', 'of', 'a', 'character', 'actor', ',', 'is', 'extremely', 'potent', 'here', ',', 'working', 'his', 'pale', 'angular', 'face', ',', 'and', 'eerie', ',', 'plaintive', 'stare', 'for', 'all', 'their', 'worth', '.', 'he', 'conveys', 'child-like', 'vulnerability', '(', 'his', 'character', 'seems', 'to', 'hide', 'in', 'a', 'corner', 'whenever', 'things', \"aren't\", 'going', 'his', 'way', ')', 'in', 'some', 'scenes', ',', 'and', 'in', 'others', \"he's\", 'ferociously', 'cut', 'throat', '.', 'the', 'jekyll', 'and', 'hyde', 'contradiction', 'works', 'well', 'in', 'the', 'movie', ':', 'ribisi', 'is', 'confident', 'when', \"it's\", 'just', 'him', 'and', 'the', 'phone', ',', 'but', 'cowardly', 'in', 'front', 'of', 'authority', 'figures', 'including', 'his', 'abrasive', 'father', '(', 'authoritatively', 'played', 'by', 'ron', 'rifkin', ')', '.', 'boiler', 'room', 'thankfully', 'avoids', 'wall', 'street-like', 'histrionics', 'in', 'the', 'sales-pitch', 'sequences', ';', 'the', 'sales', 'build', 'slowly', 'like', 'a', 'crescendo', 'of', 'intelligent', 'psychological', 'ploys', '.', 'those', 'ploys', 'are', 'taught', 'to', 'seth', 'by', 'chris', '(', 'vin', 'diesel', ')', ',', 'a', 'kind', 'broker', 'who', 'alternates', 'between', \"seth's\", 'friend', 'and', 'his', 'mentor', '.', 'diesl', 'shines', 'in', 'his', 'minor', 'role', '.', 'this', 'week', 'i', 'saw', 'the', 'sci-fi', 'opus', 'pitch', 'black', 'in', 'which', 'diesel', 'plays', 'a', 'completely', 'different', 'role', 'in', 'an', 'equally', 'effective', 'manner', '.', 'in', 'that', 'film', 'he', 'has', 'the', 'kind', 'of', 'role', 'that', 'might', 'have', 'gone', 'to', 'arnold', 'schwarzenegger', 'in', 'the', \"80's\", ',', 'and', 'in', 'boiler', 'room', 'he', 'has', 'the', 'kind', 'of', 'role', 'that', 'might', 'have', 'gone', 'to', 'elliot', 'gould', 'in', 'the', \"70's\", '.', 'nicky', 'katt', 'is', 'also', 'memorable', 'as', 'a', 'superior', 'broker', 'obsessed', 'with', 'what', 'he', \"can't\", 'have', '.', 'nia', 'long', ',', 'as', 'the', \"firm's\", 'secretary', ',', '(', 'a', 'lone', 'black', 'women', 'amongst', 'many', 'white', 'men', ')', 'is', \"ribisi's\", 'love', 'interest', 'in', 'a', 'part', 'that', 'at', 'first', 'looks', 'to', 'be', 'as', 'insignificant', 'as', 'most', 'of', 'the', 'parts', 'this', 'talented', 'actress', 'gets', ',', 'but', 'develops', 'into', 'something', 'more', 'interesting', '.', 'the', 'two', 'make', 'an', 'oddly', 'likeable', 'couple', '.', 'long', 'is', 'smart', 'and', 'brash', ',', 'and', 'ribisi', 'is', 'charmingly', 'aloof', '.', 'at', 'one', 'point', 'he', 'says', 'to', 'her', '\"', \"i'm\", 'just', \"lookin'\", 'for', 'some', 'chocolate', 'love', '\"', '.', \"it's\", 'a', 'terrible', 'line', 'but', 'ribisi', 'delivers', 'it', 'in', 'such', 'an', 'innocuous', 'child-like', 'way', ',', 'it', 'becomes', 'sweetly', 'endearing', '.', 'unfortunately', ',', 'towards', 'the', 'end', ',', 'the', 'boiler', 'room', 'turns', 'a', 'tad', 'schmaltzy', '.', 'there', 'is', 'much', 'crying', ',', 'hugging', ',', 'and', 'sorrowful', 'stares', '.', 'this', 'is', 'okay', 'when', 'taken', 'in', 'small', 'doses', ',', 'but', \"younger's\", 'conclusion', 'is', 'constructed', 'as', 'a', 'series', 'of', 'these', 'boo-hoo', 'moments', ',', 'one', 'following', 'the', 'other', '.', 'a', 'particular', 'misstep', 'is', 'his', 'attempt', 'to', 'show', 'the', 'effect', 'that', \"seth's\", 'manipulations', 'have', 'on', 'one', 'of', 'his', 'poor', 'victims', '.', \"it's\", 'not', 'a', 'bad', 'idea', 'but', 'the', 'execution', 'is', 'lacking', ',', 'with', 'those', 'scenes', 'feeling', 'tacked', 'on', 'to', 'further', 'spell', 'out', 'the', 'message', '.', 'that', 'message', 'being', ',', '\"', 'greed', 'is', 'bad', '\"', '.', 'yes', \"it's\", 'patently', 'obvious', ',', 'but', 'boiler', 'room', 'conveys', 'it', 'by', 'introducing', 'us', 'to', 'a', 'culture', 'that', 'i', \"haven't\", 'seen', 'much', 'of', 'in', 'the', 'movies', ':', 'the', 'disenfranchised', 'twenty', 'something', 'entrepreneur', '.', 'and', 'all', 'wall', 'street', 'did', 'was', 'introduce', 'us', 'to', 'a', 'simplistic', 'fantasy', 'world', 'of', 'saints', 'and', 'sinners', '.', 'boiler', 'room', 'offers', 'neither', 'extreme', '.', 'it', 'gives', 'us', 'what', 'is', 'in', 'between', ',', 'and', 'for', 'that', 'i', 'am', 'thankful', '.'], ['cinematically', 'speaking', ',', 'gordon', \"parks'\", 'original', '1971', '_shaft_', 'is', 'not', 'a', 'great', 'film', '.', 'a', 'bit', 'slow', 'at', 'times', 'and', 'more', 'than', 'a', 'little', 'rough', 'around', 'the', 'edges', 'as', 'it', 'builds', 'to', 'its', 'climactic', 'explosion', 'of', 'violent', 'action', ',', 'this', 'spirited', 'but', 'formulaic', 'yarn', 'that', 'initially', 'brought', 'ernest', \"tidyman's\", '\"', 'black', 'private', 'dick', \"that's\", 'a', 'sex', 'machine', 'to', 'all', 'the', 'chicks', '\"', 'to', 'the', 'big', 'screen', 'hardly', 'qualifies', 'as', 'groundbreaking', 'filmmaking', '.', 'yet', 'nearly', '30', 'years', 'after', 'its', 'original', 'release--and', 'long', 'after', 'the', 'genre', 'it', 'spawned', ',', '\"', 'blaxploitation', ',', '\"', 'died', 'with', 'that', 'decade--the', '1971', '_shaft_', 'remains', 'an', 'extremely', 'entertaining', 'watch', ',', 'never', 'having', 'completely', 'escaped', 'pop', 'culture', 'consciousness', '.', 'the', 'reason', 'for', 'this', 'is', 'the', 'same', 'one', 'that', 'explains', 'the', \"film's\", 'connection', 'with', 'moviegoers', 'far', 'beyond', 'the', 'target', 'african-american', 'audience', ':', 'the', 'title', 'character', 'of', 'john', 'shaft', '.', 'while', 'the', 'fact', 'that', 'the', 'strong', ',', 'smart', ',', 'virile', ',', 'and', 'superbly', 'suave', 'shaft', 'is', 'black', 'is', 'the', 'primary', 'factor', 'for', 'his', 'historical', 'and', 'cultural', 'significance', ',', 'his', 'broad-based', 'appeal', 'stems', 'from', 'an', 'idea', 'that', 'transcends', 'race', ':', 'he', 'is', 'comfortable', ',', 'confident', ',', 'and', 'proud', 'about', 'who', 'he', 'is', ',', 'and', 'anyone', 'who', 'had', 'a', 'problem', 'with', 'that', 'could', 'simply', 'kiss', 'his', 'ass', '.', 'this', 'fact', 'also', 'explains', 'why', 'john', \"singleton's\", 'y2g', 'revival', 'of', 'john', 'shaft', 'is', 'as', 'enjoyable', 'as', 'it', 'is', '.', 'much', 'like', 'the', 'film', 'that', 'started', 'the', 'franchise', ',', 'this', \"_shaft_'s\", 'plot', \"doesn't\", 'score', 'points', 'in', 'the', 'originality', 'department', ',', 'but', 'the', 'energy', 'level', 'and', 'smooth', 'attitude', 'distinguishes', 'it', 'from', 'standard', 'crime', 'thrillers', '.', 'contrary', 'to', 'what', 'has', 'been', 'reported', 'over', 'the', 'past', 'few', 'months', ',', 'this', '_shaft_', 'is', 'not', 'a', 'remake', 'of', 'the', 'original', 'film', ',', 'but', 'more', 'of', 'a', 'sequel/spinoff', '.', 'the', 'star', 'audiences', 'know', 'and', 'love', 'from', 'the', 'original', 'film', 'and', 'its', 'first', 'two', 'sequels', '(', \"1972's\", \"_shaft's_big_score\", '!', '_', 'and', \"1973's\", '_shaft_in_africa_', ')', ',', 'richard', 'roundtree', ',', 'once', 'again', 'plays', 'john', 'shaft', ',', 'who', 'still', 'runs', 'a', 'private', 'investigation', 'firm', 'in', 'new', 'york', 'city', '.', 'however', ',', 'the', 'focus', 'of', 'the', 'film', 'lies', 'on', 'his', 'same-named', 'nephew', '(', 'samuel', 'l', '.', 'jackson', ')', ',', 'who', ',', 'as', 'the', 'film', 'begins', ',', 'is', 'a', 'cop', 'whose', 'take-no-crap', 'demeanor', 'constantly', 'leaves', 'him', 'at', 'odds', 'with', 'his', 'superiors', '.', 'when', 'a', 'privileged', 'young', 'man', 'named', 'walter', 'wade', 'jr', '.', '(', 'christian', 'bale', ')', 'accused', 'of', 'a', 'brutal', ',', 'racially-motivated', 'murder', 'is', 'allowed', 'to', 'be', 'released', 'on', 'bail', ',', 'a', 'disgusted', 'shaft', 'leaves', 'the', 'force', 'and', 'decides', 'to', 'take', 'matters', 'into', 'his', 'own', 'hands', 'as', 'a', 'p', '.', 'i', '.', 'but', \"that's\", 'easier', 'said', 'than', 'done', ',', 'for', 'also', 'standing', 'in', 'the', 'way', 'of', 'shaft', 'and', 'his', 'way', 'of', 'justice', 'is', 'peoples', 'hernandez', '(', 'jeffrey', 'wright', ')', ',', 'a', 'dominican', 'gangster', 'who', 'is', 'hired', 'by', 'walter', 'to', 'rub', 'out', 'waitress', 'diane', 'palmieri', '(', 'toni', 'collette', ')', ',', 'the', 'only', 'eyewitness', 'to', 'his', 'crime', '.', 'peoples--or', ',', 'rather', ',', 'wright', 'is', 'also', 'the', 'big', 'obstacle', 'in', \"jackson's\", 'way', 'toward', 'commanding', 'this', 'film', '.', 'peoples', 'is', 'more', 'of', 'an', 'outrageous', 'comic', 'character', 'for', 'most', 'of', 'the', 'running', 'time', ',', 'and', 'wright', 'is', 'insanely', 'funny', 'during', 'these', 'stages', '.', 'however', ',', 'he', \"isn't\", 'so', 'funny', 'as', 'to', 'make', 'the', 'character', 'come', 'off', 'as', 'goofy', 'and', 'buffoonish', ',', 'and', \"peoples'\", 'eventual', 'turn', 'to', 'more', 'serious', 'villainy', 'is', 'seamless', 'and', 'believable', '(', 'which', 'probably', 'would', 'not', 'have', 'been', 'the', 'case', 'had', 'he', 'been', 'played', 'by', 'original', 'casting', 'choice', 'john', 'leguizamo', ',', 'who', 'bowed', 'out', 'before', 'filming', ')', '.', \"it's\", 'no', 'easy', 'task', 'to', 'steal', 'a', 'film', 'from', 'the', 'jackson', '(', 'who', 'is', 'his', 'usual', 'captivating', ',', 'charismatic', 'self', 'here', ')', ',', 'but', \"that's\", 'exactly', 'what', 'wright', 'does--and', 'makes', 'it', 'seem', 'effortless', '.', 'then', 'again', ',', 'with', 'such', 'a', 'talented', 'ensemble', 'surrounding', 'him', ',', 'it', 'is', 'not', 'too', 'surprising', 'that', \"jackson's\", 'impressive', 'star', 'turn', \"doesn't\", 'quite', 'tower', 'over', 'the', 'rest', ';', 'he', 'is', 'strongly', 'complemented', 'not', 'only', 'by', 'wright', 'but', 'all', 'his', 'other', 'co-stars', '.', 'bale', 'has', 'already', 'proven', 'his', 'ability', 'to', 'play', 'an', 'uppity', 'killer', 'in', '_american_psycho_', ',', 'so', 'it', 'only', 'follows', 'that', 'his', 'performance', 'as', 'a', 'similar', ',', 'less', 'exaggerated', 'character', 'would', 'be', 'spot-on', '.', 'collette', 'lends', 'the', 'film', 'some', 'convincing', 'and', 'welcome', 'dramatic', 'weight', 'as', 'the', 'frightened', ',', 'conflicted', 'diane', '.', 'busta', 'rhymes', 'brings', 'some', 'good', 'laughs', 'as', \"shaft's\", 'sidekick', 'rasaan', '.', 'registering', 'not', 'as', 'strongly--but', 'through', 'no', 'fault', 'of', 'their', 'own--are', 'vanessa', 'williams', '(', 'as', 'tough', 'narcotics', 'cop', 'carmen', 'vasquez', ')', 'and', 'a', 'dismayingly', 'underused', 'roundtree', ';', 'they', 'simply', 'are', 'given', 'little', 'to', 'do', 'in', 'the', 'script', 'credited', 'to', 'richard', 'price', ',', 'singleton', ',', 'and', 'shane', 'salerno', '.', '(', 'jackson', 'also', 'has', 'little', 'to', '\"', 'do', '\"', 'in', 'a', 'sense', ';', 'some', 'throwaway', 'footage', 'during', 'the', 'opening', 'credits', 'aside', ',', 'his', 'shaft', \"doesn't\", 'even', 'have', 'one', 'sex', 'scene', '.', ')', 'that', 'singleton', 'once', 'again', 'proves', 'his', 'ability', 'with', 'actors', 'is', 'an', 'especially', 'good', 'thing', 'since', \"he's\", 'not', 'really', 'an', 'action', 'director', '.', 'this', 'is', 'not', 'to', 'say', 'that', 'he', 'does', 'a', 'bad', 'job', 'with', 'the', 'numerous', 'gunfights', 'and', 'the', 'requisite', 'foot', 'and', 'car', 'chases', '.', 'they', 'move', 'well', '(', 'as', 'does', 'the', 'film', 'as', 'a', 'whole', ')', 'and', 'are', 'reasonably', 'exciting', ';', \"it's\", 'just', 'that', \"there's\", 'nothing', 'terribly', 'inventive', 'about', 'them', '.', 'these', 'set', 'pieces', 'are', 'functional', 'in', 'the', 'way', 'the', 'script', 'is', ':', 'they', 'work', 'well', 'enough', ',', 'but', \"they're\", 'unsurprising', 'and', 'conventional', '.', 'but', 'if', \"there's\", 'anything', 'that', 'a', '_shaft_', 'movie', 'does', 'well', ',', \"it's\", 'make', 'the', 'familiar', 'look', 'cool--and', 'this', '_shaft_', 'keeps', 'that', 'tradition', 'alive', '.', 'from', 'the', 'slick', 'title', 'sequence--scored', ',', 'of', 'course', ',', 'to', 'isaac', \"hayes'\", 'ever-infectious', 'oscar-winning', 'theme', 'song', ',', 'which', 'singleton', 'wisely', 'sprinkles', 'throughout', 'the', 'film--on', ',', 'the', 'film', 'looks', 'great', 'and', 'easily', 'sweeps', 'the', 'viewer', 'into', 'its', 'world', 'with', 'its', 'energetic', 'bravado', '.', 'even', 'a', 'common', 'visual', 'trick', 'such', 'as', 'employing', 'fancy', 'wipes', 'for', 'scene', 'transitions', 'not', 'only', 'feels', 'unforced', ',', 'it', 'feels', 'necessary', '.', 'style', \"doesn't\", 'exactly', 'make', 'for', 'a', 'great', 'film', ',', 'but', 'when', 'it', 'comes', 'to', '_shaft_', ',', \"that's\", 'of', 'little', 'consequence', '.', 'what', 'matters', 'above', 'all', 'else', 'is', 'having', 'a', 'good', 'time', ',', 'and', 'the', 'latest', '_shaft_', 'should', 'be', 'just', 'the', 'first', 'of', 'many', 'fun', 'rides', 'to', 'be', 'had', 'with', 'this', 'bad', 'mutha--shut', 'your', 'mouth', '.'], ['the', 'most', 'amazing', 'thing', 'about', 'paul', \"cox's\", 'innocence', 'is', 'how', 'unlike', 'a', 'movie', 'it', 'is', '.', 'i', 'mean', 'that', 'as', 'the', 'highest', 'compliment', '.', 'if', 'most', 'studios', 'were', 'to', 'profile', 'an', 'elderly', 'couple', 'who', 'rekindle', 'a', '40-year-old', 'romance', ',', \"i'd\", 'want', 'to', 'run', 'and', 'hide', '.', 'the', 'sex', 'scenes', 'would', 'be', 'handled', 'as', 'a', 'farce', ',', 'producers', 'would', 'shed', '20', 'years', 'off', 'the', \"characters'\", 'ages', '(', 'so', 'susan', 'sarandon', 'and', 'harrison', 'ford', 'could', 'star', ')', 'and', 'true', 'love', 'would', 'shine', 'through', 'any', 'obstacle', 'without', 'explanation', 'and', 'consequence', '.', 'along', 'with', 'a', 'charming', 'romantic', 'story', ',', 'the', 'australian/belgian', 'innocence', 'shows', 'how', 'an', 'increasing', 'sense', 'of', 'mortality', 'combined', 'with', 'revisiting', 'the', 'past', 'while', 'being', 'entrenched', 'in', 'the', 'present', 'can', 'make', 'something', 'that', 'seems', 'so', 'right', 'seem', 'downright', 'questionable', '.', 'the', 'romance', 'gets', 'started', 'when', 'former', 'musician', 'andreas', '(', 'charles', '\"', 'bud', '\"', 'tingwell', ')', ',', 'learns', 'that', 'his', 'true', 'love', ',', 'claire', '(', 'julia', 'blake', ')', ',', 'lives', 'nearby', '.', 'they', 'decide', 'to', 'catch', 'up', 'on', 'old', 'times', ',', 'but', 'soon', 'find', 'themselves', 'in', 'a', 'reinvigorating', 'affair', '.', 'complicating', 'matters', 'is', \"andreas'\", 'frail', 'health', ',', 'and', \"claire's\", 'longtime', 'husband', '(', 'terry', 'norris', ')', ',', 'who', \"can't\", 'understand', 'why', \"he's\", 'suddenly', 'become', 'obsolete', '.', 'in', 'my', 'mind', ',', 'the', 'movie', 'is', 'less', 'about', 'the', 'relationship', 'between', 'andreas', 'and', 'claire', ',', 'than', 'the', 'feelings', 'of', 'everyone', 'involved', '.', 'john', ',', \"claire's\", 'husband', ',', 'endlessly', 'questions', 'what', 'he', 'did', 'wrong', '.', 'claire', 'initially', 'insists', \"she's\", 'a', 'grown-up', ',', 'but', 'admittedly', 'behaves', 'like', 'a', 'child', ',', 'a', 'prospect', 'that', 'thrills', 'and', 'disappoints', 'her', '.', 'andreas', ',', 'an', 'agnostic', ',', 'begins', 'to', 'question', 'his', 'fate', ',', 'a', 'message', 'cox', 'delivers', 'in', 'a', 'memorable', 'dream', 'sequence', '.', 'cox', 'litters', 'the', 'movie', 'with', 'flashbacks', ',', 'including', 'the', 'repeated', 'vision', 'of', 'a', 'roaring', 'train', '.', \"it's\", 'a', 'reminder', 'of', 'andreas', 'and', \"claire's\", 'past', 'love', '(', 'as', 'young', 'lovers', ',', 'they', 'met', 'by', 'train', ')', ',', 'but', 'as', 'it', 'recurs', ',', 'we', 'get', 'the', 'feeling', 'that', 'the', 'past', 'and', 'the', 'present', 'have', 'clashed', '.', 'a', 'pall', 'is', 'cast', 'on', 'the', 'whole', 'affair', '.', 'a', 'master', 'of', 'the', 'understated', ',', 'cox', 'strings', 'together', 'a', 'series', 'of', 'memorable', 'moments', '.', 'in', \"andreas'\", 'dream', 'sequence', ',', 'amidst', 'the', 'roar', 'of', 'the', 'train', 'and', 'conversations', ',', 'we', 'get', 'the', 'whole', 'picture', 'of', 'andreas', 'and', \"claire's\", 'love', '.', 'we', 'also', 'get', 'glimpses', 'into', 'john', 'and', \"claire's\", 'relationship', '.', 'during', 'a', 'silent', 'candlelit', 'dinner', 'shortly', 'afterward', ',', 'claire', 'admits', 'to', 'john', 'about', 'her', 'indiscretion', ',', 'telling', 'more', 'than', 'any', 'monologue', 'could', '.', 'all', \"that's\", 'heard', 'is', 'the', 'scraping', 'of', 'forks', 'against', 'plates', '.', 'the', 'characters', 'are', 'unlike', 'anything', \"i've\", 'seen', '--', \"they're\", 'people', '.', 'so', 'many', 'times', ',', 'movies', 'and', 'especially', 'television', 'portray', 'senior', 'citizens', 'as', 'gratingly', 'spunky', '.', 'or', \"they're\", 'reduced', 'to', 'comedic', 'buffoons', '.', 'ordinary', 'people', 'with', 'a', 'pile', 'of', 'emotions', ',', 'claire', 'and', 'andreas', \"aren't\", 'sure', 'what', 'the', 'next', 'step', 'is', '.', 'they', 'do', 'want', 'to', 'be', 'happy', ',', 'which', 'consists', 'of', 'an', 'entirely', 'different', 'set', 'of', 'conditions', 'than', 'what', \"they've\", 'known', 'throughout', 'their', 'adult', 'lives', '.', 'bravo', 'to', 'cox', ',', 'who', 'wrote', 'the', 'script', ',', 'for', 'not', 'making', 'john', 'a', 'monster', ',', 'so', 'that', \"claire's\", 'affair', 'is', 'automatically', 'justified', '.', 'norris', 'is', 'so', 'effective', 'as', 'john', 'that', 'he', 'makes', 'andreas', 'and', \"claire's\", 'love', 'difficult', 'to', 'accept', '.', 'we', 'feel', 'for', 'him', '.', \"he's\", 'a', 'decent', 'man', '.', 'sure', ',', 'he', 'may', 'have', 'become', 'complacent', ',', 'but', 'he', 'never', 'expected', 'this', ',', 'especially', 'now', '.', 'with', 'so', 'much', 'presented', 'to', 'the', 'audience', ',', \"it's\", 'only', 'expected', 'that', 'the', 'material', 'gets', 'a', 'little', 'drawn', 'out', 'and', 'repetitive', ',', 'which', 'it', 'does', '.', 'however', ',', 'in', 'bringing', 'up', 'tough', 'questions', 'and', 'not', 'offering', 'easy', 'answers', ',', 'cox', 'displays', 'a', 'skill', 'and', '?', 'lan', \"isn't\", 'likely', 'to', 'be', 'surpassed', 'by', 'anyone', 'anytime', 'soon', '.']]\n",
            "[['vampire', 'lore', 'legend', 'popular', 'fantasy', 'element', 'substantiated', 'sheer', 'number', 'subject', 'proliferation', 'cults', 'sects', 'adherents', 'unlike', 'outlandish', 'myths', 'vampire', 'holds', 'real-world', 'probability', 'study', 'claims', '1', '000', 'bloodsuckers', 'exist', 'worldwide', 'places', '50', 'los', 'angeles', 'nasties', 'mistaken', 'simple', 'comic', 'book', 'guys', 'john', 'carpenter', 'remind', 'frightening', 'element', 'thriller', 'genre', 'remind', 'latest', 'vampires', 'question', 'halloween', 'weekend', 'approached', 'vampires', 'comparison', 'line', \"cinema's\", 'immensely', 'successful', 'blade', 'released', 'august', 'noticeably', 'stands', 'vampire', 'issue', 'agree', 'basic', 'points', 'slaying', 'method', 'instance', \"blade's\", 'main', 'weapons', 'silver', 'garlic', 'main', 'jack', \"crow's\", 'technique', 'wooden', 'stake', 'heart', 'blade', 'face', 'vampire', 'civilization', 'carpenter', 'remain', 'dark', 'pasties', 'operate', 'advantages', \"carpenter's\", 'style', 'lends', 'darker', 'breed', 'suspense', 'action', 'blade', 'director', 'stephen', 'norrington', 'delievered', 'vampires', 'kill', 'die', 'bloody', 'flourish', 'level', 'gore', 'set', 'maximum', 'hero', 'vatican-sponsored', 'slayer', 'jack', 'crow', 'james', 'woods', 'cynical', 'battle-worn', 'veteran', 'bunch', 'team', 'responsible', 'cleaning', 'american', 'southwest', 'exterminating', 'nest', 'night', 'run', 'super-vampire', 'termed', 'master', 'named', 'valek', 'thomas', 'ian', 'griffith', 'valek', 'kills', \"jack's\", 'team', 'partner', 'tony', 'montoya', 'daniel', 'baldwin', 'regroup', 'learn', 'valek', 'original', 'vampire', 'hundred', 'years', 'apparently', 'valek', 'minions', 'sweeping', 'southwest', 'decades', 'search', 'cross', 'enable', 'walk', 'daytime', 'aid', 'priest', 'named', 'adam', 'tim', 'guinee', 'bitten', 'hooker', 'sheryl', 'lee', 'bait', 'track', 'valek', 'final', 'confrontation', 'script', 'vampires', 'written', 'don', 'jakoby', 'based', 'john', 'steakley', 'wittiest', 'piece', 'screenplay', 'production', 'year', 'crow', 'fun', 'source', 'one-liners', 'woods', 'perfect', 'stoicism', 'baldwin', 'lee', 'guinee', 'fine', 'supports', 'adding', 'pool', 'true', 'highlight', 'thomas', 'ian', \"griffith's\", \"griffith's\", 'intense', 'expression', 'perfect', 'role', 'downside', 'talk', 'luckily', 'lines', 'manages', 'pull', 'thrilling', 'performance', 'fans', 'surely', 'impressed', 'picture', 'found', 'apt', 'pupil', 'bit', 'limp', 'excited', 'worthwhile', 'visit', 'theaters'], ['capsule', 'suprisingly', 'comedy', 'straight', 'action', 'flick', \"isn't\", 'necessarily', 'thing', 'oscar', 'caliber', 'helluva', 'bullet-riddled', 'extended', 'review', 'remember', 'hitmen', 'evil', 'murderous', 'scum', 'alas', 'times', \"a-changin'\", 'recent', 'string', 'hitmen', 'suddenly', 'wise-', 'cracking', 'fun-loving', 'killers-with-hearts', 'brings', 'hong', 'kong', 'director', 'kirk', \"wong's\", 'american', 'feature', 'big', 'hit', 'oddly', 'year', 'similar', 'grosse', 'point', 'blank', 'released', 'advertised', 'quirky', 'comedy', 'hints', 'action', 'turned', 'suprising', 'dosage', 'big', 'hit', 'opposite', 'hyped', 'producer', 'john', 'woo', 'expect', 'lots', 'stylized', 'killing', 'action', \"there's\", 'sore', 'lack', 'thing', 'wrong', 'big', 'hit', 'starts', 'mel', 'smiley', 'cohorts', 'job', 'white', 'slaver', 'mel', 'played', 'mark', 'wahlberg', 'dopey', 'milquetoast', 'role', 'killing', 'machine', 'flips', 'spins', 'breakdances', 'whilst', 'popping', 'caps', 'sadly', 'chance', 'beginning', 'set', 'piece', '20', 'twenty', 'minutes', 'comedy', 'mode', 'action', 'prime', 'cut', 'stuff', 'wong', 'numerous', 'hong', 'kong', 'features', 'makes', 'nice', 'debut', 'pacing', 'bit', 'action', 'sequences', 'bookending', 'lasting', 'long', 'start', 'electrifying', 'fresh', 'kinda', 'stop', 'hamper', 'point', 'unenjoyable', 'luckily', 'ben', \"ramsey's\", 'screenplay', 'bitingly', 'funny', 'piece', 'work', 'problem', 'humor', 'joke', 'makes', 'laugh', 'hard', 'miss', 'gags', 'include', 'oriental', 'maker', 'luck', \"mel's\", 'hitmen', 'pals', 'discovered', 'onanism', 'problem', 'minor', 'handled', 'laugh', 'works', 'big', 'hit', 'flaws', 'makes', 'stylishly', 'directed', 'gut-wrenchingly', 'funny', 'joyride', 'definately', 'ways', 'spend', 'hours'], ['mike', 'mike', 'badly', 'embarrassingly', 'broke', 'six-year', 'relationship', 'months', 'ago', 'move', 'result', 'jokes', 'fall', 'flat', 'impress', 'comedian', 'unemployed', 'comedian', \"hollywood's\", 'fish', 'asked', 'application', \"starbuck's\", \"starbuck's\", 'thing', 'worse', 'worse', \"won't\", 'fail', 'mike', 'played', 'endearingly', 'jon', 'favreau', 'swingers', 'revolves', \"mike's\", 'half-hearted', 'awkward', 'efforts', 'back', 'social', 'swing', 'things', 'end', 'enthusiastically', 'assisted', 'equally', 'underachieving', 'twentysomething', 'actor', 'friends', 'trent', 'vince', 'vaughn', \"film's\", 'animated', 'performance', 'gift', 'gab', 'bordering', 'disturbing', 'side', 'motivational', 'speaking', 'gun-toting', 'sue', 'patrick', 'van', 'horn', 'rob', 'ron', 'livingston', 'played', 'hamlet', 'longs', 'work', 'goofy', 'disneyland', 'succeed', 'lack', 'theme', 'park', 'experience', 'talk', 'women', 'eye', 'contact', 'involves', 'avoiding', 'call', 'desperate', 'days', 'industry', 'standard', 'talking', 'talk', 'walk', 'walk', 'strutting', 'cool', 'swingers', 'aspire', 'laughable', 'effect', 'mike', 'funk', 'friends', 'persistently', 'convince', 'quickie', 'night', 'trip', 'seedy', 'vegas', 'casino', 'cutthroat', 'hollywood', 'party', 'beautiful', '50s', 'swing', 'lounge', 'encourage', 'mike', 'replacement', 'honey', 'vigil', 'progress', 'lack', 'dotty', 'doting', 'parents', 'mike', 'leaves', 'company', 'recipient', 'confidence', 'cheerleading', \"you're\", 'money', 'mike', 'honeys', 'equipped', 'eccentric', 'dating', 'philosophies', 'analogy', 'flirting', 'bear', 'bunny', 'unwavering', 'support', 'friends', \"mike's\", 'badly', 'favreau', 'doubled', \"film's\", 'screenwriter', 'proves', 'gift', 'creating', 'engaging', 'witty', 'banter', \"today's\", 'bon', 'mot', 'reassuring', 'honesty', 'friendships', 'hits', 'low', 'points', 'friends', 'commiserate', 'mike', 'gumption', 'love', 'join', 'cheerleading', 'section', 'swingers', 'light', 'unassuming', 'fare', 'sweet', 'candy', 'bust', 'gut', 'laughing'], ['wednesday', 'march', '27', 'murder', 'investigation', 'underway', 'charlotte', 'south', 'carolina', 'crime', 'young', 'prostitute', 'elizabeth', 'renee', 'zellweger', 'brutally', 'slain', 'half', 'severed', 'body', 'found', 'bag', 'train', 'station', 'half', 'discovered', 'trunk', 'harbor', 'authority', 'miles', 'police', 'duo', 'braxton', 'chris', 'penn', 'kennesaw', 'michael', 'rooker', 'strapped', 'leads', 'moment', 'suspect', 'wayland', 'tim', 'roth', 'wealthy', 'unemployed', 'genius', 'graduated', 'summa', 'cum', 'laude', 'princeton', 'appears', 'commit', 'heinous', 'act', \"that's\", 'premise', 'deceiver', 'thriller', 'pate', 'brothers', 'jonas', 'josh', 'made', 'mark', 'years', 'ago', 'sundance', 'grave', 'deceiver', 'plays', 'mind', 'game', 'intellectually', 'superior', 'wayland', 'not-', 'so-bright', 'cops', 'captions', 'early', 'proceedings', \"wayland's\", 'iq', '151', 'contrast', \"kennesaw's\", '122', \"braxton's\", '102', 'setting', 'police', 'interrogation', 'room', 'lie', 'detector', 'test', 'administered', 'days', 'wayland', 'returns', 'answer', 'questions', 'drama', 'tension', 'gradually', 'escalates', 'inevitably', 'boils', 'elements', 'thrown', 'measure', 'wayland', 'suffers', 'peculiar', 'kind', 'epilepsy', 'stressful', 'situations', 'render', 'virtually', 'catatonic', 'extremely', 'violent', 'braxton', 'compulsive', 'gambler', 'deep', 'debt', 'local', 'syndicate', 'kennesaw', 'haunted', 'dark', 'abusive', 'side', 'delights', 'terrorizing', 'women', 'wife', 'rosanna', 'arquette', 'suspects', 'unfaithful', 'foibles', 'failings', 'brought', 'open', 'mystery', \"elizabeth's\", 'death', 'deepens', 'unclear', 'upper', 'hand', 'suspect', 'questioners', 'deceiver', 'transpires', 'dimly-lit', 'room', 'involves', 'lot', 'smart', 'dialogue', 'feel', 'david', 'mamet', 'play', 'edgy', 'claustrophobic', 'tense', 'atmosphere', 'explosive', 'pivotal', 'moments', 'confrontation', 'riveting', 'deceiver', 'power', 'grab', 'audience', 'end', 'succumbs', 'throw', 'unexpected', 'twist', 'undoing', 'surprise', 'shock', 'viewers', 'stretches', 'credulity', 'raises', 'questions', 'answers', 'effective', 'wrap-up', 'carefully', 'full', 'implications', 'plays', 'fast', 'loose', 'reality', 'logic', 'police', 'procedure', 'totally', 'impossible', 'accept', 'criminal', 'investigation', 'proceed', 'manner', 'real', 'focus', 'deceiver', 'interaction', 'details', 'deceiver', 'occasionally', 'police', 'station', 'instances', 'occur', 'primarily', 'flashbacks', 'featuring', 'prostitute', 'pates', 'employ', 'number', 'interesting', 'techniques', 'present', 'vignettes', \"elizabeth's\", 'final', 'days', 'hours', 'intriguing', 'unreliable', 'narrator', 'underlining', 'discrepancies', 'voice-over', 'visually', 'showing', 'happened', 'moments', 'effective', 'dismissed', 'gimmicks', 'fashioned', 'manner', 'classic', 'noir', 'drips', 'atmosphere', 'fascinating', 'stylistic', 'touches', 'setting', 'contemporary', 'telephones', 'old-fashioned', 'rotary', 'models', 'cinematographer', 'bill', 'butler', 'opportunity', 'unconventional', 'camera', 'work', 'liven', \"deceiver's\", 'things', 'involve', 'contrast', 'light', 'shadow', 'work', 'exceptionally', 'lazy', 'susan', 'shots', 'unnecessary', 'visual', 'tricks', 'wayland', 'tim', 'roth', \"film's\", 'top', 'performance', 'occasionally', 'treading', 'tightrope', 'acting', 'overacting', 'roth', 'makes', 'wayland', 'brilliant', 'troubled', 'supposed', 'leads', 'chris', 'penn', 'michael', 'rooker', \"aren't\", 'effective', 'play', 'familiar', 'types', \"penn's\", 'performance', 'uninspired', \"rooker's\", 'lacks', 'subtlety', 'work', 'turned', 'supporting', 'actors', 'renee', 'zellweger', 'role', \"that's\", 'miles', 'star-making', 'turn', 'jerry', 'maguire', 'brings', 'note', 'vulnerability', 'humanity', 'part', 'easily', 'caricature', 'rosanna', 'arquette', 'solid', \"kennesaw's\", 'wife', 'michael', 'parks', 'delivers', 'wonderful', 'psychiatrist', \"who's\", 'entrusted', 'evaluating', \"wayland's\", 'condition', 'things', 'deceiver', 'talks', 'audience', 'points', \"aren't\", 'hammered', 'home', 'ending', 'weaknesses', \"isn't\", 'spelled', 'bold', 'letters', 'pates', 'give', 'audience', 'members', 'credit', 'brains', 'increasingly', 'rare', 'characteristic', 'makers', 'occasionally', 'gripping', 'uninteresting', 'deceiver', 'fine', 'noir', 'effort'], ['accepting', 'oscar', 'producer', \"year's\", 'picture', 'winner', 'saul', 'zaentz', 'remarked', 'cup', 'runneth', 'much-prized', 'rarely', 'screen', 'overflowing', 'potent', 'imagery', 'symbolism', 'ideas', 'metaphors', 'complex', 'literate', 'storytelling', 'possessed', 'intelligence', 'invites', 'demands', 'constant', 'scrutiny', 'acuity', 'perception', 'observation', 'yield', 'truth', 'short', 'antithesis', 'things', 'hollywood', 'surfeit', 'signals', 'made', 'serve', 'pale', 'thinly', 'realized', 'love', 'emotional', 'impact', 'dry', 'desert', 'wind', 'ralph', 'fiennes', 'title', 'amnesiac', 'burn', 'victim', 'gradual', 'return', 'memory', 'memory', 'love', 'ostensible', 'focus', 'numerous', 'flashbacks', 'put', 'pieces', 'personal', 'puzzle', 'learn', 'man', 'feel', 'empathy', 'emotional', 'begins', 'essential', 'clue', 'remains', 'withheld', 'easily', 'juliette', \"binoche's\", 'nurse', 'close', 'emotional', 'heart', 'learn', 'early', 'scarred', 'deaths', 'close', 'understand', 'eager', 'escape', 'company', 'comrades', 'order', 'seek', 'refuge', 'convalescence', 'mysterious', 'disfigured', 'dying', 'stranger', 'information', 'imparted', 'quickly', 'cursory', 'fashion', 'verges', 'comical', 'enjoying', 'screen', \"film's\", '160', 'minutes', 'taxing', 'captivating', 'sensibility', 'camera', \"couldn't\", 'feel', 'greatness', 'air', 'hints', 'man', 'hates', 'ownership', 'desperately', 'possess', 'lover', 'ancient', 'cave', 'paintings', 'swimmers', 'copied', 'casually', 'modern-day', 'swimmer', 'sahara', 'shifting', 'sands', 'obliterate', 'completely', 'war', 'latent', 'meaning', 'supply', 'college', 'students', 'paper', 'topics', 'years', 'ultimately', 'emotional', 'truths', 'writer-director', 'anthony', 'minghella', 'grasping', 'revealed', 'end', 'left', 'impression', 'witnessed', 'oxymoron', 'haunting', 'bore', 'bore', 'strong', 'word', 'drinking', 'rich', 'production', 'values', 'cup', 'remains', 'slightly', 'half-full'], ['uncompromising', 'nudity', 'bared', 'petrice', \"chereau's\", 'intimacy', 'garnered', 'notoriety', 'naked', 'faces', 'fearless', 'actors', 'mark', 'rylance', 'angels', 'insects', 'kerry', 'fox', 'sarajevo', 'tender', 'ache', 'emotional', 'resonance', 'discovered', 'sharp', 'intelligent', 'eyes', 'reflect', 'experience', 'maturity', 'rylance', 'fox', 'refreshingly', 'detached', 'false', 'glamour', 'hollywood', 'idols', 'sex', 'bracing', 'raw', 'honesty', 'acceptance', 'flesh', 'messiness', 'apparent', 'remarkable', 'astute', 'observations', 'behavior', 'revealed', 'carnal', 'beats', 'haste', 'hesitance', 'single', 'line', 'dialogue', 'aiming', 'spiritual', 'poetry', 'realm', 'senses', 'philosophical', 'transgressions', 'crash', 'chereau', 'sexual', 'odyssey', 'firmly', 'grounded', 'terms', 'straightforward', 'development', 'reason', 'intimacy', 'unerringly', 'impressive', 'significant', 'tactile', 'sensory', 'level', 'themes', 'human', 'isolation', 'barren', 'obvious', 'science', 'project', 'devoid', 'groundbreaking', 'hypothesis', 'intimacy', 'manage', 'stand', 'lesser', 'portraits', 'human', 'interconnectedness', 'pinter-esque', 'rummages', 'psychological', 'dirty', 'drawers', 'kill', 'shallow', 'sound', 'amazing', 'filled', 'inspired', 'cast', 'perceptive', 'camerawork', 'imaginative', 'ways', 'treating', 'love', 'ingredients', 'assured', 'confident', 'dismiss', 'icing', 'cake', 'substance', 'cake', 'adapted', 'pair', 'short', 'british', 'novelist', 'hanif', 'kureishi', 'intimacy', 'weaves', 'desperate', 'lovemaking', 'strangers', 'london', 'wednesday', 'jay', 'rylance', 'claire', 'fox', 'meet', 'cluttered', 'dank', 'apartment', 'hour', 'sexual', 'release', 'uninspired', 'lives', 'head', 'bartender', 'posh', 'restaurant', 'years', \"she's\", 'mystery', 'glum', 'workaday', 'appearance', 'reveals', 'similar', 'dissatisfaction', \"they're\", 'married', 'relationship', 'curdled', 'embittered', 'separation', 'weeks', 'draw', 'jay', 'obsessively', 'takes', 'uncover', \"claire's\", 'personal', 'routines', 'attempt', 'gain', 'fuller', 'semblance', 'opens', 'wounds', \"hadn't\", 'existed', 'single-handedly', 'corrupting', 'fantasy', \"weren't\", 'unnecessary', 'subplots', 'involving', \"jay's\", 'brother', 'bevy', 'disgruntled', 'co-workers', 'minimalist', 'premise', 'modern', 'fable', 'perils', 'fulfillment', \"chareau's\", 'restless', 'camera', 'wielded', 'superb', 'ever-attentive', 'cinematographer', 'eric', 'gautier', 'family', 'transit-oriented', 'love', 'train', 'linger', 'rylance', 'fox', 'separately', 'pensively', 'attempt', 'carry', 'makeshift', 'household', 'routines', 'captured', 'lingering', 'unblinking', 'wide', 'shots', 'view', 'stranded', 'amidst', 'drab', 'workplaces', 'homes', 'separation', 'proves', 'haunting', 'melancholy', 'series', 'intercut', 'shots', 'rylance', 'fox', 'undress', 'opposite', 'sides', 'room', 'crawling', 'floor', 'meet', 'center', 'restless', 'fly', 'hyperactive', 'restaurant', 'blend', 'hustling', 'crowd', 'gabby', 'trendsetters', \"you'd\", 'hard', 'pressed', 'find', 'single', 'uninteresting', 'image', 'intimacy', 'takes', 'sordid', 'lower-middle', 'class', 'lonely', 'pubs', 'busy', 'shopping', 'streets', 'understands', 'inhabit', 'spaces', 'viewing', 'sympathy', 'scraped', 'raw', 'evaluation', 'incomplete', 'highlighting', 'great', 'timothy', 'spall', 'robust', 'scene-stealer', 'mike', 'leigh', 'collaboration', \"claire's\", 'cuckolded', 'husband', 'jocular', 'heavyweight', 'plays', 'handful', 'bitter', 'pill', 'unforced', 'menace', 'self-effacing', 'embarrassment', 'imposing', 'bulk', 'bangs', 'eyes', 'mouth', 'forming', 'quizzical', 'pouts', 'dry', 'smirks', 'fool', 'barroom', 'encounters', 'opposite', 'sarcastic', 'gleaming', 'mark', 'rylance', 'jay', 'arrived', 'stir', 'trouble', 'spall', 'trifle', 'overreaching', 'pal', 'demeanor', 'suggests', 'mind', 'abuzz', 'secret', 'passageways', 'guile', 'pointed', 'questions', 'na', 've', 'choose', 'read', 'crafty', 'insinuations', 'unassuming', \"spall's\", 'carefully', 'etched', 'interpretation', 'hostility', 'buried', 'mountain', 'surface', 'propriety', 'criminally', 'underappreciated', 'performances', 'year'], ['debating', 'modern', 'queen', 'romantic', 'comedy', 'bring', 'names', 'julia', 'roberts', 'sandra', 'bullock', 'mention', 'meg', 'ryan', 'close', 'janeane', 'garofalo', 'queen', 'romantic', 'comedy', 'comic', 'actress', 'hollywood', 'thing', \"she's\", 'starring', 'matchmaker', 'presence', 'bland', 'unfunny', 'dull', 'garofalo', 'stars', 'marcy', 'tizard', 'top', 'aide', 'boston', 'senator', 'john', 'mcglory', 'suffering', 'polls', 'attempt', 'capture', 'irish', 'vote', 'sends', 'marcy', 'mission', 'small', 'irish', 'town', 'called', 'ballinagra', 'search', \"mcglory's\", 'moved', 'america', 'marcy', 'visit', 'coincides', \"town's\", 'annual', 'matchmaking', 'festival', 'things', 'rocky', 'start', 'marcy', 'hotel', 'reservations', 'rational', 'reason', 'tiny', 'confined', 'room', 'tired', \"cliche'\", 'stay', 'visitor', 'bathtub', 'sean', 'marcy', 'finds', 'repugnant', 'headed', 'runs', 'roadblocks', 'instance', 'thin', 'local', 'matchmaker', 'interesting', 'garofalo', 'political', 'aide', 'played', 'denis', 'leary', 'wandered', 'completely', 'director', 'realized', 'decided', 'throw', 'numerous', 'shots', 'beautiful', 'irish', 'scenery', 'close-ups', \"garofalo's\", 'winning', 'smile', 'strange', 'thing', 'works', \"garofalo's\", 'charm', 'irish', 'scenery', 'carry', 'thinnest', 'carries'], ['1987', 'stock', 'market', 'crashed', 'oliver', \"stone's\", 'wall', 'street', 'released', 'critical', 'acclaim', 'packed', 'houses', 'wall', 'street', 'lucked', 'timing', 'recent', 'crash', 'gave', 'resonation', 'kill-or-be-killed', 'approach', 'business', 'exaggerated', 'ideology', 'keyed', 'mind', 'set', 'quintessential', 'reagan-era', 'businessman', 'stone', 'constructed', 'mythical', 'evil', 'tale', 'relayed', 'fast-paced', 'milieu', 'burgeoning', 'stock', 'exchange', 'critics', 'audiences', 'lauded', 'wall', 'street', 'elevating', 'status', 'contemporary', 'classic', \"i'm\", 'proud', 'counted', 'found', 'wall', 'street', 'axiomatic', 'pandering', 'majority', \"stone's\", 'output', 'thin', 'caricatures', 'obvious', 'sentiments', 'charisma', 'barren', 'performance', 'young', 'charlie', 'sheen', 'stone', 'broke', 'works', 'approach', 'bury', 'purported', 'message', 'beneath', 'heap', 'intentions', 'directs', 'stock', 'exchange', 'typical', 'hyperbolic', 'mode', 'shouting', 'phones', 'plummeting', 'airplane', 'excuse', 'stone', 'ratchet', 'emotion', 'false', 'intensity', 'explore', 'situations', 'feeling', 'brokers', 'psychologically', 'manipulative', 'presented', 'boiler', 'room', 'laughably', 'top', 'guys', 'salesmen', 'televised', 'judges', 'baffled', 'adore', 'wall', 'street', 'solution', 'muster', 'release', 'date', 'timeliness', 'greed', 'subject', 'matter', 'plumped', 'eighties', 'decade', 'one-joke', 'comedy', 'rose', 'art', 'form', 'group', 'glamorous', 'brat', 'packers', 'smirked', 'inane', 'high', 'concept', 'low', 'result', 'mind', 'eighties', 'forever', 'remembered', 'decade', 'proliferation', 'music', 'hair', 'clothes', \"stone's\", 'school', 'special', 'set', 'wall', 'street', 'viewed', 'change', 'pace', 'boiler', 'room', 'equally', 'well-timed', 'similarities', \"stone's\", 'piece', 'crap', 'feature', 'consequential', 'father-son', 'relationship', 'boiler', \"room's\", 'subtle', 'touching', 'concerned', 'power', 'greed', 'men', 'boiler', 'room', 'akin', 'poseurs', 'presuming', 'big', 'shots', 'slippery-smooth', 'heartless', 'gordon', 'gecko', 'figures', 'wall', 'street', 'boiler', 'room', 'message', 'end', 'shove', 'faces', 'boiler', 'room', 'pursuit', 'cash', 'degrees', 'cash', 'timely', 'society', 'millionaire', 'number', 'prime', 'day', 'bringing', 'revolution', 'prime', 'tv', 'watching', \"hasn't\", 'millionaires', 'watch', 'millionaires', 'super-judgmental', 'power-oriented', 'culture', 'desire', 'money', 'supersedes', 'money', 'seth', 'giovanni', 'ribisi', 'easy', 'well-intentioned', 'college', 'drop', 'lured', 'working', 'illegally', 'run', 'brokerage', 'firm', 'kind', 'sells', 'junk', 'stock', 'meets', 'ben', 'affleck', 'cast', 'jim', 'company', 'headhunter', 'struts', 'commanding', 'room', 'frat', 'boy', 'gordon', 'gecko', 'job', 'influence', \"trainee's\", 'enthusiastic', 'employees', 'giving', 'speech', 'subtly', 'attacks', 'man', 'hood', 'ironic', 'sells', 'pups', 'load', \"they're\", 'told', 'dish', 'prospective', 'buyers', \"affleck's\", 'supposed', 'recall', 'alec', \"baldwin's\", 'similar', 'glengary', 'glen', 'ross', 'proves', 'detrimental', \"actor's\", 'performance', 'affleck', 'shouts', 'curses', 'be-littles', 'rookie', 'employees', 'baldwin', 'minus', 'edge', 'alec', 'played', 'part', 'spewing', 'brutal', 'lines', 'comparison', 'affleck', 'simply', 'hammy', 'line', 'reading', 'brokers', 'approach', 'job', 'fervor', 'overzealous', 'jocks', 'storm', 'work', 'football', 'players', 'big', 'game', 'rap', 'music', 'thumps', 'soundtrack', 'effectively', 'illustrating', 'guys', 'intellectual', 'gangsters', \"aren't\", 'rumble', 'test', 'man', 'hood', 'leisure', 'lumbering', 'scott', 'caan', 'eager', 'fists', 'minor', 'disputes', 'drink', 'seth', 'watch', 'seduced', 'cautionary', 'tales', 'boiler', 'room', 'begins', 'seducing', 'illustrious', 'profit', 'wrongdoing', 'smacks', 'consequences', 'recklessness', 'work', 'told', 'intelligence', 'energy', 'writer', 'director', 'ben', 'younger', 'tells', 'director', 'excuse', 'french', 'mise-en-scene', 'younger', 'learn', 'style', 'sitcom', 'bland', 'writing', \"isn't\", \"younger's\", 'script', 'studied', 'vernacular', 'bunch', 'dialogue', 'junior', 'david', 'mamet', 'moderate', 'camera', 'work', 'younger', 'fills', 'phone-pitch', 'tension', 'performances', 'tightly', 'wound', 'script', 'brokers', 'hucksters', 'counter', 'customer', 'objection', 'gently', 'bullying', 'buying', 'stock', 'moments', 'filmed', 'psychological', 'action', 'tense', 'confrontation', 'victimizer', 'victim', \"isn't\", 'aware', 'exception', \"affleck's\", 'appearances', 'performances', 'exceptional', 'ribisi', 'edgy', 'actor', 'extremely', 'potent', 'working', 'pale', 'angular', 'face', 'eerie', 'plaintive', 'stare', 'worth', 'conveys', 'child-like', 'vulnerability', 'hide', 'corner', 'things', \"aren't\", 'ferociously', 'cut', 'throat', 'jekyll', 'hyde', 'contradiction', 'works', 'ribisi', 'confident', 'phone', 'cowardly', 'front', 'authority', 'figures', 'including', 'abrasive', 'father', 'authoritatively', 'played', 'ron', 'rifkin', 'boiler', 'room', 'thankfully', 'avoids', 'wall', 'street-like', 'histrionics', 'sales-pitch', 'sequences', 'sales', 'build', 'slowly', 'crescendo', 'intelligent', 'psychological', 'ploys', 'ploys', 'taught', 'seth', 'chris', 'vin', 'diesel', 'kind', 'broker', 'alternates', \"seth's\", 'friend', 'mentor', 'diesl', 'shines', 'minor', 'role', 'week', 'sci-fi', 'opus', 'pitch', 'black', 'diesel', 'plays', 'completely', 'role', 'equally', 'effective', 'manner', 'kind', 'role', 'arnold', 'schwarzenegger', \"80's\", 'boiler', 'room', 'kind', 'role', 'elliot', 'gould', \"70's\", 'nicky', 'katt', 'memorable', 'superior', 'broker', 'obsessed', \"can't\", 'nia', 'long', \"firm's\", 'secretary', 'lone', 'black', 'women', 'white', 'men', \"ribisi's\", 'love', 'part', 'insignificant', 'parts', 'talented', 'actress', 'develops', 'interesting', 'oddly', 'likeable', 'couple', 'long', 'smart', 'brash', 'ribisi', 'charmingly', 'aloof', 'point', \"i'm\", \"lookin'\", 'chocolate', 'love', 'terrible', 'line', 'ribisi', 'delivers', 'innocuous', 'child-like', 'sweetly', 'endearing', 'end', 'boiler', 'room', 'turns', 'tad', 'schmaltzy', 'crying', 'hugging', 'sorrowful', 'stares', 'small', 'doses', \"younger's\", 'conclusion', 'constructed', 'series', 'boo-hoo', 'moments', 'misstep', 'attempt', 'effect', \"seth's\", 'manipulations', 'poor', 'victims', 'idea', 'execution', 'lacking', 'feeling', 'tacked', 'spell', 'message', 'message', 'greed', 'patently', 'obvious', 'boiler', 'room', 'conveys', 'introducing', 'culture', \"haven't\", 'disenfranchised', 'twenty', 'entrepreneur', 'wall', 'street', 'introduce', 'simplistic', 'fantasy', 'saints', 'sinners', 'boiler', 'room', 'offers', 'extreme', 'thankful'], ['cinematically', 'speaking', 'gordon', \"parks'\", 'original', '1971', '_shaft_', 'great', 'bit', 'slow', 'times', 'rough', 'edges', 'builds', 'climactic', 'explosion', 'violent', 'action', 'spirited', 'formulaic', 'yarn', 'initially', 'brought', 'ernest', \"tidyman's\", 'black', 'private', 'dick', \"that's\", 'sex', 'machine', 'chicks', 'big', 'screen', 'qualifies', 'groundbreaking', 'filmmaking', '30', 'years', 'original', 'release--and', 'long', 'genre', 'spawned', 'blaxploitation', 'died', 'decade--the', '1971', '_shaft_', 'remains', 'extremely', 'entertaining', 'watch', 'completely', 'escaped', 'pop', 'culture', 'consciousness', 'reason', 'explains', \"film's\", 'connection', 'moviegoers', 'target', 'african-american', 'audience', 'title', 'john', 'shaft', 'fact', 'strong', 'smart', 'virile', 'superbly', 'suave', 'shaft', 'black', 'primary', 'factor', 'historical', 'cultural', 'significance', 'broad-based', 'appeal', 'stems', 'idea', 'transcends', 'race', 'comfortable', 'confident', 'proud', 'problem', 'simply', 'kiss', 'ass', 'fact', 'explains', 'john', \"singleton's\", 'y2g', 'revival', 'john', 'shaft', 'enjoyable', 'started', 'franchise', \"_shaft_'s\", 'score', 'points', 'originality', 'department', 'energy', 'level', 'smooth', 'attitude', 'distinguishes', 'standard', 'crime', 'thrillers', 'contrary', 'reported', 'past', 'months', '_shaft_', 'remake', 'original', 'sequel/spinoff', 'star', 'audiences', 'love', 'original', 'sequels', \"1972's\", \"_shaft's_big_score\", \"1973's\", '_shaft_in_africa_', 'richard', 'roundtree', 'plays', 'john', 'shaft', 'runs', 'private', 'investigation', 'firm', 'york', 'city', 'focus', 'lies', 'same-named', 'nephew', 'samuel', 'jackson', 'begins', 'cop', 'take-no-crap', 'demeanor', 'constantly', 'leaves', 'odds', 'superiors', 'privileged', 'young', 'man', 'named', 'walter', 'wade', 'jr', 'christian', 'bale', 'accused', 'brutal', 'racially-motivated', 'murder', 'allowed', 'released', 'bail', 'disgusted', 'shaft', 'leaves', 'force', 'decides', 'matters', 'hands', \"that's\", 'easier', 'standing', 'shaft', 'justice', 'peoples', 'hernandez', 'jeffrey', 'wright', 'dominican', 'gangster', 'hired', 'walter', 'rub', 'waitress', 'diane', 'palmieri', 'toni', 'collette', 'eyewitness', 'crime', 'peoples--or', 'wright', 'big', 'obstacle', \"jackson's\", 'commanding', 'peoples', 'outrageous', 'comic', 'running', 'wright', 'insanely', 'funny', 'stages', \"isn't\", 'funny', 'goofy', 'buffoonish', \"peoples'\", 'eventual', 'turn', 'villainy', 'seamless', 'believable', 'case', 'played', 'original', 'casting', 'choice', 'john', 'leguizamo', 'bowed', 'filming', 'easy', 'task', 'steal', 'jackson', 'usual', 'captivating', 'charismatic', \"that's\", 'wright', 'does--and', 'makes', 'effortless', 'talented', 'ensemble', 'surrounding', 'surprising', \"jackson's\", 'impressive', 'star', 'turn', 'tower', 'rest', 'strongly', 'complemented', 'wright', 'co-stars', 'bale', 'proven', 'ability', 'play', 'uppity', 'killer', '_american_psycho_', 'performance', 'similar', 'exaggerated', 'spot-on', 'collette', 'lends', 'convincing', 'dramatic', 'weight', 'frightened', 'conflicted', 'diane', 'busta', 'rhymes', 'brings', 'laughs', \"shaft's\", 'sidekick', 'rasaan', 'registering', 'strongly--but', 'fault', 'own--are', 'vanessa', 'williams', 'tough', 'narcotics', 'cop', 'carmen', 'vasquez', 'dismayingly', 'underused', 'roundtree', 'simply', 'script', 'credited', 'richard', 'price', 'singleton', 'shane', 'salerno', 'jackson', 'sense', 'throwaway', 'footage', 'opening', 'credits', 'shaft', 'sex', 'singleton', 'proves', 'ability', 'actors', 'thing', 'action', 'director', 'job', 'numerous', 'gunfights', 'requisite', 'foot', 'car', 'chases', 'move', 'exciting', \"there's\", 'terribly', 'inventive', 'set', 'pieces', 'functional', 'script', 'work', \"they're\", 'unsurprising', 'conventional', \"there's\", '_shaft_', 'familiar', 'cool--and', '_shaft_', 'tradition', 'alive', 'slick', 'title', 'sequence--scored', 'isaac', \"hayes'\", 'ever-infectious', 'oscar-winning', 'theme', 'song', 'singleton', 'wisely', 'sprinkles', 'film--on', 'great', 'easily', 'sweeps', 'viewer', 'energetic', 'bravado', 'common', 'visual', 'trick', 'employing', 'fancy', 'wipes', 'transitions', 'feels', 'unforced', 'feels', 'style', 'great', '_shaft_', \"that's\", 'consequence', 'matters', 'latest', '_shaft_', 'fun', 'rides', 'mutha--shut', 'mouth'], ['amazing', 'thing', 'paul', \"cox's\", 'innocence', 'unlike', 'highest', 'compliment', 'studios', 'profile', 'elderly', 'couple', 'rekindle', '40-year-old', 'romance', \"i'd\", 'run', 'hide', 'sex', 'handled', 'farce', 'producers', 'shed', '20', 'years', \"characters'\", 'ages', 'susan', 'sarandon', 'harrison', 'ford', 'star', 'true', 'love', 'shine', 'obstacle', 'explanation', 'consequence', 'charming', 'romantic', 'australian/belgian', 'innocence', 'shows', 'increasing', 'sense', 'mortality', 'combined', 'revisiting', 'past', 'entrenched', 'present', 'downright', 'questionable', 'romance', 'started', 'musician', 'andreas', 'charles', 'bud', 'tingwell', 'learns', 'true', 'love', 'claire', 'julia', 'blake', 'lives', 'nearby', 'decide', 'catch', 'times', 'find', 'reinvigorating', 'affair', 'complicating', 'matters', \"andreas'\", 'frail', 'health', \"claire's\", 'longtime', 'husband', 'terry', 'norris', \"can't\", 'understand', 'suddenly', 'obsolete', 'mind', 'relationship', 'andreas', 'claire', 'feelings', 'involved', 'john', \"claire's\", 'husband', 'endlessly', 'questions', 'wrong', 'claire', 'initially', 'insists', \"she's\", 'grown-up', 'admittedly', 'behaves', 'child', 'prospect', 'thrills', 'disappoints', 'andreas', 'agnostic', 'begins', 'question', 'fate', 'message', 'cox', 'delivers', 'memorable', 'dream', 'sequence', 'cox', 'litters', 'flashbacks', 'including', 'repeated', 'vision', 'roaring', 'train', 'reminder', 'andreas', \"claire's\", 'past', 'love', 'young', 'lovers', 'met', 'train', 'recurs', 'feeling', 'past', 'present', 'clashed', 'pall', 'cast', 'affair', 'master', 'understated', 'cox', 'strings', 'series', 'memorable', 'moments', \"andreas'\", 'dream', 'sequence', 'amidst', 'roar', 'train', 'conversations', 'picture', 'andreas', \"claire's\", 'love', 'glimpses', 'john', \"claire's\", 'relationship', 'silent', 'candlelit', 'dinner', 'shortly', 'afterward', 'claire', 'admits', 'john', 'indiscretion', 'telling', 'monologue', \"that's\", 'heard', 'scraping', 'forks', 'plates', 'unlike', \"i've\", \"they're\", 'times', 'television', 'portray', 'senior', 'citizens', 'gratingly', 'spunky', \"they're\", 'reduced', 'comedic', 'buffoons', 'ordinary', 'pile', 'emotions', 'claire', 'andreas', \"aren't\", 'step', 'happy', 'consists', 'set', 'conditions', \"they've\", 'adult', 'lives', 'bravo', 'cox', 'wrote', 'script', 'making', 'john', 'monster', \"claire's\", 'affair', 'automatically', 'justified', 'norris', 'effective', 'john', 'makes', 'andreas', \"claire's\", 'love', 'difficult', 'accept', 'feel', 'decent', 'man', 'complacent', 'expected', 'presented', 'audience', 'expected', 'material', 'drawn', 'repetitive', 'bringing', 'tough', 'questions', 'offering', 'easy', 'answers', 'cox', 'displays', 'skill', 'lan', \"isn't\", 'surpassed', 'anytime']]\n"
          ]
        }
      ],
      "source": [
        "print(movie_reviews[:10])\n",
        "print(domainfilteredunstemmed_movie_reviews[:10])"
      ]
    },
    {
      "cell_type": "markdown",
      "source": [
        "After caluating all the lda models we created, we found that lda model 3 has the highest coherence. (lda model 2 and 4 show 'nan' for coherence. "
      ],
      "metadata": {
        "id": "Cmg5czpqPPGH"
      }
    },
    {
      "cell_type": "markdown",
      "metadata": {
        "id": "CldRCVZDAAK_"
      },
      "source": [
        "However, just comparing numbers is not very interpretable. We will choose our topic model with the highest coherence score and validate the evaluation.\n",
        "\n",
        "Using the top 20 topic words for each topic in the model with the highest coherence score, pick at least 5 topic numbers and determine what film genres (in an informal sense) they represent, i.e. think of a meaningful label for the topic. Write down the topic number and your topic label. Is it easy to guess what the topic represents? For how many topics are you fairly confident, for how many do you have to make a guess, and for how many do you have no real clue."
      ]
    },
    {
      "cell_type": "code",
      "source": [
        "lda_main.show_topics(num_words=20)"
      ],
      "metadata": {
        "colab": {
          "base_uri": "https://localhost:8080/"
        },
        "id": "6-LqdE0wg0l1",
        "outputId": "820183e3-3dc0-4091-e5bd-dba6444a1de5"
      },
      "execution_count": null,
      "outputs": [
        {
          "output_type": "execute_result",
          "data": {
            "text/plain": [
              "[(0,\n",
              "  '0.002*\"back\" + 0.002*\"man\" + 0.002*\"young\" + 0.002*\"work\" + 0.002*\"great\" + 0.002*\"made\" + 0.002*\"comedy\" + 0.002*\"years\" + 0.002*\"audience\" + 0.002*\"54\" + 0.002*\"makes\" + 0.002*\"things\" + 0.002*\"performance\" + 0.001*\"role\" + 0.001*\"watch\" + 0.001*\"original\" + 0.001*\"american\" + 0.001*\"fact\" + 0.001*\"funny\" + 0.001*\"big\"'),\n",
              " (5,\n",
              "  '0.003*\"star\" + 0.003*\"trek\" + 0.002*\"love\" + 0.002*\"series\" + 0.002*\"man\" + 0.002*\"back\" + 0.002*\"cast\" + 0.002*\"script\" + 0.002*\"family\" + 0.002*\"made\" + 0.002*\"end\" + 0.002*\"director\" + 0.002*\"real\" + 0.002*\"lost\" + 0.002*\"smith\" + 0.002*\"batman\" + 0.002*\"role\" + 0.001*\"plays\" + 0.001*\"great\" + 0.001*\"makes\"'),\n",
              " (14,\n",
              "  '0.003*\"end\" + 0.002*\"great\" + 0.002*\"man\" + 0.002*\"love\" + 0.002*\"action\" + 0.002*\"funny\" + 0.002*\"isn\\'t\" + 0.002*\"back\" + 0.002*\"audience\" + 0.002*\"there\\'s\" + 0.002*\"things\" + 0.002*\"that\\'s\" + 0.002*\"big\" + 0.002*\"thing\" + 0.002*\"made\" + 0.002*\"director\" + 0.002*\"day\" + 0.002*\"makes\" + 0.002*\"performance\" + 0.002*\"part\"'),\n",
              " (2,\n",
              "  '0.003*\"truman\" + 0.003*\"man\" + 0.002*\"makes\" + 0.002*\"role\" + 0.002*\"love\" + 0.002*\"made\" + 0.002*\"audience\" + 0.002*\"things\" + 0.002*\"spawn\" + 0.002*\"played\" + 0.002*\"performance\" + 0.002*\"thing\" + 0.002*\"cast\" + 0.002*\"real\" + 0.002*\"long\" + 0.002*\"director\" + 0.002*\"watch\" + 0.002*\"i\\'m\" + 0.001*\"there\\'s\" + 0.001*\"money\"'),\n",
              " (7,\n",
              "  '0.004*\"wars\" + 0.004*\"star\" + 0.003*\"effects\" + 0.003*\"special\" + 0.002*\"big\" + 0.002*\"action\" + 0.002*\"phantom\" + 0.002*\"back\" + 0.002*\"jedi\" + 0.002*\"menace\" + 0.002*\"young\" + 0.002*\"director\" + 0.002*\"great\" + 0.002*\"original\" + 0.002*\"makes\" + 0.002*\"lucas\" + 0.002*\"real\" + 0.002*\"played\" + 0.002*\"fact\" + 0.002*\"there\\'s\"'),\n",
              " (11,\n",
              "  '0.003*\"great\" + 0.002*\"war\" + 0.002*\"action\" + 0.002*\"black\" + 0.002*\"joe\" + 0.002*\"made\" + 0.002*\"death\" + 0.002*\"men\" + 0.002*\"end\" + 0.002*\"john\" + 0.002*\"director\" + 0.002*\"work\" + 0.002*\"thing\" + 0.002*\"find\" + 0.002*\"man\" + 0.001*\"audience\" + 0.001*\"cast\" + 0.001*\"comedy\" + 0.001*\"ryan\" + 0.001*\"makes\"'),\n",
              " (8,\n",
              "  '0.003*\"funny\" + 0.002*\"love\" + 0.002*\"great\" + 0.002*\"libby\" + 0.002*\"played\" + 0.002*\"family\" + 0.002*\"plays\" + 0.002*\"man\" + 0.002*\"sex\" + 0.002*\"husband\" + 0.002*\"carry\" + 0.002*\"deuce\" + 0.002*\"jones\" + 0.002*\"there\\'s\" + 0.002*\"judd\" + 0.002*\"george\" + 0.002*\"performance\" + 0.002*\"kenneth\" + 0.002*\"made\" + 0.002*\"double\"'),\n",
              " (4,\n",
              "  '0.003*\"tarzan\" + 0.003*\"man\" + 0.002*\"makes\" + 0.002*\"years\" + 0.002*\"work\" + 0.002*\"end\" + 0.002*\"made\" + 0.002*\"performance\" + 0.002*\"there\\'s\" + 0.002*\"mother\" + 0.002*\"young\" + 0.002*\"disney\" + 0.002*\"back\" + 0.002*\"love\" + 0.002*\"director\" + 0.002*\"big\" + 0.002*\"things\" + 0.001*\"film\\'s\" + 0.001*\"great\" + 0.001*\"mike\"'),\n",
              " (1,\n",
              "  '0.002*\"love\" + 0.002*\"audience\" + 0.002*\"end\" + 0.002*\"big\" + 0.002*\"man\" + 0.002*\"woman\" + 0.002*\"joe\" + 0.002*\"town\" + 0.002*\"action\" + 0.002*\"sex\" + 0.002*\"performance\" + 0.002*\"earth\" + 0.002*\"played\" + 0.002*\"didn\\'t\" + 0.002*\"interesting\" + 0.002*\"director\" + 0.002*\"plays\" + 0.002*\"made\" + 0.002*\"small\" + 0.002*\"makes\"'),\n",
              " (12,\n",
              "  '0.004*\"alien\" + 0.002*\"things\" + 0.002*\"makes\" + 0.002*\"thing\" + 0.002*\"great\" + 0.002*\"end\" + 0.002*\"work\" + 0.002*\"fact\" + 0.002*\"back\" + 0.002*\"there\\'s\" + 0.002*\"find\" + 0.002*\"man\" + 0.002*\"big\" + 0.002*\"aliens\" + 0.002*\"john\" + 0.002*\"that\\'s\" + 0.002*\"long\" + 0.002*\"acting\" + 0.002*\"director\" + 0.002*\"real\"')]"
            ]
          },
          "metadata": {},
          "execution_count": 43
        }
      ]
    },
    {
      "cell_type": "markdown",
      "metadata": {
        "id": "5mjk7r_mAAK_"
      },
      "source": [
        "**Answer:** In general, this version of lda model is relativly easy to identify specific movie genres than other models. \n",
        "\n",
        "\n",
        "###Confident topics \n",
        "7: Star wars Jedi / Sceince Fiction action movie ('star', 'wars', 'effects', 'action', 'phantom', 'jedi', 'lucas')\n",
        "\n",
        "\n",
        "4: Tarzan / Disney family movie ('tarzan', 'performance', 'mother', love', disney', 'young', love')\n",
        "\n",
        "###Unsure \n",
        "0: American youth comedy movie ('young', 'comedy', 'performance', 'american', 'funny')\n",
        "\n",
        "\n",
        "1: Romantic action movie ('love', 'action', 'sex', 'earth')\n",
        "\n",
        "11: comedy action movie ('war', 'action', 'joe', 'comedy', 'ryan', 'john')\n",
        "\n",
        "\n",
        "8: Romantic comedy family movie ('funny', 'love', 'family', 'sex', 'performance')\n",
        "\n",
        "###No clue \n",
        "12: Probably Science Fiction movie but the given words are insufficient to decide a specific genre. \n",
        "\n",
        "\n",
        "14: Probably romantic action comedy movie but the givven words are insufficient to decide a specific genre. "
      ]
    },
    {
      "cell_type": "raw",
      "metadata": {
        "id": "zLbjo8YoAAK_"
      },
      "source": [
        "To validate your guessed topic label, we could check the probability that the word you chose as a label belongs to each topic. We could do that using the get_term_topics method. For example, the code below checks the probability of the word \"the\" for each topic in the `reviews_ldamodel` model:"
      ]
    },
    {
      "cell_type": "code",
      "execution_count": null,
      "metadata": {
        "id": "n27zfS8UAAK_",
        "colab": {
          "base_uri": "https://localhost:8080/"
        },
        "outputId": "796d3625-d24b-467b-b0c2-adcd99c08948"
      },
      "outputs": [
        {
          "output_type": "execute_result",
          "data": {
            "text/plain": [
              "[(0, 0.008768726), (1, 0.051883694), (2, 0.014157759), (4, 0.042809784)]"
            ]
          },
          "metadata": {},
          "execution_count": 39
        }
      ],
      "source": [
        "reviews_ldamodel.get_term_topics(\"the\", minimum_probability = 1e-3)"
      ]
    },
    {
      "cell_type": "markdown",
      "metadata": {
        "id": "lL-JM85oAAK_"
      },
      "source": [
        "Do this for your own best model and the labels you just picked. For each of your topic labels, if the probability for the label is the highest for the topic number you wrote down, your guess was probably correct. Did you guess a suitable label for every topic?"
      ]
    },
    {
      "cell_type": "code",
      "execution_count": null,
      "metadata": {
        "id": "TpacRPIZAAK_",
        "colab": {
          "base_uri": "https://localhost:8080/"
        },
        "outputId": "42e8ce98-6940-49b3-ec86-ab5ac64b182e"
      },
      "outputs": [
        {
          "output_type": "execute_result",
          "data": {
            "text/plain": [
              "[(7, 0.0012031012)]"
            ]
          },
          "metadata": {},
          "execution_count": 83
        }
      ],
      "source": [
        "# for 7: Star Wars Jedi / Science Fiction action movie\n",
        "reviews_ldamodel_5.get_term_topics(\"wars\", minimum_probability = 1e-3)"
      ]
    },
    {
      "cell_type": "code",
      "source": [
        "# for 4: Tarzan / Disney family movie\n",
        "reviews_ldamodel_5.get_term_topics(\"disney\", minimum_probability = 1e-3)"
      ],
      "metadata": {
        "colab": {
          "base_uri": "https://localhost:8080/"
        },
        "id": "YSlsHlBbsWiM",
        "outputId": "5ce2710b-b432-4089-e36d-f66aadb1b6b6"
      },
      "execution_count": null,
      "outputs": [
        {
          "output_type": "execute_result",
          "data": {
            "text/plain": [
              "[]"
            ]
          },
          "metadata": {},
          "execution_count": 84
        }
      ]
    },
    {
      "cell_type": "code",
      "source": [
        "# for 0: American youth comedy movie\n",
        "reviews_ldamodel_5.get_term_topics(\"young\", minimum_probability = 1e-3)"
      ],
      "metadata": {
        "colab": {
          "base_uri": "https://localhost:8080/"
        },
        "id": "KQ29h4G_uRlH",
        "outputId": "3a177f79-b324-44eb-dc48-b6277ef95b70"
      },
      "execution_count": null,
      "outputs": [
        {
          "output_type": "execute_result",
          "data": {
            "text/plain": [
              "[(0, 0.0012168501),\n",
              " (3, 0.0010463247),\n",
              " (4, 0.0014712237),\n",
              " (5, 0.0012671159),\n",
              " (7, 0.0015831874)]"
            ]
          },
          "metadata": {},
          "execution_count": 85
        }
      ]
    },
    {
      "cell_type": "code",
      "source": [
        "# for 1: Romantic action movie\n",
        "reviews_ldamodel_5.get_term_topics(\"love\", minimum_probability = 1e-3)"
      ],
      "metadata": {
        "colab": {
          "base_uri": "https://localhost:8080/"
        },
        "id": "uO16jUF8r1ua",
        "outputId": "c7d21203-0ca4-41e2-ba97-c4820869245a"
      },
      "execution_count": null,
      "outputs": [
        {
          "output_type": "execute_result",
          "data": {
            "text/plain": [
              "[(0, 0.0011613829),\n",
              " (1, 0.0030778323),\n",
              " (2, 0.0018016004),\n",
              " (3, 0.0012398992),\n",
              " (4, 0.0026947956),\n",
              " (5, 0.0018552404),\n",
              " (6, 0.001812625),\n",
              " (7, 0.001192238)]"
            ]
          },
          "metadata": {},
          "execution_count": 86
        }
      ]
    },
    {
      "cell_type": "code",
      "source": [
        "# for 11: comedy action movie\n",
        "reviews_ldamodel_5.get_term_topics(\"comedy\", minimum_probability = 1e-3)"
      ],
      "metadata": {
        "colab": {
          "base_uri": "https://localhost:8080/"
        },
        "id": "qKGLGbuyuncC",
        "outputId": "c2543c5c-c4cf-4bc3-d5f5-fb361e035fb7"
      },
      "execution_count": null,
      "outputs": [
        {
          "output_type": "execute_result",
          "data": {
            "text/plain": [
              "[(0, 0.0010416702),\n",
              " (1, 0.0014102843),\n",
              " (2, 0.0010323751),\n",
              " (3, 0.0012745974),\n",
              " (6, 0.0018786602),\n",
              " (7, 0.0022394771)]"
            ]
          },
          "metadata": {},
          "execution_count": 88
        }
      ]
    },
    {
      "cell_type": "code",
      "source": [
        "# for 8: Romantic comedy family movie\n",
        "reviews_ldamodel_5.get_term_topics(\"sex\", minimum_probability = 1e-3)"
      ],
      "metadata": {
        "colab": {
          "base_uri": "https://localhost:8080/"
        },
        "id": "HJQu_liMsKtH",
        "outputId": "487d4d12-4471-464a-d706-2c086527ceb6"
      },
      "execution_count": null,
      "outputs": [
        {
          "output_type": "execute_result",
          "data": {
            "text/plain": [
              "[(2, 0.0011390533)]"
            ]
          },
          "metadata": {},
          "execution_count": 87
        }
      ]
    },
    {
      "cell_type": "markdown",
      "metadata": {
        "id": "mgPg7XSLAAK_"
      },
      "source": [
        "**Answer:**\n",
        "\n",
        "For 7 and 1, we gussed a suitable lable as the probability for these lables was the highest. \n",
        "\n",
        "For 0, the propobility was second highest. \n",
        "\n",
        "For 11 and 8, the chosen topic number was not in the result. \n",
        "\n",
        "For an unknown reason, there was no result for 4.  "
      ]
    },
    {
      "cell_type": "markdown",
      "metadata": {
        "id": "WCFzekskAAK_"
      },
      "source": [
        "In a real project, you would also want to validate your topics by examining the reviews that are most strongly associated with that topic. You can see what documents have what topics using the get_document_topics() method. Here we look at the topics for the first document in the model (change the name of the model to yours):"
      ]
    },
    {
      "cell_type": "code",
      "execution_count": null,
      "metadata": {
        "id": "6xAwB75NAAK_",
        "colab": {
          "base_uri": "https://localhost:8080/"
        },
        "outputId": "0c0b223d-e3ac-4397-af3f-a5d672edce9b"
      },
      "outputs": [
        {
          "output_type": "execute_result",
          "data": {
            "text/plain": [
              "[(0, 0.00020208835),\n",
              " (1, 0.00020215847),\n",
              " (2, 0.67783415),\n",
              " (3, 0.00020212383),\n",
              " (4, 0.32095322),\n",
              " (5, 0.0002020559),\n",
              " (6, 0.00020205133),\n",
              " (7, 0.00020213268)]"
            ]
          },
          "metadata": {},
          "execution_count": 41
        }
      ],
      "source": [
        "reviews_ldamodel_5.get_document_topics(movie_bow_corpus[0], minimum_probability = 0)"
      ]
    },
    {
      "cell_type": "markdown",
      "metadata": {
        "id": "Tr-F-m-RAAK_"
      },
      "source": [
        "Or for the first 20 of them:"
      ]
    },
    {
      "cell_type": "code",
      "execution_count": null,
      "metadata": {
        "id": "Yj09JmHSAAK_",
        "colab": {
          "base_uri": "https://localhost:8080/"
        },
        "outputId": "35a9d1f7-aa66-4b20-f8f1-10b023553aff"
      },
      "outputs": [
        {
          "output_type": "stream",
          "name": "stdout",
          "text": [
            "Topics for the review cv646_15065.txt: [(2, 0.67783535), (4, 0.32095203)]\n",
            "Topics for the review cv214_12294.txt: [(0, 0.12752531), (1, 0.28005826), (2, 0.36358535), (4, 0.22777729)]\n",
            "Topics for the review cv359_6647.txt: [(0, 0.29968885), (1, 0.06936749), (2, 0.48840475), (4, 0.14156759)]\n",
            "Topics for the review cv427_10825.txt: [(0, 0.23593853), (1, 0.18432239), (2, 0.50961334), (4, 0.06846304)]\n",
            "Topics for the review cv091_7400.txt: [(0, 0.4947778), (1, 0.1730839), (2, 0.29577956), (4, 0.0353083)]\n",
            "Topics for the review cv409_29786.txt: [(0, 0.13893992), (1, 0.09574248), (2, 0.6286759), (4, 0.09736471), (5, 0.012029308), (6, 0.026944764)]\n",
            "Topics for the review cv876_9390.txt: [(0, 0.02980622), (1, 0.14525464), (2, 0.63666195), (4, 0.18678387)]\n",
            "Topics for the review cv673_24714.txt: [(0, 0.09601555), (1, 0.1317539), (2, 0.46734402), (3, 0.010601408), (4, 0.13929486), (6, 0.15483601)]\n",
            "Topics for the review cv955_25001.txt: [(0, 0.3235855), (1, 0.07736087), (2, 0.3817947), (4, 0.127152), (6, 0.027237726), (7, 0.060718928)]\n",
            "Topics for the review cv924_29540.txt: [(0, 0.103212655), (1, 0.024901642), (2, 0.33448952), (4, 0.15197916), (6, 0.026268886), (7, 0.3587442)]\n",
            "Topics for the review cv422_9381.txt: [(0, 0.14481656), (1, 0.35915962), (2, 0.3758016), (4, 0.07572388), (7, 0.043991968)]\n",
            "Topics for the review cv205_9457.txt: [(0, 0.05791053), (1, 0.23929058), (2, 0.31804064), (4, 0.10565391), (5, 0.27860585)]\n",
            "Topics for the review cv810_12458.txt: [(0, 0.21527417), (1, 0.12652129), (2, 0.49168298), (4, 0.063583046), (5, 0.08724911), (7, 0.015446963)]\n",
            "Topics for the review cv025_3108.txt: [(0, 0.15870373), (1, 0.13446686), (2, 0.27706474), (3, 0.1018929), (4, 0.28716478), (5, 0.016733106), (7, 0.023825914)]\n",
            "Topics for the review cv682_16139.txt: [(0, 0.09040866), (1, 0.08772668), (2, 0.40213242), (3, 0.022767672), (4, 0.27076504), (5, 0.10568715), (6, 0.020316795)]\n",
            "Topics for the review cv590_19290.txt: [(0, 0.061647236), (1, 0.11535953), (2, 0.36122245), (4, 0.37636852), (5, 0.06975565), (7, 0.015307662)]\n",
            "Topics for the review cv058_8025.txt: [(0, 0.37512478), (1, 0.038646035), (2, 0.3801277), (4, 0.15215504), (5, 0.010665306), (6, 0.038294595)]\n",
            "Topics for the review cv308_5016.txt: [(0, 0.3234581), (1, 0.13627967), (2, 0.30032656), (4, 0.17445385), (5, 0.030330524), (6, 0.03455386)]\n",
            "Topics for the review cv553_26915.txt: [(0, 0.18991257), (1, 0.09192748), (2, 0.43414107), (3, 0.03509823), (4, 0.17334327), (5, 0.01560661), (6, 0.021990689), (7, 0.03798008)]\n",
            "Topics for the review cv050_11175.txt: [(0, 0.095335715), (1, 0.113066554), (2, 0.6684201), (4, 0.093579605), (6, 0.02549176)]\n"
          ]
        }
      ],
      "source": [
        "for i, doc_topics in enumerate(reviews_ldamodel_5.get_document_topics(movie_bow_corpus)):\n",
        "    if i >= 20:\n",
        "        break\n",
        "    print(f\"Topics for the review {movie_reviewnames[i]}: {doc_topics}\")"
      ]
    },
    {
      "cell_type": "markdown",
      "metadata": {
        "id": "M2SdYcdUAAK_"
      },
      "source": [
        "But this assignment is already long enough so I will not ask you to report on this too!"
      ]
    }
  ],
  "metadata": {
    "colab": {
      "provenance": [],
      "include_colab_link": true
    },
    "kernelspec": {
      "display_name": "Python 3 (ipykernel)",
      "language": "python",
      "name": "python3"
    },
    "language_info": {
      "codemirror_mode": {
        "name": "ipython",
        "version": 3
      },
      "file_extension": ".py",
      "mimetype": "text/x-python",
      "name": "python",
      "nbconvert_exporter": "python",
      "pygments_lexer": "ipython3",
      "version": "3.10.11"
    }
  },
  "nbformat": 4,
  "nbformat_minor": 0
}